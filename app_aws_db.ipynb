{
 "cells": [
  {
   "cell_type": "markdown",
   "source": [
    "# Connection AWS DB"
   ],
   "metadata": {
    "collapsed": false,
    "pycharm": {
     "name": "#%% md\n"
    }
   }
  },
  {
   "cell_type": "code",
   "execution_count": 4,
   "outputs": [],
   "source": [
    "'''\n",
    "Create connection with aws postgre db\n",
    "\n",
    "pre-rec:\n",
    "    pip install psycopg2\n",
    "'''\n",
    "'''\n",
    "Teste de conexao\n",
    "\n",
    "# create connection\n",
    "import psycopg2\n",
    "\n",
    "conn = psycopg2.connect(\n",
    "    host = \"\",\n",
    "    database = \"postgres\",\n",
    "    user = \"postgres\",\n",
    "    password = \"12345678\"\n",
    ")\n",
    "\n",
    "current = conn.cursor()\n",
    "conn.close()\n",
    "'''"
   ],
   "metadata": {
    "collapsed": false,
    "pycharm": {
     "name": "#%%\n"
    }
   }
  },
  {
   "cell_type": "code",
   "execution_count": 5,
   "outputs": [],
   "source": [
    "# Create db --> inventory\n",
    "import psycopg2\n",
    "\n",
    "conn = psycopg2.connect(\n",
    "    host = \"\",\n",
    "    database = \"postgres\",\n",
    "    user = \"postgres\",\n",
    "    password = \"12345678\"\n",
    ")\n",
    "\n",
    "conn.autocommit = True\n",
    "\n",
    "current = conn.cursor()\n",
    "current.execute('create database inventory;')\n",
    "conn.commit()\n",
    "conn.close()"
   ],
   "metadata": {
    "collapsed": false,
    "pycharm": {
     "name": "#%%\n"
    }
   }
  },
  {
   "cell_type": "code",
   "execution_count": 6,
   "outputs": [],
   "source": [
    "# Create table files\n",
    "import psycopg2\n",
    "\n",
    "conn = psycopg2.connect(\n",
    "    host = \"\",\n",
    "    database = \"inventory\",\n",
    "    user = \"postgres\",\n",
    "    password = \"12345678\"\n",
    ")\n",
    "\n",
    "conn.autocommit = True\n",
    "\n",
    "current = conn.cursor()\n",
    "current.execute('create table files (id INT, file_name VARCHAR(256))')\n",
    "conn.commit()\n",
    "conn.close()"
   ],
   "metadata": {
    "collapsed": false,
    "pycharm": {
     "name": "#%%\n"
    }
   }
  },
  {
   "cell_type": "code",
   "execution_count": 7,
   "outputs": [],
   "source": [
    "# Insert record test\n",
    "import psycopg2\n",
    "\n",
    "conn = psycopg2.connect(\n",
    "    host = \"\",\n",
    "    database = \"inventory\",\n",
    "    user = \"postgres\",\n",
    "    password = \"12345678\"\n",
    ")\n",
    "\n",
    "conn.autocommit = True\n",
    "\n",
    "current = conn.cursor()\n",
    "current.execute(\"insert into files (id, file_name) values (123,'texte.jpg')\")\n",
    "conn.commit()\n",
    "conn.close()"
   ],
   "metadata": {
    "collapsed": false,
    "pycharm": {
     "name": "#%%\n"
    }
   }
  },
  {
   "cell_type": "code",
   "execution_count": 12,
   "outputs": [],
   "source": [
    "# Select test\n",
    "import psycopg2\n",
    "\n",
    "conn = psycopg2.connect(\n",
    "    host = \"\",\n",
    "    database = \"inventory\",\n",
    "    user = \"postgres\",\n",
    "    password = \"12345678\"\n",
    ")\n",
    "\n",
    "conn.autocommit = True\n",
    "\n",
    "current = conn.cursor()\n",
    "current.execute(\"select * from files;\")\n",
    "\n",
    "recset = current.fetchall()\n",
    "\n",
    "for rec in recset:\n",
    "    print(rec)\n",
    "\n",
    "conn.commit()\n",
    "conn.close()"
   ],
   "metadata": {
    "collapsed": false,
    "pycharm": {
     "name": "#%%\n"
    }
   }
  },
  {
   "cell_type": "code",
   "execution_count": 11,
   "outputs": [],
   "source": [
    "# Delete record test\n",
    "import psycopg2\n",
    "\n",
    "conn = psycopg2.connect(\n",
    "    host = \"\",\n",
    "    database = \"inventory\",\n",
    "    user = \"postgres\",\n",
    "    password = \"12345678\"\n",
    ")\n",
    "\n",
    "conn.autocommit = True\n",
    "\n",
    "current = conn.cursor()\n",
    "current.execute(\"delete from files;\")\n",
    "\n",
    "conn.commit()\n",
    "conn.close()"
   ],
   "metadata": {
    "collapsed": false,
    "pycharm": {
     "name": "#%%\n"
    }
   }
  }
 ],
 "metadata": {
  "kernelspec": {
   "display_name": "Python 3",
   "language": "python",
   "name": "python3"
  },
  "language_info": {
   "codemirror_mode": {
    "name": "ipython",
    "version": 2
   },
   "file_extension": ".py",
   "mimetype": "text/x-python",
   "name": "python",
   "nbconvert_exporter": "python",
   "pygments_lexer": "ipython2",
   "version": "2.7.6"
  }
 },
 "nbformat": 4,
 "nbformat_minor": 0
}