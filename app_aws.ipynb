{
 "cells": [
  {
   "cell_type": "markdown",
   "source": [
    "# Lendo informacoes no aws"
   ],
   "metadata": {
    "collapsed": false,
    "pycharm": {
     "name": "#%% md\n"
    }
   }
  },
  {
   "cell_type": "code",
   "execution_count": 9,
   "outputs": [
    {
     "name": "stdout",
     "output_type": "stream",
     "text": [
      "Requirement already satisfied: boto3 in c:\\users\\marcelo\\desktop\\app_aws\\venv\\lib\\site-packages (1.26.40)\n",
      "Requirement already satisfied: botocore<1.30.0,>=1.29.40 in c:\\users\\marcelo\\desktop\\app_aws\\venv\\lib\\site-packages (from boto3) (1.29.40)\n",
      "Requirement already satisfied: jmespath<2.0.0,>=0.7.1 in c:\\users\\marcelo\\desktop\\app_aws\\venv\\lib\\site-packages (from boto3) (1.0.1)\n",
      "Requirement already satisfied: s3transfer<0.7.0,>=0.6.0 in c:\\users\\marcelo\\desktop\\app_aws\\venv\\lib\\site-packages (from boto3) (0.6.0)\n",
      "Requirement already satisfied: python-dateutil<3.0.0,>=2.1 in c:\\users\\marcelo\\desktop\\app_aws\\venv\\lib\\site-packages (from botocore<1.30.0,>=1.29.40->boto3) (2.8.2)\n",
      "Requirement already satisfied: urllib3<1.27,>=1.25.4 in c:\\users\\marcelo\\desktop\\app_aws\\venv\\lib\\site-packages (from botocore<1.30.0,>=1.29.40->boto3) (1.26.13)\n",
      "Requirement already satisfied: six>=1.5 in c:\\users\\marcelo\\desktop\\app_aws\\venv\\lib\\site-packages (from python-dateutil<3.0.0,>=2.1->botocore<1.30.0,>=1.29.40->boto3) (1.16.0)\n",
      "Collecting psycopg2\n",
      "  Downloading psycopg2-2.9.5-cp311-cp311-win_amd64.whl (1.2 MB)\n",
      "     ---------------------------------------- 1.2/1.2 MB 10.5 MB/s eta 0:00:00\n",
      "Installing collected packages: psycopg2\n",
      "Successfully installed psycopg2-2.9.5\n"
     ]
    }
   ],
   "source": [
    "# Packages\n",
    "!pip install boto3\n",
    "!pip install psycopg2"
   ],
   "metadata": {
    "collapsed": false,
    "pycharm": {
     "name": "#%%\n"
    }
   }
  },
  {
   "cell_type": "code",
   "execution_count": 8,
   "outputs": [
    {
     "name": "stdout",
     "output_type": "stream",
     "text": [
      "avenue-g9ad8b9b60_640.jpg\n",
      "dandelion-ge4c90edd8_640.jpg\n",
      "fantasy-g95f970a56_640.jpg\n",
      "garden-g42e486784_640.jpg\n",
      "pink-ge82d54651_640.jpg\n",
      "road-g37132565b_640.jpg\n",
      "road-g41ea28d46_640.jpg\n",
      "sunset-gac16749a1_640.jpg\n",
      "tree-g386d6021c_640.jpg\n",
      "tree-gd34ff2fcb_640.jpg\n"
     ]
    }
   ],
   "source": [
    "# Import lib boto3\n",
    "import boto3\n",
    "import io\n",
    "from io import  BytesIO\n",
    "\n",
    "s3 = boto3.resource(\n",
    "    service_name = \"s3\",\n",
    "    region_name = \"eu-west-1\",\n",
    "    # Apagar chave quando subir no github\n",
    "    aws_access_key_id = \"\",\n",
    "    awsaws_secret_access_key = \"\"\n",
    ")\n",
    "\n",
    "# Create new bucket when execute this code in aws\n",
    "bucket = \"marceloribaspython\"\n",
    "prefix = \"imagens/\"\n",
    "\n",
    "for obj_s3 in s3.Bucket(bucket).objects.filter(Prefix=prefix):\n",
    "    if obj_s3.key.endswith(\"jpg\") or obj_s3.key.endswith(\"JPG\"):\n",
    "        #print(obj_s3)\n",
    "        file_name = obj_s3.key.split(\"/\")[1]\n",
    "        #print(file_name)\n",
    "\n",
    "        '''\n",
    "        Baixa as imagens do aws s3\n",
    "\n",
    "        body = obj_s3.get()[\"Body\"].read()\n",
    "        imagem = io.BytesIO(body)\n",
    "        with open(file_name, \"wb\") as f:\n",
    "            f.write(imagem.getbuffer())\n",
    "        '''"
   ],
   "metadata": {
    "collapsed": false,
    "pycharm": {
     "name": "#%%\n"
    }
   }
  },
  {
   "cell_type": "code",
   "execution_count": 11,
   "outputs": [],
   "source": [
    "# insert data from s3 into rds postgre\n",
    "import boto3\n",
    "import psycopg2\n",
    "\n",
    "s3 = boto3.resource(\n",
    "    service_name = \"s3\",\n",
    "    region_name = \"eu-west-1\",\n",
    "    # Check in aws keys\n",
    "    aws_access_key_id = \"\",\n",
    "    awsaws_secret_access_key = \"\"\n",
    ")\n",
    "\n",
    "bucket = \"marceloribaspython\"\n",
    "prefix = \"imagens/\"\n",
    "\n",
    "conn = psycopg2.connect(\n",
    "    host = \"\",\n",
    "    database = \"inventory\",\n",
    "    user = \"postgres\",\n",
    "    password = \"12345678\"\n",
    ")\n",
    "\n",
    "conn.autocommit = True\n",
    "\n",
    "autoIncrement = 1\n",
    "\n",
    "for obj_s3 in s3.Bucket(bucket).objects.filter(Prefix=prefix):\n",
    "    if obj_s3.key.endswith(\"jpg\") or obj_s3.key.endswith(\"JPG\"):\n",
    "        file_name = obj_s3.key.split(\"/\")[1]\n",
    "        current = conn.cursor()\n",
    "        current.execute(\"insert into files (id, file_name) values (%d, '%s')\" % (autoIncrement, file_name))\n",
    "        autoIncrement += 1\n",
    "\n",
    "conn.close()"
   ],
   "metadata": {
    "collapsed": false,
    "pycharm": {
     "name": "#%%\n"
    }
   }
  },
  {
   "cell_type": "code",
   "execution_count": 12,
   "outputs": [
    {
     "name": "stdout",
     "output_type": "stream",
     "text": [
      "(1, 'avenue-g9ad8b9b60_640.jpg')\n",
      "(2, 'dandelion-ge4c90edd8_640.jpg')\n",
      "(3, 'fantasy-g95f970a56_640.jpg')\n",
      "(4, 'garden-g42e486784_640.jpg')\n",
      "(5, 'pink-ge82d54651_640.jpg')\n",
      "(6, 'road-g37132565b_640.jpg')\n",
      "(7, 'road-g41ea28d46_640.jpg')\n",
      "(8, 'sunset-gac16749a1_640.jpg')\n",
      "(9, 'tree-g386d6021c_640.jpg')\n",
      "(10, 'tree-gd34ff2fcb_640.jpg')\n"
     ]
    }
   ],
   "source": [
    "# Select\n",
    "import psycopg2\n",
    "\n",
    "conn = psycopg2.connect(\n",
    "    host = \"\",\n",
    "    database = \"inventory\",\n",
    "    user = \"postgres\",\n",
    "    password = \"12345678\"\n",
    ")\n",
    "\n",
    "conn.autocommit = True\n",
    "\n",
    "current = conn.cursor()\n",
    "current.execute(\"select * from files;\")\n",
    "\n",
    "recset = current.fetchall()\n",
    "\n",
    "for rec in recset:\n",
    "    print(rec)\n",
    "\n",
    "conn.close()"
   ],
   "metadata": {
    "collapsed": false,
    "pycharm": {
     "name": "#%%\n"
    }
   }
  }
 ],
 "metadata": {
  "kernelspec": {
   "display_name": "Python 3",
   "language": "python",
   "name": "python3"
  },
  "language_info": {
   "codemirror_mode": {
    "name": "ipython",
    "version": 2
   },
   "file_extension": ".py",
   "mimetype": "text/x-python",
   "name": "python",
   "nbconvert_exporter": "python",
   "pygments_lexer": "ipython2",
   "version": "2.7.6"
  }
 },
 "nbformat": 4,
 "nbformat_minor": 0
}