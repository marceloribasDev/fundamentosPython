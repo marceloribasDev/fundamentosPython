{
  "nbformat": 4,
  "nbformat_minor": 0,
  "metadata": {
    "colab": {
      "provenance": [],
      "collapsed_sections": [
        "uwo35qS887mr",
        "Y4r59LbIBVUy",
        "PiI_hHdRC67T"
      ],
      "authorship_tag": "ABX9TyNNiuJ1SxbAQC5MC+6W8o6N",
      "include_colab_link": true
    },
    "kernelspec": {
      "name": "python3",
      "display_name": "Python 3"
    },
    "language_info": {
      "name": "python"
    }
  },
  "cells": [
    {
      "cell_type": "markdown",
      "metadata": {
        "id": "view-in-github",
        "colab_type": "text"
      },
      "source": [
        "<a href=\"https://colab.research.google.com/github/marceloribasDev/fundamentosPython/blob/main/Modules.ipynb\" target=\"_parent\"><img src=\"https://colab.research.google.com/assets/colab-badge.svg\" alt=\"Open In Colab\"/></a>"
      ]
    },
    {
      "cell_type": "markdown",
      "source": [
        "# Introducao a Modulos\n",
        "\n",
        "- Bibliotecas empacotadas\n",
        "\n",
        "- Trazem funções prontas:\n",
        "    - Ler arquivos\n",
        "    - Ciência de dados\n",
        "    - Conectar com Banco de Dados\n",
        "    - Interagir com Serviços na Nuvem\n",
        "    - Etc.\n",
        "\n",
        "- Você pode criar seus módulos!\n",
        "\n",
        "- Você pode criar seus módulos\n",
        "    - Depende do ambiente Python que você usa\n",
        "\n",
        "- Novos módulos podem ser instalados com programa pip\n"
      ],
      "metadata": {
        "id": "uwo35qS887mr"
      }
    },
    {
      "cell_type": "code",
      "execution_count": null,
      "metadata": {
        "id": "Hxv44zA983u5"
      },
      "outputs": [],
      "source": [
        "import datetime\n",
        "print(type(datetime))\n",
        "\n",
        "data = datetime.datetime(2022,5,15,10,4,5)\n",
        "print(data)"
      ]
    },
    {
      "cell_type": "code",
      "source": [
        "import random as rd\n",
        "print(rd.randrange(10,100))"
      ],
      "metadata": {
        "id": "dSMHRMvSAdxH"
      },
      "execution_count": null,
      "outputs": []
    },
    {
      "cell_type": "code",
      "source": [
        "from random import randrange\n",
        "print(randrange(100000,999999))"
      ],
      "metadata": {
        "id": "c0s9tdOTAjYP"
      },
      "execution_count": null,
      "outputs": []
    },
    {
      "cell_type": "code",
      "source": [
        "from random import randrange as rd\n",
        "print(rd(100000,999999))"
      ],
      "metadata": {
        "id": "YfXoUuj1A5_b"
      },
      "execution_count": null,
      "outputs": []
    },
    {
      "cell_type": "code",
      "source": [
        "from random import randrange, randint\n",
        "print(randrange(100000,999999))\n",
        "print(randint(100000,999999))"
      ],
      "metadata": {
        "id": "XXUYmFT_A-Lm"
      },
      "execution_count": null,
      "outputs": []
    },
    {
      "cell_type": "code",
      "source": [
        "from random import *\n",
        "print(randint(1,10))"
      ],
      "metadata": {
        "id": "EFrD-mgEBFvi"
      },
      "execution_count": null,
      "outputs": []
    },
    {
      "cell_type": "markdown",
      "source": [
        "# Explorando um modulo"
      ],
      "metadata": {
        "id": "Y4r59LbIBVUy"
      }
    },
    {
      "cell_type": "code",
      "source": [
        "import random # Retorna funcoes, atributos e classes disponiveis no modulo\n",
        "dir(random)"
      ],
      "metadata": {
        "id": "DUNCGxLWBXlI"
      },
      "execution_count": null,
      "outputs": []
    },
    {
      "cell_type": "code",
      "source": [
        "import random \n",
        "dir(random.randrange)"
      ],
      "metadata": {
        "id": "lbloUsTsBmSQ"
      },
      "execution_count": null,
      "outputs": []
    },
    {
      "cell_type": "code",
      "source": [
        "import random \n",
        "#print(random.__name__)\n",
        "#print(random.__file__)\n",
        "print(random.__doc__)"
      ],
      "metadata": {
        "id": "HHAiYws6Bx3D"
      },
      "execution_count": null,
      "outputs": []
    },
    {
      "cell_type": "code",
      "source": [
        "from random import randrange\n",
        "print(randrange.__doc__)\n",
        "print(randrange.__name__)"
      ],
      "metadata": {
        "id": "9R5JTiuSCPNg"
      },
      "execution_count": null,
      "outputs": []
    },
    {
      "cell_type": "markdown",
      "source": [
        "# Install / Deinstall Modulos"
      ],
      "metadata": {
        "id": "PiI_hHdRC67T"
      }
    },
    {
      "cell_type": "code",
      "source": [
        "!pip list # Lista pacotes pre instalados (Exemplo do google colab)"
      ],
      "metadata": {
        "id": "LY9V69bXDIf_"
      },
      "execution_count": null,
      "outputs": []
    },
    {
      "cell_type": "code",
      "source": [
        "# Install module\n",
        "!pip install pmdarima"
      ],
      "metadata": {
        "id": "dw6xRjUcDbAw"
      },
      "execution_count": null,
      "outputs": []
    },
    {
      "cell_type": "code",
      "source": [
        "# Uninstall module\n",
        "!pip uninstall pmdarima"
      ],
      "metadata": {
        "id": "7wamO54HDs4i"
      },
      "execution_count": null,
      "outputs": []
    },
    {
      "cell_type": "code",
      "source": [
        "# Instala versao especifica\n",
        "!pip install pmdarima==1.1.1"
      ],
      "metadata": {
        "id": "WFCHN1RpD5PX"
      },
      "execution_count": null,
      "outputs": []
    },
    {
      "cell_type": "code",
      "source": [
        "!pip uninstall pmdarima==1.1.1"
      ],
      "metadata": {
        "id": "sep25-9OEsD7"
      },
      "execution_count": null,
      "outputs": []
    },
    {
      "cell_type": "markdown",
      "source": [
        "# Criando os proprios modulos"
      ],
      "metadata": {
        "id": "s0_Fgg8iEy5y"
      }
    },
    {
      "cell_type": "markdown",
      "source": [
        "Criar arquivo no google colab e colocar o seguinte codigo:\n",
        "\n",
        "''' Este eh o modulo teste deselvolvido em aula '''\n",
        "\n",
        "PI = 3.1415\n",
        "\n",
        "class Teste:\n",
        "    ''' Essa e a classe teste '''\n",
        "    def __init__(self):\n",
        "        print('Classe teste')\n",
        "\n",
        "def myFunc(num):\n",
        "    ''' Esta eh a funcao teste '''\n",
        "    print(num)"
      ],
      "metadata": {
        "id": "fufqo_FfJYaU"
      }
    },
    {
      "cell_type": "code",
      "source": [
        "import teste\n",
        "\n",
        "dir(teste)"
      ],
      "metadata": {
        "id": "fTl8V8C1E29c"
      },
      "execution_count": null,
      "outputs": []
    },
    {
      "cell_type": "code",
      "source": [
        "import teste\n",
        "print(teste.PI)\n",
        "var = teste.Teste()\n",
        "teste.myFunc(10)"
      ],
      "metadata": {
        "id": "5y2u8Ya4Jc6p"
      },
      "execution_count": null,
      "outputs": []
    },
    {
      "cell_type": "code",
      "source": [
        "from teste import PI\n",
        "print(PI)"
      ],
      "metadata": {
        "id": "MhXAGVuKJuH6"
      },
      "execution_count": null,
      "outputs": []
    },
    {
      "cell_type": "markdown",
      "source": [
        "# Parametros de Execucao"
      ],
      "metadata": {
        "id": "h4_6RCEBKa3L"
      }
    },
    {
      "cell_type": "code",
      "source": [
        "print(__name__)"
      ],
      "metadata": {
        "id": "IbFtbFrwKeuy"
      },
      "execution_count": null,
      "outputs": []
    },
    {
      "cell_type": "code",
      "source": [
        "import teste\n",
        "print(teste.__name__)\n",
        "print(teste.__file__)"
      ],
      "metadata": {
        "id": "dJURaumOqtqs"
      },
      "execution_count": null,
      "outputs": []
    },
    {
      "cell_type": "code",
      "source": [
        "def main():\n",
        "    print('Aqui inicia o programa')\n",
        "\n",
        "if(__name__ == '__main__'):\n",
        "    main()"
      ],
      "metadata": {
        "id": "tSjZJSutrF7Q"
      },
      "execution_count": null,
      "outputs": []
    },
    {
      "cell_type": "code",
      "source": [
        "import sys\n",
        "if(__name__ == '__main__'):\n",
        "    print('Num argumentos: ', len(sys.argv))\n",
        "    print('Args sao: ', sys.argv)"
      ],
      "metadata": {
        "id": "hED_j9PPrdlE"
      },
      "execution_count": null,
      "outputs": []
    },
    {
      "cell_type": "markdown",
      "source": [
        "# Criando e lendo ajudo de modulos"
      ],
      "metadata": {
        "id": "bsEHCIIavy5L"
      }
    },
    {
      "cell_type": "code",
      "source": [
        "import sys\n",
        "print(sys.__doc__)"
      ],
      "metadata": {
        "id": "1F7XavUVv3uy"
      },
      "execution_count": null,
      "outputs": []
    },
    {
      "cell_type": "code",
      "source": [
        "'''\n",
        "Este eh o arquivo principal contento uma variavel chamada euler e uma funcao chamada soma\n",
        "'''\n",
        "\n",
        "euler = 2.72838\n",
        "\n",
        "def soma(num1, num2):\n",
        "    '''Funcao que soma dois numeros recebidos por entrada '''\n",
        "    return num1 + num2\n",
        "\n",
        "print(__doc__)\n",
        "print(soma.__doc__)"
      ],
      "metadata": {
        "id": "IppDF0cWwTC3"
      },
      "execution_count": null,
      "outputs": []
    }
  ]
}