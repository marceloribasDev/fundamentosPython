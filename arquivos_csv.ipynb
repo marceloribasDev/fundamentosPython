{
  "nbformat": 4,
  "nbformat_minor": 0,
  "metadata": {
    "colab": {
      "provenance": [],
      "authorship_tag": "ABX9TyNU04MnOaJUK/+xx4+UvAfk",
      "include_colab_link": true
    },
    "kernelspec": {
      "name": "python3",
      "display_name": "Python 3"
    },
    "language_info": {
      "name": "python"
    }
  },
  "cells": [
    {
      "cell_type": "markdown",
      "metadata": {
        "id": "view-in-github",
        "colab_type": "text"
      },
      "source": [
        "<a href=\"https://colab.research.google.com/github/marceloribasDev/fundamentosPython/blob/main/arquivos_csv.ipynb\" target=\"_parent\"><img src=\"https://colab.research.google.com/assets/colab-badge.svg\" alt=\"Open In Colab\"/></a>"
      ]
    },
    {
      "cell_type": "code",
      "execution_count": null,
      "metadata": {
        "id": "HuhT8E9vHZfn"
      },
      "outputs": [],
      "source": [
        "# Utilizando csv\n",
        "\n",
        "# Criando arquivo csv\n",
        "import csv\n",
        "\n",
        "with open('pessoas.csv', 'w') as arquivo:\n",
        "    escritor_csv = csv.writer(arquivo, delimiter=',')\n",
        "    escritor_csv.writerow(['id','nome','profissao'])\n",
        "    escritor_csv.writerow(['1','Arthur','Ser filho'])\n",
        "    escritor_csv.writerow(['2','Jully','Estetica'])\n",
        "    escritor_csv.writerow(['3','Marcelo','DBA'])"
      ]
    },
    {
      "cell_type": "code",
      "source": [
        "import csv\n",
        "\n",
        "linhas = [\n",
        "    ['id','nome','profissao'],\n",
        "    ['1','Arthur','Ser filho'],\n",
        "    ['3','Marcelo','DBA']\n",
        "]\n",
        "\n",
        "with open('pessoas2.csv', 'w') as arquivo:\n",
        "    escritor_csv = csv.writer(arquivo)\n",
        "    escritor_csv.writerows(linhas)"
      ],
      "metadata": {
        "id": "4HTLlp3hP6nq"
      },
      "execution_count": null,
      "outputs": []
    },
    {
      "cell_type": "code",
      "source": [
        "# Ler um csv\n",
        "\n",
        "import csv\n",
        "\n",
        "with open('pessoas2.csv', 'r') as arquivo:\n",
        "    leitor = csv.reader(arquivo, delimiter=',')\n",
        "\n",
        "    for linha in leitor:\n",
        "        print(linha)\n"
      ],
      "metadata": {
        "id": "u0P2xsSlQuJO"
      },
      "execution_count": null,
      "outputs": []
    },
    {
      "cell_type": "code",
      "source": [
        "# Criando uma classe Pessoa Persistindo em CSV\n",
        "import csv\n",
        "\n",
        "class Pessoa:\n",
        "    def __init__(self, id, nome, profissao):\n",
        "        self.id = id\n",
        "        self.nome = nome\n",
        "        self.profissao = profissao\n",
        "\n",
        "    @staticmethod\n",
        "    def le_pessoas():\n",
        "\n",
        "        pessoas = []        \n",
        "\n",
        "        with open('pessoas.csv', 'r') as arquivo:\n",
        "            leitor = csv.reader(arquivo, delimiter=',')\n",
        "\n",
        "            for linha in leitor:\n",
        "                pessoa = Pessoa(linha[0], linha[1], linha[2])\n",
        "                pessoas.append(pessoa)\n",
        "        return pessoas\n",
        "    \n",
        "    @staticmethod\n",
        "    def salva_pessoas(*pessoas):\n",
        "\n",
        "        with open('pessoas.csv', 'w') as arquivo:\n",
        "            escritor_csv = csv.writer(arquivo, delimiter=',')\n",
        "\n",
        "            for pessoa in pessoas:\n",
        "                escritor_csv.writerow([pessoa.id, pessoa.nome, pessoa.profissao])\n",
        "\n",
        "formata_colunas = Pessoa('id','nome','profissao')\n",
        "pessoa1 = Pessoa(23,'Marcelo', 'DBA')\n",
        "pessoa2 = Pessoa(1,'Arthur', 'Ser filho')\n",
        "pessoa3 = Pessoa(31,'Jully', 'Esteticista')\n",
        "\n",
        "Pessoa.salva_pessoas(formata_colunas,pessoa1, pessoa2, pessoa3)\n",
        "\n",
        "lista_pessoas = Pessoa.le_pessoas()\n",
        "\n",
        "for pessoa in lista_pessoas:\n",
        "    print(pessoa.id + ',' + pessoa.nome + ','  + pessoa.profissao)"
      ],
      "metadata": {
        "id": "bOw0TZ56QzMs"
      },
      "execution_count": null,
      "outputs": []
    }
  ]
}