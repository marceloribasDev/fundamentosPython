{
  "nbformat": 4,
  "nbformat_minor": 0,
  "metadata": {
    "colab": {
      "provenance": [],
      "authorship_tag": "ABX9TyN8sGTdvJvxAOA5dJYitWtF",
      "include_colab_link": true
    },
    "kernelspec": {
      "name": "python3",
      "display_name": "Python 3"
    },
    "language_info": {
      "name": "python"
    }
  },
  "cells": [
    {
      "cell_type": "markdown",
      "metadata": {
        "id": "view-in-github",
        "colab_type": "text"
      },
      "source": [
        "<a href=\"https://colab.research.google.com/github/marceloribasDev/fundamentosPython/blob/main/pandas.ipynb\" target=\"_parent\"><img src=\"https://colab.research.google.com/assets/colab-badge.svg\" alt=\"Open In Colab\"/></a>"
      ]
    },
    {
      "cell_type": "markdown",
      "source": [
        "# Pandas\n"
      ],
      "metadata": {
        "id": "ihWePEgXW27X"
      }
    },
    {
      "cell_type": "code",
      "execution_count": null,
      "metadata": {
        "id": "PQrha1Q5WylG"
      },
      "outputs": [],
      "source": [
        "# Series\n",
        "import pandas as pd\n",
        "\n",
        "pd.Series([1,2,3,4,5])"
      ]
    },
    {
      "cell_type": "code",
      "source": [
        "import pandas as pd\n",
        "minha_serie = pd.Series([1,2,3,4,5], dtype=\"i4\", name = \"Meus numeros\", index = [\"um\", \"dois\",\"tres\",\"quatro\",\"cinco\"])\n",
        "\n",
        "print(minha_serie[\"um\"])\n",
        "print(minha_serie[\"quatro\"])\n",
        "print(minha_serie.shape)"
      ],
      "metadata": {
        "id": "dRSRKSNyXaSR"
      },
      "execution_count": null,
      "outputs": []
    },
    {
      "cell_type": "code",
      "source": [
        "import pandas as pd\n",
        "minha_serie = pd.Series([1,2,3,4,5], dtype=\"i4\", name = \"Meus numeros\", index = [\"um\", \"dois\",\"tres\",\"quatro\",\"cinco\"])\n",
        "\n",
        "minha_serie[\"seis\"] = 6\n",
        "\n",
        "print(minha_serie)"
      ],
      "metadata": {
        "id": "40CsHvlIXmAV"
      },
      "execution_count": null,
      "outputs": []
    },
    {
      "cell_type": "code",
      "source": [
        "import pandas as pd\n",
        "import numpy as np\n",
        "\n",
        "array = np.array([45.4,50.5,65.7,98.7])\n",
        "pesos = pd.Series(array,index=[\"Carlos\",\"Maria\",\"Jose\",\"Fernanda\"])\n",
        "\n",
        "print(pesos)\n",
        "print(type(pesos))\n"
      ],
      "metadata": {
        "id": "YWDnVmiXYKhN"
      },
      "execution_count": null,
      "outputs": []
    },
    {
      "cell_type": "code",
      "source": [
        "# Data Frames --> Eh um conjunto de dados em forma tabular... linhas e colunas\n",
        "import pandas as pd\n",
        "\n",
        "nomes = [\"Marcelo\",\"Arthur\",\"Jully\",\"Tiago\",\"Luddy\"]\n",
        "\n",
        "data_frame = pd.DataFrame(nomes)\n",
        "\n",
        "data_frame"
      ],
      "metadata": {
        "id": "iFmTppSXbTMR"
      },
      "execution_count": null,
      "outputs": []
    },
    {
      "cell_type": "code",
      "source": [
        "print(data_frame)"
      ],
      "metadata": {
        "id": "-2HnFClCcDjg"
      },
      "execution_count": null,
      "outputs": []
    },
    {
      "cell_type": "code",
      "source": [
        "import pandas as pd\n",
        "\n",
        "numeros = [\n",
        "    [\"11\",\"12\",\"13\",\"14\"],\n",
        "    [\"11\",\"12\",\"13\",\"14\"],\n",
        "    [\"11\",\"12\",\"13\",\"14\"],\n",
        "    [\"11\",\"12\",\"13\",\"14\"],\n",
        "]\n",
        "\n",
        "data_frame = pd.DataFrame(numeros)\n",
        "\n",
        "data_frame"
      ],
      "metadata": {
        "id": "b_3mjenycFtt"
      },
      "execution_count": null,
      "outputs": []
    },
    {
      "cell_type": "code",
      "source": [
        "import pandas as pd\n",
        "\n",
        "numeros = [\n",
        "    [\"11\",\"12\",\"13\",\"14\"],\n",
        "    [\"11\",\"12\",\"13\",\"14\"],\n",
        "    [\"11\",\"12\",\"13\",\"14\"],\n",
        "    [\"11\",\"12\",\"13\",\"14\"],\n",
        "]\n",
        "\n",
        "data_frame = pd.DataFrame(numeros, columns=[\"a\",\"b\",\"c\",\"d\"], index=[\"x\",\"y\",\"z\",\"w\"])\n",
        "\n",
        "data_frame"
      ],
      "metadata": {
        "id": "_jkJ3LVLciIa"
      },
      "execution_count": null,
      "outputs": []
    },
    {
      "cell_type": "code",
      "source": [
        "# Data frames a partir de um dicionario\n",
        "import pandas as pd\n",
        "\n",
        "dados = {\n",
        "    \"Nome\": [\"Marcelo\",\"Arthur\",\"Jully\",\"Tiago\"],\n",
        "    \"Idade\" : [33,0,31,35],\n",
        "    \"Profissao\" : [\"DBA\", \"Filho\",\"Esteticista\", \"Implementador de Software\"]\n",
        "}\n",
        "\n",
        "data_frame = pd.DataFrame(dados)\n",
        "\n",
        "data_frame"
      ],
      "metadata": {
        "id": "sbTLW_bIdJT8"
      },
      "execution_count": null,
      "outputs": []
    },
    {
      "cell_type": "code",
      "source": [
        "data_frame.loc[0]"
      ],
      "metadata": {
        "id": "MLd2mgeNekVJ"
      },
      "execution_count": null,
      "outputs": []
    },
    {
      "cell_type": "code",
      "source": [
        "import pandas as pd\n",
        "\n",
        "dados = {\n",
        "    \"Idade\" : [33,0,31,35],\n",
        "    \"Profissao\" : [\"DBA\", \"Filho\",\"Esteticista\", \"Implementador de Software\"]\n",
        "}\n",
        "\n",
        "data_frame = pd.DataFrame(dados, index=[\"Marcelo\",\"Arthur\",\"Jully\",\"Tiago\"])\n",
        "\n",
        "data_frame"
      ],
      "metadata": {
        "id": "Ytpl1cEVe0uN"
      },
      "execution_count": null,
      "outputs": []
    },
    {
      "cell_type": "code",
      "source": [
        "data_frame.loc[\"Marcelo\"]"
      ],
      "metadata": {
        "id": "HTZ4QT7Qe624"
      },
      "execution_count": null,
      "outputs": []
    },
    {
      "cell_type": "code",
      "source": [
        "# Importando dados (importado arquivo pessoas.csv da pasta de arquivos)\n",
        "\n",
        "import pandas as pd\n",
        "\n",
        "# data = pd.read_csv(\"pessoas.csv\")\n",
        "data = pd.read_csv(\"pessoas.csv\", index_col=\"Nome\")\n",
        "\n",
        "data"
      ],
      "metadata": {
        "id": "ETrwxnHfhmh7"
      },
      "execution_count": null,
      "outputs": []
    },
    {
      "cell_type": "code",
      "source": [
        "data.loc[\"Roger\"]"
      ],
      "metadata": {
        "id": "qMuSObwmiYIv"
      },
      "execution_count": null,
      "outputs": []
    },
    {
      "cell_type": "code",
      "source": [
        "len(data.columns)"
      ],
      "metadata": {
        "id": "0tBHjUNJiuyL"
      },
      "execution_count": null,
      "outputs": []
    },
    {
      "cell_type": "code",
      "source": [
        "data.columns"
      ],
      "metadata": {
        "id": "7OmD-n3ri0aJ"
      },
      "execution_count": null,
      "outputs": []
    },
    {
      "cell_type": "code",
      "source": [
        "len(data.index)"
      ],
      "metadata": {
        "id": "piLkVFa8i23q"
      },
      "execution_count": null,
      "outputs": []
    },
    {
      "cell_type": "code",
      "source": [
        "data.index"
      ],
      "metadata": {
        "id": "Q5rcqndfi6Cm"
      },
      "execution_count": null,
      "outputs": []
    },
    {
      "cell_type": "code",
      "source": [
        "data.shape"
      ],
      "metadata": {
        "id": "sa4VLdDei81-"
      },
      "execution_count": null,
      "outputs": []
    },
    {
      "cell_type": "code",
      "source": [
        "for ind, linha in data.iterrows():\n",
        "    print(ind, linha[0], linha[1], linha[2])"
      ],
      "metadata": {
        "id": "WQ8_i9MsjBcK"
      },
      "execution_count": null,
      "outputs": []
    },
    {
      "cell_type": "code",
      "source": [
        "for col in data:\n",
        "    print(col)"
      ],
      "metadata": {
        "id": "9eVxM51MjUAM"
      },
      "execution_count": null,
      "outputs": []
    },
    {
      "cell_type": "code",
      "source": [
        "data[\"Idade\"]"
      ],
      "metadata": {
        "id": "pG0Eb_fsjaiI"
      },
      "execution_count": null,
      "outputs": []
    },
    {
      "cell_type": "code",
      "source": [
        "for col in data:\n",
        "    print(data[col])"
      ],
      "metadata": {
        "id": "1Eqj8y8Vji8m"
      },
      "execution_count": null,
      "outputs": []
    },
    {
      "cell_type": "code",
      "source": [
        "# Acessando valores individuais e slicing\n",
        "\n",
        "print(data.loc[\"Roger\"][\"Idade\"])\n",
        "print(data.loc[\"Roger\"][0])\n"
      ],
      "metadata": {
        "id": "624lTtGJgyst"
      },
      "execution_count": null,
      "outputs": []
    },
    {
      "cell_type": "code",
      "source": [
        "print(data.iloc[0][\"Idade\"])\n",
        "print(data.iloc[1][0])\n"
      ],
      "metadata": {
        "id": "UIeiJPHpg99D"
      },
      "execution_count": null,
      "outputs": []
    },
    {
      "cell_type": "code",
      "source": [
        "print(data.loc[\"Roger\"])\n",
        "print(type(data.loc[\"Roger\"]))"
      ],
      "metadata": {
        "id": "HgtqZdUJhXf_"
      },
      "execution_count": null,
      "outputs": []
    },
    {
      "cell_type": "code",
      "source": [
        "print(data.iloc[0])"
      ],
      "metadata": {
        "id": "QBs4js-ohe9o"
      },
      "execution_count": null,
      "outputs": []
    },
    {
      "cell_type": "code",
      "source": [
        "data.loc[\"Cristiano\":\"Jeferson\"]"
      ],
      "metadata": {
        "id": "zKihJ23mhudM"
      },
      "execution_count": null,
      "outputs": []
    },
    {
      "cell_type": "code",
      "source": [
        "data.iloc[1:4]"
      ],
      "metadata": {
        "id": "pGbcVjjZh2SX"
      },
      "execution_count": null,
      "outputs": []
    },
    {
      "cell_type": "code",
      "source": [
        "idade = data[\"Idade\"]\n",
        "\n",
        "print(idade[3])\n",
        "print(idade[\"Diego\"])"
      ],
      "metadata": {
        "id": "7mg8zpYrh7xK"
      },
      "execution_count": null,
      "outputs": []
    },
    {
      "cell_type": "code",
      "source": [
        "print(data[[\"Idade\",\"Altura\"]])"
      ],
      "metadata": {
        "id": "SqpcJaCgkW46"
      },
      "execution_count": null,
      "outputs": []
    },
    {
      "cell_type": "code",
      "source": [
        "colunas = data[[\"Idade\",\"Altura\"]]\n",
        "print(type(colunas))"
      ],
      "metadata": {
        "id": "wR4DkD_ykgHy"
      },
      "execution_count": null,
      "outputs": []
    },
    {
      "cell_type": "code",
      "source": [
        "# Mascaras\n",
        "\n",
        "colunas = data.iloc[:,1:3]\n",
        "colunas"
      ],
      "metadata": {
        "id": "wXaV5u3q9jKu"
      },
      "execution_count": null,
      "outputs": []
    },
    {
      "cell_type": "code",
      "source": [],
      "metadata": {
        "id": "LLdsRHVA96Xd"
      },
      "execution_count": null,
      "outputs": []
    },
    {
      "cell_type": "code",
      "source": [
        "colunas = data.loc[:,\"Idade\":\"Profissão\"]\n",
        "colunas"
      ],
      "metadata": {
        "id": "EoPrQzLY98uu"
      },
      "execution_count": null,
      "outputs": []
    },
    {
      "cell_type": "code",
      "source": [
        "mask = data[\"Idade\"] < 50\n",
        "mask"
      ],
      "metadata": {
        "id": "n4sTw0Iv-xE1"
      },
      "execution_count": null,
      "outputs": []
    },
    {
      "cell_type": "code",
      "source": [
        "novo_dframe = data[mask]\n",
        "novo_dframe"
      ],
      "metadata": {
        "id": "eXyklZtB_IPM"
      },
      "execution_count": null,
      "outputs": []
    },
    {
      "cell_type": "code",
      "source": [
        "novo_dframe = data[(data[\"Idade\"] > 40) & (data[\"Altura\"] > 1.75)]\n",
        "novo_dframe"
      ],
      "metadata": {
        "id": "wkY9M7GI_Tmi"
      },
      "execution_count": null,
      "outputs": []
    },
    {
      "cell_type": "code",
      "source": [
        "# Atualizando Valores\n",
        "data"
      ],
      "metadata": {
        "id": "nPA4XMM1Do-p"
      },
      "execution_count": null,
      "outputs": []
    },
    {
      "cell_type": "code",
      "source": [
        "data.at[\"Roger\",\"Idade\"] = 56\n",
        "\n",
        "data"
      ],
      "metadata": {
        "id": "IY3Kq3goDsqf"
      },
      "execution_count": null,
      "outputs": []
    },
    {
      "cell_type": "code",
      "source": [
        "data.iat[2,0] = 100\n",
        "\n",
        "data"
      ],
      "metadata": {
        "id": "dnqzAj9YDx0I"
      },
      "execution_count": null,
      "outputs": []
    },
    {
      "cell_type": "code",
      "source": [
        "data.loc[\"Cristiano\", \"Idade\":\"Profissão\"] = (45, \"Dev\")\n",
        "\n",
        "data"
      ],
      "metadata": {
        "id": "0IyijO5rD7KV"
      },
      "execution_count": null,
      "outputs": []
    },
    {
      "cell_type": "code",
      "source": [
        "data.loc[\"José\", [\"Idade\",\"Altura\"]] = (65, 1.72)\n",
        "\n",
        "data"
      ],
      "metadata": {
        "id": "0qdWMiYAEGkj"
      },
      "execution_count": null,
      "outputs": []
    },
    {
      "cell_type": "code",
      "source": [
        "data.iloc[0,2] = 1.94\n",
        "\n",
        "data"
      ],
      "metadata": {
        "id": "KSX4Nk0MESUv"
      },
      "execution_count": null,
      "outputs": []
    },
    {
      "cell_type": "code",
      "source": [
        "data.loc[:,\"Idade\"] = 76\n",
        "\n",
        "data"
      ],
      "metadata": {
        "id": "VAzFkzlDEZK7"
      },
      "execution_count": null,
      "outputs": []
    },
    {
      "cell_type": "code",
      "source": [
        "data.loc[:,\"Idade\":\"Profissão\"] = None\n",
        "data"
      ],
      "metadata": {
        "id": "Aw5k2C26EgUW"
      },
      "execution_count": null,
      "outputs": []
    },
    {
      "cell_type": "code",
      "source": [
        "data.loc[:,[\"Idade\", \"Altura\"]] = (23, 1.8)\n",
        "\n",
        "data"
      ],
      "metadata": {
        "id": "1ary7a0tEpzg"
      },
      "execution_count": null,
      "outputs": []
    },
    {
      "cell_type": "code",
      "source": [
        "data.loc[(data[\"Idade\"] < 40), \"Altura\"] = 1.99\n",
        "data"
      ],
      "metadata": {
        "id": "IzHPqliVGyc7"
      },
      "execution_count": null,
      "outputs": []
    },
    {
      "cell_type": "code",
      "source": [
        "data.loc[(data[\"Idade\"] == 34) & (data[\"Profissão\"] == \"Programador\"), [\"Idade\",\"Altura\"]] = (80,1.00)\n",
        "\n",
        "data"
      ],
      "metadata": {
        "id": "9kwLp2zEHRzu"
      },
      "execution_count": null,
      "outputs": []
    },
    {
      "cell_type": "code",
      "source": [
        "# Inserindo linhas e colunas\n",
        "data.loc[\"Marcelo\"] = (33, \"DBA\", 1.80)\n",
        "data"
      ],
      "metadata": {
        "id": "T8MK-YYZIcA_"
      },
      "execution_count": null,
      "outputs": []
    },
    {
      "cell_type": "code",
      "source": [
        "import pandas as pd\n",
        "data_adicional = pd.DataFrame(\n",
        "    {\n",
        "        \"Idade\":[34,32,54],\n",
        "        \"Profissão\":[\"Jogador\",\"Professor\",\"Paraquedista\"],\n",
        "        \"Altura\":[1.79,1.76,1.90]\n",
        "     },\n",
        "        index = [\"Julia\",\"Roberto\",\"Jack\"])\n",
        "\n",
        "data_adicional.index.name = \"Nomes\"\n",
        "\n",
        "data_adicional"
      ],
      "metadata": {
        "id": "r4WO6iitIwms"
      },
      "execution_count": null,
      "outputs": []
    },
    {
      "cell_type": "code",
      "source": [
        "data = data.append(data_adicional)\n",
        "\n",
        "data"
      ],
      "metadata": {
        "id": "UwkBJTM3QVBl"
      },
      "execution_count": null,
      "outputs": []
    },
    {
      "cell_type": "code",
      "source": [
        "data[\"Sobrenome\"] = None\n",
        "\n",
        "data"
      ],
      "metadata": {
        "id": "4suGM317Qtbz"
      },
      "execution_count": null,
      "outputs": []
    },
    {
      "cell_type": "code",
      "source": [
        "data[\"Sobrenome\"] = [\"Silva\",\"Sagan\",\"\",\"\",\"\",\"\"]\n",
        "data"
      ],
      "metadata": {
        "id": "w9-XZXSLUGBD"
      },
      "execution_count": null,
      "outputs": []
    },
    {
      "cell_type": "code",
      "source": [
        "data.insert(loc=1,column=\"Data_Nascimento\",value=[\"30/09/2000\" for i in range(6)])\n",
        "\n",
        "data"
      ],
      "metadata": {
        "id": "2nMFSLiFUVrr"
      },
      "execution_count": null,
      "outputs": []
    },
    {
      "cell_type": "code",
      "source": [
        "# Removendo linhas\n",
        "\n",
        "data2 = data.drop(index = [\"Roger\",\"Diego\"])\n",
        "\n",
        "data2"
      ],
      "metadata": {
        "id": "Gep3EgLSaLEJ"
      },
      "execution_count": null,
      "outputs": []
    },
    {
      "cell_type": "code",
      "source": [
        "data.drop(index = [\"Roger\",\"Diego\"], inplace = True)\n",
        "\n",
        "data"
      ],
      "metadata": {
        "id": "bwZZQ_7gabsp"
      },
      "execution_count": null,
      "outputs": []
    },
    {
      "cell_type": "code",
      "source": [
        "data.drop(index=data.index[[0,1]], inplace = False)\n",
        "\n",
        "data"
      ],
      "metadata": {
        "id": "kgeC8GZQane6"
      },
      "execution_count": null,
      "outputs": []
    },
    {
      "cell_type": "code",
      "source": [
        "data.drop(index=data[data[\"Altura\"] >= 1.7].index, inplace = True)\n",
        "\n",
        "data"
      ],
      "metadata": {
        "id": "TmSop5hMbMB4"
      },
      "execution_count": null,
      "outputs": []
    },
    {
      "cell_type": "code",
      "source": [
        "# Remocao de colunas\n",
        "\n",
        "data.drop(columns=[\"Idade\"], inplace = True)\n",
        "\n",
        "data"
      ],
      "metadata": {
        "id": "gokOk2eIbkM3"
      },
      "execution_count": null,
      "outputs": []
    },
    {
      "cell_type": "code",
      "source": [
        "data.columns\n",
        "\n",
        "data.drop(columns=data.columns[[0,1]], inplace = True)\n",
        "\n",
        "data"
      ],
      "metadata": {
        "id": "rIY20yQ_b3Ra"
      },
      "execution_count": null,
      "outputs": []
    },
    {
      "cell_type": "code",
      "source": [
        "# Tratando nulos e ordenando\n",
        "\n",
        "data.loc[\"Roger\", \"Idade\"] = None\n",
        "\n",
        "data"
      ],
      "metadata": {
        "id": "uqFuXZj-cT7a"
      },
      "execution_count": null,
      "outputs": []
    },
    {
      "cell_type": "code",
      "source": [
        "data.isnull()"
      ],
      "metadata": {
        "id": "jr71FAdRcgtw"
      },
      "execution_count": null,
      "outputs": []
    },
    {
      "cell_type": "code",
      "source": [
        "pd.isnull(data)"
      ],
      "metadata": {
        "id": "9rcR6U1Pd-9r"
      },
      "execution_count": null,
      "outputs": []
    },
    {
      "cell_type": "code",
      "source": [
        "pd.isnull(data[\"Idade\"])"
      ],
      "metadata": {
        "id": "TGlVoSFdeDkg"
      },
      "execution_count": null,
      "outputs": []
    },
    {
      "cell_type": "code",
      "source": [
        "data.notnull()"
      ],
      "metadata": {
        "id": "05Kcks8qeFwP"
      },
      "execution_count": null,
      "outputs": []
    },
    {
      "cell_type": "code",
      "source": [
        "mask =pd.notnull(data[\"Idade\"])\n",
        "mask"
      ],
      "metadata": {
        "id": "dfoHuW34eL7H"
      },
      "execution_count": null,
      "outputs": []
    },
    {
      "cell_type": "code",
      "source": [
        "data[mask]"
      ],
      "metadata": {
        "id": "liFkv0vkeZen"
      },
      "execution_count": null,
      "outputs": []
    },
    {
      "cell_type": "code",
      "source": [
        "copy = data.sort_values(\"Idade\", ascending=True, inplace=False)\n",
        "copy"
      ],
      "metadata": {
        "id": "SbpMJrGzfJxP"
      },
      "execution_count": null,
      "outputs": []
    },
    {
      "cell_type": "code",
      "source": [
        "copy = data.sort_values(\"Idade\", ascending=True, inplace=False, na_position=\"first\") #na_position=\"last\"\n",
        "copy"
      ],
      "metadata": {
        "id": "ZMw7PXihfYd8"
      },
      "execution_count": null,
      "outputs": []
    },
    {
      "cell_type": "code",
      "source": [
        "data.loc[\"Maria\", \"Idade\"] = 34\n",
        "data"
      ],
      "metadata": {
        "id": "I5gN3ax4fjuR"
      },
      "execution_count": null,
      "outputs": []
    },
    {
      "cell_type": "code",
      "source": [
        "copy = data.sort_values([\"Idade\",\"Altura\"], ascending=[True,False], inplace=False, na_position=\"first\") \n",
        "copy"
      ],
      "metadata": {
        "id": "jiA66bdVftZF"
      },
      "execution_count": null,
      "outputs": []
    }
  ]
}