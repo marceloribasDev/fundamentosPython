{
  "nbformat": 4,
  "nbformat_minor": 0,
  "metadata": {
    "colab": {
      "provenance": [],
      "authorship_tag": "ABX9TyMB5Owwpy8mSofSscVhsPri",
      "include_colab_link": true
    },
    "kernelspec": {
      "name": "python3",
      "display_name": "Python 3"
    },
    "language_info": {
      "name": "python"
    }
  },
  "cells": [
    {
      "cell_type": "markdown",
      "metadata": {
        "id": "view-in-github",
        "colab_type": "text"
      },
      "source": [
        "<a href=\"https://colab.research.google.com/github/marceloribasDev/fundamentosPython/blob/main/pandas.ipynb\" target=\"_parent\"><img src=\"https://colab.research.google.com/assets/colab-badge.svg\" alt=\"Open In Colab\"/></a>"
      ]
    },
    {
      "cell_type": "markdown",
      "source": [
        "# Pandas\n"
      ],
      "metadata": {
        "id": "ihWePEgXW27X"
      }
    },
    {
      "cell_type": "code",
      "execution_count": null,
      "metadata": {
        "id": "PQrha1Q5WylG"
      },
      "outputs": [],
      "source": [
        "# Series\n",
        "import pandas as pd\n",
        "\n",
        "pd.Series([1,2,3,4,5])"
      ]
    },
    {
      "cell_type": "code",
      "source": [
        "import pandas as pd\n",
        "minha_serie = pd.Series([1,2,3,4,5], dtype=\"i4\", name = \"Meus numeros\", index = [\"um\", \"dois\",\"tres\",\"quatro\",\"cinco\"])\n",
        "\n",
        "print(minha_serie[\"um\"])\n",
        "print(minha_serie[\"quatro\"])\n",
        "print(minha_serie.shape)"
      ],
      "metadata": {
        "id": "dRSRKSNyXaSR"
      },
      "execution_count": null,
      "outputs": []
    },
    {
      "cell_type": "code",
      "source": [
        "import pandas as pd\n",
        "minha_serie = pd.Series([1,2,3,4,5], dtype=\"i4\", name = \"Meus numeros\", index = [\"um\", \"dois\",\"tres\",\"quatro\",\"cinco\"])\n",
        "\n",
        "minha_serie[\"seis\"] = 6\n",
        "\n",
        "print(minha_serie)"
      ],
      "metadata": {
        "id": "40CsHvlIXmAV"
      },
      "execution_count": null,
      "outputs": []
    },
    {
      "cell_type": "code",
      "source": [
        "import pandas as pd\n",
        "import numpy as np\n",
        "\n",
        "array = np.array([45.4,50.5,65.7,98.7])\n",
        "pesos = pd.Series(array,index=[\"Carlos\",\"Maria\",\"Jose\",\"Fernanda\"])\n",
        "\n",
        "print(pesos)\n",
        "print(type(pesos))\n"
      ],
      "metadata": {
        "id": "YWDnVmiXYKhN"
      },
      "execution_count": null,
      "outputs": []
    },
    {
      "cell_type": "code",
      "source": [
        "# Data Frames --> Eh um conjunto de dados em forma tabular... linhas e colunas\n",
        "import pandas as pd\n",
        "\n",
        "nomes = [\"Marcelo\",\"Arthur\",\"Jully\",\"Tiago\",\"Luddy\"]\n",
        "\n",
        "data_frame = pd.DataFrame(nomes)\n",
        "\n",
        "data_frame"
      ],
      "metadata": {
        "id": "iFmTppSXbTMR"
      },
      "execution_count": null,
      "outputs": []
    },
    {
      "cell_type": "code",
      "source": [
        "print(data_frame)"
      ],
      "metadata": {
        "id": "-2HnFClCcDjg"
      },
      "execution_count": null,
      "outputs": []
    },
    {
      "cell_type": "code",
      "source": [
        "import pandas as pd\n",
        "\n",
        "numeros = [\n",
        "    [\"11\",\"12\",\"13\",\"14\"],\n",
        "    [\"11\",\"12\",\"13\",\"14\"],\n",
        "    [\"11\",\"12\",\"13\",\"14\"],\n",
        "    [\"11\",\"12\",\"13\",\"14\"],\n",
        "]\n",
        "\n",
        "data_frame = pd.DataFrame(numeros)\n",
        "\n",
        "data_frame"
      ],
      "metadata": {
        "id": "b_3mjenycFtt"
      },
      "execution_count": null,
      "outputs": []
    },
    {
      "cell_type": "code",
      "source": [
        "import pandas as pd\n",
        "\n",
        "numeros = [\n",
        "    [\"11\",\"12\",\"13\",\"14\"],\n",
        "    [\"11\",\"12\",\"13\",\"14\"],\n",
        "    [\"11\",\"12\",\"13\",\"14\"],\n",
        "    [\"11\",\"12\",\"13\",\"14\"],\n",
        "]\n",
        "\n",
        "data_frame = pd.DataFrame(numeros, columns=[\"a\",\"b\",\"c\",\"d\"], index=[\"x\",\"y\",\"z\",\"w\"])\n",
        "\n",
        "data_frame"
      ],
      "metadata": {
        "id": "_jkJ3LVLciIa"
      },
      "execution_count": null,
      "outputs": []
    },
    {
      "cell_type": "code",
      "source": [
        "# Data frames a partir de um dicionario\n",
        "import pandas as pd\n",
        "\n",
        "dados = {\n",
        "    \"Nome\": [\"Marcelo\",\"Arthur\",\"Jully\",\"Tiago\"],\n",
        "    \"Idade\" : [33,0,31,35],\n",
        "    \"Profissao\" : [\"DBA\", \"Filho\",\"Esteticista\", \"Implementador de Software\"]\n",
        "}\n",
        "\n",
        "data_frame = pd.DataFrame(dados)\n",
        "\n",
        "data_frame"
      ],
      "metadata": {
        "id": "sbTLW_bIdJT8"
      },
      "execution_count": null,
      "outputs": []
    },
    {
      "cell_type": "code",
      "source": [
        "data_frame.loc[0]"
      ],
      "metadata": {
        "id": "MLd2mgeNekVJ"
      },
      "execution_count": null,
      "outputs": []
    },
    {
      "cell_type": "code",
      "source": [
        "import pandas as pd\n",
        "\n",
        "dados = {\n",
        "    \"Idade\" : [33,0,31,35],\n",
        "    \"Profissao\" : [\"DBA\", \"Filho\",\"Esteticista\", \"Implementador de Software\"]\n",
        "}\n",
        "\n",
        "data_frame = pd.DataFrame(dados, index=[\"Marcelo\",\"Arthur\",\"Jully\",\"Tiago\"])\n",
        "\n",
        "data_frame"
      ],
      "metadata": {
        "id": "Ytpl1cEVe0uN"
      },
      "execution_count": null,
      "outputs": []
    },
    {
      "cell_type": "code",
      "source": [
        "data_frame.loc[\"Marcelo\"]"
      ],
      "metadata": {
        "id": "HTZ4QT7Qe624"
      },
      "execution_count": null,
      "outputs": []
    },
    {
      "cell_type": "code",
      "source": [
        "# Importando dados (importado arquivo pessoas.csv da pasta de arquivos)\n",
        "\n",
        "import pandas as pd\n",
        "\n",
        "# data = pd.read_csv(\"pessoas.csv\")\n",
        "data = pd.read_csv(\"pessoas.csv\", index_col=\"Nome\")\n",
        "\n",
        "data"
      ],
      "metadata": {
        "id": "ETrwxnHfhmh7"
      },
      "execution_count": null,
      "outputs": []
    },
    {
      "cell_type": "code",
      "source": [
        "data.loc[\"Roger\"]"
      ],
      "metadata": {
        "id": "qMuSObwmiYIv"
      },
      "execution_count": null,
      "outputs": []
    },
    {
      "cell_type": "code",
      "source": [
        "len(data.columns)"
      ],
      "metadata": {
        "id": "0tBHjUNJiuyL"
      },
      "execution_count": null,
      "outputs": []
    },
    {
      "cell_type": "code",
      "source": [
        "data.columns"
      ],
      "metadata": {
        "id": "7OmD-n3ri0aJ"
      },
      "execution_count": null,
      "outputs": []
    },
    {
      "cell_type": "code",
      "source": [
        "len(data.index)"
      ],
      "metadata": {
        "id": "piLkVFa8i23q"
      },
      "execution_count": null,
      "outputs": []
    },
    {
      "cell_type": "code",
      "source": [
        "data.index"
      ],
      "metadata": {
        "id": "Q5rcqndfi6Cm"
      },
      "execution_count": null,
      "outputs": []
    },
    {
      "cell_type": "code",
      "source": [
        "data.shape"
      ],
      "metadata": {
        "id": "sa4VLdDei81-"
      },
      "execution_count": null,
      "outputs": []
    },
    {
      "cell_type": "code",
      "source": [
        "for ind, linha in data.iterrows():\n",
        "    print(ind, linha[0], linha[1], linha[2])"
      ],
      "metadata": {
        "id": "WQ8_i9MsjBcK"
      },
      "execution_count": null,
      "outputs": []
    },
    {
      "cell_type": "code",
      "source": [
        "for col in data:\n",
        "    print(col)"
      ],
      "metadata": {
        "id": "9eVxM51MjUAM"
      },
      "execution_count": null,
      "outputs": []
    },
    {
      "cell_type": "code",
      "source": [
        "data[\"Idade\"]"
      ],
      "metadata": {
        "id": "pG0Eb_fsjaiI"
      },
      "execution_count": null,
      "outputs": []
    },
    {
      "cell_type": "code",
      "source": [
        "for col in data:\n",
        "    print(data[col])"
      ],
      "metadata": {
        "id": "1Eqj8y8Vji8m"
      },
      "execution_count": null,
      "outputs": []
    }
  ]
}