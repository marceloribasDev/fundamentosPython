{
  "nbformat": 4,
  "nbformat_minor": 0,
  "metadata": {
    "colab": {
      "provenance": [],
      "authorship_tag": "ABX9TyMbmfCVp6gwHeiCxiOIRIvm"
    },
    "kernelspec": {
      "name": "python3",
      "display_name": "Python 3"
    },
    "language_info": {
      "name": "python"
    }
  },
  "cells": [
    {
      "cell_type": "markdown",
      "source": [
        "# Pandas\n"
      ],
      "metadata": {
        "id": "ihWePEgXW27X"
      }
    },
    {
      "cell_type": "code",
      "execution_count": null,
      "metadata": {
        "id": "PQrha1Q5WylG"
      },
      "outputs": [],
      "source": [
        "# Series\n",
        "import pandas as pd\n",
        "\n",
        "pd.Series([1,2,3,4,5])"
      ]
    },
    {
      "cell_type": "code",
      "source": [
        "import pandas as pd\n",
        "minha_serie = pd.Series([1,2,3,4,5], dtype=\"i4\", name = \"Meus numeros\", index = [\"um\", \"dois\",\"tres\",\"quatro\",\"cinco\"])\n",
        "\n",
        "print(minha_serie[\"um\"])\n",
        "print(minha_serie[\"quatro\"])\n",
        "print(minha_serie.shape)"
      ],
      "metadata": {
        "id": "dRSRKSNyXaSR"
      },
      "execution_count": null,
      "outputs": []
    },
    {
      "cell_type": "code",
      "source": [
        "import pandas as pd\n",
        "minha_serie = pd.Series([1,2,3,4,5], dtype=\"i4\", name = \"Meus numeros\", index = [\"um\", \"dois\",\"tres\",\"quatro\",\"cinco\"])\n",
        "\n",
        "minha_serie[\"seis\"] = 6\n",
        "\n",
        "print(minha_serie)"
      ],
      "metadata": {
        "id": "40CsHvlIXmAV"
      },
      "execution_count": null,
      "outputs": []
    },
    {
      "cell_type": "code",
      "source": [
        "import pandas as pd\n",
        "import numpy as np\n",
        "\n",
        "array = np.array([45.4,50.5,65.7,98.7])\n",
        "pesos = pd.Series(array,index=[\"Carlos\",\"Maria\",\"Jose\",\"Fernanda\"])\n",
        "\n",
        "print(pesos)\n",
        "print(type(pesos))\n"
      ],
      "metadata": {
        "id": "YWDnVmiXYKhN"
      },
      "execution_count": null,
      "outputs": []
    }
  ]
}