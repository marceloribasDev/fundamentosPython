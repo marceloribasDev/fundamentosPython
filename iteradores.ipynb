{
  "nbformat": 4,
  "nbformat_minor": 0,
  "metadata": {
    "colab": {
      "provenance": [],
      "authorship_tag": "ABX9TyOIUlvM6LFxUWoKOfnXqI8R",
      "include_colab_link": true
    },
    "kernelspec": {
      "name": "python3",
      "display_name": "Python 3"
    },
    "language_info": {
      "name": "python"
    }
  },
  "cells": [
    {
      "cell_type": "markdown",
      "metadata": {
        "id": "view-in-github",
        "colab_type": "text"
      },
      "source": [
        "<a href=\"https://colab.research.google.com/github/marceloribasDev/fundamentosPython/blob/main/iteradores.ipynb\" target=\"_parent\"><img src=\"https://colab.research.google.com/assets/colab-badge.svg\" alt=\"Open In Colab\"/></a>"
      ]
    },
    {
      "cell_type": "markdown",
      "source": [
        "# Iteradores"
      ],
      "metadata": {
        "id": "8M-wBOuLNd1u"
      }
    },
    {
      "cell_type": "code",
      "execution_count": null,
      "metadata": {
        "id": "kmyYvvuZNc4I"
      },
      "outputs": [],
      "source": [
        "lista = [1,2,3,4]\n",
        "\n",
        "iterador = iter(lista)\n",
        "\n",
        "next(iterador)\n",
        "next(iterador)\n",
        "next(iterador)\n",
        "next(iterador)"
      ]
    },
    {
      "cell_type": "code",
      "source": [
        "print(type(iterador))"
      ],
      "metadata": {
        "id": "U3y-fvOqO836"
      },
      "execution_count": null,
      "outputs": []
    },
    {
      "cell_type": "code",
      "source": [
        "lista = [1,2,3,4]\n",
        "\n",
        "iterador = iter(lista)\n",
        "\n",
        "next(iterador)\n",
        "next(iterador)\n",
        "next(iterador)\n",
        "next(iterador)\n",
        "next(iterador) # Posicao nao existe no iterador --> Erro de execucao"
      ],
      "metadata": {
        "id": "Stv125BfPFI9"
      },
      "execution_count": null,
      "outputs": []
    },
    {
      "cell_type": "code",
      "source": [
        "lista = [1,2,3,4]\n",
        "\n",
        "for item in lista:\n",
        "    print(item)\n",
        "\n",
        "print(1 in lista)    \n",
        "print(1 not in lista)    "
      ],
      "metadata": {
        "id": "uIL-DYb3PKCX"
      },
      "execution_count": null,
      "outputs": []
    },
    {
      "cell_type": "code",
      "source": [
        "class ColecaoNumeros:\n",
        "    def __init__(self, numero_max):\n",
        "        self.max = numero_max\n",
        "    def __iter__(self):\n",
        "        self.numero_atual = 0\n",
        "        return self\n",
        "    \n",
        "    def __next__(self):\n",
        "        if self.numero_atual <= self.max:\n",
        "            retorno = self.numero_atual\n",
        "            self.numero_atual += 1\n",
        "            return retorno\n",
        "        else:\n",
        "            raise StopIteration\n",
        "\n",
        "colecao = ColecaoNumeros(6)     \n",
        "\n",
        "for item in colecao:\n",
        "    print(item)\n",
        "\n",
        "print(2 in colecao)"
      ],
      "metadata": {
        "id": "hzlp2jbFQE-H"
      },
      "execution_count": null,
      "outputs": []
    },
    {
      "cell_type": "code",
      "source": [
        "# Generator\n",
        "\n",
        "def ancora():\n",
        "    yield 1\n",
        "    yield 2\n",
        "    yield 3\n",
        "\n",
        "for item in ancora():\n",
        "    print(item)\n",
        "\n",
        "print(10 in ancora())\n",
        "print(2 in ancora())\n",
        "\n",
        "func = ancora()\n",
        "\n",
        "print(next(func))\n",
        "print(next(func))\n",
        "print(next(func))"
      ],
      "metadata": {
        "id": "dTiMBRmJ3uTY"
      },
      "execution_count": null,
      "outputs": []
    },
    {
      "cell_type": "code",
      "source": [
        "def meu_range(num):\n",
        "    local_num = 0\n",
        "    while local_num < num:\n",
        "        yield local_num\n",
        "        local_num += 1\n",
        "\n",
        "for i in meu_range(10):\n",
        "    print(i)\n"
      ],
      "metadata": {
        "id": "5eWOLu7Q4d-D"
      },
      "execution_count": null,
      "outputs": []
    },
    {
      "cell_type": "code",
      "source": [
        "# Enumerate\n",
        "\n",
        "lista = ['a','b','c']\n",
        "\n",
        "for indice, valor in enumerate(lista):\n",
        "    print(indice, valor)\n"
      ],
      "metadata": {
        "id": "FIJFc6s_4gAW"
      },
      "execution_count": null,
      "outputs": []
    },
    {
      "cell_type": "code",
      "source": [
        "lista = ['a','b','c']\n",
        "\n",
        "for item in enumerate(lista):\n",
        "    print(item)"
      ],
      "metadata": {
        "id": "if8iVTXS5mDX"
      },
      "execution_count": null,
      "outputs": []
    },
    {
      "cell_type": "code",
      "source": [
        "def anos():\n",
        "    yield '2000'\n",
        "    yield '2001'\n",
        "    yield '2002'\n",
        "    yield '2003'\n",
        "    yield '2004'\n",
        "    yield '2005'\n",
        "\n",
        "for indice, valor in enumerate(anos()):\n",
        "    print(indice, valor)"
      ],
      "metadata": {
        "id": "npN0Eoj35wup"
      },
      "execution_count": null,
      "outputs": []
    },
    {
      "cell_type": "code",
      "source": [
        "for indice, valor in enumerate(range(0,20,4)):\n",
        "    print(indice, valor)"
      ],
      "metadata": {
        "id": "xJ8-t-Ty6Gwd"
      },
      "execution_count": null,
      "outputs": []
    },
    {
      "cell_type": "code",
      "source": [
        "# Unpacking de Iteradores\n",
        "\n",
        "produtos = [\n",
        "    ['carro', '200.000'],\n",
        "    ['cadeira', '1.000'],\n",
        "    ['moto', '33.000'],\n",
        "    ['geladeira', '2.000'],\n",
        "    ['armario','1.500']\n",
        "]\n",
        "\n",
        "for produto, valor in produtos:\n",
        "    print(produto, valor)"
      ],
      "metadata": {
        "id": "1B-22_Us6bdy"
      },
      "execution_count": null,
      "outputs": []
    },
    {
      "cell_type": "code",
      "source": [
        "def gen1():\n",
        "    yield [1,2]\n",
        "    yield [3,4]\n",
        "    yield [5,6]\n",
        "\n",
        "for x,y in gen1():\n",
        "    print(x,y)"
      ],
      "metadata": {
        "id": "HmfHuMci7SRJ"
      },
      "execution_count": null,
      "outputs": []
    },
    {
      "cell_type": "code",
      "source": [
        "def gen1():\n",
        "    yield 1\n",
        "    yield 2\n",
        "    yield 3\n",
        "\n",
        "def gen2():\n",
        "    for i in gen1():\n",
        "        yield i, 'a'\n",
        "        yield i, 'b'\n",
        "        yield i, 'c'\n",
        "\n",
        "for x, y in gen2():\n",
        "    print(x, y)\n"
      ],
      "metadata": {
        "id": "l9dRivlI7jIV"
      },
      "execution_count": null,
      "outputs": []
    },
    {
      "cell_type": "code",
      "source": [
        "# Join de iteradores\n",
        "\n",
        "texto1 = 'Ola'\n",
        "\n",
        "print('#'.join(texto1))"
      ],
      "metadata": {
        "id": "bK3WtObg8Ecg"
      },
      "execution_count": null,
      "outputs": []
    },
    {
      "cell_type": "code",
      "source": [
        "lista = ['a','b','c','d']\n",
        "\n",
        "letras = ' '.join(lista)\n",
        "\n",
        "print(letras)\n",
        "\n",
        "letras = ' - '.join(lista)\n",
        "\n",
        "print(letras)\n",
        "\n",
        "letras = '-'.join([str(i) for i in range(10)])\n",
        "\n",
        "print(letras)"
      ],
      "metadata": {
        "id": "ktJk4q7D8a8Z"
      },
      "execution_count": null,
      "outputs": []
    },
    {
      "cell_type": "code",
      "source": [
        "def anos():\n",
        "    for i in range(2020, 2030):\n",
        "        yield str(i)\n",
        "\n",
        "letras = '-'.join(anos())\n",
        "\n",
        "print(letras)"
      ],
      "metadata": {
        "id": "FCSLE8Mf88K8"
      },
      "execution_count": null,
      "outputs": []
    },
    {
      "cell_type": "code",
      "source": [
        "# Tratando Erros\n",
        "\n",
        "lista = [1,2,3]\n",
        "\n",
        "interador = iter(lista)\n",
        "\n",
        "while(True):\n",
        "    try:\n",
        "        print(next(interador))\n",
        "    except:\n",
        "        break;        \n",
        "        "
      ],
      "metadata": {
        "id": "RakFZYoJ9Y7S"
      },
      "execution_count": null,
      "outputs": []
    },
    {
      "cell_type": "markdown",
      "source": [
        "## Exercicios"
      ],
      "metadata": {
        "id": "lOFa9Ej5-NYI"
      }
    },
    {
      "cell_type": "code",
      "source": [
        "# 1 - Crie uma funcao iteravel 'meses' que retorne meses.\n",
        "\n",
        "def meses():\n",
        "    meses = ['jan','fev','mar','abr','mai','jun','jul','ago','set','out','nov','dez']\n",
        "\n",
        "    for i in meses:\n",
        "        yield i\n",
        "\n",
        "\n",
        "for mes in meses():\n",
        "    print(mes)\n"
      ],
      "metadata": {
        "id": "2IPHgdtx-PNH"
      },
      "execution_count": null,
      "outputs": []
    },
    {
      "cell_type": "code",
      "source": [
        "# 2 - Cria um funcao iteravel que receba uma lista de numeros e que retorne\n",
        "# a cada iteracao um item dessa lista multiplicado por dois\n",
        "\n",
        "def multiplica_lista(lista):\n",
        "    for i in lista:\n",
        "        yield i * 2\n",
        "\n",
        "numeros = [1,2,3,4,5]\n",
        "\n",
        "for i in multiplica_lista(numeros):\n",
        "    print(i)"
      ],
      "metadata": {
        "id": "LYMix-7z-bSy"
      },
      "execution_count": null,
      "outputs": []
    },
    {
      "cell_type": "code",
      "source": [
        "# 3 - Crie uma classe iteravel chamada 'Tabuada' que calcule a tabuada de multiplicao do numero recebido\n",
        "# pelo construtor\n",
        "\n",
        "class Tabuada():\n",
        "    def __init__(self, num):\n",
        "        self.num = num\n",
        "    def __iter__(self)    :\n",
        "        self.atual = 0\n",
        "        return self\n",
        "    def __next__(self):\n",
        "        self.atual += 1\n",
        "        if(self.atual == 11)       :\n",
        "            raise StopIteration\n",
        "        return self.atual * self.num\n",
        "\n",
        "tabuado_calc = Tabuada(2)\n",
        "\n",
        "for i in tabuado_calc:\n",
        "    print(i)"
      ],
      "metadata": {
        "id": "xo-PKYt2_5wy"
      },
      "execution_count": null,
      "outputs": []
    },
    {
      "cell_type": "code",
      "source": [
        "# 4 -\n",
        "\n",
        "def meses_enum():\n",
        "    meses = ['jan','fev','mar','abr','mai','jun','jul','ago','set','out','nov','dez']\n",
        "\n",
        "    for i in enumerate(meses):\n",
        "        yield i\n",
        "\n",
        "for indice, mes in meses_enum():\n",
        "    print(indice + 1, mes)"
      ],
      "metadata": {
        "colab": {
          "base_uri": "https://localhost:8080/",
          "height": 0
        },
        "id": "_hGu3NFLEX-L",
        "outputId": "01f23f8e-b5f8-4d10-ace5-6260b5811665"
      },
      "execution_count": 48,
      "outputs": [
        {
          "output_type": "stream",
          "name": "stdout",
          "text": [
            "1 jan\n",
            "2 fev\n",
            "3 mar\n",
            "4 abr\n",
            "5 mai\n",
            "6 jun\n",
            "7 jul\n",
            "8 ago\n",
            "9 set\n",
            "10 out\n",
            "11 nov\n",
            "12 dez\n"
          ]
        }
      ]
    },
    {
      "cell_type": "code",
      "source": [
        "# 5 - \n",
        "\n",
        "def frase(lista):\n",
        "    return '. '.join(lista) + '.'\n",
        "\n",
        "textos = ['Ola, sou o Marcelo', 'Gosto de Python', 'Futuro Engenheiro de Dados']\n",
        "\n",
        "print(frase(textos))"
      ],
      "metadata": {
        "colab": {
          "base_uri": "https://localhost:8080/",
          "height": 0
        },
        "id": "OO0cOelsE3zJ",
        "outputId": "0079b392-e638-43c4-a17b-b612b49ecc20"
      },
      "execution_count": 51,
      "outputs": [
        {
          "output_type": "stream",
          "name": "stdout",
          "text": [
            "Ola, sou o Marcelo. Gosto de Python. Futuro Engenheiro de Dados.\n"
          ]
        }
      ]
    }
  ]
}