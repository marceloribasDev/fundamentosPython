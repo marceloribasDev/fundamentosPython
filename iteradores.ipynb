{
  "nbformat": 4,
  "nbformat_minor": 0,
  "metadata": {
    "colab": {
      "provenance": [],
      "authorship_tag": "ABX9TyMys0KqUIjjaNuMo71HmO1k",
      "include_colab_link": true
    },
    "kernelspec": {
      "name": "python3",
      "display_name": "Python 3"
    },
    "language_info": {
      "name": "python"
    }
  },
  "cells": [
    {
      "cell_type": "markdown",
      "metadata": {
        "id": "view-in-github",
        "colab_type": "text"
      },
      "source": [
        "<a href=\"https://colab.research.google.com/github/marceloribasDev/fundamentosPython/blob/main/iteradores.ipynb\" target=\"_parent\"><img src=\"https://colab.research.google.com/assets/colab-badge.svg\" alt=\"Open In Colab\"/></a>"
      ]
    },
    {
      "cell_type": "markdown",
      "source": [
        "# Iteradores"
      ],
      "metadata": {
        "id": "8M-wBOuLNd1u"
      }
    },
    {
      "cell_type": "code",
      "execution_count": null,
      "metadata": {
        "id": "kmyYvvuZNc4I"
      },
      "outputs": [],
      "source": [
        "lista = [1,2,3,4]\n",
        "\n",
        "iterador = iter(lista)\n",
        "\n",
        "next(iterador)\n",
        "next(iterador)\n",
        "next(iterador)\n",
        "next(iterador)"
      ]
    },
    {
      "cell_type": "code",
      "source": [
        "print(type(iterador))"
      ],
      "metadata": {
        "id": "U3y-fvOqO836"
      },
      "execution_count": null,
      "outputs": []
    },
    {
      "cell_type": "code",
      "source": [
        "lista = [1,2,3,4]\n",
        "\n",
        "iterador = iter(lista)\n",
        "\n",
        "next(iterador)\n",
        "next(iterador)\n",
        "next(iterador)\n",
        "next(iterador)\n",
        "next(iterador) # Posicao nao existe no iterador --> Erro de execucao"
      ],
      "metadata": {
        "id": "Stv125BfPFI9"
      },
      "execution_count": null,
      "outputs": []
    },
    {
      "cell_type": "code",
      "source": [
        "lista = [1,2,3,4]\n",
        "\n",
        "for item in lista:\n",
        "    print(item)\n",
        "\n",
        "print(1 in lista)    \n",
        "print(1 not in lista)    "
      ],
      "metadata": {
        "id": "uIL-DYb3PKCX"
      },
      "execution_count": null,
      "outputs": []
    },
    {
      "cell_type": "code",
      "source": [
        "class ColecaoNumeros:\n",
        "    def __init__(self, numero_max):\n",
        "        self.max = numero_max\n",
        "    def __iter__(self):\n",
        "        self.numero_atual = 0\n",
        "        return self\n",
        "    \n",
        "    def __next__(self):\n",
        "        if self.numero_atual <= self.max:\n",
        "            retorno = self.numero_atual\n",
        "            self.numero_atual += 1\n",
        "            return retorno\n",
        "        else:\n",
        "            raise StopIteration\n",
        "\n",
        "colecao = ColecaoNumeros(6)     \n",
        "\n",
        "for item in colecao:\n",
        "    print(item)\n",
        "\n",
        "print(2 in colecao)"
      ],
      "metadata": {
        "colab": {
          "base_uri": "https://localhost:8080/"
        },
        "id": "hzlp2jbFQE-H",
        "outputId": "0b156f5a-94b7-473e-a806-8092b0c1667b"
      },
      "execution_count": 12,
      "outputs": [
        {
          "output_type": "stream",
          "name": "stdout",
          "text": [
            "0\n",
            "1\n",
            "2\n",
            "3\n",
            "4\n",
            "5\n",
            "6\n",
            "True\n"
          ]
        }
      ]
    }
  ]
}