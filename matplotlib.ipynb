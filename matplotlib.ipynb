{
  "nbformat": 4,
  "nbformat_minor": 0,
  "metadata": {
    "colab": {
      "name": "15_Matplotlib.ipynb",
      "provenance": [],
      "include_colab_link": true
    },
    "kernelspec": {
      "name": "python3",
      "display_name": "Python 3"
    },
    "language_info": {
      "name": "python"
    }
  },
  "cells": [
    {
      "cell_type": "markdown",
      "metadata": {
        "id": "view-in-github",
        "colab_type": "text"
      },
      "source": [
        "<a href=\"https://colab.research.google.com/github/marceloribasDev/fundamentosPython/blob/main/matplotlib.ipynb\" target=\"_parent\"><img src=\"https://colab.research.google.com/assets/colab-badge.svg\" alt=\"Open In Colab\"/></a>"
      ]
    },
    {
      "cell_type": "markdown",
      "source": [
        "# Matplotlib"
      ],
      "metadata": {
        "id": "9kqb4v7e9csz"
      }
    },
    {
      "cell_type": "code",
      "execution_count": null,
      "metadata": {
        "id": "nY_IhweagAC0"
      },
      "outputs": [],
      "source": [
        "import matplotlib.pyplot as plt\n",
        "import numpy as np\n",
        "\n",
        "x = np.array([1,2,3,4,5])\n",
        "y = np.array([2,4,6,8,10])\n",
        "\n",
        "plt.plot(x,y)\n",
        "plt.show()"
      ]
    },
    {
      "cell_type": "code",
      "source": [
        "import matplotlib.pyplot as plt\n",
        "import numpy as np\n",
        "\n",
        "x = np.array([0,1,2,3,4,5])\n",
        "y = x * 2\n",
        "\n",
        "plt.plot(x,y)\n",
        "plt.show()"
      ],
      "metadata": {
        "id": "z_RPbKgbhQ0g"
      },
      "execution_count": null,
      "outputs": []
    },
    {
      "cell_type": "code",
      "source": [
        "import matplotlib.pyplot as plt\n",
        "import numpy as np\n",
        "y = np.array([-2,2,10,4,5])\n",
        "x = np.array([\"segunda\",\"terça\",\"quarta\",\"quinta\",\"sexta\"])\n",
        "plt.plot(x,y)\n",
        "plt.show()"
      ],
      "metadata": {
        "id": "oef_urpgjhkf"
      },
      "execution_count": null,
      "outputs": []
    },
    {
      "cell_type": "code",
      "source": [
        "import matplotlib.pyplot as plt\n",
        "import numpy as np\n",
        "\n",
        "x1 = np.array([1,2,3,4,5])\n",
        "y1 = x1 * 2\n",
        "\n",
        "x2 = np.array([5,10,15])\n",
        "y2 = x2 + 2\n",
        "\n",
        "plt.plot(x1,y1)\n",
        "plt.plot(x2,y2)\n",
        "plt.show()"
      ],
      "metadata": {
        "id": "yDra9-gDl1vQ"
      },
      "execution_count": null,
      "outputs": []
    },
    {
      "cell_type": "code",
      "source": [
        "import matplotlib.pyplot as plt\n",
        "import numpy \n",
        "\n",
        "x1 = numpy.arange(1,10)\n",
        "y1 = x1 * 2\n",
        "\n",
        "x2 = numpy.arange(1,10)\n",
        "y2 = x2 ** 2\n",
        "\n",
        "plt.plot(x1,y1)\n",
        "plt.plot(x2,y2)\n",
        "plt.axis([0,10,-1,50])\n",
        "plt.show()"
      ],
      "metadata": {
        "id": "_S0WTMHwozcb"
      },
      "execution_count": null,
      "outputs": []
    },
    {
      "cell_type": "code",
      "source": [
        "import matplotlib.pyplot as plt\n",
        "import numpy \n",
        "\n",
        "x1 = numpy.arange(1,10)\n",
        "y1 = x1 * 2\n",
        "\n",
        "x2 = numpy.arange(1,10)\n",
        "y2 = x2**2\n",
        "\n",
        "plt.plot(x1,y1)\n",
        "plt.plot(x2,y2)\n",
        "plt.xlim(0,10)\n",
        "plt.ylim(-1,50)\n",
        "plt.show()"
      ],
      "metadata": {
        "id": "HWADSa-xpndz"
      },
      "execution_count": null,
      "outputs": []
    },
    {
      "cell_type": "code",
      "source": [
        "import matplotlib.pyplot as plt\n",
        "import numpy as np\n",
        "\n",
        "x = np.array([1,2,3,4,5])\n",
        "y = x*2\n",
        "\n",
        "plt.xlabel(\"Vendas\")\n",
        "plt.ylabel(\"Temperatura\")\n",
        "\n",
        "plt.plot(x,y)\n",
        "plt.show()\n"
      ],
      "metadata": {
        "id": "anZVif7sr-NQ"
      },
      "execution_count": null,
      "outputs": []
    },
    {
      "cell_type": "code",
      "source": [
        "import matplotlib.pyplot as plt\n",
        "import numpy as np\n",
        "\n",
        "x = np.array([1,2,3,4,5])\n",
        "y = x*2\n",
        "\n",
        "plt.xlabel(\"Vendas\")\n",
        "plt.ylabel(\"Temperatura\")\n",
        "plt.title(\"Gráfico de Vendas\")\n",
        "\n",
        "plt.plot(x,y)\n",
        "plt.show()"
      ],
      "metadata": {
        "id": "Y5tZRDyQuhrY"
      },
      "execution_count": null,
      "outputs": []
    },
    {
      "cell_type": "code",
      "source": [
        "import matplotlib.pyplot as plt\n",
        "import numpy as np\n",
        "\n",
        "x = np.array([1,2,3,4,5])\n",
        "y = x*2\n",
        "\n",
        "plt.xlabel(\"Vendas\")\n",
        "plt.ylabel(\"Temperatura\")\n",
        "plt.title(\"Gráfico de Vendas\", y= 1.1)\n",
        "\n",
        "plt.plot(x,y)\n",
        "plt.show()"
      ],
      "metadata": {
        "id": "LI4Hkk_OurKV"
      },
      "execution_count": null,
      "outputs": []
    },
    {
      "cell_type": "code",
      "source": [
        "import matplotlib.pyplot as plt\n",
        "import numpy as np\n",
        "\n",
        "x = np.array([1,2,3,4,5])\n",
        "y = x*2\n",
        "\n",
        "plt.xlabel(\"Vendas\")\n",
        "plt.ylabel(\"Temperatura\")\n",
        "plt.title(\"Gráfico de Vendas\", y= 0.9, loc=\"left\", x=0.01)\n",
        "\n",
        "plt.plot(x,y)\n",
        "plt.show()"
      ],
      "metadata": {
        "id": "D58lBnkMu0Dz"
      },
      "execution_count": null,
      "outputs": []
    },
    {
      "cell_type": "code",
      "source": [
        "import matplotlib.pyplot as plt\n",
        "import numpy as np\n",
        "\n",
        "font_props = {\n",
        "    'family': 'cmb10',\n",
        "    'color' : 'blue',\n",
        "    'weight': 'bold',\n",
        "    'size'  : 18,\n",
        "}\n",
        "x = np.arange(0,20,0.5)\n",
        "y = x**6\n",
        "\n",
        "plt.xlabel(\"Vendas\", fontdict = font_props)\n",
        "plt.ylabel(\"Temperatura\", fontdict = font_props)\n",
        "plt.title(\"Vendas\", fontdict = font_props)\n",
        "\n",
        "plt.plot(x,y)\n",
        "plt.show()"
      ],
      "metadata": {
        "id": "B5mwiB7DvIzF"
      },
      "execution_count": null,
      "outputs": []
    },
    {
      "cell_type": "code",
      "source": [
        "import matplotlib.pyplot as plt\n",
        "import numpy as np\n",
        "\n",
        "font_props = {\n",
        "    'family': 'DejaVu Sans',\n",
        "    'color' : 'blue',\n",
        "    'weight': 'bold',\n",
        "    'size'  : 16,\n",
        "}\n",
        "\n",
        "font_props2 = {\n",
        "    'family': 'DejaVu Sans',\n",
        "    'color' : 'green',\n",
        "    'weight': 'normal',\n",
        "    'size'  : 18,\n",
        "}\n",
        "x = np.arange(-10,10,0.1)\n",
        "y = x**2\n",
        "\n",
        "plt.text(-5,50, \"É uma parábola\", fontdict = font_props2)\n",
        "\n",
        "plt.xlabel(\"Vendas\", fontdict = font_props)\n",
        "plt.ylabel(\"Temperatura\", fontdict = font_props)\n",
        "plt.title(\"Vendas\", fontdict = font_props)\n",
        "\n",
        "plt.plot(x,y)\n",
        "plt.show()"
      ],
      "metadata": {
        "id": "Iwls4eYBxC5v"
      },
      "execution_count": null,
      "outputs": []
    },
    {
      "cell_type": "code",
      "source": [
        "import matplotlib.pyplot as plt\n",
        "import numpy as np\n",
        "\n",
        "font_props = {\n",
        "    'family': 'DejaVu Sans',\n",
        "    'color' : 'blue',\n",
        "    'weight': 'bold',\n",
        "    'size'  : 16,\n",
        "}\n",
        "\n",
        "font_props2 = {\n",
        "    'family': 'DejaVu Sans',\n",
        "    'color' : 'green',\n",
        "    'weight': 'normal',\n",
        "    'size'  : 10,\n",
        "}\n",
        "x = np.arange(-10,10,0.1)\n",
        "y = x**2\n",
        "\n",
        "\n",
        "plt.figure(figsize=(10,10))\n",
        "\n",
        "plt.text(-5,50, \"É uma parábola\", fontdict = font_props2)\n",
        "\n",
        "plt.xlabel(\"Vendas\", fontdict = font_props)\n",
        "plt.ylabel(\"Temperatura\", fontdict = font_props)\n",
        "plt.title(\"Vendas\", fontdict = font_props)\n",
        "\n",
        "plt.plot(x,y)\n",
        "plt.show()"
      ],
      "metadata": {
        "id": "3tjwDf9HzHr1"
      },
      "execution_count": null,
      "outputs": []
    },
    {
      "cell_type": "code",
      "source": [
        "import matplotlib.pyplot as plt\n",
        "import numpy\n",
        "\n",
        "x = numpy.arange(0,10,0.5)\n",
        "y = x**6\n",
        "\n",
        "plt.plot(x,y, c='Red')\n",
        "\n",
        "plt.xlabel(\"Eixo X\")\n",
        "plt.ylabel(\"Eixo Y\")\n",
        "plt.title(\"A função y = x**6\")\n",
        "plt.show()\n"
      ],
      "metadata": {
        "id": "a3W-1IKz0duI"
      },
      "execution_count": null,
      "outputs": []
    },
    {
      "cell_type": "code",
      "source": [
        "import matplotlib.pyplot as plt\n",
        "import numpy\n",
        "\n",
        "x = numpy.arange(0,10,0.5)\n",
        "y = x**6\n",
        "\n",
        "plt.plot(x,y, color='y')\n",
        "\n",
        "plt.xlabel(\"Eixo X\")\n",
        "plt.ylabel(\"Eixo Y\")\n",
        "plt.title(\"A função y = x**6\")\n",
        "plt.show()"
      ],
      "metadata": {
        "id": "FaT3tvmIiEgt"
      },
      "execution_count": null,
      "outputs": []
    },
    {
      "cell_type": "code",
      "source": [
        "import matplotlib.pyplot as plt\n",
        "import numpy\n",
        "\n",
        "x = numpy.arange(0,10,0.5)\n",
        "y = x**6\n",
        "\n",
        "plt.plot(x,y, c='#e7044c')\n",
        "\n",
        "plt.xlabel(\"Eixo X\")\n",
        "plt.ylabel(\"Eixo Y\")\n",
        "plt.title(\"A função y = x**6\")\n",
        "plt.show()"
      ],
      "metadata": {
        "id": "2fqM1tfuiUzF"
      },
      "execution_count": null,
      "outputs": []
    },
    {
      "cell_type": "code",
      "source": [
        "import matplotlib.pyplot as plt\n",
        "import numpy\n",
        "x = numpy.arange(0,10)\n",
        "y = 2*x + 1\n",
        "\n",
        "plt.xlabel(\"Vendas\")\n",
        "plt.ylabel(\"Temperatura\")\n",
        "plt.title(\"Gráfico de Vendas\")\n",
        "\n",
        "plt.plot(x,y,c='b', linewidth= '5.5')\n",
        "plt.show()"
      ],
      "metadata": {
        "id": "fep9ssIdivN0"
      },
      "execution_count": null,
      "outputs": []
    },
    {
      "cell_type": "code",
      "source": [
        "import matplotlib.pyplot as plt\n",
        "import numpy\n",
        "x = numpy.arange(0,10)\n",
        "y = 5*x + 1\n",
        "\n",
        "plt.xlabel(\"Vendas\")\n",
        "plt.ylabel(\"Temperatura\")\n",
        "plt.title(\"Gráfico de Vendas\")\n",
        "#solid, dashed, dotted, dashdot\n",
        "plt.plot(x,y,c='g', linewidth= '6.5', linestyle='dashdot')\n",
        "plt.show()"
      ],
      "metadata": {
        "id": "wYDR3INfjZya"
      },
      "execution_count": null,
      "outputs": []
    },
    {
      "cell_type": "code",
      "source": [
        "import matplotlib.pyplot as plt\n",
        "import numpy\n",
        "\n",
        "x1 = numpy.arange(0,20,0.5)\n",
        "y1 = numpy.cos(x1)\n",
        "\n",
        "x2 = numpy.arange(0,20,0.5)\n",
        "y2 = numpy.cos(x2)*2\n",
        "\n",
        "plt.xlabel(\"Vendas\")\n",
        "plt.ylabel(\"Temperatura\")\n",
        "plt.title(\"Gráfico de Vendas\")\n",
        "\n",
        "plt.plot(x1,y1, c='g', lw='6.5', ls='dashed', label=\"Vendas\")\n",
        "plt.plot(x2,y2, c='b', lw='3.5', ls='solid', label=\"Temperatura\")\n",
        "plt.legend(loc='upper right')\n",
        "plt.show()\n"
      ],
      "metadata": {
        "id": "ddpGMc4qjo6s"
      },
      "execution_count": null,
      "outputs": []
    },
    {
      "cell_type": "code",
      "source": [
        "import matplotlib.pyplot as plt\n",
        "import numpy\n",
        "\n",
        "x1 = numpy.arange(0,20,0.5)\n",
        "y1 = numpy.cos(x1)\n",
        "\n",
        "x2 = numpy.arange(0,20,0.5)\n",
        "y2 = numpy.cos(x2)*2\n",
        "\n",
        "plt.xlabel(\"Vendas\")\n",
        "plt.ylabel(\"Temperatura\")\n",
        "plt.title(\"Gráfico de Vendas\")\n",
        "\n",
        "plt.plot(x1,y1, c='g', lw='6.5', ls='dashed', label=\"Vendas\", alpha=0.3)\n",
        "plt.plot(x2,y2, c='b', lw='3.5', ls='solid', label=\"Temperatura\")\n",
        "plt.legend(loc='upper right')\n",
        "plt.show()"
      ],
      "metadata": {
        "id": "NWayZZ_GnwPy"
      },
      "execution_count": null,
      "outputs": []
    },
    {
      "cell_type": "code",
      "source": [
        "import matplotlib.pyplot as plt\n",
        "import numpy\n",
        "\n",
        "x = numpy.arange(0,19)\n",
        "y = -x ** 4\n",
        "plt.xlabel(\"Eixo X\")\n",
        "plt.ylabel(\"Eixo Y\")\n",
        "plt.title(\"Gráfico da função y = -x**4\")\n",
        "plt.plot(x,y, c='orange', lw='1.5', marker = '|')\n",
        "plt.show()\n"
      ],
      "metadata": {
        "id": "RkKqPf4loyfR"
      },
      "execution_count": null,
      "outputs": []
    },
    {
      "cell_type": "code",
      "source": [
        "import matplotlib.pyplot as plt\n",
        "import numpy\n",
        "\n",
        "x1 = numpy.arange(0,20,0.5)\n",
        "y1 = numpy.cos(x1)\n",
        "\n",
        "x2 = numpy.arange(0,20,0.5)\n",
        "y2 = numpy.cos(x2)*2\n",
        "\n",
        "plt.xlabel(\"Vendas\")\n",
        "plt.ylabel(\"Temperatura\")\n",
        "plt.title(\"Gráfico de Vendas\")\n",
        "\n",
        "plt.plot(x1,y1, c='g', lw='1.5', ls='dashed', label=\"Vendas\", marker='+')\n",
        "plt.plot(x2,y2, c='b', lw='1', ls='solid', label=\"Temperatura\", marker='D', \n",
        "         markersize='8', markerfacecolor = 'red', markeredgecolor='green' )\n",
        "plt.legend(loc='upper right')\n",
        "plt.show()"
      ],
      "metadata": {
        "id": "us7rKhwvqetg"
      },
      "execution_count": null,
      "outputs": []
    },
    {
      "cell_type": "code",
      "source": [
        "import matplotlib.pyplot as plt\n",
        "import numpy\n",
        "\n",
        "x1 = numpy.arange(1,100)\n",
        "y1 = x1**2\n",
        "\n",
        "plt.plot(x1,y1)\n",
        "plt.grid()\n",
        "plt.show()"
      ],
      "metadata": {
        "id": "DQoPdkWur0Cb"
      },
      "execution_count": null,
      "outputs": []
    },
    {
      "cell_type": "code",
      "source": [
        "import matplotlib.pyplot as plt\n",
        "import numpy\n",
        "\n",
        "x1 = numpy.arange(1,100)\n",
        "y1 = x1**2\n",
        "\n",
        "plt.plot(x1,y1)\n",
        "plt.grid(\n",
        "    c ='b',\n",
        "    ls = 'dotted',\n",
        "    lw = 1.5, \n",
        "    alpha = 0.5\n",
        ")\n",
        "plt.show()"
      ],
      "metadata": {
        "id": "kQlrUQk1uTpH"
      },
      "execution_count": null,
      "outputs": []
    },
    {
      "cell_type": "code",
      "source": [
        "import matplotlib.pyplot as plt\n",
        "import numpy\n",
        "\n",
        "x1 = numpy.arange(1,100)\n",
        "y1 = x1**2\n",
        "plt.plot(x1,y1, color='r')\n",
        "plt.grid(c='b', ls = 'dotted', lw = 1.5)\n",
        "plt.xticks([1,2,3,4,10,20,40,80,120,180])\n",
        "plt.show()"
      ],
      "metadata": {
        "id": "VNNpJHgzu64J"
      },
      "execution_count": null,
      "outputs": []
    },
    {
      "cell_type": "code",
      "source": [
        "import matplotlib.pyplot as plt\n",
        "print(plt.style.available)"
      ],
      "metadata": {
        "id": "0z7J4wKoygEZ"
      },
      "execution_count": null,
      "outputs": []
    },
    {
      "cell_type": "code",
      "source": [
        "import matplotlib.pyplot as plt\n",
        "import numpy\n",
        "x1 = numpy.arange(1,100)\n",
        "y1 = x1**2\n",
        "plt.style.use(\"classic\")\n",
        "plt.grid(c='gray')\n",
        "plt.plot(x1,y1)\n",
        "plt.show()"
      ],
      "metadata": {
        "id": "PQ2V0BPcy9Ek"
      },
      "execution_count": null,
      "outputs": []
    },
    {
      "cell_type": "code",
      "source": [
        "import matplotlib.pyplot as plt\n",
        "import numpy\n",
        "x1 = numpy.arange(0,20,0.5)\n",
        "y1 = x1*2\n",
        "\n",
        "x2 = numpy.arange(0,20,0.5)\n",
        "y2 = numpy.sin(x2)\n",
        "\n",
        "plt.subplot(1,2,1)\n",
        "plt.title(\"A primeira função\")\n",
        "plt.plot(x1,y1, c='g', lw = '6.5', ls='dashed')\n",
        "\n",
        "plt.subplot(1,2,2)\n",
        "plt.title(\"A segunda função\")\n",
        "plt.plot(x2,y2, c='r', lw= '3.5', ls='solid')\n",
        "\n",
        "plt.show()"
      ],
      "metadata": {
        "id": "h3E0qi4wzRYV"
      },
      "execution_count": null,
      "outputs": []
    },
    {
      "cell_type": "code",
      "source": [
        "import matplotlib.pyplot as plt\n",
        "import numpy\n",
        "\n",
        "x1 = numpy.arange(0,20,0.5)\n",
        "y1 = numpy.cos(x1)\n",
        "\n",
        "x2 = numpy.arange(0,20,0.5)\n",
        "y2 = numpy.cos(x1)*2\n",
        "\n",
        "plt.subplot(1,2,1)\n",
        "plt.xlabel(\"Eixo X\")\n",
        "plt.ylabel(\"Eixo Y\")\n",
        "plt.title(\"A primeira função coseno\")\n",
        "plt.plot(x1,y1, c='g', lw='6.5', ls='dashed', label='y=cos(x)')\n",
        "plt.legend(loc='lower right')\n",
        "plt.ylim(-3, 2)\n",
        "\n",
        "\n",
        "plt.subplot(1,2,2)\n",
        "plt.xlabel(\"Eixo X\")\n",
        "plt.ylabel(\"Eixo Y\")\n",
        "plt.title(\"A segunda função coseno\")\n",
        "plt.plot(x2,y2, c='b', lw='3.5', ls='solid', label='y=cos(x)*2')\n",
        "plt.legend(loc='lower right')\n",
        "plt.ylim(-3, 2)\n",
        "\n",
        "plt.tight_layout()\n",
        "plt.show()\n",
        "\n"
      ],
      "metadata": {
        "id": "7JSgI-0i3vbI"
      },
      "execution_count": null,
      "outputs": []
    },
    {
      "cell_type": "code",
      "source": [
        "import matplotlib.pyplot as plt\n",
        "import numpy\n",
        "\n",
        "x1 = numpy.arange(0,20,0.5)\n",
        "y1 = numpy.cos(x1)\n",
        "\n",
        "x2 = numpy.arange(0,20,0.5)\n",
        "y2 = numpy.cos(x1)*2\n",
        "\n",
        "plt.subplot(2,2,1)\n",
        "plt.xlabel(\"Eixo X\")\n",
        "plt.ylabel(\"Eixo Y\")\n",
        "plt.title(\"A primeira função coseno\")\n",
        "plt.plot(x1,y1, c='g', lw='6.5', ls='dashed', label='y=cos(x)')\n",
        "plt.legend(loc='lower right')\n",
        "plt.ylim(-3, 2)\n",
        "\n",
        "plt.subplot(2,2,2)\n",
        "plt.xlabel(\"Eixo X\")\n",
        "plt.ylabel(\"Eixo Y\")\n",
        "plt.title(\"A primeira função coseno\")\n",
        "plt.plot(x1,y1, c='r', lw='6.5', ls='dashed', label='y=cos(x)')\n",
        "plt.legend(loc='lower right')\n",
        "plt.ylim(-3, 2)\n",
        "\n",
        "\n",
        "plt.subplot(2,2,3)\n",
        "plt.xlabel(\"Eixo X\")\n",
        "plt.ylabel(\"Eixo Y\")\n",
        "plt.title(\"A segunda função coseno\")\n",
        "plt.plot(x2,y2, c='b', lw='3.5', ls='solid', label='y=cos(x)*2')\n",
        "plt.legend(loc='lower right')\n",
        "plt.ylim(-3, 2)\n",
        "\n",
        "plt.subplot(2,2,4)\n",
        "plt.xlabel(\"Eixo X\")\n",
        "plt.ylabel(\"Eixo Y\")\n",
        "plt.title(\"A segunda função coseno\")\n",
        "plt.plot(x2,y2, c='y', lw='3.5', ls='solid', label='y=cos(x)*2')\n",
        "plt.legend(loc='lower right')\n",
        "plt.ylim(-3, 2)\n",
        "\n",
        "plt.subplots_adjust(hspace=0.8, wspace=0.4)\n",
        "plt.suptitle(\"Meus gráficos\",y=1.03 )\n",
        "\n",
        "plt.show()"
      ],
      "metadata": {
        "id": "2v7jfTIW6aTP"
      },
      "execution_count": null,
      "outputs": []
    },
    {
      "cell_type": "code",
      "source": [
        "import matplotlib.pyplot as plt\n",
        "import numpy\n",
        "x = numpy.array([1,2,3,4,5])\n",
        "y = numpy.array([2,4,6,8,10])\n",
        "\n",
        "plt.bar(x,y, color='g', width=0.3)\n",
        "plt.show()"
      ],
      "metadata": {
        "id": "_Crdxgt7o3Nu"
      },
      "execution_count": null,
      "outputs": []
    },
    {
      "cell_type": "code",
      "source": [
        "import matplotlib.pyplot as plt\n",
        "import numpy\n",
        "\n",
        "y = numpy.array([1,2,3])\n",
        "x = numpy.array(['Um','Dois','Três'])\n",
        "plt.barh(x,y, color='r' , height=0.4)\n",
        "\n",
        "plt.title(\"Gráfico de Barras\")\n",
        "plt.ylabel(\"Números\")\n",
        "plt.xlabel(\"Valores\")\n",
        "plt.show()"
      ],
      "metadata": {
        "id": "S_lE2HKtpinV"
      },
      "execution_count": null,
      "outputs": []
    },
    {
      "cell_type": "code",
      "source": [
        "import matplotlib.pyplot as plt\n",
        "import numpy\n",
        "\n",
        "valores_esquerda = numpy.arange(0,6)\n",
        "valores_direita = numpy.arange(6,0,-1)\n",
        "ys = numpy.arange(6)\n",
        "\n",
        "plt.barh(ys,valores_esquerda, color='y')\n",
        "plt.barh(ys, -valores_direita, color='c')\n",
        "\n",
        "plt.legend(['a','b'])\n",
        "\n",
        "plt.title(\"Gráfico de barras dividido\")\n",
        "plt.ylabel(\"Valores de Y\")\n",
        "plt.xlabel(\"Valores esquerda vs direita\")\n",
        "plt.show()\n"
      ],
      "metadata": {
        "id": "HDBuc7JMqODT"
      },
      "execution_count": null,
      "outputs": []
    },
    {
      "cell_type": "code",
      "source": [
        "import matplotlib.pyplot as plt\n",
        "import numpy\n",
        "\n",
        "valores_esquerda = numpy.arange(0,6)\n",
        "valores_direita = numpy.arange(6,0,-1)\n",
        "xs = numpy.arange(6)\n",
        "\n",
        "plt.bar(xs,valores_esquerda, color='y')\n",
        "plt.bar(xs, -valores_direita, color='c')\n",
        "\n",
        "plt.legend(['a','b'])\n",
        "\n",
        "plt.title(\"Gráfico de barras dividido\")\n",
        "plt.ylabel(\"Valores de Y\")\n",
        "plt.xlabel(\"Valores esquerda vs direita\")\n",
        "plt.show()"
      ],
      "metadata": {
        "id": "k-5D8A03sdPa"
      },
      "execution_count": null,
      "outputs": []
    },
    {
      "cell_type": "code",
      "source": [
        "import matplotlib.pyplot as plt\n",
        "import numpy as np\n",
        "\n",
        "xs = np.array(['Janeiro','Fevereiro','Março','Abril'])\n",
        "time1 = np.array([5,10,15,20])\n",
        "time2 = np.array([1,2,4,9])\n",
        "time3 = np.array([5,8,2,2])\n",
        "time4 = np.array([6,7,2,1])\n",
        "\n",
        "plt.bar(xs,time1, color='red', width =0.5)\n",
        "plt.bar(xs,time2,bottom=time1, color='yellow', width =0.5)\n",
        "plt.bar(xs,time3,bottom=time2+time1  ,color='orange', width =0.5)\n",
        "plt.bar(xs,time4,bottom=time1+time2+time3 , color='green', width =0.5)\n",
        "\n",
        "plt.title(\"Rendimento no Esporte\")\n",
        "plt.xlabel(\"Meses\")\n",
        "plt.ylabel(\"Gols\")\n",
        "plt.legend(['Time1','Time2','Time3','Time4'])\n",
        "plt.show()\n"
      ],
      "metadata": {
        "id": "QT9AFSsrydDy"
      },
      "execution_count": null,
      "outputs": []
    },
    {
      "cell_type": "code",
      "source": [
        "import matplotlib.pyplot as plt\n",
        "import numpy as np\n",
        "\n",
        "xs = np.array(['Janeiro','Fevereiro','Março','Abril'])\n",
        "time1 = np.array([5,10,15,20])\n",
        "time2 = np.array([1,2,4,9])\n",
        "time3 = np.array([5,8,2,2])\n",
        "time4 = np.array([6,7,2,1])\n",
        "\n",
        "plt.barh(xs,time1, color='red')\n",
        "plt.barh(xs,time2,left=time1, color='yellow')\n",
        "plt.barh(xs,time3,left=time2+time1  ,color='orange')\n",
        "plt.barh(xs,time4,left=time1+time2+time3 , color='green')\n",
        "plt.xlim(0,40)\n",
        "plt.title(\"Rendimento no Esporte\")\n",
        "plt.xlabel(\"Meses\")\n",
        "plt.ylabel(\"Gols\")\n",
        "plt.legend(['Time1','Time2','Time3','Time4'])\n",
        "plt.show()"
      ],
      "metadata": {
        "id": "wwM3DleMzIRI"
      },
      "execution_count": null,
      "outputs": []
    },
    {
      "cell_type": "code",
      "source": [
        "import matplotlib.pyplot as plt\n",
        "import numpy as np\n",
        "\n",
        "alturas = np.array([1.75, 1.50, 1.46, 1.65, 1.74, 1.76, 1.80, 1.73, 1.89, 1.90, 1.61])\n",
        "plt.hist(alturas, color='r', edgeColor='b', bins = [1.40, 1.50, 1.60, 1.70, 1.80, 1.90,2])\n",
        "plt.xlabel(\"Alturas\")\n",
        "plt.ylabel(\"Ocorrências\")\n",
        "plt.title(\"Distribuição das alturas\")\n",
        "plt.show()"
      ],
      "metadata": {
        "id": "NFIxwUmizpSN"
      },
      "execution_count": null,
      "outputs": []
    },
    {
      "cell_type": "code",
      "source": [
        "import matplotlib.pyplot as plt\n",
        "import numpy as np\n",
        "\n",
        "alturas = np.array([1.75, 1.50, 1.46, 1.65, 1.74, 1.76, 1.80, 1.73, 1.89, 1.90, 1.61])\n",
        "plt.hist(alturas, color='r', edgeColor='b', bins = 7)\n",
        "plt.xlabel(\"Alturas\")\n",
        "plt.ylabel(\"Ocorrências\")\n",
        "plt.title(\"Distribuição das alturas\")\n",
        "plt.show()"
      ],
      "metadata": {
        "id": "MS5lCTVx4V1F"
      },
      "execution_count": null,
      "outputs": []
    },
    {
      "cell_type": "code",
      "source": [
        "import matplotlib.pyplot as plt\n",
        "import numpy as np\n",
        "\n",
        "alturas = np.array([1.75, 1.50, 1.46, 1.65, 1.74, 1.76, 1.80, 1.73, 1.89, 1.90, 1.61])\n",
        "plt.hist(alturas, color='r', edgeColor='b')\n",
        "plt.xlabel(\"Alturas\")\n",
        "plt.ylabel(\"Ocorrências\")\n",
        "plt.title(\"Distribuição das alturas\")\n",
        "plt.show()"
      ],
      "metadata": {
        "id": "UvNm9arv4-u9"
      },
      "execution_count": null,
      "outputs": []
    },
    {
      "cell_type": "code",
      "source": [
        "import matplotlib.pyplot as plt\n",
        "import numpy as np\n",
        "\n",
        "alturas_mundiais = np.random.normal(loc=175, scale=11, size=1000)/100\n",
        "alturas_brasil = np.random.normal(loc=185, scale=9, size=1000)/100\n",
        "\n",
        "plt.hist(alturas_mundiais, bins=7, color='b', edgeColor='g', alpha=0.5)\n",
        "plt.hist(alturas_brasil, bins=7, color='y', edgeColor= 'r', alpha=0.5)\n",
        "plt.legend([\"Altura Mundial\",\"Altura Brasil\"])\n",
        "plt.xlabel(\"Alturas\")\n",
        "plt.ylabel(\"Ocorrências\")\n",
        "plt.title(\"Distriubição de alturas\")\n",
        "plt.show()\n"
      ],
      "metadata": {
        "id": "PLTeMQ3Y5Rsd"
      },
      "execution_count": null,
      "outputs": []
    },
    {
      "cell_type": "code",
      "source": [
        "import matplotlib.pyplot as plt\n",
        "import numpy as np\n",
        "\n",
        "classes = np.array(['Classe baixa','Classe média','Classe alta'])\n",
        "dados = np.array([10,30,80])\n",
        "cores = np.array(['r','g','y'])\n",
        "plt.pie(dados, labels=classes, colors=cores)\n",
        "plt.title(\"Distribuição de Classes\")\n",
        "plt.legend(classes, loc='upper right')\n",
        "plt.show()"
      ],
      "metadata": {
        "id": "nFcGWukpANRN"
      },
      "execution_count": null,
      "outputs": []
    },
    {
      "cell_type": "code",
      "source": [
        "import matplotlib.pyplot as plt\n",
        "import numpy as np\n",
        "\n",
        "classes = np.array(['Classe baixa','Classe média','Classe alta'])\n",
        "dados = np.array([10,30,80])\n",
        "cores = np.array(['r','g','y'])\n",
        "\n",
        "plt.figure(figsize=(7,7))\n",
        "plt.pie(dados, labels=classes, colors=cores, shadow=True, startangle=90)\n",
        "plt.title(\"Distribuição de Classes\")\n",
        "plt.legend(classes, loc='upper right')\n",
        "plt.show()"
      ],
      "metadata": {
        "id": "PhsjBj9jAQ22"
      },
      "execution_count": null,
      "outputs": []
    },
    {
      "cell_type": "code",
      "source": [
        "import matplotlib.pyplot as plt\n",
        "import numpy as np\n",
        "\n",
        "classes = np.array(['Classe baixa','Classe média','Classe alta'])\n",
        "dados = np.array([10,30,80])\n",
        "cores = np.array(['r','g','y'])\n",
        "offsets = np.array([0.2,0.03,0.03])\n",
        "\n",
        "plt.figure(figsize=(7,7))\n",
        "plt.pie(dados, labels=classes, colors=cores, shadow=True, startangle=90, radius=0.8, explode=offsets)\n",
        "plt.title(\"Distribuição de Classes\")\n",
        "plt.legend(classes, loc='upper right')\n",
        "plt.show()"
      ],
      "metadata": {
        "id": "W8LCiTfKAakf"
      },
      "execution_count": null,
      "outputs": []
    },
    {
      "cell_type": "code",
      "source": [
        "import matplotlib.pyplot as plt\n",
        "import numpy as np\n",
        "\n",
        "classes = np.array(['Classe baixa','Classe média','Classe alta'])\n",
        "dados = np.array([10,30,80])\n",
        "cores = np.array(['r','g','y'])\n",
        "offsets = np.array([0.2,0.03,0.03])\n",
        "\n",
        "edge_props = {\n",
        "    'linewidth' : 1,\n",
        "    'edgecolor' : 'black' ,\n",
        "    'linestyle' : 'solid'\n",
        "}\n",
        "\n",
        "plt.figure(figsize=(7,7))\n",
        "plt.pie(dados, labels=classes, colors=cores, shadow=True, startangle=90, radius=0.8, explode=offsets, wedgeprops=edge_props)\n",
        "plt.title(\"Distribuição de Classes\")\n",
        "plt.legend(classes, loc='upper right')\n",
        "plt.show()"
      ],
      "metadata": {
        "id": "QZFzgZ1CCEBl"
      },
      "execution_count": null,
      "outputs": []
    },
    {
      "cell_type": "code",
      "source": [
        "import matplotlib.pyplot as plt\n",
        "import numpy as np\n",
        "\n",
        "classes = np.array(['Classe baixa','Classe média','Classe alta'])\n",
        "dados = np.array([10,30,80])\n",
        "cores = np.array(['r','g','y'])\n",
        "offsets = np.array([0.2,0.03,0.03])\n",
        "\n",
        "edge_props = {\n",
        "    'linewidth' : 1,\n",
        "    'edgecolor' : 'black' ,\n",
        "    'linestyle' : 'solid'\n",
        "}\n",
        "\n",
        "text_props = {\n",
        "    'color' : 'black',\n",
        "    'style' : 'oblique' ,\n",
        "    'size' : 8\n",
        "}\n",
        "\n",
        "plt.figure(figsize=(7,7))\n",
        "plt.pie(dados, labels=classes, colors=cores, shadow=True, startangle=90, \n",
        "        radius=0.8, explode=offsets, wedgeprops=edge_props, textprops = text_props, autopct= lambda value: '%.2f %s' % (value, '%') )\n",
        "\n",
        "\n",
        "plt.title(\"Distribuição de Classes\")\n",
        "plt.legend(classes, loc='upper right')\n",
        "plt.show()"
      ],
      "metadata": {
        "id": "hgJUTQvlE2mw"
      },
      "execution_count": null,
      "outputs": []
    },
    {
      "cell_type": "code",
      "source": [
        "import matplotlib.pyplot as plt\n",
        "import numpy as np\n",
        "\n",
        "\n",
        "x = numpy.arange(0,10)\n",
        "y = numpy.array([1,4,9,12,4,7,4,9,2,1])\n",
        "\n",
        "plt.scatter(x,y)\n",
        "plt.title(\"Gráfico de Dispersão\")\n",
        "plt.show()"
      ],
      "metadata": {
        "id": "-8w1VwUEE646"
      },
      "execution_count": null,
      "outputs": []
    },
    {
      "cell_type": "code",
      "source": [
        "import matplotlib.pyplot as plt\n",
        "import numpy \n",
        "\n",
        "plt.style.use('bmh')\n",
        "x = numpy.arange(0,10)\n",
        "y = numpy.array([1,4,9,12,4,7,4,9,2,1])\n",
        "\n",
        "cores = numpy.array(['r','r','g','b','b','r','y','brown','pink','gray'])\n",
        "\n",
        "plt.scatter(x,y, c=cores, marker='o', s=200)\n",
        "plt.title(\"Gráfico de Dispersão\")\n",
        "plt.show()"
      ],
      "metadata": {
        "id": "vLqUCqzjUzM7"
      },
      "execution_count": null,
      "outputs": []
    },
    {
      "cell_type": "code",
      "source": [
        "import matplotlib.pyplot as plt\n",
        "import numpy \n",
        "\n",
        "plt.style.use('bmh')\n",
        "x = numpy.arange(0,10)\n",
        "y = numpy.array([1,4,9,12,4,7,4,9,2,1])\n",
        "z = numpy.array([100,50,150,200,100,120,130,80,90,144])\n",
        "\n",
        "cores = numpy.array(['r','r','g','b','b','r','y','brown','pink','gray'])\n",
        "\n",
        "plt.scatter(x,y, c=cores, marker='o', s=z)\n",
        "plt.title(\"Gráfico de Dispersão\")\n",
        "plt.show()"
      ],
      "metadata": {
        "id": "X17PEEtTVPze"
      },
      "execution_count": null,
      "outputs": []
    },
    {
      "cell_type": "code",
      "source": [
        "import matplotlib.pyplot as plt\n",
        "import numpy\n",
        "\n",
        "plt.style.use('bmh')\n",
        "x = numpy.arange(0,10)\n",
        "y = numpy.array([1,4,9,12,4,7,4,9,2,1])\n",
        "\n",
        "z = numpy.array([25,50,75])\n",
        "z_indices = numpy.array([0,2,1,1,1,0,2,1,1,0])\n",
        "\n",
        "cores = numpy.array(['r','g','b'])\n",
        "z_cores = numpy.array([0,1,1,0,1,2,2,0,1,0])\n",
        "\n",
        "plt.scatter(x,y, c=cores[z_cores], marker='o', s=z[z_indices])\n",
        "plt.title(\"Gráfico de Dispersão\")\n",
        "plt.show()"
      ],
      "metadata": {
        "id": "FsGDqo6QWBZR"
      },
      "execution_count": null,
      "outputs": []
    },
    {
      "cell_type": "code",
      "source": [
        "import matplotlib.pyplot as plt\n",
        "import numpy \n",
        "\n",
        "plt.style.use('bmh')\n",
        "x = numpy.arange(0,10)\n",
        "y = numpy.array([1,4,9,12,4,7,4,9,2,1])\n",
        "\n",
        "z = numpy.array([125,250,375])\n",
        "z_indices = numpy.array([0,2,1,1,1,0,2,1,1,0])\n",
        "\n",
        "cores = numpy.array(['r','g','b'])\n",
        "z_cores = numpy.array([0,1,1,0,1,2,2,0,1,0])\n",
        "\n",
        "z_bordas = numpy.array([2,0,0,1,2,1,1,1,2,1])\n",
        "\n",
        "plt.scatter(x,y, c=cores[z_cores], marker='^', s=z[z_indices], edgecolors=cores[z_bordas], linewidth=2)\n",
        "plt.title(\"Gráfico de Dispersão\")\n",
        "plt.show()"
      ],
      "metadata": {
        "id": "LQixi7k8W9f5"
      },
      "execution_count": null,
      "outputs": []
    },
    {
      "cell_type": "code",
      "source": [
        "import matplotlib.pyplot as plt\n",
        "import numpy \n",
        "\n",
        "plt.style.use('bmh')\n",
        "x = numpy.arange(0,10)\n",
        "y = numpy.array([1,4,9,12,4,7,4,9,2,1])\n",
        "\n",
        "x1 = numpy.arange(3,13)\n",
        "y1 = numpy.array([4,4,5,12,4,7,7,9,9,1])\n",
        "\n",
        "\n",
        "z = numpy.array([125,250,375])\n",
        "z_indices = numpy.array([0,2,1,1,1,0,2,1,1,0])\n",
        "\n",
        "cores = numpy.array(['r','g','b'])\n",
        "z_cores = numpy.array([0,1,1,0,1,2,2,0,1,0])\n",
        "\n",
        "z_bordas = numpy.array([2,0,0,1,2,1,1,1,2,1])\n",
        "\n",
        "plt.scatter(x,y, c=cores[z_cores], marker='^', s=z[z_indices], edgecolors=cores[z_bordas], linewidth=2)\n",
        "\n",
        "plt.scatter(x1,y1, c=cores[z_cores], marker='o', s=z[z_indices], edgecolors=cores[z_bordas], linewidth=2)\n",
        "\n",
        "\n",
        "plt.title(\"Gráfico de Dispersão\")\n",
        "plt.show()"
      ],
      "metadata": {
        "id": "-cYm_l8KXIis"
      },
      "execution_count": null,
      "outputs": []
    },
    {
      "cell_type": "code",
      "source": [
        "import matplotlib.pyplot as plt\n",
        "import numpy \n",
        "plt.style.use(\"default\")\n",
        "\n",
        "x = np.random.randint(10,size=10)\n",
        "y = np.random.randint(10,size=10)\n",
        "x2 = np.random.randint(10,size=10)\n",
        "y2 = np.random.randint(10,size=10)\n",
        "\n",
        "plt.scatter(x,y, label='Meninos')\n",
        "plt.scatter(x2,y2, label='Meninas')\n",
        "plt.title(\"Gráfico de Dispersão\")\n",
        "plt.legend()\n",
        "plt.show()\n",
        "\n"
      ],
      "metadata": {
        "id": "YTt4egtfZeAX"
      },
      "execution_count": null,
      "outputs": []
    },
    {
      "cell_type": "code",
      "source": [
        "# 1 - Plote a função y = 5x + 1. Onde x vai de 0 até 10. Use marcadores do tipo \n",
        "# quadrado. Informe o título do gráfico e  eixos x e y. \n",
        "# De as cores  vermelho aos marcadores e azul a reta."
      ],
      "metadata": {
        "id": "MEUrsyQ6a2Nl"
      },
      "execution_count": null,
      "outputs": []
    },
    {
      "cell_type": "code",
      "source": [
        "import matplotlib.pyplot as plt\n",
        "import numpy as np\n",
        "x = np.arange(0,11)\n",
        "y = 5*x + 1\n",
        "\n",
        "plt.title(\"Função y = 5x + 1\")\n",
        "plt.ylabel(\"Eixo y\")\n",
        "plt.xlabel(\"Eixo x\")\n",
        "\n",
        "plt.plot(x,y,c='b',mfc='r',marker='s')\n",
        "plt.show()"
      ],
      "metadata": {
        "id": "B4mnan8qV2R7"
      },
      "execution_count": null,
      "outputs": []
    },
    {
      "cell_type": "code",
      "source": [
        "# 2 - Plote os dados a seguir em um gráfico com linhas:\n",
        "# Valor do real em relação ao dólar (dados fictícios):\n",
        "# 2016: 3,15\n",
        "# 2017: 3,26\n",
        "# 2018: 3,88\n",
        "# 2019: 4,30\n",
        "# 2020: 5,33\n",
        "# 2021: 5,45\n",
        "# 2022: 5,39"
      ],
      "metadata": {
        "id": "lSVg35MBTYc6"
      },
      "execution_count": null,
      "outputs": []
    },
    {
      "cell_type": "code",
      "source": [
        "import matplotlib.pyplot as plt\n",
        "import numpy as np\n",
        "x = np.arange(2016,2023)\n",
        "y = np.array([3.15,3.26,3.88,4.3,5.33,5.45,5.39])\n",
        "plt.xlabel(\"Ano\")\n",
        "plt.ylabel(\"Valor do real (R$)\")\n",
        "plt.title(\"Variação Dolar vs Real\")\n",
        "plt.plot(x,y,c='b', mfc='b', marker='o')\n",
        "\n",
        "plt.show()"
      ],
      "metadata": {
        "id": "Jz4ur3kxWmHq"
      },
      "execution_count": null,
      "outputs": []
    },
    {
      "cell_type": "code",
      "source": [
        "#  3 - Faça o mesmo exercício anterior em um gráfico de barras, \n",
        "# compare os resultados."
      ],
      "metadata": {
        "id": "WnzLSz8PTYkP"
      },
      "execution_count": null,
      "outputs": []
    },
    {
      "cell_type": "code",
      "source": [
        "import matplotlib.pyplot as plt\n",
        "import numpy as np\n",
        "x = np.arange(2016,2023)\n",
        "y = np.array([3.15,3.26,3.88,4.3,5.33,5.45,5.39])\n",
        "plt.xlabel(\"Ano\")\n",
        "plt.ylabel(\"Valor do real (R$)\")\n",
        "plt.title(\"Variação Dolar vs Real\")\n",
        "plt.bar(x,y,color='b')\n",
        "\n",
        "plt.show()"
      ],
      "metadata": {
        "id": "B45__jZ7X_Y6"
      },
      "execution_count": null,
      "outputs": []
    },
    {
      "cell_type": "code",
      "source": [
        "# 4 - Com base nos dados do exercício anterior. \n",
        "# Plote dois gráficos separados (um no lado do outro). \n",
        "# Em um você ira plotar o gráfico da variação dólar X real. \n",
        "# E no outro ira plotar o PIB per Capita do Brasil, nos mesmo anos. \n",
        "# Escolha o tipo de gráfico que preferir.\n",
        "# Dados do PIB (dados fictícios):\n",
        "# 2016: 8710,50 USD\n",
        "# 2017: 9928,50\n",
        "# 2018: 9151,58\n",
        "# 2019: 8897,29\n",
        "# 2020: 6795,32\n",
        "# 2021: 7500,21\n",
        "# 2022: 7542,34"
      ],
      "metadata": {
        "id": "7B_yNU2tTYo8"
      },
      "execution_count": null,
      "outputs": []
    },
    {
      "cell_type": "code",
      "source": [
        "import matplotlib.pyplot as plt\n",
        "import numpy as np\n",
        "x = np.arange(2016,2023)\n",
        "y1 = np.array([3.15,3.26,3.88,4.3,5.33,5.45,5.39])\n",
        "y2 = np.array([8710.5,9928.5,9151.58,8897.29,6795.32,7500.21,7542.34])\n",
        "\n",
        "plt.subplot(1,2,1)\n",
        "plt.xlabel(\"Ano\")\n",
        "plt.ylabel(\"Valor do Real (R$)\")\n",
        "plt.title(\"Variação Dolar X Real\")\n",
        "plt.bar(x,y1,color='b', width=0.7)\n",
        "\n",
        "plt.subplot(1,2,2)\n",
        "plt.xlabel(\"Ano\")\n",
        "plt.ylabel(\"Pib per Capita\")\n",
        "plt.title(\"Variação do Pib per Capita\")\n",
        "plt.plot(x,y2,c='y', lw='3.5', ls='solid', marker='s', mfc='g')\n",
        "\n",
        "plt.suptitle(\"Situação Econômica do Brasil\", y=1.05)\n",
        "plt.tight_layout()\n",
        "plt.show()\n",
        "\n"
      ],
      "metadata": {
        "id": "Hi3Sq-p-YYK8"
      },
      "execution_count": null,
      "outputs": []
    },
    {
      "cell_type": "code",
      "source": [
        "# 5 - Crie um gráfico de pizza para representar os seguintes dados:\n",
        "# Destino de exportações do Brasil:\n",
        "# \tChina: 30% Estados Unidos: 40% Europa: 20% Outros: 10%"
      ],
      "metadata": {
        "id": "V7M-cb16TYwX"
      },
      "execution_count": null,
      "outputs": []
    },
    {
      "cell_type": "code",
      "source": [
        "import matplotlib.pyplot as plt\n",
        "import numpy as np\n",
        "\n",
        "paises = np.array(['China','Estados Unidos','Europa','Outros'])\n",
        "dados = np.array([30,40,20,10])\n",
        "cores = np.array(['blue','y','g','brown'])\n",
        "\n",
        "edge_props ={\n",
        "    'linewidth' : 1,\n",
        "    'edgecolor' : 'black',\n",
        "    'linestyle' : 'dashed'\n",
        "}\n",
        "\n",
        "text_props = {\n",
        "    'color': 'black',\n",
        "    'style': 'oblique',\n",
        "    'size' : 13,\n",
        "    'family' : 'sans'\n",
        "}\n",
        "\n",
        "plt.figure(figsize=(7,7))\n",
        "plt.pie(dados,labels=paises,colors = cores, shadow=True, radius=0.8, startangle=90, autopct = lambda value : '%.2f %s' % (value,'%'), \n",
        "        textprops = text_props)\n",
        "plt.legend(paises, loc=\"lower right\")\n",
        "plt.tight_layout()\n",
        "plt.show()"
      ],
      "metadata": {
        "id": "u9J1gKWQaxJE"
      },
      "execution_count": null,
      "outputs": []
    },
    {
      "cell_type": "code",
      "source": [
        "# 6 - Crie um gráfico de dispersão mostrando a relação entre peso e altura \n",
        "# de algumas pessoas. Analise os resultados\n",
        "#\tDados altura = [1.60, 1.62, 1.65, 1.65, 1.70, 1.70, 1.75, 1.80. 1.85, \n",
        "  1.90, 1.90, 1.95, 2.00] \n",
        "#\tDados peso = [60, 61, 64, 67, 70, 73, 75, 80. 85, 90, 85, 1.95, 2.00]"
      ],
      "metadata": {
        "id": "sX2fE53nTZgH"
      },
      "execution_count": null,
      "outputs": []
    },
    {
      "cell_type": "code",
      "source": [
        "import matplotlib.pyplot as plt\n",
        "import numpy as np\n",
        "x = np.array([1.60, 1.62, 1.65, 1.65, 1.70, 1.70, 1.75, 1.80, 1.85,1.90, 1.90, 1.95, 2.00])\n",
        "y = np.array([60, 61, 64, 67, 70, 73, 75, 80, 85, 90, 85, 95, 100])\n",
        "\n",
        "ax = plt.scatter(x,y)\n",
        "plt.title(\"Relação Peso e Altura\")\n",
        "plt.xlabel(\"Altura\")\n",
        "plt.ylabel(\"Peso\")\n",
        "plt.show()\n"
      ],
      "metadata": {
        "id": "GQBFFx-Bd6AS"
      },
      "execution_count": null,
      "outputs": []
    },
    {
      "cell_type": "code",
      "source": [],
      "metadata": {
        "id": "aGRfmTbceb8E"
      },
      "execution_count": null,
      "outputs": []
    }
  ]
}