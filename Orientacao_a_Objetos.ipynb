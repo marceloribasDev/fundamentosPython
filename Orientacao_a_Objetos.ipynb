{
  "nbformat": 4,
  "nbformat_minor": 0,
  "metadata": {
    "colab": {
      "provenance": [],
      "authorship_tag": "ABX9TyNcRcHHTtoWjeAuoufCFLXc",
      "include_colab_link": true
    },
    "kernelspec": {
      "name": "python3",
      "display_name": "Python 3"
    },
    "language_info": {
      "name": "python"
    }
  },
  "cells": [
    {
      "cell_type": "markdown",
      "metadata": {
        "id": "view-in-github",
        "colab_type": "text"
      },
      "source": [
        "<a href=\"https://colab.research.google.com/github/marceloribasDev/fundamentosPython/blob/main/Orientacao_a_Objetos.ipynb\" target=\"_parent\"><img src=\"https://colab.research.google.com/assets/colab-badge.svg\" alt=\"Open In Colab\"/></a>"
      ]
    },
    {
      "cell_type": "markdown",
      "source": [
        "# Classes"
      ],
      "metadata": {
        "id": "tgyXraHlWZIv"
      }
    },
    {
      "cell_type": "code",
      "execution_count": null,
      "metadata": {
        "id": "p1V9JG481D2a"
      },
      "outputs": [],
      "source": [
        "# Class\n",
        "\n",
        "class Teste:\n",
        "    pass\n",
        "\n",
        "minha_classe = Teste()\n",
        "\n",
        "print(type(minha_classe))"
      ]
    },
    {
      "cell_type": "code",
      "source": [
        "# Construtor eh um metodo padrao quando a classe eh instanciada\n",
        "\n",
        "class Nossa_Classe:\n",
        "    def __init__(self): # Construtor padrao\n",
        "        print(\"Eu existo\")\n",
        "\n",
        "var = Nossa_Classe()\n",
        "\n",
        "print(type(var))"
      ],
      "metadata": {
        "id": "JFF9X_9dSNlh"
      },
      "execution_count": null,
      "outputs": []
    },
    {
      "cell_type": "code",
      "source": [
        "class Pessoa:\n",
        "    def __init__(self, nome, idade):\n",
        "        self.nome = nome\n",
        "        self.idade = idade\n",
        "        print('Pessoa com nome %s e idade %d criada' % (nome, idade))\n",
        "\n",
        "pessoa1 = Pessoa('Marcelo', 33)\n",
        "pessoa2 = Pessoa('Arthur', 0)\n",
        "\n",
        "print(pessoa1.nome)"
      ],
      "metadata": {
        "id": "dd0i1UViTYZD"
      },
      "execution_count": null,
      "outputs": []
    },
    {
      "cell_type": "code",
      "source": [
        "class Pessoa:\n",
        "    def __init__(self, nome, idade):\n",
        "        self.nome = nome\n",
        "        self.idade = idade\n",
        "        print('Pessoa com nome %s e idade %d criada' % (nome, idade))\n",
        "\n",
        "pessoa1 = Pessoa('Marcelo', 33)\n",
        "\n",
        "pessoa1.nome = 'Arthur'\n",
        "\n",
        "print(pessoa1.nome)"
      ],
      "metadata": {
        "id": "wyGdWmIZU1uF"
      },
      "execution_count": null,
      "outputs": []
    },
    {
      "cell_type": "code",
      "source": [
        "class Pessoa:\n",
        "    especie = 'Homo Sapiens'\n",
        "    num_pessoas = 0\n",
        "    def __init__(self, nome, idade):\n",
        "        self.nome = nome\n",
        "        self.idade = idade\n",
        "        Pessoa.num_pessoas += 1\n",
        "\n",
        "pessoa1 = Pessoa('Marcelo', 33)        \n",
        "pessoa2 = Pessoa('Arthur', 0)\n",
        "pessoa3 = Pessoa('Jully', 31)\n",
        "\n",
        "print(pessoa1.especie)\n",
        "print(pessoa2.especie)\n",
        "\n",
        "print(Pessoa.num_pessoas)"
      ],
      "metadata": {
        "id": "pqW3zbAJVC0b"
      },
      "execution_count": null,
      "outputs": []
    },
    {
      "cell_type": "markdown",
      "source": [
        "# Funcoes de Classes"
      ],
      "metadata": {
        "id": "W-7UVC7WWVWP"
      }
    },
    {
      "cell_type": "code",
      "source": [
        "class Pessoa:\n",
        "    def __init__(self, nome, idade):\n",
        "        self.nome = nome\n",
        "        self.idade = idade\n",
        "    def print_nome(self):\n",
        "        print('Meu nome eh %s ' % (self.nome))\n",
        "\n",
        "pessoa1 = Pessoa('Marcelo', '34')                \n",
        "pessoa2 = Pessoa('Arthur', '0') \n",
        "\n",
        "pessoa1.print_nome()\n",
        "pessoa2.print_nome()\n"
      ],
      "metadata": {
        "colab": {
          "base_uri": "https://localhost:8080/"
        },
        "id": "CHmfPhwJWQoP",
        "outputId": "671b8834-c539-4757-c59b-51598b30ef5e"
      },
      "execution_count": 17,
      "outputs": [
        {
          "output_type": "stream",
          "name": "stdout",
          "text": [
            "Meu nome eh Marcelo \n",
            "Meu nome eh Arthur \n"
          ]
        }
      ]
    },
    {
      "cell_type": "code",
      "source": [
        "class Pessoa:\n",
        "    def __init__(self, nome, idade):\n",
        "        self.nome = nome\n",
        "        self.idade = idade\n",
        "    def print_string(self,nome):\n",
        "        print('Meu nome eh %s ' % (nome))\n",
        "    def print_nome(self):\n",
        "        self.print_string(self.nome)\n",
        "\n",
        "pessoa1 = Pessoa('Marcelo', '34')                \n",
        "pessoa2 = Pessoa('Arthur', '0') \n",
        "\n",
        "pessoa1.print_nome()\n",
        "pessoa2.print_nome()\n"
      ],
      "metadata": {
        "colab": {
          "base_uri": "https://localhost:8080/"
        },
        "id": "0v55A1L-keZF",
        "outputId": "ffd9dc1e-ce61-4c6b-cd57-8323be2ef984"
      },
      "execution_count": 20,
      "outputs": [
        {
          "output_type": "stream",
          "name": "stdout",
          "text": [
            "Meu nome eh Marcelo \n",
            "Meu nome eh Arthur \n"
          ]
        }
      ]
    },
    {
      "cell_type": "code",
      "source": [
        "class Pessoa:\n",
        "    def __init__(self, nome):\n",
        "        self.nome = nome\n",
        "    def insere_idade(self, idade):\n",
        "        self.idade = idade\n",
        "\n",
        "marcelo = Pessoa('Marcelo')\n",
        "marcelo.insere_idade(33)\n",
        "\n",
        "print(marcelo.idade)"
      ],
      "metadata": {
        "colab": {
          "base_uri": "https://localhost:8080/"
        },
        "id": "fuugAJrClJVg",
        "outputId": "e360ace8-e1dc-4a79-a2e1-dca440a22bb5"
      },
      "execution_count": 24,
      "outputs": [
        {
          "output_type": "stream",
          "name": "stdout",
          "text": [
            "33\n"
          ]
        }
      ]
    },
    {
      "cell_type": "code",
      "source": [
        "# Classes com uma Classe como atributo\n",
        "\n"
      ],
      "metadata": {
        "id": "xirr5oi8viGF"
      },
      "execution_count": null,
      "outputs": []
    }
  ]
}