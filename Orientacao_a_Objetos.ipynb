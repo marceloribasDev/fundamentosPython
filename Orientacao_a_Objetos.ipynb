{
  "nbformat": 4,
  "nbformat_minor": 0,
  "metadata": {
    "colab": {
      "provenance": [],
      "authorship_tag": "ABX9TyMMv9H8/BUeD9miZ8Kp433K",
      "include_colab_link": true
    },
    "kernelspec": {
      "name": "python3",
      "display_name": "Python 3"
    },
    "language_info": {
      "name": "python"
    }
  },
  "cells": [
    {
      "cell_type": "markdown",
      "metadata": {
        "id": "view-in-github",
        "colab_type": "text"
      },
      "source": [
        "<a href=\"https://colab.research.google.com/github/marceloribasDev/fundamentosPython/blob/main/Orientacao_a_Objetos.ipynb\" target=\"_parent\"><img src=\"https://colab.research.google.com/assets/colab-badge.svg\" alt=\"Open In Colab\"/></a>"
      ]
    },
    {
      "cell_type": "markdown",
      "source": [
        "# Classes"
      ],
      "metadata": {
        "id": "tgyXraHlWZIv"
      }
    },
    {
      "cell_type": "code",
      "execution_count": null,
      "metadata": {
        "id": "p1V9JG481D2a"
      },
      "outputs": [],
      "source": [
        "# Class\n",
        "\n",
        "class Teste:\n",
        "    pass\n",
        "\n",
        "minha_classe = Teste()\n",
        "\n",
        "print(type(minha_classe))"
      ]
    },
    {
      "cell_type": "code",
      "source": [
        "# Construtor eh um metodo padrao quando a classe eh instanciada\n",
        "\n",
        "class Nossa_Classe:\n",
        "    def __init__(self): # Construtor padrao\n",
        "        print(\"Eu existo\")\n",
        "\n",
        "var = Nossa_Classe()\n",
        "\n",
        "print(type(var))"
      ],
      "metadata": {
        "id": "JFF9X_9dSNlh"
      },
      "execution_count": null,
      "outputs": []
    },
    {
      "cell_type": "code",
      "source": [
        "class Pessoa:\n",
        "    def __init__(self, nome, idade):\n",
        "        self.nome = nome\n",
        "        self.idade = idade\n",
        "        print('Pessoa com nome %s e idade %d criada' % (nome, idade))\n",
        "\n",
        "pessoa1 = Pessoa('Marcelo', 33)\n",
        "pessoa2 = Pessoa('Arthur', 0)\n",
        "\n",
        "print(pessoa1.nome)"
      ],
      "metadata": {
        "id": "dd0i1UViTYZD"
      },
      "execution_count": null,
      "outputs": []
    },
    {
      "cell_type": "code",
      "source": [
        "class Pessoa:\n",
        "    def __init__(self, nome, idade):\n",
        "        self.nome = nome\n",
        "        self.idade = idade\n",
        "        print('Pessoa com nome %s e idade %d criada' % (nome, idade))\n",
        "\n",
        "pessoa1 = Pessoa('Marcelo', 33)\n",
        "\n",
        "pessoa1.nome = 'Arthur'\n",
        "\n",
        "print(pessoa1.nome)"
      ],
      "metadata": {
        "id": "wyGdWmIZU1uF"
      },
      "execution_count": null,
      "outputs": []
    },
    {
      "cell_type": "code",
      "source": [
        "class Pessoa:\n",
        "    especie = 'Homo Sapiens'\n",
        "    num_pessoas = 0\n",
        "    def __init__(self, nome, idade):\n",
        "        self.nome = nome\n",
        "        self.idade = idade\n",
        "        Pessoa.num_pessoas += 1\n",
        "\n",
        "pessoa1 = Pessoa('Marcelo', 33)        \n",
        "pessoa2 = Pessoa('Arthur', 0)\n",
        "pessoa3 = Pessoa('Jully', 31)\n",
        "\n",
        "print(pessoa1.especie)\n",
        "print(pessoa2.especie)\n",
        "\n",
        "print(Pessoa.num_pessoas)"
      ],
      "metadata": {
        "id": "pqW3zbAJVC0b"
      },
      "execution_count": null,
      "outputs": []
    },
    {
      "cell_type": "markdown",
      "source": [
        "# Funcoes de Classes"
      ],
      "metadata": {
        "id": "W-7UVC7WWVWP"
      }
    },
    {
      "cell_type": "code",
      "source": [
        "class Pessoa:\n",
        "    def __init__(self, nome, idade):\n",
        "        self.nome = nome\n",
        "        self.idade = idade\n",
        "    def print_nome(self):\n",
        "        print('Meu nome eh %s ' % (self.nome))\n",
        "\n",
        "pessoa1 = Pessoa('Marcelo', '34')                \n",
        "pessoa2 = Pessoa('Arthur', '0') \n",
        "\n",
        "pessoa1.print_nome()\n",
        "pessoa2.print_nome()\n"
      ],
      "metadata": {
        "colab": {
          "base_uri": "https://localhost:8080/"
        },
        "id": "CHmfPhwJWQoP",
        "outputId": "671b8834-c539-4757-c59b-51598b30ef5e"
      },
      "execution_count": 17,
      "outputs": [
        {
          "output_type": "stream",
          "name": "stdout",
          "text": [
            "Meu nome eh Marcelo \n",
            "Meu nome eh Arthur \n"
          ]
        }
      ]
    },
    {
      "cell_type": "code",
      "source": [
        "class Pessoa:\n",
        "    def __init__(self, nome, idade):\n",
        "        self.nome = nome\n",
        "        self.idade = idade\n",
        "    def print_string(self,nome):\n",
        "        print('Meu nome eh %s ' % (nome))\n",
        "    def print_nome(self):\n",
        "        self.print_string(self.nome)\n",
        "\n",
        "pessoa1 = Pessoa('Marcelo', '34')                \n",
        "pessoa2 = Pessoa('Arthur', '0') \n",
        "\n",
        "pessoa1.print_nome()\n",
        "pessoa2.print_nome()\n"
      ],
      "metadata": {
        "colab": {
          "base_uri": "https://localhost:8080/"
        },
        "id": "0v55A1L-keZF",
        "outputId": "ffd9dc1e-ce61-4c6b-cd57-8323be2ef984"
      },
      "execution_count": 20,
      "outputs": [
        {
          "output_type": "stream",
          "name": "stdout",
          "text": [
            "Meu nome eh Marcelo \n",
            "Meu nome eh Arthur \n"
          ]
        }
      ]
    },
    {
      "cell_type": "code",
      "source": [
        "class Pessoa:\n",
        "    def __init__(self, nome):\n",
        "        self.nome = nome\n",
        "    def insere_idade(self, idade):\n",
        "        self.idade = idade\n",
        "\n",
        "marcelo = Pessoa('Marcelo')\n",
        "marcelo.insere_idade(33)\n",
        "\n",
        "print(marcelo.idade)"
      ],
      "metadata": {
        "colab": {
          "base_uri": "https://localhost:8080/"
        },
        "id": "fuugAJrClJVg",
        "outputId": "e360ace8-e1dc-4a79-a2e1-dca440a22bb5"
      },
      "execution_count": 24,
      "outputs": [
        {
          "output_type": "stream",
          "name": "stdout",
          "text": [
            "33\n"
          ]
        }
      ]
    },
    {
      "cell_type": "code",
      "source": [
        "# Classes com uma Classe como atributo\n",
        "\n",
        "class Tipo1:\n",
        "    def __init__(self, outra_classe):\n",
        "        self.outra_classe = outra_classe\n",
        "\n",
        "class Tipo2:\n",
        "    numero = 10\n",
        "\n",
        "\n",
        "class2 = Tipo2\n",
        "class1 = Tipo1(class2)\n",
        "\n",
        "print(class1.outra_classe.numero)"
      ],
      "metadata": {
        "colab": {
          "base_uri": "https://localhost:8080/"
        },
        "id": "xirr5oi8viGF",
        "outputId": "81c03b46-aec5-4494-8439-562ceceaa86e"
      },
      "execution_count": 26,
      "outputs": [
        {
          "output_type": "stream",
          "name": "stdout",
          "text": [
            "10\n"
          ]
        }
      ]
    },
    {
      "cell_type": "code",
      "source": [
        "class Exemplo:\n",
        "    def __init__(self):\n",
        "        pass\n",
        "\n",
        "lista = []        \n",
        "\n",
        "ex1 = Exemplo()\n",
        "ex2 = Exemplo()\n",
        "\n",
        "lista.append(ex1)\n",
        "lista.append(ex2)\n",
        "\n",
        "print(lista[1])"
      ],
      "metadata": {
        "colab": {
          "base_uri": "https://localhost:8080/"
        },
        "id": "lo0y_V05woJ0",
        "outputId": "49635684-0ff9-49b8-8a2e-4fd552ba87d3"
      },
      "execution_count": 28,
      "outputs": [
        {
          "output_type": "stream",
          "name": "stdout",
          "text": [
            "<__main__.Exemplo object at 0x7f804aef06a0>\n"
          ]
        }
      ]
    },
    {
      "cell_type": "markdown",
      "source": [
        "# Herenca"
      ],
      "metadata": {
        "id": "scgSEFMS0Rq0"
      }
    },
    {
      "cell_type": "code",
      "source": [
        "class FormaGeometrica:\n",
        "    def __init__(self,altura,largura):\n",
        "        self.altura = altura\n",
        "        self.largura = largura\n",
        "\n",
        "class Quadrado(FormaGeometrica):\n",
        "    pass\n",
        "\n",
        "class Triangulo(FormaGeometrica):\n",
        "    pass  \n",
        "\n",
        "quadrado = Quadrado(100,50)    \n",
        "triangulo = Triangulo(10,30)\n",
        "\n",
        "print(quadrado.altura)\n",
        "print(triangulo.largura)"
      ],
      "metadata": {
        "colab": {
          "base_uri": "https://localhost:8080/"
        },
        "id": "GvTzRXvM0TwU",
        "outputId": "00438197-cc51-4e2f-9339-49e71444ee11"
      },
      "execution_count": 29,
      "outputs": [
        {
          "output_type": "stream",
          "name": "stdout",
          "text": [
            "100\n",
            "30\n"
          ]
        }
      ]
    },
    {
      "cell_type": "code",
      "source": [
        "class FormaGeometrica:\n",
        "    def __init__(self,altura,largura):\n",
        "        self.altura = altura\n",
        "        self.largura = largura\n",
        "\n",
        "class Quadrado(FormaGeometrica):\n",
        "    lado = 10\n",
        "\n",
        "class Triangulo(FormaGeometrica):\n",
        "    angulo = 30\n",
        "\n",
        "quadrado = Quadrado(100,50)    \n",
        "triangulo = Triangulo(10,45)\n",
        "\n",
        "print(quadrado.altura)\n",
        "print(quadrado.lado)\n",
        "print(triangulo.largura)\n",
        "print(triangulo.angulo)"
      ],
      "metadata": {
        "colab": {
          "base_uri": "https://localhost:8080/"
        },
        "id": "AVBVO5Iq2ytc",
        "outputId": "e02b08a6-750c-4939-e458-c23a34ffb25f"
      },
      "execution_count": 31,
      "outputs": [
        {
          "output_type": "stream",
          "name": "stdout",
          "text": [
            "100\n",
            "10\n",
            "45\n",
            "30\n"
          ]
        }
      ]
    },
    {
      "cell_type": "code",
      "source": [
        "class FormaGeometrica:\n",
        "    def __init__(self,altura,largura):\n",
        "        self.altura = altura\n",
        "        self.largura = largura\n",
        "    def funcao_herdada(self):\n",
        "        print('Sou herdada')\n",
        "\n",
        "class Quadrado(FormaGeometrica):\n",
        "    pass\n",
        "\n",
        "class Triangulo(FormaGeometrica):\n",
        "    pass  \n",
        "\n",
        "quadrado = Quadrado(100,50)    \n",
        "triangulo = Triangulo(10,30)\n",
        "\n",
        "print(quadrado.altura)\n",
        "quadrado.funcao_herdada()\n",
        "print(triangulo.largura)\n",
        "triangulo.funcao_herdada()"
      ],
      "metadata": {
        "colab": {
          "base_uri": "https://localhost:8080/"
        },
        "id": "w0lO0HfA3P9R",
        "outputId": "6434c049-4132-4d83-d35b-9e012a477720"
      },
      "execution_count": 33,
      "outputs": [
        {
          "output_type": "stream",
          "name": "stdout",
          "text": [
            "100\n",
            "Sou herdada\n",
            "30\n",
            "Sou herdada\n"
          ]
        }
      ]
    }
  ]
}