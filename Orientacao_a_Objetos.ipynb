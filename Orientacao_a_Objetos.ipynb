{
  "nbformat": 4,
  "nbformat_minor": 0,
  "metadata": {
    "colab": {
      "provenance": [],
      "authorship_tag": "ABX9TyOsFUOkKeDssVISdxP3N7Zf",
      "include_colab_link": true
    },
    "kernelspec": {
      "name": "python3",
      "display_name": "Python 3"
    },
    "language_info": {
      "name": "python"
    }
  },
  "cells": [
    {
      "cell_type": "markdown",
      "metadata": {
        "id": "view-in-github",
        "colab_type": "text"
      },
      "source": [
        "<a href=\"https://colab.research.google.com/github/marceloribasDev/fundamentosPython/blob/main/Orientacao_a_Objetos.ipynb\" target=\"_parent\"><img src=\"https://colab.research.google.com/assets/colab-badge.svg\" alt=\"Open In Colab\"/></a>"
      ]
    },
    {
      "cell_type": "markdown",
      "source": [
        "# Classes"
      ],
      "metadata": {
        "id": "tgyXraHlWZIv"
      }
    },
    {
      "cell_type": "code",
      "execution_count": null,
      "metadata": {
        "id": "p1V9JG481D2a"
      },
      "outputs": [],
      "source": [
        "# Class\n",
        "\n",
        "class Teste:\n",
        "    pass\n",
        "\n",
        "minha_classe = Teste()\n",
        "\n",
        "print(type(minha_classe))"
      ]
    },
    {
      "cell_type": "code",
      "source": [
        "# Construtor eh um metodo padrao quando a classe eh instanciada\n",
        "\n",
        "class Nossa_Classe:\n",
        "    def __init__(self): # Construtor padrao\n",
        "        print(\"Eu existo\")\n",
        "\n",
        "var = Nossa_Classe()\n",
        "\n",
        "print(type(var))"
      ],
      "metadata": {
        "id": "JFF9X_9dSNlh"
      },
      "execution_count": null,
      "outputs": []
    },
    {
      "cell_type": "code",
      "source": [
        "class Pessoa:\n",
        "    def __init__(self, nome, idade):\n",
        "        self.nome = nome\n",
        "        self.idade = idade\n",
        "        print('Pessoa com nome %s e idade %d criada' % (nome, idade))\n",
        "\n",
        "pessoa1 = Pessoa('Marcelo', 33)\n",
        "pessoa2 = Pessoa('Arthur', 0)\n",
        "\n",
        "print(pessoa1.nome)"
      ],
      "metadata": {
        "id": "dd0i1UViTYZD"
      },
      "execution_count": null,
      "outputs": []
    },
    {
      "cell_type": "code",
      "source": [
        "class Pessoa:\n",
        "    def __init__(self, nome, idade):\n",
        "        self.nome = nome\n",
        "        self.idade = idade\n",
        "        print('Pessoa com nome %s e idade %d criada' % (nome, idade))\n",
        "\n",
        "pessoa1 = Pessoa('Marcelo', 33)\n",
        "\n",
        "pessoa1.nome = 'Arthur'\n",
        "\n",
        "print(pessoa1.nome)"
      ],
      "metadata": {
        "id": "wyGdWmIZU1uF"
      },
      "execution_count": null,
      "outputs": []
    },
    {
      "cell_type": "code",
      "source": [
        "class Pessoa:\n",
        "    especie = 'Homo Sapiens'\n",
        "    num_pessoas = 0\n",
        "    def __init__(self, nome, idade):\n",
        "        self.nome = nome\n",
        "        self.idade = idade\n",
        "        Pessoa.num_pessoas += 1\n",
        "\n",
        "pessoa1 = Pessoa('Marcelo', 33)        \n",
        "pessoa2 = Pessoa('Arthur', 0)\n",
        "pessoa3 = Pessoa('Jully', 31)\n",
        "\n",
        "print(pessoa1.especie)\n",
        "print(pessoa2.especie)\n",
        "\n",
        "print(Pessoa.num_pessoas)"
      ],
      "metadata": {
        "id": "pqW3zbAJVC0b"
      },
      "execution_count": null,
      "outputs": []
    },
    {
      "cell_type": "markdown",
      "source": [
        "# Funcoes de Classes"
      ],
      "metadata": {
        "id": "W-7UVC7WWVWP"
      }
    },
    {
      "cell_type": "code",
      "source": [
        "class Pessoa:\n",
        "    def __init__(self, nome, idade):\n",
        "        self.nome = nome\n",
        "        self.idade = idade\n",
        "    def print_nome(self):\n",
        "        print('Meu nome eh %s ' % (self.nome))\n",
        "\n",
        "pessoa1 = Pessoa('Marcelo', '34')                \n",
        "pessoa2 = Pessoa('Arthur', '0') \n",
        "\n",
        "pessoa1.print_nome()\n",
        "pessoa2.print_nome()\n"
      ],
      "metadata": {
        "id": "CHmfPhwJWQoP"
      },
      "execution_count": null,
      "outputs": []
    },
    {
      "cell_type": "code",
      "source": [
        "class Pessoa:\n",
        "    def __init__(self, nome, idade):\n",
        "        self.nome = nome\n",
        "        self.idade = idade\n",
        "    def print_string(self,nome):\n",
        "        print('Meu nome eh %s ' % (nome))\n",
        "    def print_nome(self):\n",
        "        self.print_string(self.nome)\n",
        "\n",
        "pessoa1 = Pessoa('Marcelo', '34')                \n",
        "pessoa2 = Pessoa('Arthur', '0') \n",
        "\n",
        "pessoa1.print_nome()\n",
        "pessoa2.print_nome()\n"
      ],
      "metadata": {
        "id": "0v55A1L-keZF"
      },
      "execution_count": null,
      "outputs": []
    },
    {
      "cell_type": "code",
      "source": [
        "class Pessoa:\n",
        "    def __init__(self, nome):\n",
        "        self.nome = nome\n",
        "    def insere_idade(self, idade):\n",
        "        self.idade = idade\n",
        "\n",
        "marcelo = Pessoa('Marcelo')\n",
        "marcelo.insere_idade(33)\n",
        "\n",
        "print(marcelo.idade)"
      ],
      "metadata": {
        "id": "fuugAJrClJVg"
      },
      "execution_count": null,
      "outputs": []
    },
    {
      "cell_type": "code",
      "source": [
        "# Classes com uma Classe como atributo\n",
        "\n",
        "class Tipo1:\n",
        "    def __init__(self, outra_classe):\n",
        "        self.outra_classe = outra_classe\n",
        "\n",
        "class Tipo2:\n",
        "    numero = 10\n",
        "\n",
        "\n",
        "class2 = Tipo2\n",
        "class1 = Tipo1(class2)\n",
        "\n",
        "print(class1.outra_classe.numero)"
      ],
      "metadata": {
        "id": "xirr5oi8viGF"
      },
      "execution_count": null,
      "outputs": []
    },
    {
      "cell_type": "code",
      "source": [
        "class Exemplo:\n",
        "    def __init__(self):\n",
        "        pass\n",
        "\n",
        "lista = []        \n",
        "\n",
        "ex1 = Exemplo()\n",
        "ex2 = Exemplo()\n",
        "\n",
        "lista.append(ex1)\n",
        "lista.append(ex2)\n",
        "\n",
        "print(lista[1])"
      ],
      "metadata": {
        "id": "lo0y_V05woJ0"
      },
      "execution_count": null,
      "outputs": []
    },
    {
      "cell_type": "markdown",
      "source": [
        "# Herenca"
      ],
      "metadata": {
        "id": "scgSEFMS0Rq0"
      }
    },
    {
      "cell_type": "code",
      "source": [
        "class FormaGeometrica:\n",
        "    def __init__(self,altura,largura):\n",
        "        self.altura = altura\n",
        "        self.largura = largura\n",
        "\n",
        "class Quadrado(FormaGeometrica):\n",
        "    pass\n",
        "\n",
        "class Triangulo(FormaGeometrica):\n",
        "    pass  \n",
        "\n",
        "quadrado = Quadrado(100,50)    \n",
        "triangulo = Triangulo(10,30)\n",
        "\n",
        "print(quadrado.altura)\n",
        "print(triangulo.largura)"
      ],
      "metadata": {
        "id": "GvTzRXvM0TwU"
      },
      "execution_count": null,
      "outputs": []
    },
    {
      "cell_type": "code",
      "source": [
        "class FormaGeometrica:\n",
        "    def __init__(self,altura,largura):\n",
        "        self.altura = altura\n",
        "        self.largura = largura\n",
        "\n",
        "class Quadrado(FormaGeometrica):\n",
        "    lado = 10\n",
        "\n",
        "class Triangulo(FormaGeometrica):\n",
        "    angulo = 30\n",
        "\n",
        "quadrado = Quadrado(100,50)    \n",
        "triangulo = Triangulo(10,45)\n",
        "\n",
        "print(quadrado.altura)\n",
        "print(quadrado.lado)\n",
        "print(triangulo.largura)\n",
        "print(triangulo.angulo)"
      ],
      "metadata": {
        "id": "AVBVO5Iq2ytc"
      },
      "execution_count": null,
      "outputs": []
    },
    {
      "cell_type": "code",
      "source": [
        "class FormaGeometrica:\n",
        "    def __init__(self,altura,largura):\n",
        "        self.altura = altura\n",
        "        self.largura = largura\n",
        "    def funcao_herdada(self):\n",
        "        print('Sou herdada')\n",
        "\n",
        "class Quadrado(FormaGeometrica):\n",
        "    pass\n",
        "\n",
        "class Triangulo(FormaGeometrica):\n",
        "    pass  \n",
        "\n",
        "quadrado = Quadrado(100,50)    \n",
        "triangulo = Triangulo(10,30)\n",
        "\n",
        "print(quadrado.altura)\n",
        "quadrado.funcao_herdada()\n",
        "print(triangulo.largura)\n",
        "triangulo.funcao_herdada()"
      ],
      "metadata": {
        "id": "w0lO0HfA3P9R"
      },
      "execution_count": null,
      "outputs": []
    },
    {
      "cell_type": "code",
      "source": [
        "# Overrides: Sobreposicao de funcoes\n",
        "\n",
        "class ClassePai:\n",
        "    def __init__(self):\n",
        "        print(\"Sou a classe pai\")\n",
        "\n",
        "class ClasseFilha1(ClassePai):\n",
        "    def __init__(self):\n",
        "        print('Sou a classe filha 1')\n",
        "\n",
        "class ClasseFilha2(ClassePai):\n",
        "    def __init__(self):\n",
        "        print('Sou a classe filha 2')\n",
        "\n",
        "pai = ClassePai()\n",
        "filha1 = ClasseFilha1()        \n",
        "filha2 = ClasseFilha2()"
      ],
      "metadata": {
        "id": "fPiQI-8h5kmY"
      },
      "execution_count": null,
      "outputs": []
    },
    {
      "cell_type": "code",
      "source": [
        "class FormaGeometrica:\n",
        "    def __init__(self, altura, largura):\n",
        "        self.altura = altura\n",
        "        self.largura = largura\n",
        "\n",
        "class Quadrado(FormaGeometrica):\n",
        "    def __init__(self, altura, largura, atributo_quadrado):\n",
        "        FormaGeometrica.__init__(self, altura, largura)\n",
        "        self.atributo_quadrado = atributo_quadrado\n",
        "\n",
        "class Triangulo(FormaGeometrica):\n",
        "    def __init__(self, altura, largura, atributo_triangulo):\n",
        "        FormaGeometrica.__init__(self, altura, largura)\n",
        "        self.atributo_triangulo = atributo_triangulo\n",
        "\n",
        "quadrado = Quadrado(100,200,'quadrado')\n",
        "triangulo = Triangulo(200,300,'triagulo')\n",
        "\n",
        "print(quadrado.altura)\n",
        "print(quadrado.atributo_quadrado)\n",
        "\n",
        "print(triangulo.altura)\n",
        "print(triangulo.atributo_triangulo)"
      ],
      "metadata": {
        "id": "fCR6wXvC6SIM"
      },
      "execution_count": null,
      "outputs": []
    },
    {
      "cell_type": "code",
      "source": [
        "# Heranca Multipla"
      ],
      "metadata": {
        "id": "26P9yCrwCMxl"
      },
      "execution_count": null,
      "outputs": []
    },
    {
      "cell_type": "code",
      "source": [
        "class Base1:\n",
        "    def __init__(self, atributo1):\n",
        "        self.atributo1 = atributo1\n",
        "    def Base1_print(self):\n",
        "        print('Base1')\n",
        "\n",
        "class Base2:\n",
        "    def __init__(self, atributo2):\n",
        "        self.atributo2 = atributo2\n",
        "    def Base2_print(self):\n",
        "        print('Base2')\n",
        "\n",
        "class MinhaClasse(Base1, Base2):\n",
        "    def __init__(self):\n",
        "        Base1.__init__(self,10)\n",
        "        Base2.__init__(self,20)\n",
        "\n",
        "var = MinhaClasse()        \n",
        "\n",
        "print(var.atributo1)\n",
        "print(var.atributo2)\n",
        "\n",
        "var.Base1_print()\n",
        "var.Base2_print()\n"
      ],
      "metadata": {
        "id": "njAc7yNafqgD"
      },
      "execution_count": null,
      "outputs": []
    },
    {
      "cell_type": "markdown",
      "source": [
        "# Modificadores de Acesso"
      ],
      "metadata": {
        "id": "m2iupVkjhFwx"
      }
    },
    {
      "cell_type": "code",
      "source": [
        "class Segredo:\n",
        "    def __init__(self):\n",
        "        self.__segredo = 'senha123'\n",
        "\n",
        "senha = Segredo()\n",
        "print(seg.__erro) # Gera erro, pois quando temos __* fica inacessivel"
      ],
      "metadata": {
        "id": "V0JRw-92hKyp"
      },
      "execution_count": null,
      "outputs": []
    },
    {
      "cell_type": "code",
      "source": [
        "class Segredo:\n",
        "    def __init__(self):\n",
        "        self.__segredo = 'senha123'\n",
        "    def __printa_segredo(self):\n",
        "        print(self.__segredo)\n",
        "    def printa_segredo(self):\n",
        "        self.__printa_segredo()\n",
        "    \n",
        "\n",
        "senha = Segredo()\n",
        "senha.printa_segredo()\n",
        "# senha.__printa_segredo() # gera erro"
      ],
      "metadata": {
        "id": "ihgEFSzwidGj"
      },
      "execution_count": null,
      "outputs": []
    },
    {
      "cell_type": "code",
      "source": [
        "class Pessoa:\n",
        "    def __init__(self, nome):\n",
        "        self.__nome = nome\n",
        "\n",
        "    def get_nome(self):\n",
        "        print('Pega o nome')\n",
        "        return self.__nome\n",
        "        \n",
        "    def set_nome(self, nome):\n",
        "        if len(nome) > 0:\n",
        "            print('Setando o nome')\n",
        "            self.__nome = nome\n",
        "\n",
        "\n",
        "    nome = property(get_nome, set_nome)\n",
        "\n",
        "pess = Pessoa('Maria')\n",
        "print(pess.nome)\n",
        "\n",
        "pess.nome = \"Marcos\"\n",
        "print(pess.nome)"
      ],
      "metadata": {
        "id": "AbCtOYmVs9HE"
      },
      "execution_count": null,
      "outputs": []
    },
    {
      "cell_type": "code",
      "source": [
        "class Pessoa:\n",
        "    def __init__(self, nome):\n",
        "        self.__nome = nome\n",
        "\n",
        "    def get_nome(self):\n",
        "        print('Pega o nome')\n",
        "        return self.__nome\n",
        "        \n",
        "    def set_nome(self, nome):\n",
        "        if len(nome) > 0:\n",
        "            print('Setando o nome')\n",
        "            self.__nome = nome\n",
        "\n",
        "\n",
        "    nome = property(fset = set_nome) # fset, fget, fdel\n",
        "\n",
        "pess = Pessoa('Maria')\n",
        "pess.nome = \"Marcos\"\n"
      ],
      "metadata": {
        "id": "2QcIOnvot0ZT"
      },
      "execution_count": null,
      "outputs": []
    },
    {
      "cell_type": "code",
      "source": [
        "class Natural:\n",
        "    def __init__(self, numero):\n",
        "        self.__numero = numero\n",
        "    @property\n",
        "    def numero(self):\n",
        "        print('pegando numero')\n",
        "        return self.__numero\n",
        "    @numero.setter\n",
        "    def numero(self,value):\n",
        "        if value >= 0:\n",
        "            self.__numero = value\n",
        "            print('setando numero para ', value)\n",
        "\n",
        "\n",
        "numero = Natural(10)\n",
        "\n",
        "numero.numero = -20\n",
        "\n",
        "print(numero.numero)"
      ],
      "metadata": {
        "id": "tUkCEjYluLyd"
      },
      "execution_count": null,
      "outputs": []
    },
    {
      "cell_type": "code",
      "source": [
        "class Pessoa:\n",
        "    def __init__(self, nome):\n",
        "        self.__nome = nome\n",
        "    @property\n",
        "    def nome(self):\n",
        "        return self.__nome.capitalize()\n",
        "    @nome.setter\n",
        "    def nome(self, value):\n",
        "        if (len(value) != 0):\n",
        "            self.__nome = value\n",
        "\n",
        "pessoa = Pessoa('marcelo')\n",
        "print(pessoa.nome)\n",
        "pessoa.nome = 'arthur'\n",
        "print(pessoa.nome)\n",
        "pessoa.nome = ''\n",
        "print(pessoa.nome)\n",
        "\n"
      ],
      "metadata": {
        "id": "gf6LyuM7vA1h"
      },
      "execution_count": null,
      "outputs": []
    },
    {
      "cell_type": "markdown",
      "source": [
        "# Metodos Estaticos"
      ],
      "metadata": {
        "id": "j6GZGX819aG4"
      }
    },
    {
      "cell_type": "code",
      "source": [
        "class Teste:\n",
        "    def __init__(self, gasolina):\n",
        "        pass\n",
        "\n",
        "    @classmethod\n",
        "    def class_method(cls):\n",
        "        print(cls)\n",
        "    @staticmethod\n",
        "    def static_method():\n",
        "        print('static method')\n",
        "\n",
        "Teste.class_method()\n",
        "Teste.static_method()\n",
        "\n",
        "testando = Teste('aditivada')\n",
        "\n",
        "testando.class_method()"
      ],
      "metadata": {
        "id": "jWDhNMfg095D"
      },
      "execution_count": null,
      "outputs": []
    },
    {
      "cell_type": "code",
      "source": [
        "class Veiculo:\n",
        "    def __init__(self, nome, gasolina, potencia):\n",
        "        self.nome = nome\n",
        "        self.gasolina = gasolina\n",
        "        self.potencia = potencia\n",
        "        \n",
        "    @classmethod\n",
        "    def cria_carro(cls):\n",
        "        return cls('carro', 'comum',200)\n",
        "    @classmethod\n",
        "    def cria_trator(cls):\n",
        "        return cls('trator', 'aditivada',500)\n",
        "\n",
        "veiculo1 = Veiculo.cria_carro()\n",
        "veiculo2 = Veiculo.cria_trator()\n",
        "\n",
        "print(veiculo1.nome)\n",
        "print(veiculo1.gasolina)\n",
        "print(veiculo1.potencia)\n",
        "print(veiculo2.nome)\n",
        "print(veiculo2.gasolina)\n",
        "print(veiculo2.potencia)"
      ],
      "metadata": {
        "id": "STOanErD-efO"
      },
      "execution_count": null,
      "outputs": []
    },
    {
      "cell_type": "code",
      "source": [
        "class Veiculo:\n",
        "    __numero_veiculos = 0\n",
        "    def __init__(self, nome, gasolina, potencia):\n",
        "        self.nome = nome\n",
        "        self.gasolina = gasolina\n",
        "        self.potencia = potencia\n",
        "        Veiculo.__numero_veiculos += 1\n",
        "    @staticmethod\n",
        "    def get_numero_carros():\n",
        "        return Veiculo.__numero_veiculos\n",
        "\n",
        "carro1 = Veiculo('carro','aditivida','200')\n",
        "carro2 = Veiculo('caminhao','aditivida','1000')\n",
        "carro2 = Veiculo('trator','comum','500')\n",
        "\n",
        "print(Veiculo.get_numero_carros())"
      ],
      "metadata": {
        "id": "m-qUIy2Q_ipf"
      },
      "execution_count": null,
      "outputs": []
    },
    {
      "cell_type": "markdown",
      "source": [
        "# Copia por Valor e Referencia"
      ],
      "metadata": {
        "id": "5kKfsbglPL6l"
      }
    },
    {
      "cell_type": "code",
      "source": [
        "lst1 = 10\n",
        "lst2 = lst1\n",
        "lst2 = 20\n",
        "\n",
        "print(lst1)"
      ],
      "metadata": {
        "id": "CmPmoFWbPkLx"
      },
      "execution_count": null,
      "outputs": []
    },
    {
      "cell_type": "code",
      "source": [
        "lst1 = [1,2,3]\n",
        "lst2 = lst1\n",
        "lst2.append(40)\n",
        "\n",
        "print(lst1)"
      ],
      "metadata": {
        "id": "NYYmMnjkp55d"
      },
      "execution_count": null,
      "outputs": []
    },
    {
      "cell_type": "code",
      "source": [
        "class Classe:\n",
        "    def __init__(self):\n",
        "        self.num = 10\n",
        "\n",
        "class1 = Classe()\n",
        "class2 = class1\n",
        "\n",
        "class1.num = 20\n",
        "\n",
        "print(class2.num)"
      ],
      "metadata": {
        "id": "X58jZPe5qYTS"
      },
      "execution_count": null,
      "outputs": []
    },
    {
      "cell_type": "code",
      "source": [
        "from copy import copy\n",
        "lst1 = [1,2,3]\n",
        "lst2 = copy(lst1)\n",
        "lst2.append(40)\n",
        "\n",
        "print(lst1)\n",
        "print(lst2)"
      ],
      "metadata": {
        "id": "JhJxoUYEquaw"
      },
      "execution_count": null,
      "outputs": []
    },
    {
      "cell_type": "code",
      "source": [
        "# Deletando objetos\n",
        "\n",
        "numero = 10\n",
        "del numero\n",
        "print(numero)"
      ],
      "metadata": {
        "id": "N206iXkwt8AV"
      },
      "execution_count": null,
      "outputs": []
    },
    {
      "cell_type": "code",
      "source": [
        "arr = [1,2,3]\n",
        "\n",
        "del arr[0]\n",
        "\n",
        "print(arr)"
      ],
      "metadata": {
        "id": "FwQmy9j9uOLg"
      },
      "execution_count": null,
      "outputs": []
    },
    {
      "cell_type": "code",
      "source": [
        "# Testando tipos\n",
        "\n",
        "eh_inteiro = isinstance(5,int)\n",
        "print(eh_inteiro )"
      ],
      "metadata": {
        "id": "Mcl0jc7FwT5Y"
      },
      "execution_count": null,
      "outputs": []
    },
    {
      "cell_type": "code",
      "source": [
        "class Base:\n",
        "    def __init__(self):\n",
        "        pass\n",
        "\n",
        "class Herdeiro(Base):\n",
        "    def __init__(self):\n",
        "        pass\n",
        "\n",
        "\n",
        "classe = Herdeiro()\n",
        "\n",
        "eh_base = isinstance(classe, Base)\n",
        "eh_herdeiro = isinstance(classe, Herdeiro)\n",
        "\n",
        "print(eh_base)\n",
        "print(eh_herdeiro)"
      ],
      "metadata": {
        "id": "WsRIDxLXwzWE"
      },
      "execution_count": null,
      "outputs": []
    },
    {
      "cell_type": "code",
      "source": [
        "def soma(num1,num2):\n",
        "    if isinstance(num1, (int,float)) and isinstance(num2, (int, float)):\n",
        "        return num1 + num2\n",
        "    else:\n",
        "        return None\n",
        "\n",
        "print(soma(1,2.33))\n",
        "print(soma(True, 'Text'))\n"
      ],
      "metadata": {
        "id": "UjFuHIITyBN8"
      },
      "execution_count": null,
      "outputs": []
    },
    {
      "cell_type": "markdown",
      "source": [
        "# Uso de With\n"
      ],
      "metadata": {
        "id": "0jUgwO19-p5I"
      }
    },
    {
      "cell_type": "code",
      "source": [
        "class Lista:\n",
        "    def __init__(self):\n",
        "        pass\n",
        "    def __enter__(self):\n",
        "        print('Memoria iniciada')\n",
        "        self.lista = [i for i in range(0,10)]\n",
        "        return self.lista\n",
        "    def __exit__(self, *args, **kwargs):\n",
        "        print('Memoria liberada')\n",
        "        del self.lista\n",
        "\n",
        "with Lista() as temp_lista:\n",
        "    for i in temp_lista:\n",
        "        print(i)\n",
        "\n",
        "print(\"Aqui o objeto nao existe mais\")"
      ],
      "metadata": {
        "id": "uCuDkn4--s2p"
      },
      "execution_count": null,
      "outputs": []
    },
    {
      "cell_type": "markdown",
      "source": [
        "# Sobrecarga de Operadores"
      ],
      "metadata": {
        "id": "MNcBBK4VAEKR"
      }
    },
    {
      "cell_type": "code",
      "source": [
        "class MeuNumero:\n",
        "    def __init__(self, numero):\n",
        "        self.numero = numero\n",
        "    def __add__(self, outro):\n",
        "        return self.numero + outro.numero\n",
        "\n",
        "num1 = MeuNumero(10)        \n",
        "num2 = MeuNumero(20.5)      \n",
        "\n",
        "print(num1 + num2)"
      ],
      "metadata": {
        "id": "SQZUkfxAAHEB"
      },
      "execution_count": null,
      "outputs": []
    },
    {
      "cell_type": "markdown",
      "source": [
        "# Exercicios"
      ],
      "metadata": {
        "id": "sfk8aw_sCBY_"
      }
    },
    {
      "cell_type": "code",
      "source": [
        "'''\n",
        "1 - Crie uma classe para representar um carro. Ele deve ter um atributo \n",
        "que diga sua potência em cavalos. Outro atributo deve dizer quanto de \n",
        "gasolina por quilômetros ele consome. Cria duas instâncias e mostre os \n",
        "valores.\n",
        "\n",
        "Exemplo saída\n",
        "Potência do carro 1: 100 cavalos\n",
        "Alcance do carro 1: 200 km/l\n",
        "Potência do carro 2: 200 cavalos\n",
        "Alcance do carro 2: 350.5\n",
        "'''\n",
        "class Carro:\n",
        "    def __init__(self, potencia, alcance):\n",
        "        self.potencia = potencia\n",
        "        self.alcance = alcance\n",
        "\n",
        "carro1 = Carro(100, 200)\n",
        "carro2 = Carro(200, 350)\n",
        "\n",
        "print('Potencia do carro 1: ', carro1.potencia, ' cavalos')\n",
        "print('Alcance do carro 1: ', carro1.alcance, ' km/l')\n",
        "\n"
      ],
      "metadata": {
        "id": "WImJ0km3itcx"
      },
      "execution_count": null,
      "outputs": []
    },
    {
      "cell_type": "code",
      "source": [
        "'''\n",
        "2 - Cria uma classe que represente uma pessoa. Ela deve possuir um \n",
        "nome, CPF e um dependente, onde o dependente é outra pessoa. \n",
        "Dependente não é obrigatório. Crie duas instâncias: pai e filho, e imprima \n",
        "as saídas.\n",
        "\n",
        "Exemplo saída:\n",
        "Nome: Rodrigo CPF: 200.300.400-45 Dependente: None\n",
        "Nome: Fernando CPF: 100.200.300-45 Dependente: Rodrigo\n",
        "'''\n",
        "\n",
        "class Pessoa():\n",
        "    def __init__(self, nome, cpf, dependente=None):\n",
        "        self.nome = nome\n",
        "        self.cpf = cpf\n",
        "        self.dependente = dependente\n",
        "\n",
        "filho = Pessoa('Arthur','200.300.400-45')\n",
        "pai = Pessoa('Marcelo','300.500.600-85', filho)\n",
        "\n",
        "print('Nome:', filho.nome, ' CPF:', filho.cpf, ' Dependente:', filho.dependente)\n",
        "print('Nome:', pai.nome, ' CPF:', pai.cpf, ' Dependente:', pai.dependente.nome)\n",
        "\n"
      ],
      "metadata": {
        "id": "AB_U2iYmpjgB"
      },
      "execution_count": null,
      "outputs": []
    },
    {
      "cell_type": "code",
      "source": [
        "'''\n",
        "3 - Crie uma classe base que represente um veículo. Os atributos devem \n",
        "ser peso do veiculo, número de rodas e potência. Em seguida crie três \n",
        "classes que herdam esse veículo: ônibus, carro e moto. Crie uma instância \n",
        "de cada tipo e imprima as instâncias\n",
        "\n",
        "Ônibus: Peso 1000 Potência 400 Rodas 6\n",
        "Carro: Peso 300 Potência 100 Rodas 4\n",
        "Moto: Peso 100 Potência 50 Rodas 2\n",
        "'''\n",
        "\n",
        "class Veiculo():\n",
        "    def __init__(self, peso, potencia, rodas):\n",
        "        self.peso = peso\n",
        "        self.potencia = potencia\n",
        "        self.rodas = rodas\n",
        "\n",
        "class Moto(Veiculo):\n",
        "    def __init__(self, peso, potencia, rodas):\n",
        "        Veiculo.__init__(self, peso, potencia, rodas)\n",
        "\n",
        "\n",
        "class Carro(Veiculo):\n",
        "    def __init__(self, peso, potencia, rodas):\n",
        "        Veiculo.__init__(self, peso, potencia, rodas)\n",
        "\n",
        "class Onibus(Veiculo):\n",
        "    def __init__(self, peso, potencia, rodas):\n",
        "        Veiculo.__init__(self, peso, potencia, rodas)\n",
        "\n",
        "moto = Moto('100','125','2')\n",
        "carro = Carro('2000','1000','4')\n",
        "onibus = Onibus('3000','1500','8')\n",
        "\n",
        "print('Moto:', moto.peso, 'Potencia:', moto.potencia, 'Rodas:', moto.rodas)\n",
        "print('Carro:', carro.peso, 'Potencia:', carro.potencia, 'Rodas:', carro.rodas)\n",
        "print('Onibus:', onibus.peso, 'Potencia:', onibus.potencia, 'Rodas:', onibus.rodas)"
      ],
      "metadata": {
        "id": "9zju4JvAq9Pi"
      },
      "execution_count": null,
      "outputs": []
    },
    {
      "cell_type": "code",
      "source": [
        "'''\n",
        "4 - Baseado no exercício anterior, cria uma função na classe base que diga \n",
        "a distância percorrida. Vamos supor que esse valor é dado pela peso do \n",
        "veículo dividido pela potência do veículo vezes mil. Crie uma moto, carro e \n",
        "um ônibus. Mostre esses valores.\n",
        "Ex: (200 cavalos/ 400 cavalos) * 1000 = 500 quilômetros\n",
        "Exemplo saída:\n",
        "\n",
        "Distância percorrida ônibus: 2500.0\n",
        "Distância percorrida carro: 3000.0\n",
        "Distância percorrida moto: 2000.0\n",
        "'''\n",
        "\n",
        "class Veiculo():\n",
        "    def __init__(self, peso, potencia, rodas):\n",
        "        self.peso = peso\n",
        "        self.potencia = potencia\n",
        "        self.rodas = rodas\n",
        "    def distancia_percorrida(self):\n",
        "        return (self.potencia / self.peso) * 1000\n",
        "\n",
        "class Moto(Veiculo):\n",
        "    def __init__(self, peso, potencia, rodas):\n",
        "        Veiculo.__init__(self, peso, potencia, rodas)\n",
        "\n",
        "\n",
        "class Carro(Veiculo):\n",
        "    def __init__(self, peso, potencia, rodas):\n",
        "        Veiculo.__init__(self, peso, potencia, rodas)\n",
        "\n",
        "class Onibus(Veiculo):\n",
        "    def __init__(self, peso, potencia, rodas):\n",
        "        Veiculo.__init__(self, peso, potencia, rodas)\n",
        "\n",
        "moto = Moto(100,50,2)\n",
        "carro = Carro(300,100,4)\n",
        "onibus = Onibus(1000,400,6)\n",
        "\n",
        "print('Distancia percorrida moto:', moto.distancia_percorrida())\n",
        "print('Distancia percorrida carro:', carro.distancia_percorrida())\n",
        "print('Distancia percorrida onibus:', onibus.distancia_percorrida())\n",
        "\n"
      ],
      "metadata": {
        "id": "UtmVpgzetIFL"
      },
      "execution_count": null,
      "outputs": []
    },
    {
      "cell_type": "code",
      "source": [
        "'''\n",
        "5 - Baseado no exercício anterior, crie os operador '>' e '<' para dizer qual veículo \n",
        "é mais potente. Compare um de cada tipo.\n",
        "Observação, sobrescreva os métodos __lt__ e __gt__\n",
        "'''\n",
        "\n",
        "class Veiculo():\n",
        "    def __init__(self, peso, potencia, rodas):\n",
        "        self.peso = peso\n",
        "        self.potencia = potencia\n",
        "        self.rodas = rodas\n",
        "    def __lt__(self, outro):\n",
        "        return self.potencia > outro.potencia\n",
        "    def __gt__(self,outro):\n",
        "        return self.potencia < outro.potencia\n",
        "\n",
        "class Moto(Veiculo):\n",
        "    def __init__(self, peso, potencia, rodas):\n",
        "        Veiculo.__init__(self, peso, potencia, rodas)\n",
        "\n",
        "\n",
        "class Carro(Veiculo):\n",
        "    def __init__(self, peso, potencia, rodas):\n",
        "        Veiculo.__init__(self, peso, potencia, rodas)\n",
        "\n",
        "class Onibus(Veiculo):\n",
        "    def __init__(self, peso, potencia, rodas):\n",
        "        Veiculo.__init__(self, peso, potencia, rodas)\n",
        "\n",
        "moto = Moto(100,50,2)\n",
        "carro = Carro(300,100,4)\n",
        "onibus = Onibus(1000,400,6)\n",
        "\n",
        "print(onibus > carro)\n",
        "print(onibus < moto)\n",
        "print(moto > carro)\n"
      ],
      "metadata": {
        "id": "jYcJ9c15vxt1"
      },
      "execution_count": null,
      "outputs": []
    },
    {
      "cell_type": "code",
      "source": [
        "'''\n",
        "6 - Cria uma classe que represente um número negativo, use propriedades \n",
        "(@property) para controlar o valor guardado pela classe, sem deixar que ele \n",
        "fique positivo (0 pode). Além disso crie alguns operadores para comparação e de \n",
        "subtração. Cuide para que nenhum valor positivo surja.\n",
        "'''\n",
        "class NumeroNegativo:\n",
        "    def __init__(self, numero):\n",
        "        self.__numero = 0\n",
        "        self.numero = numero\n",
        "    @property\n",
        "    def numero(self):\n",
        "        return self.__numero\n",
        "    @numero.setter\n",
        "    def numero(self, value):\n",
        "        if value <= 0:\n",
        "            self.__numero = value\n",
        "    def __lt__(self, outro):\n",
        "        return self.__numero < outro.__numero\n",
        "    def __gt__(self, outro):\n",
        "        return self.numero > outro.__numero\n",
        "    def __sub__(self, outro):\n",
        "        sub = self.__numero - outro.__numero\n",
        "        if sub > 0:\n",
        "            sub = 0\n",
        "        return sub\n",
        "\n",
        "num1 = NumeroNegativo(-10)\n",
        "num2 = NumeroNegativo(-20)\n",
        "num3 = NumeroNegativo(20)\n",
        "\n",
        "print(num1.numero, num2.numero, num3.numero)\n",
        "print(num1 > num2)\n",
        "print(num1 - num2)"
      ],
      "metadata": {
        "id": "XzyZcjSBxs5F"
      },
      "execution_count": null,
      "outputs": []
    },
    {
      "cell_type": "code",
      "source": [
        "'''\n",
        "7 - Cria uma função que diga se um objeto é um primitivo do Python, informando \n",
        "que é sempre passado valor Ex: [int, float, str, bool], ou se é um objeto passado \n",
        "por referência\n",
        "'''\n",
        "\n",
        "def testa_objeto(obj):\n",
        "    if isinstance(obj,(int, float,str, bool)):\n",
        "        print('Objeto por valor')\n",
        "    else:\n",
        "        print('Objeto por referencia')\n",
        "\n",
        "class Objetos:\n",
        "    def __init__(self):\n",
        "        pass\n",
        "    \n",
        "obj = Objetos()\n",
        "valor  = 3\n",
        "\n",
        "testa_objeto(obj)\n",
        "testa_objeto(valor)"
      ],
      "metadata": {
        "id": "kQc8uSTHz0CO"
      },
      "execution_count": null,
      "outputs": []
    }
  ]
}