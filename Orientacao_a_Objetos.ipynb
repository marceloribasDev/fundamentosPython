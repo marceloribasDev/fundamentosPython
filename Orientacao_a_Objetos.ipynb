{
  "nbformat": 4,
  "nbformat_minor": 0,
  "metadata": {
    "colab": {
      "provenance": [],
      "authorship_tag": "ABX9TyMSS+/FOxy+QFNKT+ZF4IFq",
      "include_colab_link": true
    },
    "kernelspec": {
      "name": "python3",
      "display_name": "Python 3"
    },
    "language_info": {
      "name": "python"
    }
  },
  "cells": [
    {
      "cell_type": "markdown",
      "metadata": {
        "id": "view-in-github",
        "colab_type": "text"
      },
      "source": [
        "<a href=\"https://colab.research.google.com/github/marceloribasDev/fundamentosPython/blob/main/Orientacao_a_Objetos.ipynb\" target=\"_parent\"><img src=\"https://colab.research.google.com/assets/colab-badge.svg\" alt=\"Open In Colab\"/></a>"
      ]
    },
    {
      "cell_type": "markdown",
      "source": [
        "# Classes"
      ],
      "metadata": {
        "id": "tgyXraHlWZIv"
      }
    },
    {
      "cell_type": "code",
      "execution_count": null,
      "metadata": {
        "id": "p1V9JG481D2a"
      },
      "outputs": [],
      "source": [
        "# Class\n",
        "\n",
        "class Teste:\n",
        "    pass\n",
        "\n",
        "minha_classe = Teste()\n",
        "\n",
        "print(type(minha_classe))"
      ]
    },
    {
      "cell_type": "code",
      "source": [
        "# Construtor eh um metodo padrao quando a classe eh instanciada\n",
        "\n",
        "class Nossa_Classe:\n",
        "    def __init__(self): # Construtor padrao\n",
        "        print(\"Eu existo\")\n",
        "\n",
        "var = Nossa_Classe()\n",
        "\n",
        "print(type(var))"
      ],
      "metadata": {
        "id": "JFF9X_9dSNlh"
      },
      "execution_count": null,
      "outputs": []
    },
    {
      "cell_type": "code",
      "source": [
        "class Pessoa:\n",
        "    def __init__(self, nome, idade):\n",
        "        self.nome = nome\n",
        "        self.idade = idade\n",
        "        print('Pessoa com nome %s e idade %d criada' % (nome, idade))\n",
        "\n",
        "pessoa1 = Pessoa('Marcelo', 33)\n",
        "pessoa2 = Pessoa('Arthur', 0)\n",
        "\n",
        "print(pessoa1.nome)"
      ],
      "metadata": {
        "id": "dd0i1UViTYZD"
      },
      "execution_count": null,
      "outputs": []
    },
    {
      "cell_type": "code",
      "source": [
        "class Pessoa:\n",
        "    def __init__(self, nome, idade):\n",
        "        self.nome = nome\n",
        "        self.idade = idade\n",
        "        print('Pessoa com nome %s e idade %d criada' % (nome, idade))\n",
        "\n",
        "pessoa1 = Pessoa('Marcelo', 33)\n",
        "\n",
        "pessoa1.nome = 'Arthur'\n",
        "\n",
        "print(pessoa1.nome)"
      ],
      "metadata": {
        "id": "wyGdWmIZU1uF"
      },
      "execution_count": null,
      "outputs": []
    },
    {
      "cell_type": "code",
      "source": [
        "class Pessoa:\n",
        "    especie = 'Homo Sapiens'\n",
        "    num_pessoas = 0\n",
        "    def __init__(self, nome, idade):\n",
        "        self.nome = nome\n",
        "        self.idade = idade\n",
        "        Pessoa.num_pessoas += 1\n",
        "\n",
        "pessoa1 = Pessoa('Marcelo', 33)        \n",
        "pessoa2 = Pessoa('Arthur', 0)\n",
        "pessoa3 = Pessoa('Jully', 31)\n",
        "\n",
        "print(pessoa1.especie)\n",
        "print(pessoa2.especie)\n",
        "\n",
        "print(Pessoa.num_pessoas)"
      ],
      "metadata": {
        "id": "pqW3zbAJVC0b"
      },
      "execution_count": null,
      "outputs": []
    },
    {
      "cell_type": "markdown",
      "source": [
        "# Funcoes de Classes"
      ],
      "metadata": {
        "id": "W-7UVC7WWVWP"
      }
    },
    {
      "cell_type": "code",
      "source": [
        "class Pessoa:\n",
        "    def __init__(self, nome, idade):\n",
        "        self.nome = nome\n",
        "        self.idade = idade\n",
        "    def print_nome(self):\n",
        "        print('Meu nome eh %s ' % (self.nome))\n",
        "\n",
        "pessoa1 = Pessoa('Marcelo', '34')                \n",
        "pessoa2 = Pessoa('Arthur', '0') \n",
        "\n",
        "pessoa1.print_nome()\n",
        "pessoa2.print_nome()\n"
      ],
      "metadata": {
        "id": "CHmfPhwJWQoP"
      },
      "execution_count": null,
      "outputs": []
    },
    {
      "cell_type": "code",
      "source": [
        "class Pessoa:\n",
        "    def __init__(self, nome, idade):\n",
        "        self.nome = nome\n",
        "        self.idade = idade\n",
        "    def print_string(self,nome):\n",
        "        print('Meu nome eh %s ' % (nome))\n",
        "    def print_nome(self):\n",
        "        self.print_string(self.nome)\n",
        "\n",
        "pessoa1 = Pessoa('Marcelo', '34')                \n",
        "pessoa2 = Pessoa('Arthur', '0') \n",
        "\n",
        "pessoa1.print_nome()\n",
        "pessoa2.print_nome()\n"
      ],
      "metadata": {
        "id": "0v55A1L-keZF"
      },
      "execution_count": null,
      "outputs": []
    },
    {
      "cell_type": "code",
      "source": [
        "class Pessoa:\n",
        "    def __init__(self, nome):\n",
        "        self.nome = nome\n",
        "    def insere_idade(self, idade):\n",
        "        self.idade = idade\n",
        "\n",
        "marcelo = Pessoa('Marcelo')\n",
        "marcelo.insere_idade(33)\n",
        "\n",
        "print(marcelo.idade)"
      ],
      "metadata": {
        "id": "fuugAJrClJVg"
      },
      "execution_count": null,
      "outputs": []
    },
    {
      "cell_type": "code",
      "source": [
        "# Classes com uma Classe como atributo\n",
        "\n",
        "class Tipo1:\n",
        "    def __init__(self, outra_classe):\n",
        "        self.outra_classe = outra_classe\n",
        "\n",
        "class Tipo2:\n",
        "    numero = 10\n",
        "\n",
        "\n",
        "class2 = Tipo2\n",
        "class1 = Tipo1(class2)\n",
        "\n",
        "print(class1.outra_classe.numero)"
      ],
      "metadata": {
        "id": "xirr5oi8viGF"
      },
      "execution_count": null,
      "outputs": []
    },
    {
      "cell_type": "code",
      "source": [
        "class Exemplo:\n",
        "    def __init__(self):\n",
        "        pass\n",
        "\n",
        "lista = []        \n",
        "\n",
        "ex1 = Exemplo()\n",
        "ex2 = Exemplo()\n",
        "\n",
        "lista.append(ex1)\n",
        "lista.append(ex2)\n",
        "\n",
        "print(lista[1])"
      ],
      "metadata": {
        "id": "lo0y_V05woJ0"
      },
      "execution_count": null,
      "outputs": []
    },
    {
      "cell_type": "markdown",
      "source": [
        "# Herenca"
      ],
      "metadata": {
        "id": "scgSEFMS0Rq0"
      }
    },
    {
      "cell_type": "code",
      "source": [
        "class FormaGeometrica:\n",
        "    def __init__(self,altura,largura):\n",
        "        self.altura = altura\n",
        "        self.largura = largura\n",
        "\n",
        "class Quadrado(FormaGeometrica):\n",
        "    pass\n",
        "\n",
        "class Triangulo(FormaGeometrica):\n",
        "    pass  \n",
        "\n",
        "quadrado = Quadrado(100,50)    \n",
        "triangulo = Triangulo(10,30)\n",
        "\n",
        "print(quadrado.altura)\n",
        "print(triangulo.largura)"
      ],
      "metadata": {
        "id": "GvTzRXvM0TwU"
      },
      "execution_count": null,
      "outputs": []
    },
    {
      "cell_type": "code",
      "source": [
        "class FormaGeometrica:\n",
        "    def __init__(self,altura,largura):\n",
        "        self.altura = altura\n",
        "        self.largura = largura\n",
        "\n",
        "class Quadrado(FormaGeometrica):\n",
        "    lado = 10\n",
        "\n",
        "class Triangulo(FormaGeometrica):\n",
        "    angulo = 30\n",
        "\n",
        "quadrado = Quadrado(100,50)    \n",
        "triangulo = Triangulo(10,45)\n",
        "\n",
        "print(quadrado.altura)\n",
        "print(quadrado.lado)\n",
        "print(triangulo.largura)\n",
        "print(triangulo.angulo)"
      ],
      "metadata": {
        "id": "AVBVO5Iq2ytc"
      },
      "execution_count": null,
      "outputs": []
    },
    {
      "cell_type": "code",
      "source": [
        "class FormaGeometrica:\n",
        "    def __init__(self,altura,largura):\n",
        "        self.altura = altura\n",
        "        self.largura = largura\n",
        "    def funcao_herdada(self):\n",
        "        print('Sou herdada')\n",
        "\n",
        "class Quadrado(FormaGeometrica):\n",
        "    pass\n",
        "\n",
        "class Triangulo(FormaGeometrica):\n",
        "    pass  \n",
        "\n",
        "quadrado = Quadrado(100,50)    \n",
        "triangulo = Triangulo(10,30)\n",
        "\n",
        "print(quadrado.altura)\n",
        "quadrado.funcao_herdada()\n",
        "print(triangulo.largura)\n",
        "triangulo.funcao_herdada()"
      ],
      "metadata": {
        "id": "w0lO0HfA3P9R"
      },
      "execution_count": null,
      "outputs": []
    },
    {
      "cell_type": "code",
      "source": [
        "# Overrides: Sobreposicao de funcoes\n",
        "\n",
        "class ClassePai:\n",
        "    def __init__(self):\n",
        "        print(\"Sou a classe pai\")\n",
        "\n",
        "class ClasseFilha1(ClassePai):\n",
        "    def __init__(self):\n",
        "        print('Sou a classe filha 1')\n",
        "\n",
        "class ClasseFilha2(ClassePai):\n",
        "    def __init__(self):\n",
        "        print('Sou a classe filha 2')\n",
        "\n",
        "pai = ClassePai()\n",
        "filha1 = ClasseFilha1()        \n",
        "filha2 = ClasseFilha2()"
      ],
      "metadata": {
        "id": "fPiQI-8h5kmY"
      },
      "execution_count": null,
      "outputs": []
    },
    {
      "cell_type": "code",
      "source": [
        "class FormaGeometrica:\n",
        "    def __init__(self, altura, largura):\n",
        "        self.altura = altura\n",
        "        self.largura = largura\n",
        "\n",
        "class Quadrado(FormaGeometrica):\n",
        "    def __init__(self, altura, largura, atributo_quadrado):\n",
        "        FormaGeometrica.__init__(self, altura, largura)\n",
        "        self.atributo_quadrado = atributo_quadrado\n",
        "\n",
        "class Triangulo(FormaGeometrica):\n",
        "    def __init__(self, altura, largura, atributo_triangulo):\n",
        "        FormaGeometrica.__init__(self, altura, largura)\n",
        "        self.atributo_triangulo = atributo_triangulo\n",
        "\n",
        "quadrado = Quadrado(100,200,'quadrado')\n",
        "triangulo = Triangulo(200,300,'triagulo')\n",
        "\n",
        "print(quadrado.altura)\n",
        "print(quadrado.atributo_quadrado)\n",
        "\n",
        "print(triangulo.altura)\n",
        "print(triangulo.atributo_triangulo)"
      ],
      "metadata": {
        "id": "fCR6wXvC6SIM"
      },
      "execution_count": null,
      "outputs": []
    },
    {
      "cell_type": "code",
      "source": [
        "# Heranca Multipla"
      ],
      "metadata": {
        "id": "26P9yCrwCMxl"
      },
      "execution_count": null,
      "outputs": []
    },
    {
      "cell_type": "code",
      "source": [
        "class Base1:\n",
        "    def __init__(self, atributo1):\n",
        "        self.atributo1 = atributo1\n",
        "    def Base1_print(self):\n",
        "        print('Base1')\n",
        "\n",
        "class Base2:\n",
        "    def __init__(self, atributo2):\n",
        "        self.atributo2 = atributo2\n",
        "    def Base2_print(self):\n",
        "        print('Base2')\n",
        "\n",
        "class MinhaClasse(Base1, Base2):\n",
        "    def __init__(self):\n",
        "        Base1.__init__(self,10)\n",
        "        Base2.__init__(self,20)\n",
        "\n",
        "var = MinhaClasse()        \n",
        "\n",
        "print(var.atributo1)\n",
        "print(var.atributo2)\n",
        "\n",
        "var.Base1_print()\n",
        "var.Base2_print()\n"
      ],
      "metadata": {
        "id": "njAc7yNafqgD"
      },
      "execution_count": null,
      "outputs": []
    },
    {
      "cell_type": "markdown",
      "source": [
        "# Modificadores de Acesso"
      ],
      "metadata": {
        "id": "m2iupVkjhFwx"
      }
    },
    {
      "cell_type": "code",
      "source": [
        "class Segredo:\n",
        "    def __init__(self):\n",
        "        self.__segredo = 'senha123'\n",
        "\n",
        "senha = Segredo()\n",
        "print(seg.__erro) # Gera erro, pois quando temos __* fica inacessivel"
      ],
      "metadata": {
        "id": "V0JRw-92hKyp"
      },
      "execution_count": null,
      "outputs": []
    },
    {
      "cell_type": "code",
      "source": [
        "class Segredo:\n",
        "    def __init__(self):\n",
        "        self.__segredo = 'senha123'\n",
        "    def __printa_segredo(self):\n",
        "        print(self.__segredo)\n",
        "    def printa_segredo(self):\n",
        "        self.__printa_segredo()\n",
        "    \n",
        "\n",
        "senha = Segredo()\n",
        "senha.printa_segredo()\n",
        "# senha.__printa_segredo() # gera erro"
      ],
      "metadata": {
        "id": "ihgEFSzwidGj"
      },
      "execution_count": null,
      "outputs": []
    },
    {
      "cell_type": "code",
      "source": [
        "class Pessoa:\n",
        "    def __init__(self, nome):\n",
        "        self.__nome = nome\n",
        "\n",
        "    def get_nome(self):\n",
        "        print('Pega o nome')\n",
        "        return self.__nome\n",
        "        \n",
        "    def set_nome(self, nome):\n",
        "        if len(nome) > 0:\n",
        "            print('Setando o nome')\n",
        "            self.__nome = nome\n",
        "\n",
        "\n",
        "    nome = property(get_nome, set_nome)\n",
        "\n",
        "pess = Pessoa('Maria')\n",
        "print(pess.nome)\n",
        "\n",
        "pess.nome = \"Marcos\"\n",
        "print(pess.nome)"
      ],
      "metadata": {
        "id": "AbCtOYmVs9HE"
      },
      "execution_count": null,
      "outputs": []
    },
    {
      "cell_type": "code",
      "source": [
        "class Pessoa:\n",
        "    def __init__(self, nome):\n",
        "        self.__nome = nome\n",
        "\n",
        "    def get_nome(self):\n",
        "        print('Pega o nome')\n",
        "        return self.__nome\n",
        "        \n",
        "    def set_nome(self, nome):\n",
        "        if len(nome) > 0:\n",
        "            print('Setando o nome')\n",
        "            self.__nome = nome\n",
        "\n",
        "\n",
        "    nome = property(fset = set_nome) # fset, fget, fdel\n",
        "\n",
        "pess = Pessoa('Maria')\n",
        "pess.nome = \"Marcos\"\n"
      ],
      "metadata": {
        "id": "2QcIOnvot0ZT"
      },
      "execution_count": null,
      "outputs": []
    },
    {
      "cell_type": "code",
      "source": [],
      "metadata": {
        "id": "tUkCEjYluLyd"
      },
      "execution_count": null,
      "outputs": []
    }
  ]
}