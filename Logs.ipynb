{
  "nbformat": 4,
  "nbformat_minor": 0,
  "metadata": {
    "colab": {
      "provenance": [],
      "authorship_tag": "ABX9TyPcy6Tdi5Zpr8/FcLYMaiqj",
      "include_colab_link": true
    },
    "kernelspec": {
      "name": "python3",
      "display_name": "Python 3"
    },
    "language_info": {
      "name": "python"
    }
  },
  "cells": [
    {
      "cell_type": "markdown",
      "metadata": {
        "id": "view-in-github",
        "colab_type": "text"
      },
      "source": [
        "<a href=\"https://colab.research.google.com/github/marceloribasDev/fundamentosPython/blob/main/Logs.ipynb\" target=\"_parent\"><img src=\"https://colab.research.google.com/assets/colab-badge.svg\" alt=\"Open In Colab\"/></a>"
      ]
    },
    {
      "cell_type": "markdown",
      "source": [
        "# Logs\n",
        "\n",
        "- Registro da Execução do Programa:\n",
        "    - Erros\n",
        "    - Etapas cumpridas\n",
        "    - Avisos\n",
        "- Por que?\n",
        "    - Informação\n",
        "    - Depuração\n",
        "    - Registro de Atividade para fins de Auditoria\n",
        "- Onde?\n",
        "    - Tela\n",
        "    - Arquivo\n",
        "    - Banco de Dados"
      ],
      "metadata": {
        "id": "tLxBInR0GSIL"
      }
    },
    {
      "cell_type": "markdown",
      "source": [
        "# Logging\n",
        "- Classe de Gestão de Logs\n",
        "- Permite salvar em disco\n",
        "- Formatar saída\n",
        "- Levels:\n",
        "    - Debug\n",
        "    - Info\n",
        "    - Warning\n",
        "    - Error\n",
        "    - Critical"
      ],
      "metadata": {
        "id": "zfbCVKbgG23H"
      }
    },
    {
      "cell_type": "code",
      "execution_count": null,
      "metadata": {
        "id": "73qSjJD5GAMs"
      },
      "outputs": [],
      "source": [
        "def custom_logger(level, message):\n",
        "  import logging\n",
        "  logger = logging.getLogger(__name__)\n",
        "  if not (len(logger.handlers)):\n",
        "    logging.basicConfig(level=logging.INFO)\n",
        "    c_handler = logging.StreamHandler()\n",
        "    f_handler = logging.FileHandler(\"file.log\")\n",
        "    format = logging.Formatter(\"%(asctime)s - %(name)s - %(levelname)s - %(message)s\")\n",
        "    c_handler.setFormatter(format)\n",
        "    f_handler.setFormatter(format)\n",
        "    logger.addHandler(c_handler)\n",
        "    logger.addHandler(f_handler)\n",
        "  \n",
        "  if level == 'debug':\n",
        "    logger.debug(message)\n",
        "  elif level == 'info':\n",
        "    logger.info(message)\n",
        "  elif level == 'warning':\n",
        "    logger.warning(message)\n",
        "  elif level == 'error':\n",
        "    logger.error(message)\n",
        "  else:\n",
        "    logger.critical(message)"
      ]
    },
    {
      "cell_type": "code",
      "source": [
        "custom_logger('warning','Atencao, parametro errado')\n",
        "custom_logger('error','parametro errado')"
      ],
      "metadata": {
        "id": "9-64F22dKAVu"
      },
      "execution_count": null,
      "outputs": []
    },
    {
      "cell_type": "code",
      "source": [
        "custom_logger(\"info\", \"inicio do programa\")\n",
        "\n",
        "lista = [1,2,3]\n",
        "try:\n",
        "  print(lista[10])\n",
        "except:\n",
        "  custom_logger(\"error\", \"indíce incorreto!\")\n",
        "\n",
        "custom_logger(\"info\", \"fim do programa\")"
      ],
      "metadata": {
        "id": "d1H7vVIRKgtH"
      },
      "execution_count": null,
      "outputs": []
    }
  ]
}