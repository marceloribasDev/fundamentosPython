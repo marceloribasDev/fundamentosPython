{
  "nbformat": 4,
  "nbformat_minor": 0,
  "metadata": {
    "colab": {
      "provenance": [],
      "authorship_tag": "ABX9TyNmpoNqkG13u/TpFYzl02BA",
      "include_colab_link": true
    },
    "kernelspec": {
      "name": "python3",
      "display_name": "Python 3"
    },
    "language_info": {
      "name": "python"
    }
  },
  "cells": [
    {
      "cell_type": "markdown",
      "metadata": {
        "id": "view-in-github",
        "colab_type": "text"
      },
      "source": [
        "<a href=\"https://colab.research.google.com/github/marceloribasDev/fundamentosPython/blob/main/Logs.ipynb\" target=\"_parent\"><img src=\"https://colab.research.google.com/assets/colab-badge.svg\" alt=\"Open In Colab\"/></a>"
      ]
    },
    {
      "cell_type": "markdown",
      "source": [
        "# Logs\n",
        "\n",
        "- Registro da Execução do Programa:\n",
        "    - Erros\n",
        "    - Etapas cumpridas\n",
        "    - Avisos\n",
        "- Por que?\n",
        "    - Informação\n",
        "    - Depuração\n",
        "    - Registro de Atividade para fins de Auditoria\n",
        "- Onde?\n",
        "    - Tela\n",
        "    - Arquivo\n",
        "    - Banco de Dados"
      ],
      "metadata": {
        "id": "tLxBInR0GSIL"
      }
    },
    {
      "cell_type": "markdown",
      "source": [
        "# Logging\n",
        "- Classe de Gestão de Logs\n",
        "- Permite salvar em disco\n",
        "- Formatar saída\n",
        "- Levels:\n",
        "    - Debug\n",
        "    - Info\n",
        "    - Warning\n",
        "    - Error\n",
        "    - Critical"
      ],
      "metadata": {
        "id": "zfbCVKbgG23H"
      }
    },
    {
      "cell_type": "code",
      "execution_count": 4,
      "metadata": {
        "id": "73qSjJD5GAMs"
      },
      "outputs": [],
      "source": [
        "def custom_logger(level, message):\n",
        "  import logging\n",
        "  logger = logging.getLogger(__name__)\n",
        "  if not (len(logger.handlers)):\n",
        "    logging.basicConfig(level=logging.INFO)\n",
        "    \n",
        "    c_handler = logging.StreamHandler()\n",
        "    f_handler = logging.FileHandler(\"file.log\")\n",
        "    \n",
        "    format = logging.Formatter(\"%(asctime)s - %(name)s - %(levelname)s - %(message)s\")\n",
        "    \n",
        "    c_handler.setFormatter(format)\n",
        "    f_handler.setFormatter(format)\n",
        "    \n",
        "    logger.addHandler(c_handler)\n",
        "    logger.addHandler(f_handler)\n",
        "  \n",
        "  if level == 'debug':\n",
        "    logger.debug(message)\n",
        "  elif level == 'info':\n",
        "    logger.info(message)\n",
        "  elif level == 'warning':\n",
        "    logger.warning(message)\n",
        "  elif level == 'error':\n",
        "    logger.error(message)\n",
        "  else:\n",
        "    logger.critical(message)"
      ]
    },
    {
      "cell_type": "code",
      "source": [
        "custom_logger(\"error\",\"Parametro errado!\")"
      ],
      "metadata": {
        "colab": {
          "base_uri": "https://localhost:8080/"
        },
        "id": "dtyAWum0MUmk",
        "outputId": "4c8100e8-35a1-41d0-92fd-0c9ec662cce3"
      },
      "execution_count": 3,
      "outputs": [
        {
          "output_type": "stream",
          "name": "stderr",
          "text": [
            "2022-12-05 16:49:35,092 - __main__ - ERROR - Parametro errado!\n",
            "ERROR:__main__:Parametro errado!\n"
          ]
        }
      ]
    },
    {
      "cell_type": "code",
      "source": [
        "custom_logger(\"info\", \"inicio do programa\")\n",
        "\n",
        "lista = [1,2,3]\n",
        "try:\n",
        "  print(lista[10])\n",
        "except:\n",
        "  custom_logger(\"error\", \"indíce incorreto!\")\n",
        "\n",
        "custom_logger(\"info\", \"fim do programa\")"
      ],
      "metadata": {
        "colab": {
          "base_uri": "https://localhost:8080/"
        },
        "id": "d1H7vVIRKgtH",
        "outputId": "2140ff30-5782-4421-d4f8-e58357d6c7b0"
      },
      "execution_count": 5,
      "outputs": [
        {
          "output_type": "stream",
          "name": "stderr",
          "text": [
            "2022-12-05 16:49:58,653 - __main__ - ERROR - indíce incorreto!\n",
            "ERROR:__main__:indíce incorreto!\n"
          ]
        }
      ]
    }
  ]
}