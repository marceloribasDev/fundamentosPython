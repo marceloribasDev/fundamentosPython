{
  "nbformat": 4,
  "nbformat_minor": 0,
  "metadata": {
    "colab": {
      "provenance": [],
      "authorship_tag": "ABX9TyPf+ybGaT0G+0ALYkQxhHq5",
      "include_colab_link": true
    },
    "kernelspec": {
      "name": "python3",
      "display_name": "Python 3"
    },
    "language_info": {
      "name": "python"
    }
  },
  "cells": [
    {
      "cell_type": "markdown",
      "metadata": {
        "id": "view-in-github",
        "colab_type": "text"
      },
      "source": [
        "<a href=\"https://colab.research.google.com/github/marceloribasDev/fundamentosPython/blob/main/web_scraping.ipynb\" target=\"_parent\"><img src=\"https://colab.research.google.com/assets/colab-badge.svg\" alt=\"Open In Colab\"/></a>"
      ]
    },
    {
      "cell_type": "markdown",
      "source": [
        "# Web Scraping"
      ],
      "metadata": {
        "id": "vnoQHspELupG"
      }
    },
    {
      "cell_type": "markdown",
      "source": [
        "- Coletar informacoes de um site de forma automatizada\n",
        "    - Podem ser contra politica de sites\n",
        "    - Podem ver mecanismos de prevencao\n",
        "\n",
        "- Normalmente nao eh uma tarefa simples:\n",
        "    - Complexidade das paginas\n",
        "    - Conteudo dinamico\n",
        "    - Mudancas frequentes\n",
        "    - Mecanismos de prevencao de consultas automatizadas"
      ],
      "metadata": {
        "id": "xC4Zp45jL1BW"
      }
    },
    {
      "cell_type": "code",
      "execution_count": null,
      "metadata": {
        "id": "UxycdAydLuJA"
      },
      "outputs": [],
      "source": []
    }
  ]
}