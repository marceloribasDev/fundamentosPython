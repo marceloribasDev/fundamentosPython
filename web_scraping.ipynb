{
  "nbformat": 4,
  "nbformat_minor": 0,
  "metadata": {
    "colab": {
      "provenance": [],
      "authorship_tag": "ABX9TyPZ37ClX3EYqozx6cSe3xoa",
      "include_colab_link": true
    },
    "kernelspec": {
      "name": "python3",
      "display_name": "Python 3"
    },
    "language_info": {
      "name": "python"
    }
  },
  "cells": [
    {
      "cell_type": "markdown",
      "metadata": {
        "id": "view-in-github",
        "colab_type": "text"
      },
      "source": [
        "<a href=\"https://colab.research.google.com/github/marceloribasDev/fundamentosPython/blob/main/web_scraping.ipynb\" target=\"_parent\"><img src=\"https://colab.research.google.com/assets/colab-badge.svg\" alt=\"Open In Colab\"/></a>"
      ]
    },
    {
      "cell_type": "markdown",
      "source": [
        "# Web Scraping"
      ],
      "metadata": {
        "id": "vnoQHspELupG"
      }
    },
    {
      "cell_type": "markdown",
      "source": [
        "- Coletar informacoes de um site de forma automatizada\n",
        "    - Podem ser contra politica de sites\n",
        "    - Podem ver mecanismos de prevencao\n",
        "\n",
        "- Normalmente nao eh uma tarefa simples:\n",
        "    - Complexidade das paginas\n",
        "    - Conteudo dinamico\n",
        "    - Mudancas frequentes\n",
        "    - Mecanismos de prevencao de consultas automatizadas"
      ],
      "metadata": {
        "id": "xC4Zp45jL1BW"
      }
    },
    {
      "cell_type": "code",
      "execution_count": null,
      "metadata": {
        "id": "UxycdAydLuJA"
      },
      "outputs": [],
      "source": [
        "# Buscando data e hora no site --> https://www.horariodebrasilia.org/\n",
        "import pandas as pd\n",
        "import urllib3\n",
        "from bs4 import BeautifulSoup\n",
        "\n",
        "def do_request(site):\n",
        "    urllib3.disable_warnings(urllib3.exceptions.InsecureRequestWarning)\n",
        "\n",
        "    manager = urllib3.PoolManager()\n",
        "\n",
        "    return manager.request(\"GET\",site,headers={\"User-Agent\" : \"Mozilla/5.0\"})\n",
        "\n",
        "def read_site(site)    :\n",
        "    response = do_request(site)\n",
        "\n",
        "    return BeautifulSoup(response.data, \"html.parser\")"
      ]
    },
    {
      "cell_type": "code",
      "source": [
        "bs = read_site(\"https://www.horariodebrasilia.org/\")\n",
        "tag_time = bs.find(\"p\", id = \"relogio\")\n",
        "tag_time.text"
      ],
      "metadata": {
        "id": "e6K_7PKhOzGe"
      },
      "execution_count": null,
      "outputs": []
    },
    {
      "cell_type": "code",
      "source": [
        "bs = read_site(\"https://www.horariodebrasilia.org/\")\n",
        "tag_data = bs.find(\"h3\", id = \"dia-topo\")\n",
        "tag_data.text"
      ],
      "metadata": {
        "id": "VEu6IJf9PgmP"
      },
      "execution_count": null,
      "outputs": []
    },
    {
      "cell_type": "code",
      "source": [
        "# Busca uma tabela no wikipedia e transformando em data frame\n",
        "def read_countries(site):\n",
        "    bs = read_site(\"https://pt.wikipedia.org/wiki/Lista_de_pa%C3%ADses_por_riqueza_total\")\n",
        "\n",
        "    table = bs.find(\"table\", style=\"text-align: right\")\n",
        "    if (table == None):\n",
        "        raise Exception(\"Tabela nao encontrada\")\n",
        "\n",
        "    body = table.find(\"tbody\")\n",
        "    if (body == None):\n",
        "        raise Exception(\"Corpo tabela nao encontrada\")\n",
        "\n",
        "    items = body.find_all(\"tr\")\n",
        "\n",
        "    countries = []\n",
        "    for item in items:\n",
        "        datas = item.find_all(\"td\")\n",
        "        item_country = []\n",
        "        for data in datas:\n",
        "            item_country.append(data.text.replace('\\xa0,',''))\n",
        "\n",
        "        if (len(item_country) > 0):\n",
        "            countries.append(item_country)\n",
        "    \n",
        "    return countries\n"
      ],
      "metadata": {
        "id": "2vD4T41FP5lR"
      },
      "execution_count": null,
      "outputs": []
    },
    {
      "cell_type": "code",
      "source": [
        "read_countries(\"https://pt.wikipedia.org/wiki/Lista_de_pa%C3%ADses_por_riqueza_total\")"
      ],
      "metadata": {
        "id": "vepK562OR-Ic"
      },
      "execution_count": null,
      "outputs": []
    },
    {
      "cell_type": "code",
      "source": [
        "data = pd.DataFrame(read_countries(\"https://pt.wikipedia.org/wiki/Lista_de_pa%C3%ADses_por_riqueza_total\"), columns=[\"Posicao\", \"Pais\", \"Riqueza Total por Bilhoes (USD)\"])\n",
        "\n",
        "data.set_index(\"Posicao\")"
      ],
      "metadata": {
        "id": "6d835k-JSqcl"
      },
      "execution_count": null,
      "outputs": []
    }
  ]
}