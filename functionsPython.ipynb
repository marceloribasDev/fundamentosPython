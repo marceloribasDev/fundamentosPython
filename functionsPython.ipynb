{
  "nbformat": 4,
  "nbformat_minor": 0,
  "metadata": {
    "colab": {
      "provenance": [],
      "authorship_tag": "ABX9TyNg8YwPSShq284lyNLGu02j",
      "include_colab_link": true
    },
    "kernelspec": {
      "name": "python3",
      "display_name": "Python 3"
    },
    "language_info": {
      "name": "python"
    }
  },
  "cells": [
    {
      "cell_type": "markdown",
      "metadata": {
        "id": "view-in-github",
        "colab_type": "text"
      },
      "source": [
        "<a href=\"https://colab.research.google.com/github/marceloribasDev/fundamentosPython/blob/main/functionsPython.ipynb\" target=\"_parent\"><img src=\"https://colab.research.google.com/assets/colab-badge.svg\" alt=\"Open In Colab\"/></a>"
      ]
    },
    {
      "cell_type": "markdown",
      "source": [
        "# Functions"
      ],
      "metadata": {
        "id": "ZIblnuGyLevW"
      }
    },
    {
      "cell_type": "markdown",
      "source": [
        "# Functions"
      ],
      "metadata": {
        "id": "qw25HLzMY863"
      }
    },
    {
      "cell_type": "code",
      "execution_count": null,
      "metadata": {
        "id": "WCi2SE2syeQb"
      },
      "outputs": [],
      "source": [
        "def func(*args, outro):\n",
        "    print(\"Argumentos sao: \", args)\n",
        "    print(outro)\n",
        "\n",
        "func(1,2,3, outro=\"1\")    "
      ]
    },
    {
      "cell_type": "code",
      "source": [
        "def subtrai(num1,num2):\n",
        "    valor = num1 - num2\n",
        "    return valor\n",
        "\n",
        "subtracao = subtrai(10,3)\n",
        "\n",
        "print(subtracao)"
      ],
      "metadata": {
        "id": "-8wRNxp3fxYX"
      },
      "execution_count": null,
      "outputs": []
    },
    {
      "cell_type": "code",
      "source": [
        "def len_int(num):\n",
        "    numero_em_texto = str(num)\n",
        "    return len(numero_em_texto)\n",
        "\n",
        "num1 = 10\n",
        "num2 = 1230\n",
        "\n",
        "tamanho1 = len_int(num1)\n",
        "tamanho2 = len_int(num2)\n",
        "\n",
        "print(\"O numero %d tem %d digitos\" % (num1, tamanho1))\n",
        "print(\"O numero %d tem %d digitos\" % (num2, tamanho2))\n",
        "    "
      ],
      "metadata": {
        "id": "07R88aycjqhm"
      },
      "execution_count": null,
      "outputs": []
    },
    {
      "cell_type": "code",
      "source": [
        "def retorna_multiplo(a,b,c):\n",
        "    a += a\n",
        "    b += b\n",
        "    c += c\n",
        "    return a,b,c\n",
        "\n",
        "x,y,z = retorna_multiplo(1,2,3)\n",
        "print(x,y,z)"
      ],
      "metadata": {
        "colab": {
          "base_uri": "https://localhost:8080/"
        },
        "id": "QNxDKy2k0jYK",
        "outputId": "32dd1483-2af7-423c-a469-6887ed18e7ce"
      },
      "execution_count": 10,
      "outputs": [
        {
          "output_type": "stream",
          "name": "stdout",
          "text": [
            "2 4 6\n"
          ]
        }
      ]
    },
    {
      "cell_type": "markdown",
      "source": [
        "\n",
        "\n",
        "---\n",
        "\n"
      ],
      "metadata": {
        "id": "BhM74MoI1mCn"
      }
    },
    {
      "cell_type": "markdown",
      "source": [
        "# Funcao Lambda"
      ],
      "metadata": {
        "id": "hhVMBlYT1etE"
      }
    },
    {
      "cell_type": "code",
      "source": [
        "faz_soma = lambda x : x + 10\n",
        "\n",
        "valor = faz_soma(2)\n",
        "\n",
        "print(valor)"
      ],
      "metadata": {
        "colab": {
          "base_uri": "https://localhost:8080/"
        },
        "id": "qhU5_q0z1n-n",
        "outputId": "a4ac6aa3-9295-41f4-fbde-0d3d0c5149e6"
      },
      "execution_count": 12,
      "outputs": [
        {
          "output_type": "stream",
          "name": "stdout",
          "text": [
            "12\n"
          ]
        }
      ]
    }
  ]
}