{
  "nbformat": 4,
  "nbformat_minor": 0,
  "metadata": {
    "colab": {
      "provenance": [],
      "authorship_tag": "ABX9TyNqmPuMyBCi6dhrfQ1x6SVW",
      "include_colab_link": true
    },
    "kernelspec": {
      "name": "python3",
      "display_name": "Python 3"
    },
    "language_info": {
      "name": "python"
    }
  },
  "cells": [
    {
      "cell_type": "markdown",
      "metadata": {
        "id": "view-in-github",
        "colab_type": "text"
      },
      "source": [
        "<a href=\"https://colab.research.google.com/github/marceloribasDev/fundamentosPython/blob/main/machine_learning.ipynb\" target=\"_parent\"><img src=\"https://colab.research.google.com/assets/colab-badge.svg\" alt=\"Open In Colab\"/></a>"
      ]
    },
    {
      "cell_type": "markdown",
      "source": [
        "# Machine Learning\n",
        "\n",
        "- Analisar dados de um banco que concessao de credito.\n",
        "- Objetivo: Futuro clientes serao bons ou maus pagadores de credito."
      ],
      "metadata": {
        "id": "iSLIQNMWelwV"
      }
    },
    {
      "cell_type": "markdown",
      "source": [
        "Importar aqui Credit.csv"
      ],
      "metadata": {
        "id": "bYHYwf3cfPuS"
      }
    },
    {
      "cell_type": "code",
      "execution_count": null,
      "metadata": {
        "id": "TSHjH2SsejrZ"
      },
      "outputs": [],
      "source": [
        "import pandas as pd\n",
        "import numpy as np\n",
        "from sklearn.model_selection import train_test_split\n",
        "from sklearn.preprocessing import LabelEncoder\n",
        "from sklearn.metrics import confusion_matrix, accuracy_score\n",
        "from sklearn.ensemble import RandomForestClassifier"
      ]
    },
    {
      "cell_type": "code",
      "source": [
        "credito_csv = pd.read_csv(\"Credit.csv\")\n",
        "credito_csv.head()"
      ],
      "metadata": {
        "id": "BKNlKMyLgIKz"
      },
      "execution_count": null,
      "outputs": []
    },
    {
      "cell_type": "code",
      "source": [
        "labelencoder = LabelEncoder()\n",
        "\n",
        "for i in credito_csv.select_dtypes(include=\"object\"):\n",
        "    if i != \"class\":\n",
        "        credito_csv[i] = labelencoder.fit_transform(credito_csv[i])"
      ],
      "metadata": {
        "id": "iGggt0S-gsTO"
      },
      "execution_count": null,
      "outputs": []
    },
    {
      "cell_type": "code",
      "source": [
        "credito_csv.head()"
      ],
      "metadata": {
        "id": "oTzgvjNSht8t"
      },
      "execution_count": null,
      "outputs": []
    },
    {
      "cell_type": "code",
      "source": [
        "previsores = credito_csv.iloc[:,0:20].values\n",
        "classe = credito_csv.iloc[:,20].values"
      ],
      "metadata": {
        "id": "2SkU3nPmh3UL"
      },
      "execution_count": null,
      "outputs": []
    },
    {
      "cell_type": "code",
      "source": [
        "previsores"
      ],
      "metadata": {
        "id": "r_hyufCXicU0"
      },
      "execution_count": null,
      "outputs": []
    },
    {
      "cell_type": "code",
      "source": [
        "classe"
      ],
      "metadata": {
        "id": "5g4MSHmNidb0"
      },
      "execution_count": null,
      "outputs": []
    },
    {
      "cell_type": "code",
      "source": [
        "x_training, x_test, y_training, y_test = train_test_split(previsores, classe, test_size = 0.3, random_state=0)"
      ],
      "metadata": {
        "id": "31imiC6CjIff"
      },
      "execution_count": null,
      "outputs": []
    },
    {
      "cell_type": "code",
      "source": [
        "print(x_training.shape)\n",
        "print(x_test.shape)\n",
        "print(y_training.shape)\n",
        "print(y_test.shape)"
      ],
      "metadata": {
        "id": "6ZMEKuzAjgvu"
      },
      "execution_count": null,
      "outputs": []
    },
    {
      "cell_type": "code",
      "source": [
        "# Treinando e testando o modelo de machine learning\n",
        "\n",
        "floresta = RandomForestClassifier(n_estimators=500,random_state=0)\n",
        "\n",
        "floresta.fit(x_training,y_training)"
      ],
      "metadata": {
        "id": "nYp1QNsqsPbG"
      },
      "execution_count": null,
      "outputs": []
    },
    {
      "cell_type": "code",
      "source": [
        "previsoes = floresta.predict(x_test)\n",
        "print(previsoes)"
      ],
      "metadata": {
        "id": "Rp-U0T4hwfwK"
      },
      "execution_count": null,
      "outputs": []
    },
    {
      "cell_type": "code",
      "source": [
        "confusao = confusion_matrix(y_test, previsoes)\n",
        "print(confusao)"
      ],
      "metadata": {
        "id": "Qg0CQ2q7xCdD"
      },
      "execution_count": null,
      "outputs": []
    },
    {
      "cell_type": "code",
      "source": [
        "matched = accuracy_score(y_test, previsoes)\n",
        "print(matched)"
      ],
      "metadata": {
        "id": "FvxYXejaxVOn"
      },
      "execution_count": null,
      "outputs": []
    },
    {
      "cell_type": "code",
      "source": [
        "# Agrupamentos\n",
        "from sklearn import datasets\n",
        "from sklearn.metrics import confusion_matrix, accuracy_score\n",
        "from sklearn.cluster import KMeans\n",
        "import numpy as np\n",
        "import matplotlib.pyplot as plt"
      ],
      "metadata": {
        "id": "t-kEBym70EpZ"
      },
      "execution_count": null,
      "outputs": []
    },
    {
      "cell_type": "code",
      "source": [
        "iris = datasets.load_iris()"
      ],
      "metadata": {
        "id": "uQKVjvBa26ha"
      },
      "execution_count": null,
      "outputs": []
    },
    {
      "cell_type": "code",
      "source": [
        "print(\"dados: \", iris.data)"
      ],
      "metadata": {
        "id": "h5VNWWW43C2c"
      },
      "execution_count": null,
      "outputs": []
    },
    {
      "cell_type": "code",
      "source": [
        "print(\"classe: \", iris.target)"
      ],
      "metadata": {
        "colab": {
          "base_uri": "https://localhost:8080/"
        },
        "id": "9-CwNOt93L9D",
        "outputId": "b375f16b-f7ff-4938-c7fc-8b6bb2b81b00"
      },
      "execution_count": 30,
      "outputs": [
        {
          "output_type": "stream",
          "name": "stdout",
          "text": [
            "classe:  [0 0 0 0 0 0 0 0 0 0 0 0 0 0 0 0 0 0 0 0 0 0 0 0 0 0 0 0 0 0 0 0 0 0 0 0 0\n",
            " 0 0 0 0 0 0 0 0 0 0 0 0 0 1 1 1 1 1 1 1 1 1 1 1 1 1 1 1 1 1 1 1 1 1 1 1 1\n",
            " 1 1 1 1 1 1 1 1 1 1 1 1 1 1 1 1 1 1 1 1 1 1 1 1 1 1 2 2 2 2 2 2 2 2 2 2 2\n",
            " 2 2 2 2 2 2 2 2 2 2 2 2 2 2 2 2 2 2 2 2 2 2 2 2 2 2 2 2 2 2 2 2 2 2 2 2 2\n",
            " 2 2]\n"
          ]
        }
      ]
    },
    {
      "cell_type": "code",
      "source": [
        "print(\"nome classe: \", iris.target_names)"
      ],
      "metadata": {
        "id": "wjwPxwJp3Yx8"
      },
      "execution_count": null,
      "outputs": []
    },
    {
      "cell_type": "code",
      "source": [
        "print(\"nome dos atributos: \", iris.feature_names)"
      ],
      "metadata": {
        "id": "VAa1PQYs3gWJ"
      },
      "execution_count": null,
      "outputs": []
    },
    {
      "cell_type": "code",
      "source": [
        "unicos, quantidade = np.unique(iris.target, return_counts=True)\n",
        "print(unicos)\n",
        "print(quantidade)"
      ],
      "metadata": {
        "colab": {
          "base_uri": "https://localhost:8080/"
        },
        "id": "8TvOT1Np3tf6",
        "outputId": "9c2e3e1e-d22f-4170-b02b-6a26b5c60f76"
      },
      "execution_count": 27,
      "outputs": [
        {
          "output_type": "stream",
          "name": "stdout",
          "text": [
            "[0 1 2]\n",
            "[50 50 50]\n"
          ]
        }
      ]
    },
    {
      "cell_type": "code",
      "source": [
        "cluster = KMeans(n_clusters=3)\n",
        "cluster.fit(iris.data)"
      ],
      "metadata": {
        "colab": {
          "base_uri": "https://localhost:8080/"
        },
        "id": "I4ZWn8qO37-O",
        "outputId": "8c94e536-c4d4-41c7-c663-cc2701d300dc"
      },
      "execution_count": 28,
      "outputs": [
        {
          "output_type": "execute_result",
          "data": {
            "text/plain": [
              "KMeans(n_clusters=3)"
            ]
          },
          "metadata": {},
          "execution_count": 28
        }
      ]
    },
    {
      "cell_type": "code",
      "source": [
        "agrupamentos = cluster.labels_\n",
        "print(agrupamentos)"
      ],
      "metadata": {
        "colab": {
          "base_uri": "https://localhost:8080/"
        },
        "id": "gbKhuQak4JSw",
        "outputId": "31227b6f-4871-43f7-80d4-37e80e15c56e"
      },
      "execution_count": 29,
      "outputs": [
        {
          "output_type": "stream",
          "name": "stdout",
          "text": [
            "[1 1 1 1 1 1 1 1 1 1 1 1 1 1 1 1 1 1 1 1 1 1 1 1 1 1 1 1 1 1 1 1 1 1 1 1 1\n",
            " 1 1 1 1 1 1 1 1 1 1 1 1 1 2 2 0 2 2 2 2 2 2 2 2 2 2 2 2 2 2 2 2 2 2 2 2 2\n",
            " 2 2 2 0 2 2 2 2 2 2 2 2 2 2 2 2 2 2 2 2 2 2 2 2 2 2 0 2 0 0 0 0 2 0 0 0 0\n",
            " 0 0 2 2 0 0 0 0 2 0 2 0 2 0 0 2 2 0 0 0 0 0 2 0 0 0 0 2 0 0 0 2 0 0 0 2 0\n",
            " 0 2]\n"
          ]
        }
      ]
    },
    {
      "cell_type": "code",
      "source": [
        "unicos, quantidade = np.unique(agrupamentos, return_counts=True)\n",
        "print(unicos)\n",
        "print(quantidade)"
      ],
      "metadata": {
        "colab": {
          "base_uri": "https://localhost:8080/"
        },
        "id": "8xVVx2WD7gPd",
        "outputId": "7a034846-81d8-49fa-a6e8-3fe4e8cc9214"
      },
      "execution_count": 31,
      "outputs": [
        {
          "output_type": "stream",
          "name": "stdout",
          "text": [
            "[0 1 2]\n",
            "[38 50 62]\n"
          ]
        }
      ]
    },
    {
      "cell_type": "code",
      "source": [
        "resultados = confusion_matrix(iris.target, agrupamentos)\n",
        "print(resultados)"
      ],
      "metadata": {
        "colab": {
          "base_uri": "https://localhost:8080/"
        },
        "id": "TPTOHL8u7mGp",
        "outputId": "6173a7c3-a4f8-4a9a-a1af-21c376fce335"
      },
      "execution_count": 32,
      "outputs": [
        {
          "output_type": "stream",
          "name": "stdout",
          "text": [
            "[[ 0 50  0]\n",
            " [ 2  0 48]\n",
            " [36  0 14]]\n"
          ]
        }
      ]
    },
    {
      "cell_type": "code",
      "source": [
        "acuracia = accuracy_score(iris.target,agrupamentos)\n",
        "print(acuracia)"
      ],
      "metadata": {
        "colab": {
          "base_uri": "https://localhost:8080/"
        },
        "id": "RiSP8sYi7wpW",
        "outputId": "8d6d4a15-a9b7-466c-80df-1f9958849e42"
      },
      "execution_count": 34,
      "outputs": [
        {
          "output_type": "stream",
          "name": "stdout",
          "text": [
            "0.09333333333333334\n"
          ]
        }
      ]
    },
    {
      "cell_type": "code",
      "source": [
        "plt.scatter(iris.data[agrupamentos == 0, 0], iris.data[agrupamentos == 0,1], c=\"green\", label=\"Setosa\")\n",
        "plt.scatter(iris.data[agrupamentos == 1, 0], iris.data[agrupamentos == 1,1], c=\"red\", label=\"Versicolor\")\n",
        "plt.scatter(iris.data[agrupamentos == 2, 0], iris.data[agrupamentos == 2,1], c=\"blue\", label=\"Virginica\")\n",
        "plt.legend()"
      ],
      "metadata": {
        "colab": {
          "base_uri": "https://localhost:8080/",
          "height": 285
        },
        "id": "FESPv8Rn8D-I",
        "outputId": "a0a19512-a8f5-4884-b8e5-7c106ab3b95c"
      },
      "execution_count": 37,
      "outputs": [
        {
          "output_type": "execute_result",
          "data": {
            "text/plain": [
              "<matplotlib.legend.Legend at 0x7f1693129c10>"
            ]
          },
          "metadata": {},
          "execution_count": 37
        },
        {
          "output_type": "display_data",
          "data": {
            "text/plain": [
              "<Figure size 432x288 with 1 Axes>"
            ],
            "image/png": "[encoded data removed]"
          },
          "metadata": {
            "needs_background": "light"
          }
        }
      ]
    }
  ]
}