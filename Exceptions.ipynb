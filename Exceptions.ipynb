{
  "nbformat": 4,
  "nbformat_minor": 0,
  "metadata": {
    "colab": {
      "provenance": [],
      "authorship_tag": "ABX9TyOwJStqWf6grWTxxf2/aF5j",
      "include_colab_link": true
    },
    "kernelspec": {
      "name": "python3",
      "display_name": "Python 3"
    },
    "language_info": {
      "name": "python"
    }
  },
  "cells": [
    {
      "cell_type": "markdown",
      "metadata": {
        "id": "view-in-github",
        "colab_type": "text"
      },
      "source": [
        "<a href=\"https://colab.research.google.com/github/marceloribasDev/fundamentosPython/blob/main/Exceptions.ipynb\" target=\"_parent\"><img src=\"https://colab.research.google.com/assets/colab-badge.svg\" alt=\"Open In Colab\"/></a>"
      ]
    },
    {
      "cell_type": "markdown",
      "source": [
        "# Exceptions\n",
        "\n",
        "- Ocorrência em que o fluxo do programa produz algum tipo de erro\n",
        "- Pode ser em decorrência de problemas de codificação ou situação\n",
        "inesperada (banco de dados indisponível)\n",
        "- Um exceção não trata causa o fim do programa\n",
        "- Uma exceção tratada permite controlar o fluxo do programa e se\n",
        "possível, seguir um caminho diferente\n",
        "\n",
        "------------------------------------------------------------------------------------------------------------------------\n",
        "\n",
        "```\n",
        "try:\n",
        "    neste bloco pode ocorrer erro\n",
        "except: [pode haver mais uma cláusula]\n",
        "    este bloco é executado em caso de erro\n",
        "else: [opcional]\n",
        "    executa somente se não houver erro\n",
        "finally: [opcional]\n",
        "    sempre será executada, com ou sem err\n",
        "```"
      ],
      "metadata": {
        "id": "WfQgprV522P-"
      }
    },
    {
      "cell_type": "code",
      "execution_count": null,
      "metadata": {
        "id": "cpuQNz_RyKRT"
      },
      "outputs": [],
      "source": [
        "print('Inicio')\n",
        "\n",
        "lista = [1,2,3]\n",
        "\n",
        "try:\n",
        "    print(lista[10])\n",
        "except Exception as error:\n",
        "    print('Falha ao acessar linha nao encontrada, erro: ' + str(error))\n",
        "print('Fim')"
      ]
    },
    {
      "cell_type": "code",
      "source": [
        "print('Inicio')\n",
        "\n",
        "lista = [1,2,3]\n",
        "\n",
        "try:\n",
        "    print(lista[10])\n",
        "except Exception as error:\n",
        "    print('Falha ao acessar linha nao encontrada, erro: ' + str(error))\n",
        "finally:\n",
        "    del lista\n",
        "    print('Executa sempre que o try-except acabar, mesmo que nao ocorra erro')\n",
        "print('Fim')\n",
        "\n"
      ],
      "metadata": {
        "id": "BbzxDOOg4fpT"
      },
      "execution_count": null,
      "outputs": []
    },
    {
      "cell_type": "code",
      "source": [
        "print('Inicio')\n",
        "\n",
        "lista = [1,2,3]\n",
        "\n",
        "try:\n",
        "    print(lista[0])\n",
        "except Exception as error:\n",
        "    print('Falha ao acessar linha nao encontrada, erro: ' + str(error))\n",
        "else: # Executa somente se nao houver erros\n",
        "    del lista\n",
        "    print('Nao houve erro')\n",
        "print('Fim')"
      ],
      "metadata": {
        "id": "Ysl2-zvq4_aR"
      },
      "execution_count": null,
      "outputs": []
    },
    {
      "cell_type": "code",
      "source": [
        "print('Inicio')\n",
        "\n",
        "lista = [1,2,3]\n",
        "\n",
        "try: # Codigo que pode dar erro\n",
        "    print(lista[10]) # Trocar esse valor para teste\n",
        "except Exception as error: # Codigo executado se der erro\n",
        "    print('Falha ao acessar linha nao encontrada, erro: ' + str(error))\n",
        "else: # Codigo executado se nao der erro\n",
        "    del lista\n",
        "    print('Nao houve erro')\n",
        "finally: # Codigo executado sempre\n",
        "    print('Executa sempre!')\n",
        "print('Fim')"
      ],
      "metadata": {
        "id": "63NvCpFf5PYj"
      },
      "execution_count": null,
      "outputs": []
    },
    {
      "cell_type": "markdown",
      "source": [
        "# Tipos de Exceptions"
      ],
      "metadata": {
        "id": "AHhiq1_85tyZ"
      }
    },
    {
      "cell_type": "code",
      "source": [
        "print('Aqui inicia')\n",
        "\n",
        "lista = [1,2,3]\n",
        "\n",
        "try:\n",
        "    print(lista[10])\n",
        "except IndexError as erroIndex: #Erro especifico\n",
        "    print('Erro de acesso ao index: ' + str(erroIndex))\n",
        "except:\n",
        "    print('Ocorreu outro erro')\n",
        "else:\n",
        "    print('Executa se nao ocorre erro')\n",
        "\n",
        "print('Aqui acaba')\n"
      ],
      "metadata": {
        "id": "JzNyzvYP5x9a"
      },
      "execution_count": null,
      "outputs": []
    },
    {
      "cell_type": "code",
      "source": [
        "from IPython.core.excolors import ExceptionColors\n",
        "print('Aqui inicia')\n",
        "\n",
        "lista = [1,2,3]\n",
        "numero = 0\n",
        "\n",
        "try:\n",
        "    divisao = 10 / numero\n",
        "    print(lista[10])\n",
        "except IndexError as erroIndex: #Erro especifico\n",
        "    print('Erro de acesso ao index: ' + str(erroIndex))\n",
        "except ZeroDivisionError as erroDivisaoZero:\n",
        "    print('Erro divisao por zero: ' + str(erroDivisaoZero))\n",
        "except Exception as error:\n",
        "    print('Ocorreu outro erro' + str(error))\n",
        "else:\n",
        "    print('Executa se nao ocorre erro')\n",
        "\n",
        "print('Aqui acaba')\n"
      ],
      "metadata": {
        "id": "fqNRmis78Z7w"
      },
      "execution_count": null,
      "outputs": []
    },
    {
      "cell_type": "markdown",
      "source": [
        "# Gerando as propias exceptions"
      ],
      "metadata": {
        "id": "9WpI-R-A9a6c"
      }
    },
    {
      "cell_type": "code",
      "source": [
        "raise Exception('Exception criada')"
      ],
      "metadata": {
        "id": "CyJeDApK9eFb"
      },
      "execution_count": null,
      "outputs": []
    },
    {
      "cell_type": "code",
      "source": [
        "raise IndexError('Exception de index')"
      ],
      "metadata": {
        "id": "uztArBxW9qXS"
      },
      "execution_count": null,
      "outputs": []
    },
    {
      "cell_type": "code",
      "source": [
        "def printa_positivo(numero):\n",
        "    if numero < 0:\n",
        "        raise ValueError('Valor nao pode ser negativo')\n",
        "    print(numero)\n",
        "\n",
        "try:\n",
        "    #printa_positivo(-1)\n",
        "    printa_positivo(10)\n",
        "    #printa_positivo('b')\n",
        "except ValueError as erro:\n",
        "    print('O erro eh: ' + str(erro))    \n",
        "except Exception as erro1:\n",
        "    print('Erro qualquer --> ', str(erro1))"
      ],
      "metadata": {
        "id": "9NS--_Od9vtA"
      },
      "execution_count": null,
      "outputs": []
    },
    {
      "cell_type": "code",
      "source": [
        "def printa_positivo(numero):\n",
        "    assert(numero >= 0) #Faz o teste logico pra saber se o valor eh maior que zero (nao retorna mensagem)\n",
        "    print(numero)\n",
        "\n",
        "try:\n",
        "    printa_positivo(-1)\n",
        "    #printa_positivo(10)\n",
        "    #printa_positivo('b')\n",
        "except AssertionError as erro:\n",
        "    print('O erro eh: ' + str(erro))    \n",
        "except Exception as erro1:\n",
        "    print('Erro qualquer --> ', str(erro1))"
      ],
      "metadata": {
        "id": "V_40HoWb_Q-E"
      },
      "execution_count": null,
      "outputs": []
    },
    {
      "cell_type": "markdown",
      "source": [
        "# Exercicios"
      ],
      "metadata": {
        "id": "-z_LqP7e_61d"
      }
    },
    {
      "cell_type": "code",
      "source": [
        "'''\n",
        "1 - Crie uma função que receba duas strings que serão convertidas para \n",
        "números para serem somadas, se ao realizar o casting ocorrer um erro, gere \n",
        "uma exceção informando o motivo\n",
        "'''\n",
        "\n",
        "def soma(str1,str2):\n",
        "    try:\n",
        "        num1 = float(str1)\n",
        "        num2 = float(str2)\n",
        "        return num1 + num2\n",
        "    except:\n",
        "        raise Exception('Falha no casting')\n",
        "\n",
        "print(soma('1','2')) # sucesso\n",
        "print(soma('a','2')) # erro\n",
        "\n"
      ],
      "metadata": {
        "id": "VTUG03_Z_6nq"
      },
      "execution_count": null,
      "outputs": []
    },
    {
      "cell_type": "code",
      "source": [
        "'''\n",
        "2 - Crie uma função que receba uma lista e um número e retorne o elemento \n",
        "da lista na posição deste número. Faça um tratamento para que caso haja um \n",
        "acesso fora do índice a função retorne o valor None.\n",
        "'''\n",
        "\n",
        "def acessaLista(lista, indice):\n",
        "    try:\n",
        "        return lista[indice]\n",
        "    except:\n",
        "        return None\n",
        "\n",
        "lista = [1]\n",
        "\n",
        "print(acessaLista(lista,0)) # Sucesso\n",
        "print(acessaLista(lista,2)) # Exception"
      ],
      "metadata": {
        "id": "Asu-C2wWBmPd"
      },
      "execution_count": null,
      "outputs": []
    },
    {
      "cell_type": "code",
      "source": [
        "'''\n",
        "3 - Crie uma função que leia o input do usuário e retorne o que foi \n",
        "digitado, mas caso o input seja interrompido trate a exceção e retorne o \n",
        "valor None.\n",
        "'''\n",
        "\n",
        "def le_input_seguro():\n",
        "    try:\n",
        "        return input('Digite algo: ')\n",
        "    except:\n",
        "        return None\n",
        "\n",
        "print(le_input_seguro())"
      ],
      "metadata": {
        "id": "brgb99U_CQS9"
      },
      "execution_count": null,
      "outputs": []
    },
    {
      "cell_type": "code",
      "source": [
        "'''\n",
        "4 - Crie uma classe que represente um caractere (string de tamanho 1), use \n",
        "propriedades ou crie uma função para isso (mas deixe valor privado) e caso \n",
        "o usuário tente inserir um texto gere uma exceção dizendo o motivo.\n",
        "'''\n",
        "\n",
        "class Caractere:\n",
        "    def __init__(self, caracter):\n",
        "        self.__caracter = ''\n",
        "        self.caracter = caracter\n",
        "\n",
        "    @property\n",
        "    def caracter(self):\n",
        "        return self.__caracter\n",
        "    \n",
        "    @caracter.setter\n",
        "    def caracter(self, value):\n",
        "        if len(value) > 1:\n",
        "            raise Exception('Caracter deve ter no maximo tamanho 1')\n",
        "\n",
        "        self.__caracter = value\n",
        "\n",
        "letra = Caractere('a')\n",
        "print(letra.caracter)\n",
        "\n",
        "try:\n",
        "    #letra.caracter = 'ab'\n",
        "    letra.caracter = 'b'\n",
        "except Exception as ex:\n",
        "    print(str(ex))\n",
        "\n",
        "print(letra.caracter)\n"
      ],
      "metadata": {
        "colab": {
          "base_uri": "https://localhost:8080/"
        },
        "id": "NYGaTIS3CR7O",
        "outputId": "afe8cbb3-44cf-486f-a34c-a854f2c0fe4c"
      },
      "execution_count": 45,
      "outputs": [
        {
          "output_type": "stream",
          "name": "stdout",
          "text": [
            "a\n",
            "b\n"
          ]
        }
      ]
    }
  ]
}