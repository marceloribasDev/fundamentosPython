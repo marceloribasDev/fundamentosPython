{
  "nbformat": 4,
  "nbformat_minor": 0,
  "metadata": {
    "colab": {
      "provenance": [],
      "authorship_tag": "ABX9TyNwbVHYXvQAtv1wpaDxh+Gw",
      "include_colab_link": true
    },
    "kernelspec": {
      "name": "python3",
      "display_name": "Python 3"
    },
    "language_info": {
      "name": "python"
    }
  },
  "cells": [
    {
      "cell_type": "markdown",
      "metadata": {
        "id": "view-in-github",
        "colab_type": "text"
      },
      "source": [
        "<a href=\"https://colab.research.google.com/github/marceloribasDev/fundamentosPython/blob/main/Functions_Python.ipynb\" target=\"_parent\"><img src=\"https://colab.research.google.com/assets/colab-badge.svg\" alt=\"Open In Colab\"/></a>"
      ]
    },
    {
      "cell_type": "markdown",
      "source": [
        "# Functions"
      ],
      "metadata": {
        "id": "ZIblnuGyLevW"
      }
    },
    {
      "cell_type": "markdown",
      "source": [
        "# Functions"
      ],
      "metadata": {
        "id": "qw25HLzMY863"
      }
    },
    {
      "cell_type": "code",
      "execution_count": null,
      "metadata": {
        "id": "WCi2SE2syeQb"
      },
      "outputs": [],
      "source": [
        "def func(*args, outro):\n",
        "    print(\"Argumentos sao: \", args)\n",
        "    print(outro)\n",
        "\n",
        "func(1,2,3, outro=\"1\")    "
      ]
    },
    {
      "cell_type": "code",
      "source": [
        "def subtrai(num1,num2):\n",
        "    valor = num1 - num2\n",
        "    return valor\n",
        "\n",
        "subtracao = subtrai(10,3)\n",
        "\n",
        "print(subtracao)"
      ],
      "metadata": {
        "id": "-8wRNxp3fxYX"
      },
      "execution_count": null,
      "outputs": []
    },
    {
      "cell_type": "code",
      "source": [
        "def len_int(num):\n",
        "    numero_em_texto = str(num)\n",
        "    return len(numero_em_texto)\n",
        "\n",
        "num1 = 10\n",
        "num2 = 1230\n",
        "\n",
        "tamanho1 = len_int(num1)\n",
        "tamanho2 = len_int(num2)\n",
        "\n",
        "print(\"O numero %d tem %d digitos\" % (num1, tamanho1))\n",
        "print(\"O numero %d tem %d digitos\" % (num2, tamanho2))\n",
        "    "
      ],
      "metadata": {
        "id": "07R88aycjqhm"
      },
      "execution_count": null,
      "outputs": []
    },
    {
      "cell_type": "code",
      "source": [
        "def retorna_multiplo(a,b,c):\n",
        "    a += a\n",
        "    b += b\n",
        "    c += c\n",
        "    return a,b,c\n",
        "\n",
        "x,y,z = retorna_multiplo(1,2,3)\n",
        "print(x,y,z)"
      ],
      "metadata": {
        "id": "QNxDKy2k0jYK"
      },
      "execution_count": null,
      "outputs": []
    },
    {
      "cell_type": "markdown",
      "source": [
        "\n",
        "\n",
        "---\n",
        "\n"
      ],
      "metadata": {
        "id": "BhM74MoI1mCn"
      }
    },
    {
      "cell_type": "markdown",
      "source": [
        "# Funcao Lambda"
      ],
      "metadata": {
        "id": "hhVMBlYT1etE"
      }
    },
    {
      "cell_type": "code",
      "source": [
        "faz_soma = lambda x : x + 10\n",
        "\n",
        "valor = faz_soma(2)\n",
        "\n",
        "print(valor)"
      ],
      "metadata": {
        "id": "qhU5_q0z1n-n"
      },
      "execution_count": null,
      "outputs": []
    },
    {
      "cell_type": "code",
      "source": [
        "multiplica = lambda x,y : x * y\n",
        "valor = multiplica(2,10)\n",
        "print(valor)"
      ],
      "metadata": {
        "id": "NrR6OB6Y65nT"
      },
      "execution_count": null,
      "outputs": []
    },
    {
      "cell_type": "code",
      "source": [
        "def multiplica(y):\n",
        "    return lambda x : x * y \n",
        "\n",
        "valor = multiplica(2)\n",
        "\n",
        "resultado = valor(10)\n",
        "\n",
        "print(resultado)"
      ],
      "metadata": {
        "id": "S7uDU6TN7prp"
      },
      "execution_count": null,
      "outputs": []
    },
    {
      "cell_type": "markdown",
      "source": [
        "# Funcao Recursivas"
      ],
      "metadata": {
        "id": "iyMWolJz_GM7"
      }
    },
    {
      "cell_type": "code",
      "source": [
        "def print_num(num):\n",
        "    print(num)\n",
        "    if num >= 10:\n",
        "        return\n",
        "    print_num(num +1)\n",
        "\n",
        "print_num(0)"
      ],
      "metadata": {
        "id": "asugaRtX_JSr"
      },
      "execution_count": null,
      "outputs": []
    },
    {
      "cell_type": "code",
      "source": [
        "def print_str(texto, indice):\n",
        "    if indice == len(texto):\n",
        "        return\n",
        "    print(texto[indice])\n",
        "    print_str(texto, indice + 1)\n",
        "\n",
        "print_str(\"Python\", 0)"
      ],
      "metadata": {
        "id": "g1p4e_kN_jFv"
      },
      "execution_count": null,
      "outputs": []
    },
    {
      "cell_type": "code",
      "source": [
        "def fatorial(num):\n",
        "    if(num==1):\n",
        "        return 1\n",
        "    \n",
        "    return num * fatorial(num-1)\n",
        "\n",
        "print(fatorial(10))"
      ],
      "metadata": {
        "id": "r99PIquV_75_"
      },
      "execution_count": null,
      "outputs": []
    },
    {
      "cell_type": "markdown",
      "source": [
        "# Funcao Aninhadas"
      ],
      "metadata": {
        "id": "W8uZnhQqCE6o"
      }
    },
    {
      "cell_type": "code",
      "source": [
        "def calculadora(num1,num2,op):\n",
        "    def soma(a,b):\n",
        "        return a + b\n",
        "    def subtracao(a,b):\n",
        "        return a - b\n",
        "    def multiplicacao(a,b):\n",
        "        return a * b\n",
        "    def divisao(a,b):\n",
        "        return a / b\n",
        "    \n",
        "    if (op == '+'):\n",
        "        return soma(num1, num2)\n",
        "    elif (op == '-'):\n",
        "        return subtracao(num1, num2)\n",
        "    elif (op == '*'):\n",
        "        return multiplicacao(num1, num2)\n",
        "    elif (op == '/'):\n",
        "        return divisao(num1, num2)\n",
        "    else:\n",
        "        print(\"Operacao invalida\")\n",
        "\n",
        "mais = calculadora(10,5,'+')\n",
        "menos = calculadora(10,5,'-')        \n",
        "vezes = calculadora(10,5,'*')        \n",
        "dividi = calculadora(10,5,'/')        \n",
        "\n",
        "print(mais)\n",
        "print(menos)\n",
        "print(vezes)\n",
        "print(dividi)"
      ],
      "metadata": {
        "id": "49tvWUq6CHLH"
      },
      "execution_count": null,
      "outputs": []
    },
    {
      "cell_type": "code",
      "source": [
        "def pega_func_print():\n",
        "    def print_var(var):\n",
        "        print(var)\n",
        "    return print_var\n",
        "\n",
        "print_me = pega_func_print()\n",
        "\n",
        "print_me(10)"
      ],
      "metadata": {
        "id": "k09jzPcCJAZw"
      },
      "execution_count": null,
      "outputs": []
    },
    {
      "cell_type": "markdown",
      "source": [
        "# Decorators"
      ],
      "metadata": {
        "id": "eN-sA14jP6uj"
      }
    },
    {
      "cell_type": "code",
      "source": [
        "def deixa_maiusculo(func):\n",
        "    def inner_func():\n",
        "        return func().upper()\n",
        "    return inner_func\n",
        "\n",
        "@deixa_maiusculo\n",
        "def retorna_string():\n",
        "    return \"string de teste em maiusculo\"\n",
        "\n",
        "valor = retorna_string()\n",
        "\n",
        "print(valor)"
      ],
      "metadata": {
        "id": "fixLIKhIP-TS"
      },
      "execution_count": null,
      "outputs": []
    },
    {
      "cell_type": "code",
      "source": [
        "def deixa_maiusculo(func):\n",
        "    def inner_func(str1,str2):\n",
        "        return func(str1,str2).upper()\n",
        "    return inner_func\n",
        "\n",
        "@deixa_maiusculo\n",
        "def concat_string(str1,str2):\n",
        "    return str1 + str2\n",
        "\n",
        "valor = concat_string('marcelo',' ribas')\n",
        "\n",
        "print(valor)    "
      ],
      "metadata": {
        "id": "sopot9z4RrFw"
      },
      "execution_count": null,
      "outputs": []
    },
    {
      "cell_type": "code",
      "source": [
        "def DeixaMauisculo(func):\n",
        "    def inner_func(texto):\n",
        "        return func(texto).upper()\n",
        "    return inner_func\n",
        "\n",
        "def InsereParenteses(func):\n",
        "    def inner_func(texto):\n",
        "        return '(' + func(texto) + ')'\n",
        "    return inner_func\n",
        "\n",
        "# Decorators\n",
        "@DeixaMauisculo\n",
        "@InsereParenteses\n",
        "def formata_string(texto):\n",
        "    return texto\n",
        "\n",
        "\n",
        "print(formata_string('Ola este texto sera formatado'))"
      ],
      "metadata": {
        "id": "eooK0MG_VD1p"
      },
      "execution_count": null,
      "outputs": []
    },
    {
      "cell_type": "markdown",
      "source": [
        "# Exercicios"
      ],
      "metadata": {
        "id": "gUpk-1A7WeV9"
      }
    },
    {
      "cell_type": "code",
      "source": [
        "# 1 - Crie uma função chamada “e_negativo” que receba um número, retorna um booleano “True” \n",
        "# se o número for negativo, caso contrário retorna “False”.\n",
        "\n",
        "def eh_negativo(num):\n",
        "      return num < 0\n",
        "  \n",
        "teste_num = eh_negativo(-10)\n",
        "\n",
        "print(teste_num)"
      ],
      "metadata": {
        "id": "4l_V2yObWhlB"
      },
      "execution_count": null,
      "outputs": []
    },
    {
      "cell_type": "code",
      "source": [
        "# 2 - Crie um função que receba um array de números (int ou float) e retorne sua soma.\n",
        "\n",
        "def soma_array(arr):\n",
        "    soma = 0\n",
        "    for i in arr:\n",
        "        soma += i\n",
        "    return soma\n",
        "\n",
        "resultado = soma_array([1,2,3])\n",
        "\n",
        "print(resultado)"
      ],
      "metadata": {
        "id": "kHsYw7ZrXPE5"
      },
      "execution_count": null,
      "outputs": []
    },
    {
      "cell_type": "code",
      "source": [
        "# 3 - Crie um função que receba uma string e que conte e retorne o número de vogais desta string\n",
        "\n",
        "def conta_vogais(texto):\n",
        "    vogais = 0\n",
        "    arr_vogais = ('a','e','i','o','u')\n",
        "    for i in texto:\n",
        "        if i in arr_vogais:\n",
        "            vogais += 1\n",
        "    return vogais\n",
        "\n",
        "count = conta_vogais('kjfasdifujpoiwrjpoianfvpneptunpungbv;dsjfn;bkajhsfduiashdfjiajshdflkjriuoqwytioqupojgnafm,nvas,mdhfklashaei')\n",
        "\n",
        "print(count)"
      ],
      "metadata": {
        "id": "jV0lnBMicLib"
      },
      "execution_count": null,
      "outputs": []
    },
    {
      "cell_type": "code",
      "source": [
        "# 4 - Crie um função que retorne o último caractere de um string recebida.\n",
        "def ultimo_caracter(palavra):\n",
        "    return palavra[len(palavra)-1]\n",
        "\n",
        "resultado = ultimo_caracter('Python')\n",
        "\n",
        "print(resultado)"
      ],
      "metadata": {
        "id": "zaFXHhBEdrdO"
      },
      "execution_count": null,
      "outputs": []
    },
    {
      "cell_type": "code",
      "source": [
        "# 5 - Crie um função que receba uma lista de elementos e um valor qualquer. \n",
        "# Em seguida retorne um booleano dizendo se o valor foi encontrado ou não na lista.\n",
        "\n",
        "def encontra(array, item):\n",
        "    for i in array:\n",
        "        if (i == item):\n",
        "            return True\n",
        "    return False\n",
        "\n",
        "arr = [1,'3','Marcelo',1.5, True]       \n",
        "\n",
        "print(encontra(arr,'abc'))\n",
        "print(encontra(arr,1))\n",
        "print(encontra(arr,True))\n",
        "print(encontra(arr,False))"
      ],
      "metadata": {
        "id": "QLjL7mlEhZ1L"
      },
      "execution_count": null,
      "outputs": []
    },
    {
      "cell_type": "code",
      "source": [
        "# 6 - Crie um função que receba uma lista de elementos e um valor qualquer. Em \n",
        "# seguida retorne um booleano dizendo se o valor foi encontrado ou não e também \n",
        "# a posição onde foi encontrado.\n",
        "\n",
        "def encontra_index(arr, item):\n",
        "    for i in range(0, len(arr)):\n",
        "        if (arr[i] == item):\n",
        "            return True, i\n",
        "    return False, -1\n",
        "\n",
        "arr = [10,'3','Marcelo',1.5, True, 'abc']       \n",
        "\n",
        "print(encontra_index(arr,'abc'))\n",
        "print(encontra_index(arr,10))\n",
        "print(encontra_index(arr,True))\n",
        "print(encontra_index(arr,False))            "
      ],
      "metadata": {
        "id": "zUgetgdmhie_"
      },
      "execution_count": null,
      "outputs": []
    },
    {
      "cell_type": "code",
      "source": [
        "# 7 - Crie uma função que recebe um número arbitrário de parâmetros. Em seguida \n",
        "# diga qual o tipo de cada parâmetro\n",
        "def mostra_tipo(*args):\n",
        "    for i in args:\n",
        "        print(type(i))\n",
        "\n",
        "mostra_tipo(1,2,3.4,'text',True)"
      ],
      "metadata": {
        "id": "1Qy1pzQphuX1"
      },
      "execution_count": null,
      "outputs": []
    },
    {
      "cell_type": "code",
      "source": [
        "# 8 - Crie uma função que receba um string, mas que possua um decorator para \n",
        "# transforma-la em uma citação, ou seja você deve retornas strings entre aspas \n",
        "# duplas, além disso transforme todos os caracteres para minúscula usando a \n",
        "# função lower()\n",
        "\n",
        "def citacao(func):\n",
        "    def inner_func(texto):\n",
        "        return func(texto).lower()\n",
        "    return inner_func\n",
        "\n",
        "def insere_aspas(func):\n",
        "    def inner_func(texto):\n",
        "        return '\"' + func(texto) + '\"'\n",
        "    return inner_func\n",
        "\n",
        "# Decorators\n",
        "@citacao\n",
        "@insere_aspas\n",
        "def formata_string(texto):\n",
        "    return texto\n",
        "\n",
        "\n",
        "print('E disse Marcelo: ;', formata_string('Vou APRenDER PyTHoN'))"
      ],
      "metadata": {
        "id": "cfhojAbChxNe"
      },
      "execution_count": null,
      "outputs": []
    },
    {
      "cell_type": "code",
      "source": [
        "# 9 -  Cria uma função recursiva que itere os números de 0 até 10 e printe o \n",
        "# resultado de sua divisão inteira com o número três.\n",
        "\n",
        "def prita_div_3(num):\n",
        "    if (num == 11):\n",
        "        return\n",
        "    print(num // 3)\n",
        "    prita_div_3(num + 1)\n",
        "\n",
        "prita_div_3(0)    \n"
      ],
      "metadata": {
        "id": "mTOMPT2yh4w4"
      },
      "execution_count": null,
      "outputs": []
    }
  ]
}