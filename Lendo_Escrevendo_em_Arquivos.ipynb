{
  "nbformat": 4,
  "nbformat_minor": 0,
  "metadata": {
    "colab": {
      "provenance": [],
      "authorship_tag": "ABX9TyNBkN6pz+jTJT8MbBdbf1Lm",
      "include_colab_link": true
    },
    "kernelspec": {
      "name": "python3",
      "display_name": "Python 3"
    },
    "language_info": {
      "name": "python"
    }
  },
  "cells": [
    {
      "cell_type": "markdown",
      "metadata": {
        "id": "view-in-github",
        "colab_type": "text"
      },
      "source": [
        "<a href=\"https://colab.research.google.com/github/marceloribasDev/fundamentosPython/blob/main/Lendo_Escrevendo_em_Arquivos.ipynb\" target=\"_parent\"><img src=\"https://colab.research.google.com/assets/colab-badge.svg\" alt=\"Open In Colab\"/></a>"
      ]
    },
    {
      "cell_type": "code",
      "execution_count": null,
      "metadata": {
        "id": "GUPbLPb9F3SS"
      },
      "outputs": [],
      "source": [
        "# Lendo Arquivos\n",
        "\n",
        "'''\n",
        "Comando --> open\n",
        "\n",
        "Primeira parte\n",
        "'r' - Abre um arquivo para leitura, ele precisa existir, caso nao exista gera erro\n",
        "'a' - Abre um arquivo para anexar o que voce quiser a ele, cria arquivos se nao existir\n",
        "'w' - Abre um arquivo para escrita, se nao existir o arquivo eh criado\n",
        "'x' - Cria um arquivo, mas se ele existir retorna um erro\n",
        "\n",
        "Segunda parte\n",
        "'t' - Abre um arquivo em modo texto\n",
        "'b' - Abre um arquivo em modo binario\n",
        "\n",
        "Default eh 'rt'\n",
        "'''"
      ]
    },
    {
      "cell_type": "code",
      "source": [
        "arquivo = open('exemplo.txt', 'wt')\n",
        "\n",
        "arquivo.write('Ola estou escrevendo no arquivo\\n')\n",
        "arquivo.write('Essa eh a segunda linha do arquivo')\n",
        "\n",
        "arquivo.close()"
      ],
      "metadata": {
        "id": "XQhb0dltJfU4"
      },
      "execution_count": null,
      "outputs": []
    },
    {
      "cell_type": "code",
      "source": [
        "nomes = ['Arthur','Marcelo', 'Jully']\n",
        "\n",
        "nomes_arq = open('nomes.txt', 'wt')\n",
        "\n",
        "for nome in nomes:\n",
        "    nomes_arq.write(nome + '\\n')\n",
        "\n",
        "nomes_arq.close()"
      ],
      "metadata": {
        "id": "4nxpqgzPKn-b"
      },
      "execution_count": null,
      "outputs": []
    },
    {
      "cell_type": "code",
      "source": [
        "nomes = ['Arthur\\nMarcelo\\nJully']\n",
        "\n",
        "nomes_arq = open('nomes2.txt', 'wt')\n",
        "\n",
        "nomes_arq.writelines(nomes)\n",
        "\n",
        "nomes_arq.close()"
      ],
      "metadata": {
        "id": "G_2rQPTwLWfq"
      },
      "execution_count": null,
      "outputs": []
    },
    {
      "cell_type": "code",
      "source": [
        "lista = [str(i) + '\\n' for i in range(0,20)]\n",
        "arq = open('numeros_3.txt', 'wt')\n",
        "arq.writelines(lista)\n",
        "arq.close()"
      ],
      "metadata": {
        "id": "C9yVFeqFpzBL"
      },
      "execution_count": null,
      "outputs": []
    },
    {
      "cell_type": "code",
      "source": [
        "with open('exemplo.txt', 'wt') as arquivo:\n",
        "    arquivo.write('Ola estou escrevendo no arquivo\\n')\n",
        "    arquivo.write('Essa eh a segunda linha do arquivo')"
      ],
      "metadata": {
        "id": "z0dTRUMAq144"
      },
      "execution_count": null,
      "outputs": []
    },
    {
      "cell_type": "code",
      "source": [
        "# Verficiando existencia e tratando erros\n",
        "\n",
        "from os import path\n",
        "\n",
        "arquivo_existe = path.exists('exemplo.txt')\n",
        "\n",
        "if arquivo_existe:\n",
        "    print('Arquivo existe')\n",
        "else:\n",
        "    print('Arquivo nao existe')    "
      ],
      "metadata": {
        "id": "ifShf5TN64GH",
        "outputId": "09df3b4e-2b17-4338-d0ee-64ffd598d2ca",
        "colab": {
          "base_uri": "https://localhost:8080/"
        }
      },
      "execution_count": 1,
      "outputs": [
        {
          "output_type": "stream",
          "name": "stdout",
          "text": [
            "Arquivo nao existe\n"
          ]
        }
      ]
    }
  ]
}