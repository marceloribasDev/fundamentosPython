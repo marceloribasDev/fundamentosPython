{
  "nbformat": 4,
  "nbformat_minor": 0,
  "metadata": {
    "colab": {
      "provenance": [],
      "authorship_tag": "ABX9TyNQqeJagznipthIqHrYQUUV",
      "include_colab_link": true
    },
    "kernelspec": {
      "name": "python3",
      "display_name": "Python 3"
    },
    "language_info": {
      "name": "python"
    }
  },
  "cells": [
    {
      "cell_type": "markdown",
      "metadata": {
        "id": "view-in-github",
        "colab_type": "text"
      },
      "source": [
        "<a href=\"https://colab.research.google.com/github/marceloribasDev/fundamentosPython/blob/main/Lendo_Escrevendo_em_Arquivos.ipynb\" target=\"_parent\"><img src=\"https://colab.research.google.com/assets/colab-badge.svg\" alt=\"Open In Colab\"/></a>"
      ]
    },
    {
      "cell_type": "code",
      "execution_count": null,
      "metadata": {
        "id": "GUPbLPb9F3SS"
      },
      "outputs": [],
      "source": [
        "# Lendo Arquivos\n",
        "\n",
        "'''\n",
        "Comando --> open\n",
        "\n",
        "Primeira parte\n",
        "'r' - Abre um arquivo para leitura, ele precisa existir, caso nao exista gera erro\n",
        "'a' - Abre um arquivo para anexar o que voce quiser a ele, cria arquivos se nao existir\n",
        "'w' - Abre um arquivo para escrita, se nao existir o arquivo eh criado\n",
        "'x' - Cria um arquivo, mas se ele existir retorna um erro\n",
        "\n",
        "Segunda parte\n",
        "'t' - Abre um arquivo em modo texto\n",
        "'b' - Abre um arquivo em modo binario\n",
        "\n",
        "Default eh 'rt'\n",
        "'''"
      ]
    },
    {
      "cell_type": "code",
      "source": [
        "arquivo = open('exemplo.txt', 'wt')\n",
        "\n",
        "arquivo.write('Ola estou escrevendo no arquivo\\n')\n",
        "arquivo.write('Essa eh a segunda linha do arquivo')\n",
        "\n",
        "arquivo.close()"
      ],
      "metadata": {
        "id": "XQhb0dltJfU4"
      },
      "execution_count": null,
      "outputs": []
    },
    {
      "cell_type": "code",
      "source": [
        "nomes = ['Arthur','Marcelo', 'Jully']\n",
        "\n",
        "nomes_arq = open('nomes.txt', 'wt')\n",
        "\n",
        "for nome in nomes:\n",
        "    nomes_arq.write(nome + '\\n')\n",
        "\n",
        "nomes_arq.close()"
      ],
      "metadata": {
        "id": "4nxpqgzPKn-b"
      },
      "execution_count": null,
      "outputs": []
    },
    {
      "cell_type": "code",
      "source": [
        "nomes = ['Arthur\\nMarcelo\\nJully']\n",
        "\n",
        "nomes_arq = open('nomes2.txt', 'wt')\n",
        "\n",
        "nomes_arq.writelines(nomes)\n",
        "\n",
        "nomes_arq.close()"
      ],
      "metadata": {
        "id": "G_2rQPTwLWfq"
      },
      "execution_count": null,
      "outputs": []
    },
    {
      "cell_type": "code",
      "source": [
        "lista = [str(i) + '\\n' for i in range(0,20)]\n",
        "arq = open('numeros_3.txt', 'wt')\n",
        "arq.writelines(lista)\n",
        "arq.close()"
      ],
      "metadata": {
        "id": "C9yVFeqFpzBL"
      },
      "execution_count": null,
      "outputs": []
    },
    {
      "cell_type": "code",
      "source": [
        "with open('exemplo.txt', 'wt') as arquivo:\n",
        "    arquivo.write('Ola estou escrevendo no arquivo\\n')\n",
        "    arquivo.write('Essa eh a segunda linha do arquivo')"
      ],
      "metadata": {
        "id": "z0dTRUMAq144"
      },
      "execution_count": null,
      "outputs": []
    },
    {
      "cell_type": "code",
      "source": [
        "# Verficiando existencia e tratando erros\n",
        "\n",
        "from os import path\n",
        "\n",
        "arquivo_existe = path.exists('exemplo.txt')\n",
        "\n",
        "if arquivo_existe:\n",
        "    print('Arquivo existe')\n",
        "else:\n",
        "    print('Arquivo nao existe')    "
      ],
      "metadata": {
        "id": "ifShf5TN64GH"
      },
      "execution_count": null,
      "outputs": []
    },
    {
      "cell_type": "code",
      "source": [
        "# Remove arquivo\n",
        "\n",
        "import os \n",
        "\n",
        "os.remove('exemplo.txt')"
      ],
      "metadata": {
        "id": "rji_63ri8QNR"
      },
      "execution_count": null,
      "outputs": []
    },
    {
      "cell_type": "code",
      "source": [
        "# Tratamento de excessoes\n",
        "\n",
        "file = open('teste.txt','w')\n",
        "\n",
        "try:\n",
        "    file.write('Hello World')\n",
        "finally:\n",
        "    file.close()    "
      ],
      "metadata": {
        "id": "Qd-4PeXh8lPI"
      },
      "execution_count": null,
      "outputs": []
    },
    {
      "cell_type": "code",
      "source": [
        "import os\n",
        "\n",
        "try:\n",
        "    os.remove('rsrsr.txt')\n",
        "except Exception as error:\n",
        "    print('Ocorreu um erro ao deletar uma pasta --> ' + str(error))"
      ],
      "metadata": {
        "id": "N7a7ZJEIBkbd"
      },
      "execution_count": null,
      "outputs": []
    },
    {
      "cell_type": "code",
      "source": [
        "# Criando e excluindo pastas\n",
        "\n",
        "import os\n",
        "\n",
        "os.mkdir('nome_pasta')"
      ],
      "metadata": {
        "id": "9dYjOOEwCFPY"
      },
      "execution_count": null,
      "outputs": []
    },
    {
      "cell_type": "code",
      "source": [
        "import os\n",
        "\n",
        "os.rmdir('nome_pasta') # pasta deve estar vazia para ser deletada"
      ],
      "metadata": {
        "id": "gMCEJoZcExH0"
      },
      "execution_count": null,
      "outputs": []
    },
    {
      "cell_type": "code",
      "source": [
        "import os\n",
        "\n",
        "for i in range(0,10):\n",
        "    nome_pasta = 'pasta' + str(i)\n",
        "    try:\n",
        "        os.mkdir(nome_pasta)\n",
        "    except:\n",
        "        pass\n",
        "\n",
        "    try:\n",
        "        open(nome_pasta + '/texto.txt', 'wt').close()\n",
        "    except:\n",
        "        pass        "
      ],
      "metadata": {
        "id": "qryzYzuGE8pg"
      },
      "execution_count": 14,
      "outputs": []
    },
    {
      "cell_type": "code",
      "source": [
        "import os\n",
        "\n",
        "for i in range(0,10):\n",
        "    nome_pasta = 'pasta' + str(i)\n",
        "    try:\n",
        "        os.remove(nome_pasta + '/texto.txt')\n",
        "    except:\n",
        "        pass\n",
        "\n",
        "    try:\n",
        "        os.rmdir(nome_pasta)\n",
        "    except:\n",
        "        print('Falha ao excluir pasta -->' + nome_pasta)    "
      ],
      "metadata": {
        "id": "Rh8fuFPqF23a"
      },
      "execution_count": 13,
      "outputs": []
    },
    {
      "cell_type": "code",
      "source": [
        "# Exclui diretorio com arquivo dentro\n",
        "\n",
        "import shutil\n",
        "\n",
        "for i in range(0,10):\n",
        "    nome_pasta = 'pasta' + str(i)\n",
        "\n",
        "    try:\n",
        "        shutil.rmtree(nome_pasta)\n",
        "    except:\n",
        "        print('Falha ao excluir pasta -->' + nome_pasta)  "
      ],
      "metadata": {
        "id": "DcXSVbnQGQle"
      },
      "execution_count": 15,
      "outputs": []
    },
    {
      "cell_type": "code",
      "source": [
        "# Lista conteudo de um diretorio\n",
        "import os\n",
        "\n",
        "files = os.listdir()\n",
        "\n",
        "print(files)\n",
        "\n",
        "files = os.listdir('/content/sample_data')\n",
        "\n",
        "print(files)"
      ],
      "metadata": {
        "id": "IrrxJ8ALGrlq",
        "outputId": "ecc19909-67ad-462b-e2bd-fcd9cbb0802a",
        "colab": {
          "base_uri": "https://localhost:8080/"
        }
      },
      "execution_count": 17,
      "outputs": [
        {
          "output_type": "stream",
          "name": "stdout",
          "text": [
            "['.config', 'exemplo.txt', 'sample_data']\n",
            "['anscombe.json', 'README.md', 'california_housing_train.csv', 'california_housing_test.csv', 'mnist_train_small.csv', 'mnist_test.csv']\n"
          ]
        }
      ]
    }
  ]
}