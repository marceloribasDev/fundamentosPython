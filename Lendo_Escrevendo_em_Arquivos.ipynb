{
  "nbformat": 4,
  "nbformat_minor": 0,
  "metadata": {
    "colab": {
      "provenance": [],
      "authorship_tag": "ABX9TyOyM7Gl/giyekDcS4LwIffU",
      "include_colab_link": true
    },
    "kernelspec": {
      "name": "python3",
      "display_name": "Python 3"
    },
    "language_info": {
      "name": "python"
    }
  },
  "cells": [
    {
      "cell_type": "markdown",
      "metadata": {
        "id": "view-in-github",
        "colab_type": "text"
      },
      "source": [
        "<a href=\"https://colab.research.google.com/github/marceloribasDev/fundamentosPython/blob/main/Lendo_Escrevendo_em_Arquivos.ipynb\" target=\"_parent\"><img src=\"https://colab.research.google.com/assets/colab-badge.svg\" alt=\"Open In Colab\"/></a>"
      ]
    },
    {
      "cell_type": "code",
      "execution_count": null,
      "metadata": {
        "id": "GUPbLPb9F3SS"
      },
      "outputs": [],
      "source": [
        "# Lendo Arquivos\n",
        "\n",
        "'''\n",
        "Comando --> open\n",
        "\n",
        "Primeira parte\n",
        "'r' - Abre um arquivo para leitura, ele precisa existir, caso nao exista gera erro\n",
        "'a' - Abre um arquivo para anexar o que voce quiser a ele, cria arquivos se nao existir\n",
        "'w' - Abre um arquivo para escrita, se nao existir o arquivo eh criado\n",
        "'x' - Cria um arquivo, mas se ele existir retorna um erro\n",
        "\n",
        "Segunda parte\n",
        "'t' - Abre um arquivo em modo texto\n",
        "'b' - Abre um arquivo em modo binario\n",
        "\n",
        "Default eh 'rt'\n",
        "'''"
      ]
    },
    {
      "cell_type": "code",
      "source": [],
      "metadata": {
        "id": "XQhb0dltJfU4"
      },
      "execution_count": null,
      "outputs": []
    }
  ]
}