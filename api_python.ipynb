{
  "nbformat": 4,
  "nbformat_minor": 0,
  "metadata": {
    "colab": {
      "provenance": [],
      "authorship_tag": "ABX9TyMTKJrEOT1NsSyHi3NbC+OT",
      "include_colab_link": true
    },
    "kernelspec": {
      "name": "python3",
      "display_name": "Python 3"
    },
    "language_info": {
      "name": "python"
    }
  },
  "cells": [
    {
      "cell_type": "markdown",
      "metadata": {
        "id": "view-in-github",
        "colab_type": "text"
      },
      "source": [
        "<a href=\"https://colab.research.google.com/github/marceloribasDev/fundamentosPython/blob/main/api_python.ipynb\" target=\"_parent\"><img src=\"https://colab.research.google.com/assets/colab-badge.svg\" alt=\"Open In Colab\"/></a>"
      ]
    },
    {
      "cell_type": "markdown",
      "source": [
        "# API"
      ],
      "metadata": {
        "id": "tUwntWqUzyEV"
      }
    },
    {
      "cell_type": "markdown",
      "source": [
        "## Servico ficticio de cotacao de moeda"
      ],
      "metadata": {
        "id": "0XTSyTyv0gsy"
      }
    },
    {
      "cell_type": "markdown",
      "source": [
        "```\n",
        "Servicos\n",
        "----------------\n",
        "\n",
        "1) [url_do_servico]/cotacao                         --> retorna a cotacao atual\n",
        "2) [url_do_servico]/cotacao/mes                     --> retorna a cotacao do mes especificado\n",
        "3) [url_do_servico]/cotacao/valor                   --> retorna a conversao de um valor qualquer\n",
        "4) [url_do_servico]/cotacaocompleta                 --> querystring  --> ?valor=100&mes=fevereiro\n",
        "5) [url_do_servico]/tabela                          --> retorna uma tabela em Json com a cotacao de todos os meses\n",
        "```\n",
        "\n"
      ],
      "metadata": {
        "id": "GZd7xdPc1mAI"
      }
    },
    {
      "cell_type": "code",
      "source": [
        "import requests\n",
        "\n",
        "x = requests.get(\"http://ed06-34-74-151-200.ngrok.io/cotacao/\")\n",
        "\n",
        "print(x.text)\n",
        "print(x)"
      ],
      "metadata": {
        "id": "cx5fsWF1Aoq1",
        "outputId": "4dba6513-4254-440d-d1d5-cc05fdb5fda9",
        "colab": {
          "base_uri": "https://localhost:8080/"
        }
      },
      "execution_count": 3,
      "outputs": [
        {
          "output_type": "stream",
          "name": "stdout",
          "text": [
            "5.34\n",
            "<Response [200]>\n"
          ]
        }
      ]
    },
    {
      "cell_type": "code",
      "source": [
        "import requests\n",
        "\n",
        "x = requests.get(\"http://34b1-34-74-151-200.ngrok.io/\")\n",
        "print(x.text)"
      ],
      "metadata": {
        "id": "R3bYi-A-HJiq",
        "outputId": "3956ead0-fa71-4762-f287-20ab8d3240a9",
        "colab": {
          "base_uri": "https://localhost:8080/"
        }
      },
      "execution_count": 5,
      "outputs": [
        {
          "output_type": "stream",
          "name": "stdout",
          "text": [
            "Escolha um dos metodos\n"
          ]
        }
      ]
    },
    {
      "cell_type": "code",
      "source": [
        "import requests\n",
        "\n",
        "x = requests.get(\"http://285d-34-74-151-200.ngrok.io/conversao/100.0\")\n",
        "print(x.text)"
      ],
      "metadata": {
        "id": "O0egHknyH9Ys",
        "outputId": "17f6794a-7df9-4bd0-8862-50fa8f2f382e",
        "colab": {
          "base_uri": "https://localhost:8080/"
        }
      },
      "execution_count": 7,
      "outputs": [
        {
          "output_type": "stream",
          "name": "stdout",
          "text": [
            "534.0\n"
          ]
        }
      ]
    },
    {
      "cell_type": "code",
      "source": [
        "import requests\n",
        "\n",
        "x = requests.get(\"http://2694-34-74-151-200.ngrok.io/cotacaocompleta?valor=100&mes=Marco\")\n",
        "print(x.text)"
      ],
      "metadata": {
        "id": "E4sldu8FKmYB",
        "outputId": "b5b9b0a4-36e0-4723-d28c-6a0901ac4cdc",
        "colab": {
          "base_uri": "https://localhost:8080/"
        }
      },
      "execution_count": 11,
      "outputs": [
        {
          "output_type": "stream",
          "name": "stdout",
          "text": [
            "519.0\n"
          ]
        }
      ]
    },
    {
      "cell_type": "code",
      "source": [
        "import requests\n",
        "\n",
        "x = requests.get(\"http://5979-34-74-151-200.ngrok.io/tabela\")\n",
        "print(x.text)"
      ],
      "metadata": {
        "id": "H-FqNDnfLMs1",
        "outputId": "439e4c26-3fd9-49fe-dfcb-fb3522d60d8a",
        "colab": {
          "base_uri": "https://localhost:8080/"
        }
      },
      "execution_count": 12,
      "outputs": [
        {
          "output_type": "stream",
          "name": "stdout",
          "text": [
            "{\"Fevereiro\":5.22,\"Janeiro\":5.34,\"Marco\":5.19}\n",
            "\n"
          ]
        }
      ]
    }
  ]
}