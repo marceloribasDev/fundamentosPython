{
  "nbformat": 4,
  "nbformat_minor": 0,
  "metadata": {
    "colab": {
      "provenance": [],
      "authorship_tag": "ABX9TyMLOy0782I9NN3qp6jpONTn",
      "include_colab_link": true
    },
    "kernelspec": {
      "name": "python3",
      "display_name": "Python 3"
    },
    "language_info": {
      "name": "python"
    }
  },
  "cells": [
    {
      "cell_type": "markdown",
      "metadata": {
        "id": "view-in-github",
        "colab_type": "text"
      },
      "source": [
        "<a href=\"https://colab.research.google.com/github/marceloribasDev/fundamentosPython/blob/main/api_python.ipynb\" target=\"_parent\"><img src=\"https://colab.research.google.com/assets/colab-badge.svg\" alt=\"Open In Colab\"/></a>"
      ]
    },
    {
      "cell_type": "markdown",
      "source": [
        "# API"
      ],
      "metadata": {
        "id": "tUwntWqUzyEV"
      }
    },
    {
      "cell_type": "markdown",
      "source": [
        "## Servico ficticio de cotacao de moeda"
      ],
      "metadata": {
        "id": "0XTSyTyv0gsy"
      }
    },
    {
      "cell_type": "markdown",
      "source": [
        "```\n",
        "Servicos\n",
        "----------------\n",
        "\n",
        "1) [url_do_servico]/cotacao                         --> retorna a cotacao atual\n",
        "2) [url_do_servico]/cotacao/mes                     --> retorna a cotacao do mes especificado\n",
        "3) [url_do_servico]/cotacao/valor                   --> retorna a conversao de um valor qualquer\n",
        "4) [url_do_servico]/cotacaocompleta                 --> querystring  --> ?valor=100&mes=fevereiro\n",
        "5) [url_do_servico]/tabela                          --> retorna uma tabela em Json com a cotacao de todos os meses\n",
        "```\n",
        "\n"
      ],
      "metadata": {
        "id": "GZd7xdPc1mAI"
      }
    },
    {
      "cell_type": "code",
      "execution_count": null,
      "metadata": {
        "id": "jLnb-iShzvvi"
      },
      "outputs": [],
      "source": []
    }
  ]
}