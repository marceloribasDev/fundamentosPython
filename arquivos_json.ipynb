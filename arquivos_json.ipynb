{
  "nbformat": 4,
  "nbformat_minor": 0,
  "metadata": {
    "colab": {
      "provenance": [],
      "authorship_tag": "ABX9TyP+KaGAeDBw/vSh1p5aMsFc",
      "include_colab_link": true
    },
    "kernelspec": {
      "name": "python3",
      "display_name": "Python 3"
    },
    "language_info": {
      "name": "python"
    }
  },
  "cells": [
    {
      "cell_type": "markdown",
      "metadata": {
        "id": "view-in-github",
        "colab_type": "text"
      },
      "source": [
        "<a href=\"https://colab.research.google.com/github/marceloribasDev/fundamentosPython/blob/main/arquivos_json.ipynb\" target=\"_parent\"><img src=\"https://colab.research.google.com/assets/colab-badge.svg\" alt=\"Open In Colab\"/></a>"
      ]
    },
    {
      "cell_type": "markdown",
      "source": [
        "# Utilizando python e JSON"
      ],
      "metadata": {
        "id": "865vF6aWfVFx"
      }
    },
    {
      "cell_type": "code",
      "execution_count": null,
      "metadata": {
        "id": "UfsGWfMGfQoL"
      },
      "outputs": [],
      "source": [
        "# Json\n",
        "\n",
        "import json\n",
        "\n",
        "idades = {\n",
        "    'Marcelo' : 33,\n",
        "    'Artur' : 1,\n",
        "    'Jully' : 31,\n",
        "}\n",
        "\n",
        "print(json.dumps(idades))\n",
        "print(json.dumps(23))\n",
        "print(json.dumps(3.14))\n",
        "print(json.dumps([1,2,3,4,5]))\n",
        "print(json.dumps(True))\n",
        "print(json.dumps(None))"
      ]
    },
    {
      "cell_type": "code",
      "source": [
        "import json\n",
        "\n",
        "# Dicionario em python\n",
        "dados_pessoais = {\n",
        "    'Marcelo' : {\n",
        "        'CPF':'123123345-70',\n",
        "        'Sexo' : 'Masculino',\n",
        "        'Endereco' : '7 Dromard Rd',\n",
        "        'Idade' : 33,\n",
        "        'Filhos' : ['Arthur']\n",
        "    },\n",
        "    'Arthur' : {\n",
        "        'CPF':'000001002-70',\n",
        "        'Sexo' : 'Masculino',\n",
        "        'Endereco' : '7 Dromard Rd',\n",
        "        'Idade' : 0.1\n",
        "    }\n",
        "}\n",
        "\n",
        "# Transforma dicionario em json\n",
        "texto = json.dumps(dados_pessoais, indent=4)\n",
        "\n",
        "print(texto)\n",
        "\n",
        "with open('exemplo.json', 'wt') as arquivo:\n",
        "    arquivo.write(texto)"
      ],
      "metadata": {
        "id": "fgtF5u5zu1g0"
      },
      "execution_count": null,
      "outputs": []
    },
    {
      "cell_type": "code",
      "source": [
        "import json\n",
        "\n",
        "dt = None\n",
        "\n",
        "with open('/content/exemplo.json', 'rt') as arquivo:\n",
        "#with open('/content/exemplo.json', 'rt') as arquivo:\n",
        "    arquivo_lido = arquivo.read()\n",
        "\n",
        "    dt = json.loads(arquivo_lido)\n",
        "print(dt)\n",
        "print(dt['Marcelo'])\n",
        "print(dt['Arthur']['Idade'])"
      ],
      "metadata": {
        "id": "sjYR2qwXwJYo"
      },
      "execution_count": null,
      "outputs": []
    }
  ]
}