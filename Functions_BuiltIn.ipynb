{
  "cells": [
    {
      "cell_type": "markdown",
      "metadata": {
        "id": "view-in-github",
        "colab_type": "text"
      },
      "source": [
        "<a href=\"https://colab.research.google.com/github/marceloribasDev/fundamentosPython/blob/main/Functions_BuiltIn.ipynb\" target=\"_parent\"><img src=\"https://colab.research.google.com/assets/colab-badge.svg\" alt=\"Open In Colab\"/></a>"
      ]
    },
    {
      "cell_type": "markdown",
      "metadata": {
        "id": "4oLRza1gMMiH"
      },
      "source": [
        "# Funcoes Matematicas"
      ]
    },
    {
      "cell_type": "code",
      "execution_count": null,
      "metadata": {
        "id": "L7VVv5XALTaZ"
      },
      "outputs": [],
      "source": [
        "# abs - Usa o valor absoluto\n",
        "\n",
        "num1 = -10\n",
        "num2 = 10\n",
        "print(abs(num1))\n",
        "print(abs(num2))\n",
        "print(abs(num1) + abs(num2)) # Nao leva em consideracao o sinal"
      ]
    },
    {
      "cell_type": "code",
      "execution_count": null,
      "metadata": {
        "id": "XzSnsdi09IWN"
      },
      "outputs": [],
      "source": [
        "# max - Maior valor em uma lista\n",
        "\n",
        "maior_valor = max(10,20,30)\n",
        "print(maior_valor)\n",
        "\n",
        "lista = [-20,2,1,3.3]\n",
        "print(max(lista))"
      ]
    },
    {
      "cell_type": "code",
      "execution_count": null,
      "metadata": {
        "id": "YmnIk38l9e1x"
      },
      "outputs": [],
      "source": [
        "# min - Maior valor em uma lista\n",
        "\n",
        "menor_valor = min(10,20,30)\n",
        "print(menor_valor)\n",
        "\n",
        "lista = [-20,2,1,3.3]\n",
        "print(min(lista))"
      ]
    },
    {
      "cell_type": "code",
      "execution_count": null,
      "metadata": {
        "id": "yQdRghMK9vel"
      },
      "outputs": [],
      "source": [
        "# pow - Saber a potencia\n",
        "x = 2\n",
        "y = 3\n",
        "\n",
        "print(pow(x,y))"
      ]
    },
    {
      "cell_type": "code",
      "execution_count": null,
      "metadata": {
        "id": "OarGSL029_Bb"
      },
      "outputs": [],
      "source": [
        "# math.sqrt - raiz quadrada (precisa importar a lib math)\n",
        "import math\n",
        "print(math.sqrt(25))\n"
      ]
    },
    {
      "cell_type": "code",
      "execution_count": null,
      "metadata": {
        "id": "qmYp6y7d-Huj"
      },
      "outputs": [],
      "source": [
        "# round - Arredonda o valor (segundo parametro qtd de casas decimais)\n",
        "\n",
        "print(round(2.33444,2))"
      ]
    },
    {
      "cell_type": "code",
      "execution_count": null,
      "metadata": {
        "id": "UGekKJps_JEI"
      },
      "outputs": [],
      "source": [
        "# floor - Retorna o menor valor inteiro\n",
        "from math import floor\n",
        "print(floor(2.33444))"
      ]
    },
    {
      "cell_type": "code",
      "execution_count": null,
      "metadata": {
        "id": "Nu4cSVno_T5l"
      },
      "outputs": [],
      "source": [
        "# ceil - Retorna o menoer valor inteiro\n",
        "from math import ceil\n",
        "print(ceil(2.33444))"
      ]
    },
    {
      "cell_type": "code",
      "execution_count": null,
      "metadata": {
        "id": "NVetUYXg_r0i"
      },
      "outputs": [],
      "source": [
        "# divmod - Rertorna o cosciente e o resto de umam divisao\n",
        "print(divmod(10,4))"
      ]
    },
    {
      "cell_type": "code",
      "execution_count": null,
      "metadata": {
        "id": "XFRQZ3ZlGR0g"
      },
      "outputs": [],
      "source": [
        "numero = 70\n",
        "caractere = chr(numero)\n",
        "print('O numero %d eh mapeado para o caractere %s' % (numero, caractere))"
      ]
    },
    {
      "cell_type": "code",
      "execution_count": null,
      "metadata": {
        "colab": {
          "background_save": true
        },
        "id": "ghLmjFZzHFP8"
      },
      "outputs": [],
      "source": [
        "caractere = 'F'\n",
        "numero = ord(caractere)\n",
        "print('O caractere %s eh mapeado para o numero %d' % (caractere,numero))"
      ]
    },
    {
      "cell_type": "markdown",
      "source": [
        "# Funcoes de Texto"
      ],
      "metadata": {
        "id": "Fy5naLJHHuPq"
      }
    },
    {
      "cell_type": "code",
      "source": [
        "# Deixa a primeira letra maiuscula\n",
        "\n",
        "texto = 'ola brasil'\n",
        "print(texto.capitalize())"
      ],
      "metadata": {
        "id": "urK0OrPyHyMt"
      },
      "execution_count": null,
      "outputs": []
    },
    {
      "cell_type": "code",
      "source": [
        "texto = 'IsTo eH EstRaNhO'\n",
        "\n",
        "# Tudo para minusculo\n",
        "print(texto.upper())\n",
        "# Tudo para maiusculo\n",
        "print(texto.lower())\n",
        "# swapcase - inverte a ordem, se esta maiusculo ficara minusculo\n",
        "print(texto.swapcase())"
      ],
      "metadata": {
        "id": "HSnp1CotIKY9"
      },
      "execution_count": null,
      "outputs": []
    },
    {
      "cell_type": "code",
      "source": [
        "# Title - Formata o texto para padrao de titulo\n",
        "texto = 'IsTo eH EstRaNhO'\n",
        "\n",
        "print(texto.title())"
      ],
      "metadata": {
        "id": "6YbZvioKIrnR"
      },
      "execution_count": null,
      "outputs": []
    },
    {
      "cell_type": "code",
      "source": [
        "# Centralizar o texto\n",
        "texto = '1234567'\n",
        "\n",
        "print(texto.center(9))\n",
        "print(texto.center(14))\n",
        "print(texto.center(15,'-'))"
      ],
      "metadata": {
        "id": "P3rXzAyaJImR"
      },
      "execution_count": null,
      "outputs": []
    },
    {
      "cell_type": "code",
      "source": [
        "# Justifica o texto\n",
        "texto = '1234567'\n",
        "print(texto.rjust(15))\n",
        "print(texto.ljust(15))"
      ],
      "metadata": {
        "id": "MgitgcH4JkT_"
      },
      "execution_count": null,
      "outputs": []
    },
    {
      "cell_type": "code",
      "source": [
        "# Conta a ocorrencia de valor\n",
        "\n",
        "texto = '12121212'\n",
        "print(texto.count('12'))\n"
      ],
      "metadata": {
        "id": "zJjHXPoDJxyc"
      },
      "execution_count": null,
      "outputs": []
    },
    {
      "cell_type": "code",
      "source": [
        "# Se texto comeca ou termina com um determinado texto\n",
        "texto = '12121212'\n",
        "\n",
        "print(texto.startswith('12'))\n",
        "print(texto.endswith('12'))"
      ],
      "metadata": {
        "id": "z_SmobCFJ_vM"
      },
      "execution_count": null,
      "outputs": []
    },
    {
      "cell_type": "code",
      "source": [
        "# Faz um busca para retorna o indice do texto\n",
        "texto = 'me encontra 20 10 5'\n",
        "posicao = texto.find('10')\n",
        "print(posicao)\n",
        "posicao = texto.find('4') # Retorna -1 quando nao encontra o valor\n",
        "print(posicao)\n",
        "\n",
        "texto = 'me encontra 20 10 5'\n",
        "posicao = texto.index('r')\n",
        "print(posicao)"
      ],
      "metadata": {
        "id": "yLibdQB1KOMG"
      },
      "execution_count": null,
      "outputs": []
    },
    {
      "cell_type": "code",
      "source": [
        "# Substituicao de texto\n",
        "texto = 'Ol@ eu sou @ fulan@'\n",
        "\n",
        "novo_texto = texto.replace('@','a')\n",
        "\n",
        "print(novo_texto)"
      ],
      "metadata": {
        "id": "9C4Ys6VDK8Ry"
      },
      "execution_count": null,
      "outputs": []
    },
    {
      "cell_type": "code",
      "source": [
        "# Split do texto\n",
        "texto = '10,20,30'\n",
        "print(texto.split(','))"
      ],
      "metadata": {
        "id": "BWAbNZM6LMR_"
      },
      "execution_count": null,
      "outputs": []
    },
    {
      "cell_type": "code",
      "source": [
        "# Divite o texto onde tenha quebra de linha\n",
        "texto = 'Ola, bom dia\\n este eh um curso de python\\n seja bem vindo!'\n",
        "\n",
        "print(texto.splitlines())"
      ],
      "metadata": {
        "id": "wXB3PrVHLbgB"
      },
      "execution_count": null,
      "outputs": []
    },
    {
      "cell_type": "code",
      "source": [
        "# Saber se o texto eh alfanumerico\n",
        "print('acbdE3 '.isalpha())\n",
        "print('acbdE3'.isalnum())\n",
        "print('123.4'.isdecimal())\n",
        "print('12'.isdecimal())\n",
        "print('123a'.isdecimal())"
      ],
      "metadata": {
        "id": "h4oA2wUGL10x"
      },
      "execution_count": null,
      "outputs": []
    },
    {
      "cell_type": "markdown",
      "source": [
        "# Funcoes para Listas"
      ],
      "metadata": {
        "id": "M-BNCYe1MpCy"
      }
    },
    {
      "cell_type": "code",
      "source": [
        "# Ordernar uma lista\n",
        "lista = [5,19,4,2,7,5,6,3,99,8,66.7]\n",
        "lista.sort()\n",
        "print(lista)\n",
        "\n",
        "lista.sort(reverse = True)\n",
        "print(lista)"
      ],
      "metadata": {
        "id": "KZDxbtQiMstc"
      },
      "execution_count": null,
      "outputs": []
    },
    {
      "cell_type": "code",
      "source": [
        "# Ordena pelo tamanho da string\n",
        "def sort_por_tamanho(item):\n",
        "    return len(item)\n",
        "\n",
        "lista = ['a','accd','c','b','ab','abc','cb','b']\n",
        "\n",
        "lista.sort(key=sort_por_tamanho)\n",
        "\n",
        "print(lista)"
      ],
      "metadata": {
        "id": "2jGNhQPtUOg9"
      },
      "execution_count": null,
      "outputs": []
    },
    {
      "cell_type": "code",
      "source": [
        "# Inverte uma lista\n",
        "\n",
        "lista = [5,19,4,2,7,5,6,3,99,8,66.7]\n",
        "\n",
        "lista.reverse()\n",
        "\n",
        "print(lista)"
      ],
      "metadata": {
        "id": "BtBobRUzVz7v"
      },
      "execution_count": null,
      "outputs": []
    },
    {
      "cell_type": "code",
      "source": [
        "# Unpacking\n",
        "produtos = [\n",
        "    ['carro','R$ 100.000'],\n",
        "    ['cadeira','R$ 500'],\n",
        "    ['moto','R$ 50.000'],\n",
        "    ['armario','R$ 1500']\n",
        "]\n",
        "\n",
        "for produto, valor in produtos:\n",
        "    print(produto, valor)"
      ],
      "metadata": {
        "id": "un4fHvH6WoMu"
      },
      "execution_count": null,
      "outputs": []
    },
    {
      "cell_type": "code",
      "source": [
        "nomes = ('Jose','Carlos','Joao','Marcelo','Arthur',)\n",
        "\n",
        "dicionario = dict.fromkeys(nomes, 10)\n",
        "\n",
        "print(dicionario)"
      ],
      "metadata": {
        "id": "LfI-ACxRXRRM"
      },
      "execution_count": null,
      "outputs": []
    },
    {
      "cell_type": "markdown",
      "source": [
        "# Funcoes de Data e Hora"
      ],
      "metadata": {
        "id": "GoBZOW1DZy31"
      }
    },
    {
      "cell_type": "code",
      "source": [
        "import datetime\n",
        "\n",
        "data_completa = datetime.datetime.now()\n",
        "\n",
        "data = data_completa.date()\n",
        "hora = data_completa.time()\n",
        "\n",
        "print(data_completa)\n",
        "print(data)\n",
        "print(hora)"
      ],
      "metadata": {
        "id": "C9mr9KNsZ29k"
      },
      "execution_count": null,
      "outputs": []
    },
    {
      "cell_type": "code",
      "source": [
        "import datetime\n",
        "\n",
        "data_completa = datetime.datetime.now()\n",
        "\n",
        "print('Dia ', data_completa.day)\n",
        "print('Mes ', data_completa.month)\n",
        "print('Ano ', data_completa.year)\n",
        "print('Hora ', data_completa.hour)\n",
        "print('Minuto ', data_completa.minute)\n",
        "print('Segundos ', data_completa.second)"
      ],
      "metadata": {
        "id": "skeotkJYaWW3"
      },
      "execution_count": null,
      "outputs": []
    },
    {
      "cell_type": "code",
      "source": [
        "import datetime\n",
        "\n",
        "data = datetime.date(200,9,30)\n",
        "data = datetime.date(day=30, month=9, year=2000)\n",
        "\n",
        "print(data)"
      ],
      "metadata": {
        "id": "BYEwSFYsa0Sf"
      },
      "execution_count": null,
      "outputs": []
    },
    {
      "cell_type": "code",
      "source": [
        "import datetime\n",
        "hora = datetime.time(10,30,20)\n",
        "print(hora)"
      ],
      "metadata": {
        "id": "XZT5TMGrbHFH"
      },
      "execution_count": null,
      "outputs": []
    },
    {
      "cell_type": "code",
      "source": [
        "import datetime\n",
        "\n",
        "data = datetime.datetime(2022,10,8,10,30,20)\n",
        "print(data)"
      ],
      "metadata": {
        "id": "FFKRk014cB6H"
      },
      "execution_count": null,
      "outputs": []
    },
    {
      "cell_type": "code",
      "source": [
        "# Y ano, m mes, d dia, H hora formato 00:23, M minuto, S segundo\n",
        "# A dia da semana, a dia da semana abrev, B nome do mes, b nome do mes abrev\n",
        "# I hora formato 12 horas, p AM PM\n",
        "import datetime\n",
        "\n",
        "atual = datetime.datetime.now()\n",
        "\n",
        "current_time = atual.strftime('%y/%m/%d %H:%M:%S')\n",
        "\n",
        "print(current_time)\n",
        "\n",
        "print('--------------------------------')\n",
        "\n",
        "data = datetime.datetime(2022,10,8,10,30,20)\n",
        "\n",
        "print(data.strftime('%A - %a'))\n",
        "print(data.strftime('%B - %b'))\n",
        "print(data.strftime('%H - %I'))\n",
        "print(data.strftime('%I - %p'))\n"
      ],
      "metadata": {
        "id": "nBPa_UQPcUvr"
      },
      "execution_count": null,
      "outputs": []
    },
    {
      "cell_type": "markdown",
      "source": [
        "# Manipulando datas e horas"
      ],
      "metadata": {
        "id": "HwtwsKOYeZog"
      }
    },
    {
      "cell_type": "code",
      "source": [
        "import datetime\n",
        "\n",
        "data1 = datetime.datetime(2020,10,20)\n",
        "data2 = datetime.datetime(2020,11,20)\n",
        "\n",
        "diferenca = data2 - data1\n",
        "\n",
        "print(diferenca)\n",
        "print(type(diferenca)) # timedelta - permite mostrar a diferenca entre intervalo de tempos"
      ],
      "metadata": {
        "id": "AK94jeCPepBD"
      },
      "execution_count": null,
      "outputs": []
    },
    {
      "cell_type": "code",
      "source": [
        "from datetime import datetime, timedelta\n",
        "\n",
        "data_atual = datetime.now()\n",
        "\n",
        "data_futura1 = data_atual + timedelta(weeks = 4)\n",
        "data_futura2 = data_atual + timedelta(days = 30)\n",
        "data_futura3 = data_atual + timedelta(hours = 12)\n",
        "data_futura4 = data_atual + timedelta(minutes = 60)\n",
        "\n",
        "print('Data Atual: ', data_atual)\n",
        "print('Mais 4 semanas: ',data_futura1)\n",
        "print('Mais 30 dias: ',data_futura2)\n",
        "print('Mais 12 horas: ',data_futura3)\n",
        "print('Mais 60 minutos: ',data_futura4)"
      ],
      "metadata": {
        "id": "CgAWaNZ0jM2h"
      },
      "execution_count": null,
      "outputs": []
    },
    {
      "cell_type": "code",
      "source": [
        "import datetime\n",
        "\n",
        "data_2000 = datetime.datetime(2000,1,1,0,0,0)\n",
        "data_agora = datetime.datetime.now()\n",
        "\n",
        "diferenca = data_agora - data_2000\n",
        "\n",
        "print('Desde o ano 2000 passou ', diferenca.days, ' dias')\n",
        "print('Desde o ano 2000 passou ', diferenca.seconds, ' segundos')\n",
        "print('Desde o ano 2000 passou ', diferenca.microseconds, ' microsegundos')\n",
        "\n",
        "anos = int(diferenca.days/365)\n",
        "meses = anos * 12\n",
        "\n",
        "print('Desde o ano 2000 passou ', anos, ' anos')\n",
        "print('Desde o ano 2000 passou ', meses, ' meses')\n",
        "\n",
        "print(diferenca)\n"
      ],
      "metadata": {
        "id": "xnCTfgX8kR0o"
      },
      "execution_count": null,
      "outputs": []
    },
    {
      "cell_type": "markdown",
      "source": [
        "# Lendo Entrada de Datas"
      ],
      "metadata": {
        "id": "ddyq4wslm-By"
      }
    },
    {
      "cell_type": "code",
      "source": [
        "import datetime\n",
        "\n",
        "data_txt = input('Digite a data no formato dd/mm/yyyy: ')\n",
        "\n",
        "datetime = datetime.datetime.strptime(data_txt, '%d/%m/%Y')\n",
        "\n",
        "print(datetime)\n",
        "print(type(datetime))"
      ],
      "metadata": {
        "colab": {
          "base_uri": "https://localhost:8080/"
        },
        "id": "6_-PP-SOm9ne",
        "outputId": "9072a6ce-6a9b-44cc-a51b-c4537c331cef"
      },
      "execution_count": 92,
      "outputs": [
        {
          "output_type": "stream",
          "name": "stdout",
          "text": [
            "Digite a data no formato dd/mm/yyyy: 08/10/1989\n",
            "1989-10-08 00:00:00\n",
            "<class 'datetime.datetime'>\n"
          ]
        }
      ]
    }
  ],
  "metadata": {
    "colab": {
      "provenance": [],
      "authorship_tag": "ABX9TyPXonQl/xHkCt8eFw9hXILI",
      "include_colab_link": true
    },
    "kernelspec": {
      "display_name": "Python 3",
      "name": "python3"
    },
    "language_info": {
      "name": "python"
    }
  },
  "nbformat": 4,
  "nbformat_minor": 0
}