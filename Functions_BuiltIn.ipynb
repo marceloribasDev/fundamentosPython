{
  "cells": [
    {
      "cell_type": "markdown",
      "metadata": {
        "id": "view-in-github",
        "colab_type": "text"
      },
      "source": [
        "<a href=\"https://colab.research.google.com/github/marceloribasDev/fundamentosPython/blob/main/Functions_BuiltIn.ipynb\" target=\"_parent\"><img src=\"https://colab.research.google.com/assets/colab-badge.svg\" alt=\"Open In Colab\"/></a>"
      ]
    },
    {
      "cell_type": "markdown",
      "metadata": {
        "id": "4oLRza1gMMiH"
      },
      "source": [
        "# Funcoes Matematicas"
      ]
    },
    {
      "cell_type": "code",
      "execution_count": null,
      "metadata": {
        "id": "L7VVv5XALTaZ"
      },
      "outputs": [],
      "source": [
        "# abs - Usa o valor absoluto\n",
        "\n",
        "num1 = -10\n",
        "num2 = 10\n",
        "print(abs(num1))\n",
        "print(abs(num2))\n",
        "print(abs(num1) + abs(num2)) # Nao leva em consideracao o sinal"
      ]
    },
    {
      "cell_type": "code",
      "execution_count": null,
      "metadata": {
        "id": "XzSnsdi09IWN"
      },
      "outputs": [],
      "source": [
        "# max - Maior valor em uma lista\n",
        "\n",
        "maior_valor = max(10,20,30)\n",
        "print(maior_valor)\n",
        "\n",
        "lista = [-20,2,1,3.3]\n",
        "print(max(lista))"
      ]
    },
    {
      "cell_type": "code",
      "execution_count": null,
      "metadata": {
        "id": "YmnIk38l9e1x"
      },
      "outputs": [],
      "source": [
        "# min - Maior valor em uma lista\n",
        "\n",
        "menor_valor = min(10,20,30)\n",
        "print(menor_valor)\n",
        "\n",
        "lista = [-20,2,1,3.3]\n",
        "print(min(lista))"
      ]
    },
    {
      "cell_type": "code",
      "execution_count": null,
      "metadata": {
        "id": "yQdRghMK9vel"
      },
      "outputs": [],
      "source": [
        "# pow - Saber a potencia\n",
        "x = 2\n",
        "y = 3\n",
        "\n",
        "print(pow(x,y))"
      ]
    },
    {
      "cell_type": "code",
      "execution_count": null,
      "metadata": {
        "id": "OarGSL029_Bb"
      },
      "outputs": [],
      "source": [
        "# math.sqrt - raiz quadrada (precisa importar a lib math)\n",
        "import math\n",
        "print(math.sqrt(25))\n"
      ]
    },
    {
      "cell_type": "code",
      "execution_count": null,
      "metadata": {
        "id": "qmYp6y7d-Huj"
      },
      "outputs": [],
      "source": [
        "# round - Arredonda o valor (segundo parametro qtd de casas decimais)\n",
        "\n",
        "print(round(2.33444,2))"
      ]
    },
    {
      "cell_type": "code",
      "execution_count": null,
      "metadata": {
        "id": "UGekKJps_JEI"
      },
      "outputs": [],
      "source": [
        "# floor - Retorna o menor valor inteiro\n",
        "from math import floor\n",
        "print(floor(2.33444))"
      ]
    },
    {
      "cell_type": "code",
      "execution_count": null,
      "metadata": {
        "id": "Nu4cSVno_T5l"
      },
      "outputs": [],
      "source": [
        "# ceil - Retorna o menoer valor inteiro\n",
        "from math import ceil\n",
        "print(ceil(2.33444))"
      ]
    },
    {
      "cell_type": "code",
      "execution_count": null,
      "metadata": {
        "id": "NVetUYXg_r0i"
      },
      "outputs": [],
      "source": [
        "# divmod - Rertorna o cosciente e o resto de umam divisao\n",
        "print(divmod(10,4))"
      ]
    },
    {
      "cell_type": "code",
      "execution_count": null,
      "metadata": {
        "colab": {
          "base_uri": "https://localhost:8080/"
        },
        "id": "XFRQZ3ZlGR0g",
        "outputId": "934a6a6f-845d-4993-f606-cde7d21e0b1d"
      },
      "outputs": [
        {
          "name": "stdout",
          "output_type": "stream",
          "text": [
            "O numero 70 eh mapeado para o caractere F\n"
          ]
        }
      ],
      "source": [
        "numero = 70\n",
        "caractere = chr(numero)\n",
        "print('O numero %d eh mapeado para o caractere %s' % (numero, caractere))"
      ]
    },
    {
      "cell_type": "code",
      "execution_count": null,
      "metadata": {
        "colab": {
          "background_save": true
        },
        "id": "ghLmjFZzHFP8",
        "outputId": "09c5ed8e-48b5-4910-86e6-86a940f30062"
      },
      "outputs": [
        {
          "name": "stdout",
          "output_type": "stream",
          "text": [
            "O caractere F eh mapeado para o numero 70\n"
          ]
        }
      ],
      "source": [
        "caractere = 'F'\n",
        "numero = ord(caractere)\n",
        "print('O caractere %s eh mapeado para o numero %d' % (caractere,numero))"
      ]
    }
  ],
  "metadata": {
    "colab": {
      "provenance": [],
      "authorship_tag": "ABX9TyM/za3yiF3W2xs3DPGLLrTA",
      "include_colab_link": true
    },
    "kernelspec": {
      "display_name": "Python 3",
      "name": "python3"
    },
    "language_info": {
      "name": "python"
    }
  },
  "nbformat": 4,
  "nbformat_minor": 0
}