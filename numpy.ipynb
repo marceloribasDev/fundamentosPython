{
  "nbformat": 4,
  "nbformat_minor": 0,
  "metadata": {
    "colab": {
      "provenance": [],
      "authorship_tag": "ABX9TyP9HycpFdSyrYTrxect6zA7",
      "include_colab_link": true
    },
    "kernelspec": {
      "name": "python3",
      "display_name": "Python 3"
    },
    "language_info": {
      "name": "python"
    }
  },
  "cells": [
    {
      "cell_type": "markdown",
      "metadata": {
        "id": "view-in-github",
        "colab_type": "text"
      },
      "source": [
        "<a href=\"https://colab.research.google.com/github/marceloribasDev/fundamentosPython/blob/main/numpy.ipynb\" target=\"_parent\"><img src=\"https://colab.research.google.com/assets/colab-badge.svg\" alt=\"Open In Colab\"/></a>"
      ]
    },
    {
      "cell_type": "markdown",
      "source": [
        "# Numpy\n",
        "\n",
        "- Biblioteca python para operar sobre dados multidemensionais\n",
        "- Extremamente eficiente\n",
        "- Altamente funcional\n",
        "- Usada em engenhaira e ciencia de dados e computacao em geral"
      ],
      "metadata": {
        "id": "1-rv4TIktzt6"
      }
    },
    {
      "cell_type": "code",
      "execution_count": null,
      "metadata": {
        "id": "VdpYl-dTtjeQ"
      },
      "outputs": [],
      "source": [
        "import numpy\n",
        "\n",
        "boolean = numpy.bool_(True)\n",
        "\n",
        "print(boolean, type(boolean))"
      ]
    },
    {
      "cell_type": "code",
      "source": [
        "import numpy as np\n",
        "\n",
        "string = np.string_(\"Este eh uim texto\")\n",
        "\n",
        "print(string,type(string))"
      ],
      "metadata": {
        "id": "zqPUJOreu5to"
      },
      "execution_count": null,
      "outputs": []
    },
    {
      "cell_type": "code",
      "source": [
        "import numpy as np\n",
        "\n",
        "string = np.unicode_(\"Este eh um texto\")\n",
        "\n",
        "print(string,type(string))"
      ],
      "metadata": {
        "id": "KdFDHsJcvYTR"
      },
      "execution_count": null,
      "outputs": []
    },
    {
      "cell_type": "code",
      "source": [
        "import numpy as np\n",
        "\n",
        "# Inteiro de 32 bits\n",
        "inteiro = numpy.intc(-102)\n",
        "# Inteiro de 32 sem sinal\n",
        "uinteiro = numpy.uintc(102)\n",
        "# Inteiro de 64 bits\n",
        "long = numpy.int_(989898989)\n",
        "# Inteiro de 64 sem sinal\n",
        "ulong = numpy.uint(989089898)\n",
        "\n",
        "print(inteiro, type(inteiro))\n",
        "print(uinteiro, type(uinteiro))\n",
        "print(long, type(long))\n",
        "print(ulong, type(ulong))"
      ],
      "metadata": {
        "id": "I4EQ0JQlvpHo"
      },
      "execution_count": null,
      "outputs": []
    },
    {
      "cell_type": "code",
      "source": [
        "import numpy\n",
        "\n",
        "# 64 bits\n",
        "ponto_flutuante = numpy.float_(10002.34)\n",
        "\n",
        "# 32 bits\n",
        "ponto_flutuante2 = numpy.float32(10002.34)\n",
        "\n",
        "print(ponto_flutuante, type(ponto_flutuante))\n",
        "print(ponto_flutuante2, type(ponto_flutuante2))"
      ],
      "metadata": {
        "id": "xOBJYaqfxCzc"
      },
      "execution_count": null,
      "outputs": []
    },
    {
      "cell_type": "code",
      "source": [
        "import numpy as np\n",
        "\n",
        "# 8 bits\n",
        "int8 = np.int8(20)\n",
        "# 8 bits\n",
        "uint8 = np.uint8(20)\n",
        "# 16 bits\n",
        "int16 = np.int16(34)\n",
        "# 16 bits\n",
        "uint16 = np.uint16(344)\n",
        "\n",
        "float16 = np.float16(16)\n",
        "\n",
        "print(int8, type(int8))\n",
        "print(uint8, type(uint8))\n",
        "print(int16, type(int16))\n",
        "print(uint16, type(uint16))\n",
        "print(float16, type(float16))\n"
      ],
      "metadata": {
        "id": "Q1GG2YLExWpe"
      },
      "execution_count": null,
      "outputs": []
    },
    {
      "cell_type": "code",
      "source": [
        "import numpy\n",
        "\n",
        "array = numpy.array([1,2,3,4,5,6,7,8,9,0])\n",
        "print(array, type(array))\n",
        "print(array.dtype)"
      ],
      "metadata": {
        "id": "miAGERaayUza"
      },
      "execution_count": null,
      "outputs": []
    },
    {
      "cell_type": "code",
      "source": [
        "import numpy\n",
        "\n",
        "array = numpy.array([1,2,3,4,5,6,7,8,9,0], dtype = numpy.int8)\n",
        "print(array, type(array))\n",
        "print(array.dtype)"
      ],
      "metadata": {
        "id": "Mrc5jfqSy1So"
      },
      "execution_count": null,
      "outputs": []
    },
    {
      "cell_type": "code",
      "source": [
        "import numpy\n",
        "\n",
        "array = numpy.array([\"2\",\"234\",\"1\"], dtype = numpy.string_)\n",
        "print(array, type(array))\n",
        "print(array.dtype)"
      ],
      "metadata": {
        "id": "hCV8sJWry-vV"
      },
      "execution_count": null,
      "outputs": []
    },
    {
      "cell_type": "markdown",
      "source": [
        "i = inteiro\n",
        "b = booleano\n",
        "u = inteiro sem sinal\n",
        "f = ponto flutuante\n",
        "S = string (bytes)\n",
        "U = String Unicode"
      ],
      "metadata": {
        "id": "lRNv4jSI1l00"
      }
    },
    {
      "cell_type": "code",
      "source": [
        "import numpy\n",
        "\n",
        "array = numpy.array([\"acb\",\"ght\",\"ewre\"], dtype = 'S3')\n",
        "print(array, type(array))\n",
        "print(array.dtype)\n",
        "print(array.itemsize)\n",
        "print(array.nbytes)"
      ],
      "metadata": {
        "id": "53U032dB1baF"
      },
      "execution_count": null,
      "outputs": []
    },
    {
      "cell_type": "code",
      "source": [
        "import numpy\n",
        "\n",
        "array = numpy.array([1,2,3,4], dtype = 'i2')\n",
        "print(array, type(array))\n",
        "print(array.dtype)\n",
        "print(array.itemsize)\n",
        "print(array.nbytes)"
      ],
      "metadata": {
        "id": "gGDNSeHJ2MDG"
      },
      "execution_count": null,
      "outputs": []
    },
    {
      "cell_type": "code",
      "source": [
        "import numpy\n",
        "\n",
        "class Pessoa:\n",
        "    def __init__(self, nome, idade):\n",
        "        self.nome = nome\n",
        "        self.idade = idade\n",
        "\n",
        "array = numpy.array([Pessoa(\"Marcelo\",33),Pessoa(\"Arthur\",0.1)])\n",
        "\n",
        "print(array)\n",
        "print(type(array))\n",
        "print(array.dtype, end=\"\\n\\n\")\n",
        "\n",
        "print(array[0].nome, array[1].nome)"
      ],
      "metadata": {
        "id": "oFJi4yUW6bZ8"
      },
      "execution_count": null,
      "outputs": []
    },
    {
      "cell_type": "code",
      "source": [
        "import numpy\n",
        "\n",
        "tipo_pessoa = numpy.dtype([(\"nome\",\"S10\"), (\"idade\",\"i4\")])\n",
        "\n",
        "array = numpy.array([(\"Marcelo\",33),(\"Arthur\",0.1)], dtype = tipo_pessoa)\n",
        "\n",
        "\n",
        "print(array)\n",
        "print(type(array))\n",
        "print(array.dtype, end=\"\\n\\n\")\n"
      ],
      "metadata": {
        "id": "zFSEO9oo7TUU"
      },
      "execution_count": null,
      "outputs": []
    },
    {
      "cell_type": "code",
      "source": [
        "# Propiedades de Arrays\n",
        "\n",
        "import numpy as np\n",
        "\n",
        "array = np.array([1,2,3,4,5,6,7,8,9,0])\n",
        "\n",
        "print(array)\n",
        "print(array.ndim)\n",
        "print(array.size)\n",
        "print(len(array))\n",
        "print(array.shape)\n",
        "print(array.dtype)\n",
        "print(array.itemsize)\n",
        "print(array.nbytes)\n"
      ],
      "metadata": {
        "id": "2pEO4UWM8MlG"
      },
      "execution_count": null,
      "outputs": []
    },
    {
      "cell_type": "code",
      "source": [
        "import numpy as np\n",
        "\n",
        "array = np.array([[1,2,3],[4,5,6],[7,8,9]])\n",
        "\n",
        "print(array)\n",
        "print(array.ndim)\n",
        "print(array.size)\n",
        "print(len(array))\n",
        "print(array.shape)\n",
        "print(array.dtype)\n",
        "print(array.itemsize)\n",
        "print(array.nbytes)"
      ],
      "metadata": {
        "id": "bEBmaGDl8vH2"
      },
      "execution_count": null,
      "outputs": []
    },
    {
      "cell_type": "code",
      "source": [
        "import numpy\n",
        "\n",
        "tipo_pessoa = numpy.dtype([(\"nome\",\"S10\"), (\"idade\",\"i4\")])\n",
        "\n",
        "array = numpy.array([(\"Marcelo\",33),(\"Arthur\",0.1)], dtype = tipo_pessoa)\n",
        "\n",
        "\n",
        "print(array)\n",
        "print(type(array))\n",
        "print(array.dtype, end=\"\\n\\n\")\n",
        "\n",
        "print(array)\n",
        "print(array.ndim)\n",
        "print(array.size)\n",
        "print(array.shape)\n",
        "print(array.dtype)\n",
        "print(array.itemsize)\n",
        "print(array.nbytes)"
      ],
      "metadata": {
        "id": "-bay57vS9LmM"
      },
      "execution_count": null,
      "outputs": []
    },
    {
      "cell_type": "code",
      "source": [
        "# Producao de objetos preenchidos\n",
        "\n",
        "import numpy\n",
        "\n",
        "array1 = numpy.zeros(9)\n",
        "array2 = numpy.ones(3)\n",
        "array3 = numpy.empty(6)\n",
        "array4 = numpy.identity(5)\n",
        "\n",
        "print(array1, end=\"\\n\\n\")\n",
        "print(array2, end=\"\\n\\n\")\n",
        "print(array3, end=\"\\n\\n\")\n",
        "print(array4, end=\"\\n\\n\")"
      ],
      "metadata": {
        "id": "S3vmQBiK9cOp"
      },
      "execution_count": null,
      "outputs": []
    },
    {
      "cell_type": "code",
      "source": [
        "import numpy\n",
        "\n",
        "array1 = numpy.zeros((3,3))\n",
        "array2 = numpy.ones((4,4))\n",
        "\n",
        "print(array1, end=\"\\n\\n\")\n",
        "print(array2, end=\"\\n\\n\")"
      ],
      "metadata": {
        "id": "t3m9lkqe_9KA"
      },
      "execution_count": null,
      "outputs": []
    },
    {
      "cell_type": "code",
      "source": [
        "import numpy\n",
        "\n",
        "array1 = numpy.arange(9)\n",
        "array2 = numpy.arange(4,16)\n",
        "array3 = numpy.arange(4,16 + 1, 2)\n",
        "\n",
        "print(array1, end=\"\\n\\n\")\n",
        "print(array2, end=\"\\n\\n\")\n",
        "print(array3, end=\"\\n\\n\")"
      ],
      "metadata": {
        "id": "yeZVrwI6ALvR"
      },
      "execution_count": null,
      "outputs": []
    },
    {
      "cell_type": "code",
      "source": [
        "import numpy\n",
        "\n",
        "array = numpy.full((4,4), 10)\n",
        "\n",
        "print(array)"
      ],
      "metadata": {
        "id": "rAr2ujnNAl2t"
      },
      "execution_count": null,
      "outputs": []
    },
    {
      "cell_type": "code",
      "source": [
        "import numpy\n",
        "\n",
        "array_float = numpy.random.rand(4,4)\n",
        "array_int = numpy.random.randint(5,999,(5,5))\n",
        "\n",
        "print(array_float, end=\"\\n\\n\")\n",
        "print(array_int, end=\"\\n\\n\")"
      ],
      "metadata": {
        "id": "moyuDQKpAt34"
      },
      "execution_count": null,
      "outputs": []
    },
    {
      "cell_type": "code",
      "source": [
        "# List Comprehension\n",
        "\n",
        "import numpy as np\n",
        "\n",
        "array = np.array([i for i in range(0,10)])\n",
        "\n",
        "print(array)"
      ],
      "metadata": {
        "id": "miEWAQo-BNBc"
      },
      "execution_count": null,
      "outputs": []
    },
    {
      "cell_type": "code",
      "source": [
        "import numpy as np\n",
        "\n",
        "array = np.array([\n",
        "    [i for i in range(0,3)],\n",
        "    [j for j in range(3,6)],\n",
        "    [k for k in range(6,9)],\n",
        "])\n",
        "\n",
        "print(array)"
      ],
      "metadata": {
        "id": "Xrl84SPjEtK5"
      },
      "execution_count": null,
      "outputs": []
    },
    {
      "cell_type": "code",
      "source": [
        "# Slicing\n",
        "\n",
        "import numpy\n",
        "\n",
        "array = numpy.array([1,2,3,4,5,6,7,8,9,0])\n",
        "\n",
        "print(array[1])\n",
        "print(array[2:4])\n",
        "\n"
      ],
      "metadata": {
        "id": "z802ZrcOFRGo"
      },
      "execution_count": null,
      "outputs": []
    },
    {
      "cell_type": "code",
      "source": [
        "import numpy as np\n",
        "array = np.array([[1,2,3],[4,5,6],[7,8,9]]) \n",
        "print(array, end='\\n\\n')\n",
        "\n",
        "print(array[2])\n",
        "print(array[2][2])\n",
        "print(array[2,2])\n",
        "print(array[1:3])\n",
        "print(array[2,1:3])"
      ],
      "metadata": {
        "id": "pmaKwXVkGsj4"
      },
      "execution_count": null,
      "outputs": []
    },
    {
      "cell_type": "code",
      "source": [
        "import numpy as np\n",
        "array = np.array([[1,2,3],[4,5,6],[7,8,9]]) \n",
        "print(array, end='\\n\\n')\n",
        "\n",
        "print(array[2,:])\n",
        "print(array[:,2])"
      ],
      "metadata": {
        "id": "JkqtLAOjIP4I"
      },
      "execution_count": null,
      "outputs": []
    },
    {
      "cell_type": "code",
      "source": [
        "import numpy as np\n",
        "array = np.array([[1,2,3,4],[5,6,7,8]]) \n",
        "print(array, end='\\n\\n')\n",
        "\n",
        "print(array[1,:])\n",
        "print(array[:,1])"
      ],
      "metadata": {
        "id": "SqDPgT30IjwB"
      },
      "execution_count": null,
      "outputs": []
    },
    {
      "cell_type": "code",
      "source": [
        "import numpy as np\n",
        "array = np.array([\n",
        "    [1,2,3,4,5,6,7,8,9],\n",
        "    [10,11,12,13,14,15,16,17,18],\n",
        "    [19,20,21,22,23,24,25,26,27]\n",
        "    ]) \n",
        "print(array, end='\\n\\n')\n",
        "\n",
        "print(array[1, 0:8:2])\n",
        "print(array[1, ::2])"
      ],
      "metadata": {
        "id": "25ZEh_7EIyFu"
      },
      "execution_count": null,
      "outputs": []
    }
  ]
}