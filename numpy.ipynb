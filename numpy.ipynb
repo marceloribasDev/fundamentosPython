{
  "nbformat": 4,
  "nbformat_minor": 0,
  "metadata": {
    "colab": {
      "provenance": [],
      "authorship_tag": "ABX9TyPGRLe0D7+oX2HEo8YfTHbg",
      "include_colab_link": true
    },
    "kernelspec": {
      "name": "python3",
      "display_name": "Python 3"
    },
    "language_info": {
      "name": "python"
    }
  },
  "cells": [
    {
      "cell_type": "markdown",
      "metadata": {
        "id": "view-in-github",
        "colab_type": "text"
      },
      "source": [
        "<a href=\"https://colab.research.google.com/github/marceloribasDev/fundamentosPython/blob/main/numpy.ipynb\" target=\"_parent\"><img src=\"https://colab.research.google.com/assets/colab-badge.svg\" alt=\"Open In Colab\"/></a>"
      ]
    },
    {
      "cell_type": "markdown",
      "source": [
        "# Numpy\n",
        "\n",
        "- Biblioteca python para operar sobre dados multidemensionais\n",
        "- Extremamente eficiente\n",
        "- Altamente funcional\n",
        "- Usada em engenhaira e ciencia de dados e computacao em geral"
      ],
      "metadata": {
        "id": "1-rv4TIktzt6"
      }
    },
    {
      "cell_type": "code",
      "execution_count": null,
      "metadata": {
        "id": "VdpYl-dTtjeQ"
      },
      "outputs": [],
      "source": [
        "import numpy\n",
        "\n",
        "boolean = numpy.bool_(True)\n",
        "\n",
        "print(boolean, type(boolean))"
      ]
    },
    {
      "cell_type": "code",
      "source": [
        "import numpy as np\n",
        "\n",
        "string = np.string_(\"Este eh uim texto\")\n",
        "\n",
        "print(string,type(string))"
      ],
      "metadata": {
        "id": "zqPUJOreu5to"
      },
      "execution_count": null,
      "outputs": []
    },
    {
      "cell_type": "code",
      "source": [
        "import numpy as np\n",
        "\n",
        "string = np.unicode_(\"Este eh um texto\")\n",
        "\n",
        "print(string,type(string))"
      ],
      "metadata": {
        "id": "KdFDHsJcvYTR"
      },
      "execution_count": null,
      "outputs": []
    },
    {
      "cell_type": "code",
      "source": [
        "import numpy as np\n",
        "\n",
        "# Inteiro de 32 bits\n",
        "inteiro = numpy.intc(-102)\n",
        "# Inteiro de 32 sem sinal\n",
        "uinteiro = numpy.uintc(102)\n",
        "# Inteiro de 64 bits\n",
        "long = numpy.int_(989898989)\n",
        "# Inteiro de 64 sem sinal\n",
        "ulong = numpy.uint(989089898)\n",
        "\n",
        "print(inteiro, type(inteiro))\n",
        "print(uinteiro, type(uinteiro))\n",
        "print(long, type(long))\n",
        "print(ulong, type(ulong))"
      ],
      "metadata": {
        "colab": {
          "base_uri": "https://localhost:8080/"
        },
        "id": "I4EQ0JQlvpHo",
        "outputId": "51664cd3-b317-4a92-ceff-dbeabcbc369e"
      },
      "execution_count": 14,
      "outputs": [
        {
          "output_type": "stream",
          "name": "stdout",
          "text": [
            "-102 <class 'numpy.int32'>\n",
            "102 <class 'numpy.uint32'>\n",
            "989898989 <class 'numpy.int64'>\n",
            "989089898 <class 'numpy.uint64'>\n"
          ]
        }
      ]
    }
  ]
}