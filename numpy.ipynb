{
  "nbformat": 4,
  "nbformat_minor": 0,
  "metadata": {
    "colab": {
      "provenance": [],
      "authorship_tag": "ABX9TyNVlSbJchXAT6OPswTTLCMg",
      "include_colab_link": true
    },
    "kernelspec": {
      "name": "python3",
      "display_name": "Python 3"
    },
    "language_info": {
      "name": "python"
    }
  },
  "cells": [
    {
      "cell_type": "markdown",
      "metadata": {
        "id": "view-in-github",
        "colab_type": "text"
      },
      "source": [
        "<a href=\"https://colab.research.google.com/github/marceloribasDev/fundamentosPython/blob/main/numpy.ipynb\" target=\"_parent\"><img src=\"https://colab.research.google.com/assets/colab-badge.svg\" alt=\"Open In Colab\"/></a>"
      ]
    },
    {
      "cell_type": "markdown",
      "source": [
        "# Numpy\n",
        "\n",
        "- Biblioteca python para operar sobre dados multidemensionais\n",
        "- Extremamente eficiente\n",
        "- Altamente funcional\n",
        "- Usada em engenhaira e ciencia de dados e computacao em geral"
      ],
      "metadata": {
        "id": "1-rv4TIktzt6"
      }
    },
    {
      "cell_type": "code",
      "execution_count": null,
      "metadata": {
        "id": "VdpYl-dTtjeQ"
      },
      "outputs": [],
      "source": [
        "import numpy\n",
        "\n",
        "boolean = numpy.bool_(True)\n",
        "\n",
        "print(boolean, type(boolean))"
      ]
    },
    {
      "cell_type": "code",
      "source": [
        "import numpy as np\n",
        "\n",
        "string = np.string_(\"Este eh uim texto\")\n",
        "\n",
        "print(string,type(string))"
      ],
      "metadata": {
        "id": "zqPUJOreu5to"
      },
      "execution_count": null,
      "outputs": []
    },
    {
      "cell_type": "code",
      "source": [
        "import numpy as np\n",
        "\n",
        "string = np.unicode_(\"Este eh um texto\")\n",
        "\n",
        "print(string,type(string))"
      ],
      "metadata": {
        "id": "KdFDHsJcvYTR"
      },
      "execution_count": null,
      "outputs": []
    },
    {
      "cell_type": "code",
      "source": [
        "import numpy as np\n",
        "\n",
        "# Inteiro de 32 bits\n",
        "inteiro = numpy.intc(-102)\n",
        "# Inteiro de 32 sem sinal\n",
        "uinteiro = numpy.uintc(102)\n",
        "# Inteiro de 64 bits\n",
        "long = numpy.int_(989898989)\n",
        "# Inteiro de 64 sem sinal\n",
        "ulong = numpy.uint(989089898)\n",
        "\n",
        "print(inteiro, type(inteiro))\n",
        "print(uinteiro, type(uinteiro))\n",
        "print(long, type(long))\n",
        "print(ulong, type(ulong))"
      ],
      "metadata": {
        "id": "I4EQ0JQlvpHo"
      },
      "execution_count": null,
      "outputs": []
    },
    {
      "cell_type": "code",
      "source": [
        "import numpy\n",
        "\n",
        "# 64 bits\n",
        "ponto_flutuante = numpy.float_(10002.34)\n",
        "\n",
        "# 32 bits\n",
        "ponto_flutuante2 = numpy.float32(10002.34)\n",
        "\n",
        "print(ponto_flutuante, type(ponto_flutuante))\n",
        "print(ponto_flutuante2, type(ponto_flutuante2))"
      ],
      "metadata": {
        "id": "xOBJYaqfxCzc"
      },
      "execution_count": null,
      "outputs": []
    },
    {
      "cell_type": "code",
      "source": [
        "import numpy as np\n",
        "\n",
        "# 8 bits\n",
        "int8 = np.int8(20)\n",
        "# 8 bits\n",
        "uint8 = np.uint8(20)\n",
        "# 16 bits\n",
        "int16 = np.int16(34)\n",
        "# 16 bits\n",
        "uint16 = np.uint16(344)\n",
        "\n",
        "float16 = np.float16(16)\n",
        "\n",
        "print(int8, type(int8))\n",
        "print(uint8, type(uint8))\n",
        "print(int16, type(int16))\n",
        "print(uint16, type(uint16))\n",
        "print(float16, type(float16))\n"
      ],
      "metadata": {
        "id": "Q1GG2YLExWpe"
      },
      "execution_count": null,
      "outputs": []
    },
    {
      "cell_type": "code",
      "source": [
        "import numpy\n",
        "\n",
        "array = numpy.array([1,2,3,4,5,6,7,8,9,0])\n",
        "print(array, type(array))\n",
        "print(array.dtype)"
      ],
      "metadata": {
        "id": "miAGERaayUza"
      },
      "execution_count": null,
      "outputs": []
    },
    {
      "cell_type": "code",
      "source": [
        "import numpy\n",
        "\n",
        "array = numpy.array([1,2,3,4,5,6,7,8,9,0], dtype = numpy.int8)\n",
        "print(array, type(array))\n",
        "print(array.dtype)"
      ],
      "metadata": {
        "id": "Mrc5jfqSy1So"
      },
      "execution_count": null,
      "outputs": []
    },
    {
      "cell_type": "code",
      "source": [
        "import numpy\n",
        "\n",
        "array = numpy.array([\"2\",\"234\",\"1\"], dtype = numpy.string_)\n",
        "print(array, type(array))\n",
        "print(array.dtype)"
      ],
      "metadata": {
        "id": "hCV8sJWry-vV"
      },
      "execution_count": null,
      "outputs": []
    }
  ]
}