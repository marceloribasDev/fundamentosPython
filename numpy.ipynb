{
  "nbformat": 4,
  "nbformat_minor": 0,
  "metadata": {
    "colab": {
      "provenance": [],
      "authorship_tag": "ABX9TyOpEgh3c05JW/dVcpI9DfgI",
      "include_colab_link": true
    },
    "kernelspec": {
      "name": "python3",
      "display_name": "Python 3"
    },
    "language_info": {
      "name": "python"
    }
  },
  "cells": [
    {
      "cell_type": "markdown",
      "metadata": {
        "id": "view-in-github",
        "colab_type": "text"
      },
      "source": [
        "<a href=\"https://colab.research.google.com/github/marceloribasDev/fundamentosPython/blob/main/numpy.ipynb\" target=\"_parent\"><img src=\"https://colab.research.google.com/assets/colab-badge.svg\" alt=\"Open In Colab\"/></a>"
      ]
    },
    {
      "cell_type": "markdown",
      "source": [
        "# Numpy\n",
        "\n",
        "- Biblioteca python para operar sobre dados multidemensionais\n",
        "- Extremamente eficiente\n",
        "- Altamente funcional\n",
        "- Usada em engenhaira e ciencia de dados e computacao em geral"
      ],
      "metadata": {
        "id": "1-rv4TIktzt6"
      }
    },
    {
      "cell_type": "code",
      "execution_count": null,
      "metadata": {
        "id": "VdpYl-dTtjeQ"
      },
      "outputs": [],
      "source": [
        "import numpy\n",
        "\n",
        "boolean = numpy.bool_(True)\n",
        "\n",
        "print(boolean, type(boolean))"
      ]
    },
    {
      "cell_type": "code",
      "source": [
        "import numpy as np\n",
        "\n",
        "string = np.string_(\"Este eh uim texto\")\n",
        "\n",
        "print(string,type(string))"
      ],
      "metadata": {
        "id": "zqPUJOreu5to"
      },
      "execution_count": null,
      "outputs": []
    },
    {
      "cell_type": "code",
      "source": [
        "import numpy as np\n",
        "\n",
        "string = np.unicode_(\"Este eh um texto\")\n",
        "\n",
        "print(string,type(string))"
      ],
      "metadata": {
        "id": "KdFDHsJcvYTR"
      },
      "execution_count": null,
      "outputs": []
    },
    {
      "cell_type": "code",
      "source": [
        "import numpy as np\n",
        "\n",
        "# Inteiro de 32 bits\n",
        "inteiro = numpy.intc(-102)\n",
        "# Inteiro de 32 sem sinal\n",
        "uinteiro = numpy.uintc(102)\n",
        "# Inteiro de 64 bits\n",
        "long = numpy.int_(989898989)\n",
        "# Inteiro de 64 sem sinal\n",
        "ulong = numpy.uint(989089898)\n",
        "\n",
        "print(inteiro, type(inteiro))\n",
        "print(uinteiro, type(uinteiro))\n",
        "print(long, type(long))\n",
        "print(ulong, type(ulong))"
      ],
      "metadata": {
        "id": "I4EQ0JQlvpHo"
      },
      "execution_count": null,
      "outputs": []
    },
    {
      "cell_type": "code",
      "source": [
        "import numpy\n",
        "\n",
        "# 64 bits\n",
        "ponto_flutuante = numpy.float_(10002.34)\n",
        "\n",
        "# 32 bits\n",
        "ponto_flutuante2 = numpy.float32(10002.34)\n",
        "\n",
        "print(ponto_flutuante, type(ponto_flutuante))\n",
        "print(ponto_flutuante2, type(ponto_flutuante2))"
      ],
      "metadata": {
        "id": "xOBJYaqfxCzc"
      },
      "execution_count": null,
      "outputs": []
    },
    {
      "cell_type": "code",
      "source": [
        "import numpy as np\n",
        "\n",
        "# 8 bits\n",
        "int8 = np.int8(20)\n",
        "# 8 bits\n",
        "uint8 = np.uint8(20)\n",
        "# 16 bits\n",
        "int16 = np.int16(34)\n",
        "# 16 bits\n",
        "uint16 = np.uint16(344)\n",
        "\n",
        "float16 = np.float16(16)\n",
        "\n",
        "print(int8, type(int8))\n",
        "print(uint8, type(uint8))\n",
        "print(int16, type(int16))\n",
        "print(uint16, type(uint16))\n",
        "print(float16, type(float16))\n"
      ],
      "metadata": {
        "id": "Q1GG2YLExWpe"
      },
      "execution_count": null,
      "outputs": []
    },
    {
      "cell_type": "code",
      "source": [
        "import numpy\n",
        "\n",
        "array = numpy.array([1,2,3,4,5,6,7,8,9,0])\n",
        "print(array, type(array))\n",
        "print(array.dtype)"
      ],
      "metadata": {
        "id": "miAGERaayUza"
      },
      "execution_count": null,
      "outputs": []
    },
    {
      "cell_type": "code",
      "source": [
        "import numpy\n",
        "\n",
        "array = numpy.array([1,2,3,4,5,6,7,8,9,0], dtype = numpy.int8)\n",
        "print(array, type(array))\n",
        "print(array.dtype)"
      ],
      "metadata": {
        "id": "Mrc5jfqSy1So"
      },
      "execution_count": null,
      "outputs": []
    },
    {
      "cell_type": "code",
      "source": [
        "import numpy\n",
        "\n",
        "array = numpy.array([\"2\",\"234\",\"1\"], dtype = numpy.string_)\n",
        "print(array, type(array))\n",
        "print(array.dtype)"
      ],
      "metadata": {
        "id": "hCV8sJWry-vV"
      },
      "execution_count": null,
      "outputs": []
    },
    {
      "cell_type": "markdown",
      "source": [
        "i = inteiro\n",
        "b = booleano\n",
        "u = inteiro sem sinal\n",
        "f = ponto flutuante\n",
        "S = string (bytes)\n",
        "U = String Unicode"
      ],
      "metadata": {
        "id": "lRNv4jSI1l00"
      }
    },
    {
      "cell_type": "code",
      "source": [
        "import numpy\n",
        "\n",
        "array = numpy.array([\"acb\",\"ght\",\"ewre\"], dtype = 'S3')\n",
        "print(array, type(array))\n",
        "print(array.dtype)\n",
        "print(array.itemsize)\n",
        "print(array.nbytes)"
      ],
      "metadata": {
        "id": "53U032dB1baF"
      },
      "execution_count": null,
      "outputs": []
    },
    {
      "cell_type": "code",
      "source": [
        "import numpy\n",
        "\n",
        "array = numpy.array([1,2,3,4], dtype = 'i2')\n",
        "print(array, type(array))\n",
        "print(array.dtype)\n",
        "print(array.itemsize)\n",
        "print(array.nbytes)"
      ],
      "metadata": {
        "id": "gGDNSeHJ2MDG"
      },
      "execution_count": null,
      "outputs": []
    },
    {
      "cell_type": "code",
      "source": [
        "import numpy\n",
        "\n",
        "class Pessoa:\n",
        "    def __init__(self, nome, idade):\n",
        "        self.nome = nome\n",
        "        self.idade = idade\n",
        "\n",
        "array = numpy.array([Pessoa(\"Marcelo\",33),Pessoa(\"Arthur\",0.1)])\n",
        "\n",
        "print(array)\n",
        "print(type(array))\n",
        "print(array.dtype, end=\"\\n\\n\")\n",
        "\n",
        "print(array[0].nome, array[1].nome)"
      ],
      "metadata": {
        "id": "oFJi4yUW6bZ8"
      },
      "execution_count": null,
      "outputs": []
    },
    {
      "cell_type": "code",
      "source": [
        "import numpy\n",
        "\n",
        "tipo_pessoa = numpy.dtype([(\"nome\",\"S10\"), (\"idade\",\"i4\")])\n",
        "\n",
        "array = numpy.array([(\"Marcelo\",33),(\"Arthur\",0.1)], dtype = tipo_pessoa)\n",
        "\n",
        "\n",
        "print(array)\n",
        "print(type(array))\n",
        "print(array.dtype, end=\"\\n\\n\")\n"
      ],
      "metadata": {
        "id": "zFSEO9oo7TUU"
      },
      "execution_count": null,
      "outputs": []
    },
    {
      "cell_type": "code",
      "source": [
        "# Propiedades de Arrays\n",
        "\n",
        "import numpy as np\n",
        "\n",
        "array = np.array([1,2,3,4,5,6,7,8,9,0])\n",
        "\n",
        "print(array)\n",
        "print(array.ndim)\n",
        "print(array.size)\n",
        "print(len(array))\n",
        "print(array.shape)\n",
        "print(array.dtype)\n",
        "print(array.itemsize)\n",
        "print(array.nbytes)\n"
      ],
      "metadata": {
        "id": "2pEO4UWM8MlG"
      },
      "execution_count": null,
      "outputs": []
    },
    {
      "cell_type": "code",
      "source": [
        "import numpy as np\n",
        "\n",
        "array = np.array([[1,2,3],[4,5,6],[7,8,9]])\n",
        "\n",
        "print(array)\n",
        "print(array.ndim)\n",
        "print(array.size)\n",
        "print(len(array))\n",
        "print(array.shape)\n",
        "print(array.dtype)\n",
        "print(array.itemsize)\n",
        "print(array.nbytes)"
      ],
      "metadata": {
        "id": "bEBmaGDl8vH2"
      },
      "execution_count": null,
      "outputs": []
    },
    {
      "cell_type": "code",
      "source": [
        "import numpy\n",
        "\n",
        "tipo_pessoa = numpy.dtype([(\"nome\",\"S10\"), (\"idade\",\"i4\")])\n",
        "\n",
        "array = numpy.array([(\"Marcelo\",33),(\"Arthur\",0.1)], dtype = tipo_pessoa)\n",
        "\n",
        "\n",
        "print(array)\n",
        "print(type(array))\n",
        "print(array.dtype, end=\"\\n\\n\")\n",
        "\n",
        "print(array)\n",
        "print(array.ndim)\n",
        "print(array.size)\n",
        "print(array.shape)\n",
        "print(array.dtype)\n",
        "print(array.itemsize)\n",
        "print(array.nbytes)"
      ],
      "metadata": {
        "id": "-bay57vS9LmM"
      },
      "execution_count": null,
      "outputs": []
    },
    {
      "cell_type": "code",
      "source": [
        "# Producao de objetos preenchidos\n",
        "\n",
        "import numpy\n",
        "\n",
        "array1 = numpy.zeros(9)\n",
        "array2 = numpy.ones(3)\n",
        "array3 = numpy.empty(6)\n",
        "array4 = numpy.identity(5)\n",
        "\n",
        "print(array1, end=\"\\n\\n\")\n",
        "print(array2, end=\"\\n\\n\")\n",
        "print(array3, end=\"\\n\\n\")\n",
        "print(array4, end=\"\\n\\n\")"
      ],
      "metadata": {
        "id": "S3vmQBiK9cOp"
      },
      "execution_count": null,
      "outputs": []
    },
    {
      "cell_type": "code",
      "source": [
        "import numpy\n",
        "\n",
        "array1 = numpy.zeros((3,3))\n",
        "array2 = numpy.ones((4,4))\n",
        "\n",
        "print(array1, end=\"\\n\\n\")\n",
        "print(array2, end=\"\\n\\n\")"
      ],
      "metadata": {
        "id": "t3m9lkqe_9KA"
      },
      "execution_count": null,
      "outputs": []
    },
    {
      "cell_type": "code",
      "source": [
        "import numpy\n",
        "\n",
        "array1 = numpy.arange(9)\n",
        "array2 = numpy.arange(4,16)\n",
        "array3 = numpy.arange(4,16 + 1, 2)\n",
        "\n",
        "print(array1, end=\"\\n\\n\")\n",
        "print(array2, end=\"\\n\\n\")\n",
        "print(array3, end=\"\\n\\n\")"
      ],
      "metadata": {
        "id": "yeZVrwI6ALvR"
      },
      "execution_count": null,
      "outputs": []
    },
    {
      "cell_type": "code",
      "source": [
        "import numpy\n",
        "\n",
        "array = numpy.full((4,4), 10)\n",
        "\n",
        "print(array)"
      ],
      "metadata": {
        "id": "rAr2ujnNAl2t"
      },
      "execution_count": null,
      "outputs": []
    },
    {
      "cell_type": "code",
      "source": [
        "import numpy\n",
        "\n",
        "array_float = numpy.random.rand(4,4)\n",
        "array_int = numpy.random.randint(5,999,(5,5))\n",
        "\n",
        "print(array_float, end=\"\\n\\n\")\n",
        "print(array_int, end=\"\\n\\n\")"
      ],
      "metadata": {
        "id": "moyuDQKpAt34"
      },
      "execution_count": null,
      "outputs": []
    },
    {
      "cell_type": "code",
      "source": [
        "# List Comprehension\n",
        "\n",
        "import numpy as np\n",
        "\n",
        "array = np.array([i for i in range(0,10)])\n",
        "\n",
        "print(array)"
      ],
      "metadata": {
        "id": "miEWAQo-BNBc"
      },
      "execution_count": null,
      "outputs": []
    },
    {
      "cell_type": "code",
      "source": [
        "import numpy as np\n",
        "\n",
        "array = np.array([\n",
        "    [i for i in range(0,3)],\n",
        "    [j for j in range(3,6)],\n",
        "    [k for k in range(6,9)],\n",
        "])\n",
        "\n",
        "print(array)"
      ],
      "metadata": {
        "id": "Xrl84SPjEtK5"
      },
      "execution_count": null,
      "outputs": []
    },
    {
      "cell_type": "code",
      "source": [
        "# Slicing\n",
        "\n",
        "import numpy\n",
        "\n",
        "array = numpy.array([1,2,3,4,5,6,7,8,9,0])\n",
        "\n",
        "print(array[1])\n",
        "print(array[2:4])\n",
        "\n"
      ],
      "metadata": {
        "id": "z802ZrcOFRGo"
      },
      "execution_count": null,
      "outputs": []
    },
    {
      "cell_type": "code",
      "source": [
        "import numpy as np\n",
        "array = np.array([[1,2,3],[4,5,6],[7,8,9]]) \n",
        "print(array, end='\\n\\n')\n",
        "\n",
        "print(array[2])\n",
        "print(array[2][2])\n",
        "print(array[2,2])\n",
        "print(array[1:3])\n",
        "print(array[2,1:3])"
      ],
      "metadata": {
        "id": "pmaKwXVkGsj4"
      },
      "execution_count": null,
      "outputs": []
    },
    {
      "cell_type": "code",
      "source": [
        "import numpy as np\n",
        "array = np.array([[1,2,3],[4,5,6],[7,8,9]]) \n",
        "print(array, end='\\n\\n')\n",
        "\n",
        "print(array[2,:])\n",
        "print(array[:,2])"
      ],
      "metadata": {
        "id": "JkqtLAOjIP4I"
      },
      "execution_count": null,
      "outputs": []
    },
    {
      "cell_type": "code",
      "source": [
        "import numpy as np\n",
        "array = np.array([[1,2,3,4],[5,6,7,8]]) \n",
        "print(array, end='\\n\\n')\n",
        "\n",
        "print(array[1,:])\n",
        "print(array[:,1])"
      ],
      "metadata": {
        "id": "SqDPgT30IjwB"
      },
      "execution_count": null,
      "outputs": []
    },
    {
      "cell_type": "code",
      "source": [
        "import numpy as np\n",
        "array = np.array([\n",
        "    [1,2,3,4,5,6,7,8,9],\n",
        "    [10,11,12,13,14,15,16,17,18],\n",
        "    [19,20,21,22,23,24,25,26,27]\n",
        "    ]) \n",
        "print(array, end='\\n\\n')\n",
        "\n",
        "print(array[1, 0:8:2])\n",
        "print(array[1, ::2])"
      ],
      "metadata": {
        "id": "25ZEh_7EIyFu"
      },
      "execution_count": null,
      "outputs": []
    },
    {
      "cell_type": "code",
      "source": [
        "# Iteracao em Arrays\n",
        "\n",
        "import numpy as np\n",
        "array = np.array(\n",
        "    [1,2,3,4,5,6,7,8,9]\n",
        "   ) \n",
        "\n",
        "for i in array:\n",
        "    print(i)"
      ],
      "metadata": {
        "id": "bZprV45tLo5k"
      },
      "execution_count": null,
      "outputs": []
    },
    {
      "cell_type": "code",
      "source": [
        "import numpy as np\n",
        "array = np.array([\n",
        "    [1,2,3,4,5,6,7,8,9],\n",
        "    [10,11,12,13,14,15,16,17,18]\n",
        "    ]) \n",
        "print(array, end='\\n\\n')\n",
        "\n",
        "for i in array:\n",
        "    for j in i:\n",
        "        print(j)"
      ],
      "metadata": {
        "id": "oMeqdVerL3R-"
      },
      "execution_count": null,
      "outputs": []
    },
    {
      "cell_type": "code",
      "source": [
        "import numpy as np\n",
        "array = np.array([\n",
        "    [1,2,3,4,5,6,7,8,9],\n",
        "    [10,11,12,13,14,15,16,17,18]\n",
        "    ]) \n",
        "print(array, end='\\n\\n')\n",
        "\n",
        "for i in np.nditer(array, order = \"F\"):\n",
        "    print(i)"
      ],
      "metadata": {
        "id": "TGvVvhtkMUpM"
      },
      "execution_count": null,
      "outputs": []
    },
    {
      "cell_type": "code",
      "source": [
        "# Inserir e remover elementos\n",
        "\n",
        "import numpy as np\n",
        "array = np.array([\n",
        "    [1,2,3],\n",
        "    [4,5,6],\n",
        "    [7,8,9]\n",
        "]) \n",
        "print(array, end='\\n\\n')\n",
        "\n",
        "array[0] = [11,22,33]\n",
        "print(array, end='\\n\\n')\n",
        "\n",
        "array[1][1:3] = [0,0]\n",
        "print(array, end='\\n\\n')\n",
        "\n",
        "array[0,0] = 10\n",
        "print(array, end='\\n\\n')"
      ],
      "metadata": {
        "id": "toMrQf5wM5Vg"
      },
      "execution_count": null,
      "outputs": []
    },
    {
      "cell_type": "code",
      "source": [
        "import numpy as np\n",
        "array = np.array([\n",
        "    [1,2,3],\n",
        "    [4,5,6],\n",
        "    [7,8,9]\n",
        "]) \n",
        "print(array, end='\\n\\n')\n",
        "\n",
        "array[:,2] = [0,0,0]\n",
        "print(array, end='\\n\\n')"
      ],
      "metadata": {
        "id": "xQ_eKlF4RSlS"
      },
      "execution_count": null,
      "outputs": []
    },
    {
      "cell_type": "code",
      "source": [
        "import numpy as np\n",
        "array = np.array(\n",
        "    [1,2,3,4]\n",
        "   ) \n",
        "\n",
        "array = np.append(array, [5,6,7,8])\n",
        "print(array, end='\\n\\n')"
      ],
      "metadata": {
        "id": "UAo17MBXRb6R"
      },
      "execution_count": null,
      "outputs": []
    },
    {
      "cell_type": "code",
      "source": [
        "import numpy as np\n",
        "array = np.array([[1,2,3,4],[5,6,7,8]]) \n",
        "print(array, end='\\n\\n')\n",
        "\n",
        "array2 = np.append(array, [5,6,7,8])\n",
        "print(array2, end='\\n\\n')"
      ],
      "metadata": {
        "id": "VJAj0HJDSW2z"
      },
      "execution_count": null,
      "outputs": []
    },
    {
      "cell_type": "code",
      "source": [
        "import numpy as np\n",
        "array = np.array([\n",
        "    [1,2,3],\n",
        "    [4,5,6],\n",
        "    [7,8,9]\n",
        "]) \n",
        "print(array, end='\\n\\n')\n",
        "\n",
        "array2 = np.append(array,[[10,11,12]], axis=0) # linha\n",
        "array3 = np.append(array,[[10],[11],[12]], axis = 1) # adicionado por coluna\n",
        "\n",
        "print(array2, end='\\n\\n')\n",
        "print(array3, end='\\n\\n')"
      ],
      "metadata": {
        "id": "3PTjjJfxVYnz"
      },
      "execution_count": null,
      "outputs": []
    },
    {
      "cell_type": "code",
      "source": [
        "import numpy as np\n",
        "array = np.array([1,2,3]) \n",
        "print(array, end='\\n\\n')\n",
        "\n",
        "array = np.insert(array,1,10)\n",
        "print(array, end='\\n\\n')"
      ],
      "metadata": {
        "id": "bSXl6MRAWT_5"
      },
      "execution_count": null,
      "outputs": []
    },
    {
      "cell_type": "code",
      "source": [
        "import numpy as np\n",
        "array = np.array([\n",
        "    [1,2,3],\n",
        "    [7,8,9],\n",
        "    [10,11,12]\n",
        "]) \n",
        "print(array, end='\\n\\n')\n",
        "\n",
        "array2 = np.insert(array, 1,[4,5,6], axis =0)\n",
        "print(array2, end='\\n\\n')\n",
        "\n",
        "array3 = np.insert(array, 1,[4,5,6], axis =1)\n",
        "print(array3, end='\\n\\n')\n"
      ],
      "metadata": {
        "id": "YXABiGO4WfsZ"
      },
      "execution_count": null,
      "outputs": []
    },
    {
      "cell_type": "code",
      "source": [
        "import numpy as np\n",
        "array = np.array([\n",
        "    [1,2,3],\n",
        "    [7,8,9],\n",
        "    [10,11,12]\n",
        "]) \n",
        "print(array, end='\\n\\n')\n",
        "\n",
        "array2 = np.insert(array, 1,[4,5,6], axis =0)\n",
        "print(array2, end='\\n\\n')\n",
        "\n",
        "array3 = np.delete(array2, 2, axis =0)\n",
        "print(array3, end='\\n\\n')"
      ],
      "metadata": {
        "id": "r7gk5X70W_HX"
      },
      "execution_count": null,
      "outputs": []
    },
    {
      "cell_type": "code",
      "source": [
        "# Copiando um array\n",
        "import numpy as np\n",
        "\n",
        "array = np.array([1,2,3])\n",
        "copy_array = array # Copia por referencia\n",
        "copy_array[0] = 0\n",
        "print(array)"
      ],
      "metadata": {
        "id": "0kLjNdGOX6N9"
      },
      "execution_count": null,
      "outputs": []
    },
    {
      "cell_type": "code",
      "source": [
        "import numpy as np\n",
        "\n",
        "array = np.array([1,2,3])\n",
        "copy_array = array.copy() # copia por valor\n",
        "copy_array[0] = 0\n",
        "print(array)\n",
        "print(copy_array)"
      ],
      "metadata": {
        "id": "ZITzVbrgYMBG"
      },
      "execution_count": null,
      "outputs": []
    },
    {
      "cell_type": "code",
      "source": [
        "# Alterando dimensoes\n",
        "import numpy as np\n",
        "\n",
        "array = np.array([\n",
        "    [1,2,3],\n",
        "    [7,8,9],\n",
        "    [10,11,12]\n",
        "]) \n",
        "print(array, end='\\n\\n')\n",
        "\n",
        "array = array.reshape(9)\n",
        "print(array, end='\\n\\n')"
      ],
      "metadata": {
        "id": "vn1ueItHcUpc"
      },
      "execution_count": null,
      "outputs": []
    },
    {
      "cell_type": "code",
      "source": [
        "import numpy as np\n",
        "\n",
        "array = np.array([i for i in range(0,27)])\n",
        "\n",
        "print(array, end='\\n\\n')\n",
        "\n",
        "array = array.reshape(3,9)\n",
        "print(array, end='\\n\\n')\n",
        "array = array.reshape(9,3)\n",
        "print(array, end='\\n\\n')\n",
        "array = array.reshape(3,3,3)\n",
        "print(array, end='\\n\\n')"
      ],
      "metadata": {
        "id": "UGiirl88cuD8"
      },
      "execution_count": null,
      "outputs": []
    },
    {
      "cell_type": "code",
      "source": [
        "import numpy as np\n",
        "\n",
        "array = np.array([\n",
        "    [1,2,3],\n",
        "    [7,8,9],\n",
        "    [10,11,12]\n",
        "]) \n",
        "print(array, end='\\n\\n')\n",
        "\n",
        "array = array.flatten()\n",
        "print(array, end='\\n\\n')"
      ],
      "metadata": {
        "id": "cspCLnYsdLfA"
      },
      "execution_count": null,
      "outputs": []
    },
    {
      "cell_type": "code",
      "source": [
        "# Operacoes sobre arrays\n",
        "import numpy as np\n",
        "\n",
        "array1 = np.array([1,2,3])\n",
        "array2 = np.array([2,4,6])\n",
        "\n",
        "print(array1 + array2)\n",
        "print(array1 - array2)\n",
        "print(array1 / array2)\n",
        "print(array1 * array2)\n",
        "print(array1 ** array2)\n",
        "print(array1 // array2)\n"
      ],
      "metadata": {
        "id": "ZXW4-41hfErN"
      },
      "execution_count": null,
      "outputs": []
    },
    {
      "cell_type": "code",
      "source": [
        "import numpy as np\n",
        "\n",
        "array1 = np.array([1,1,1])\n",
        "array2 = np.array([[2,4,6],[1,2,3]])\n",
        "\n",
        "print(array1 + array2)\n"
      ],
      "metadata": {
        "id": "27JM6i9mfd5p"
      },
      "execution_count": null,
      "outputs": []
    },
    {
      "cell_type": "code",
      "source": [
        "import numpy as np\n",
        "\n",
        "array1 = np.array([1,1,1])\n",
        "array2 = np.array([3,1,4])\n",
        "array3 = np.array([3,1,4])\n",
        "\n",
        "print(array1 > array2)\n",
        "\n",
        "print(np.array_equal(array2,array3))"
      ],
      "metadata": {
        "id": "GqqfMQHGf_b7"
      },
      "execution_count": null,
      "outputs": []
    },
    {
      "cell_type": "code",
      "source": [
        "# Concatenando arrays\n",
        "import numpy as np\n",
        "\n",
        "array1 = np.array([1,1,1])\n",
        "array2 = np.array([3,1,4])\n",
        "\n",
        "array1_2 = np.concatenate((array1, array2), axis=0)\n",
        "print(array1_2, end='\\n\\n')"
      ],
      "metadata": {
        "id": "KWrzzimShCu3"
      },
      "execution_count": null,
      "outputs": []
    },
    {
      "cell_type": "code",
      "source": [
        "import numpy as np\n",
        "\n",
        "array1 = np.array([\n",
        "    [1,2,3],\n",
        "    [4,5,6]\n",
        "])\n",
        "\n",
        "array2 = np.array([\n",
        "    [7,8,9],\n",
        "    [10,11,12]\n",
        "])\n",
        "\n",
        "array1_2 = np.concatenate((array1,array2),axis=0)\n",
        "print(array1_2, end='\\n\\n')\n",
        "\n",
        "array1_2 = np.concatenate((array1,array2),axis=1)\n",
        "print(array1_2, end='\\n\\n')"
      ],
      "metadata": {
        "id": "j8y_2zoqlCuJ"
      },
      "execution_count": null,
      "outputs": []
    },
    {
      "cell_type": "code",
      "source": [
        "import numpy as np\n",
        "\n",
        "array1 = np.array([1,2,3])\n",
        "array2 = np.array([4,5,6])\n",
        "\n",
        "array12r = np.vstack((array1, array2))\n",
        "array12c = np.hstack((array1, array2))\n",
        "\n",
        "print(array12r, end='\\n\\n')\n",
        "print(array12c, end='\\n\\n')"
      ],
      "metadata": {
        "id": "6g1lydujl776"
      },
      "execution_count": null,
      "outputs": []
    },
    {
      "cell_type": "code",
      "source": [
        "import numpy as np\n",
        "array1 = np.array([[1,2,3],[4,5,6]])\n",
        "array2 = np.array([[7,8,9],[10,11,12]])\n",
        "array12r = np.vstack((array1,array2))\n",
        "array12c = np.hstack((array1,array2))\n",
        "print(array12r)\n",
        "print(array12c)"
      ],
      "metadata": {
        "id": "nk9WZEbPmmhL"
      },
      "execution_count": null,
      "outputs": []
    },
    {
      "cell_type": "code",
      "source": [
        "# Divisao de arrays\n",
        "\n",
        "import numpy as np\n",
        "array = np.array([1,2,3,4,5,6])\n",
        "print(np.split(array,1))\n",
        "print(np.split(array,2))\n",
        "print(np.split(array,3))"
      ],
      "metadata": {
        "id": "N0rv7nr1muTT"
      },
      "execution_count": null,
      "outputs": []
    },
    {
      "cell_type": "code",
      "source": [
        "import numpy \n",
        "array = numpy.array([[1,2,3,4],[4,5,6,7]])\n",
        "print(np.split(array,2))"
      ],
      "metadata": {
        "id": "JX3LC5KXmzP6"
      },
      "execution_count": null,
      "outputs": []
    },
    {
      "cell_type": "code",
      "source": [
        "import numpy \n",
        "array = numpy.array([1,2,3,4,5,6])\n",
        "array1 = numpy.array_split(array,2)\n",
        "array2 = numpy.array_split(array,3)\n",
        "array3 = numpy.array_split(array,4)\n",
        "print(array1)\n",
        "print(array2)\n",
        "print(array3)"
      ],
      "metadata": {
        "id": "xFEv2tFmm1Gp"
      },
      "execution_count": null,
      "outputs": []
    },
    {
      "cell_type": "code",
      "source": [
        "import numpy \n",
        "array = numpy.array([[1,2,3],[4,5,6]])\n",
        "array1 = numpy.array_split(array,2)\n",
        "array2 = numpy.array_split(array,3)\n",
        "array3 = numpy.array_split(array,4)\n",
        "print(array1)\n",
        "print(array2)\n",
        "print(array3)"
      ],
      "metadata": {
        "id": "PyHVWVR3m2fL"
      },
      "execution_count": null,
      "outputs": []
    },
    {
      "cell_type": "code",
      "source": [
        "import numpy \n",
        "array = numpy.array([[1,2,3],[4,5,6],[7,8,9]])\n",
        "array1 = numpy.hsplit(array,3)\n",
        "print(array1)"
      ],
      "metadata": {
        "id": "5_jSPMAmm4eA"
      },
      "execution_count": null,
      "outputs": []
    },
    {
      "cell_type": "code",
      "source": [
        "# Filtrando elementos\n",
        "\n",
        "import numpy\n",
        "array = numpy.array([1,3,4,2,7,4])\n",
        "array_find = numpy.where(array >= 4 ) \n",
        "print(array_find)"
      ],
      "metadata": {
        "id": "CMoT1FYlKbsh"
      },
      "execution_count": null,
      "outputs": []
    },
    {
      "cell_type": "code",
      "source": [
        "import numpy\n",
        "array = numpy.array([1,3,4,2,7,4])\n",
        "array_find = numpy.where( (array == 4) | (array == 7) ) \n",
        "print(array_find)"
      ],
      "metadata": {
        "id": "ot4s8-FQKnzj"
      },
      "execution_count": null,
      "outputs": []
    },
    {
      "cell_type": "code",
      "source": [
        "import numpy\n",
        "array = numpy.array([1,-1,-3,0,6,3,-78])\n",
        "array_find = numpy.where( (array > 0) & (array < 10) ) \n",
        "print(array_find)"
      ],
      "metadata": {
        "id": "E2W9n_KdKpUi"
      },
      "execution_count": null,
      "outputs": []
    },
    {
      "cell_type": "code",
      "source": [
        "import numpy\n",
        "array = numpy.array([1,3,4,2,7,4])\n",
        "array_find = numpy.any(array ==1)\n",
        "print(array_find)"
      ],
      "metadata": {
        "id": "_G41kNEuKrRo"
      },
      "execution_count": null,
      "outputs": []
    },
    {
      "cell_type": "code",
      "source": [
        "import numpy\n",
        "array = numpy.array([1,3,4,2,7,4])\n",
        "array_find = numpy.any((array>0) & (array<10))\n",
        "print(array_find)"
      ],
      "metadata": {
        "id": "NKy0UmcdKsWp"
      },
      "execution_count": null,
      "outputs": []
    },
    {
      "cell_type": "code",
      "source": [
        "import numpy\n",
        "array = numpy.array([1,3,4,2,7,4])\n",
        "array_find = numpy.all(array>0)\n",
        "print(array_find)"
      ],
      "metadata": {
        "id": "psyaFYzMKuBB"
      },
      "execution_count": null,
      "outputs": []
    },
    {
      "cell_type": "code",
      "source": [
        "import numpy\n",
        "array = numpy.array([1,0,1,1,1,0,0])\n",
        "filter = array ==1\n",
        "filter_array = array[filter]\n",
        "print(filter_array)"
      ],
      "metadata": {
        "id": "ytOf_jFLKv2P"
      },
      "execution_count": null,
      "outputs": []
    },
    {
      "cell_type": "code",
      "source": [
        "import numpy\n",
        "array = numpy.array([1,0,1,1,1,0,2])\n",
        "filter = (array ==1) | (array ==2)\n",
        "filter_array = array[filter]\n",
        "print(filter_array)"
      ],
      "metadata": {
        "id": "NTDbuBTLKx2I"
      },
      "execution_count": null,
      "outputs": []
    },
    {
      "cell_type": "code",
      "source": [
        "import numpy\n",
        "array = numpy.array([1,0,1,1,1,0,2])\n",
        "filtered_array = numpy.array([i for i in array if i ==0 ])\n",
        "print(filtered_array)"
      ],
      "metadata": {
        "id": "7G0BR7_2K0A6"
      },
      "execution_count": null,
      "outputs": []
    },
    {
      "cell_type": "code",
      "source": [
        "# Ordenando arrays\n",
        "\n",
        "import numpy\n",
        "array = numpy.array([4,1,3,2])\n",
        "print(numpy.sort(array, kind='quicksort'))"
      ],
      "metadata": {
        "id": "snIWfNwrK2N6"
      },
      "execution_count": null,
      "outputs": []
    },
    {
      "cell_type": "code",
      "source": [
        "import numpy\n",
        "array = numpy.array([[38,2,1],[5,5,4]])\n",
        "print(numpy.sort(array, axis = 0 ))\n",
        "print(numpy.sort(array, axis = 1 ))"
      ],
      "metadata": {
        "id": "SwmDeIH2K58E"
      },
      "execution_count": null,
      "outputs": []
    },
    {
      "cell_type": "code",
      "source": [
        "# Operacoes aritimeticas\n",
        "import numpy\n",
        "arr1 = numpy.array([1,2,3,4,5,6,18])\n",
        "arr2 = numpy.array([1,2,3,4,5,6,3])\n",
        "\n",
        "array1 = numpy.add(arr1, arr2)\n",
        "array2 = numpy.subtract(arr1, arr2)\n",
        "array3 = numpy.multiply(arr1, arr2)\n",
        "array4 = numpy.divide(arr1, arr2)\n",
        "\n",
        "print(array1)\n",
        "print(array2)\n",
        "print(array3)\n",
        "print(array4)\n"
      ],
      "metadata": {
        "id": "WNqOW7FUPyQ2"
      },
      "execution_count": null,
      "outputs": []
    },
    {
      "cell_type": "code",
      "source": [
        "import numpy\n",
        "arr1 = numpy.array([[1,2,3],[4,5,6],[7,8,9]])\n",
        "arr2 = numpy.array([[1,2,3],[4,5,6],[7,8,9]])\n",
        "\n",
        "array = numpy.add(arr1, arr2)\n",
        "print(array)"
      ],
      "metadata": {
        "id": "72tPh2PaP39i"
      },
      "execution_count": null,
      "outputs": []
    },
    {
      "cell_type": "code",
      "source": [
        "import numpy\n",
        "arr1 = numpy.array([1,2,3,4,5,6,18])\n",
        "arr2 = numpy.array([1,2,3,4,5,6,3])\n",
        "\n",
        "array1 = numpy.divide(arr1, arr2)\n",
        "array2 = numpy.floor_divide(arr1, arr2)\n",
        "print(array1)\n",
        "print(array2)"
      ],
      "metadata": {
        "id": "igwLQvGcP5no"
      },
      "execution_count": null,
      "outputs": []
    },
    {
      "cell_type": "code",
      "source": [
        "import numpy\n",
        "arr1 = numpy.array([1,2])\n",
        "arr2 = numpy.array([2,4])\n",
        "\n",
        "array1 = numpy.power(arr1, arr2)\n",
        "print(array1)"
      ],
      "metadata": {
        "id": "m6Uq5OurP61n"
      },
      "execution_count": null,
      "outputs": []
    },
    {
      "cell_type": "code",
      "source": [
        "import numpy\n",
        "arr1 = numpy.array([2,2,100])\n",
        "arr2 = numpy.array([2,3,31])\n",
        "\n",
        "array1 = numpy.mod(arr1, arr2)\n",
        "print(array1)"
      ],
      "metadata": {
        "id": "tx4hSjyrP8SQ"
      },
      "execution_count": null,
      "outputs": []
    },
    {
      "cell_type": "code",
      "source": [
        "import numpy\n",
        "arr1 = numpy.array([2,2,100])\n",
        "arr2 = numpy.array([2,3,31])\n",
        "\n",
        "array1 = numpy.divmod(arr1, arr2)\n",
        "print(array1)"
      ],
      "metadata": {
        "id": "SSBOwqNGP9qp"
      },
      "execution_count": null,
      "outputs": []
    },
    {
      "cell_type": "code",
      "source": [
        "import numpy\n",
        "arr1 = numpy.array([4,25,100])\n",
        "\n",
        "array1 = numpy.sqrt(arr1)\n",
        "print(array1)"
      ],
      "metadata": {
        "id": "JlaEXqBcP_HN"
      },
      "execution_count": null,
      "outputs": []
    },
    {
      "cell_type": "code",
      "source": [
        "import numpy\n",
        "arr1 = numpy.array([3.14159, 2.71])\n",
        "array = numpy.around(arr1,2)\n",
        "print(array)"
      ],
      "metadata": {
        "id": "utriU45eQAYf"
      },
      "execution_count": null,
      "outputs": []
    },
    {
      "cell_type": "code",
      "source": [
        "import numpy\n",
        "arr1 = numpy.array([3.14159, 2.71])\n",
        "array = numpy.floor(arr1)\n",
        "print(array)"
      ],
      "metadata": {
        "id": "_qEJzZleQB24"
      },
      "execution_count": null,
      "outputs": []
    },
    {
      "cell_type": "code",
      "source": [
        "import numpy\n",
        "arr1 = numpy.array([3.14159, 2.71])\n",
        "array = numpy.ceil(arr1)\n",
        "print(array)"
      ],
      "metadata": {
        "id": "ajMeUdDyQDFQ"
      },
      "execution_count": null,
      "outputs": []
    },
    {
      "cell_type": "code",
      "source": [
        "# Acumuladores \n",
        "import numpy\n",
        "array = numpy.array([[1,2,3],[4,5,6]])\n",
        "array_sum = numpy.sum(array)\n",
        "print(array_sum)"
      ],
      "metadata": {
        "id": "itLH1PXBQEto"
      },
      "execution_count": null,
      "outputs": []
    },
    {
      "cell_type": "code",
      "source": [
        "import numpy\n",
        "array = numpy.array([[1,2,3],[4,5,6]])\n",
        "array_sum = numpy.sum(array, axis = 1)\n",
        "print(array_sum)"
      ],
      "metadata": {
        "id": "Oc6dmhwIQFns"
      },
      "execution_count": null,
      "outputs": []
    },
    {
      "cell_type": "code",
      "source": [
        "import numpy\n",
        "array = numpy.array([[1,2,3],[4,5,6]])\n",
        "array_sum = numpy.cumsum(array)\n",
        "print(array_sum)"
      ],
      "metadata": {
        "id": "nLCAqh4dQG4g"
      },
      "execution_count": null,
      "outputs": []
    },
    {
      "cell_type": "code",
      "source": [
        "import numpy\n",
        "array = numpy.array([[1,2,3],[4,5,6]])\n",
        "array_sum = numpy.cumprod(array)\n",
        "print(array_sum)"
      ],
      "metadata": {
        "id": "iFgPw8JFQIP4"
      },
      "execution_count": null,
      "outputs": []
    },
    {
      "cell_type": "code",
      "source": [
        "import numpy\n",
        "array = numpy.array([[1,2,3],[4,5,6]])\n",
        "array1 = numpy.cumprod(array, axis =0)\n",
        "array2 = numpy.cumprod(array, axis =1)\n",
        "print(array1)\n",
        "print(array2)"
      ],
      "metadata": {
        "id": "cUC0YHIhQJhf"
      },
      "execution_count": null,
      "outputs": []
    },
    {
      "cell_type": "code",
      "source": [
        "import numpy\n",
        "array = numpy.array([[1,2,3,4,5,6]])\n",
        "print(numpy.amin(array))\n",
        "print(numpy.amax(array))"
      ],
      "metadata": {
        "id": "PVZb0UsFQLOC"
      },
      "execution_count": null,
      "outputs": []
    },
    {
      "cell_type": "code",
      "source": [
        "import numpy\n",
        "array = numpy.array([[1,-2,-3,-4,5,6]])\n",
        "print(numpy.abs(array))"
      ],
      "metadata": {
        "id": "BSHUH1X2QMhd"
      },
      "execution_count": null,
      "outputs": []
    },
    {
      "cell_type": "code",
      "source": [
        "import numpy\n",
        "array = numpy.array([[1,4,8],[4,3,6]])\n",
        "print(array)\n",
        "print(numpy.amin(array))\n",
        "print(numpy.amin(array, axis = 1))\n",
        "print(numpy.amin(array, axis = 0))"
      ],
      "metadata": {
        "id": "-A2W4Jf9QOC9"
      },
      "execution_count": null,
      "outputs": []
    },
    {
      "cell_type": "code",
      "source": [
        "# Uniao, Interseccao e remocao de duplicaos\n",
        "import numpy\n",
        "arr1 = numpy.array([1,2,3,4])\n",
        "arr2 = numpy.array([3,4,5,6,7])\n",
        "newarr = numpy.union1d(arr1,arr2)\n",
        "print(newarr)"
      ],
      "metadata": {
        "id": "_eFG_VwIQR0h"
      },
      "execution_count": null,
      "outputs": []
    },
    {
      "cell_type": "code",
      "source": [
        "import numpy\n",
        "arr1 = numpy.array([1,2,3,4])\n",
        "arr2 = numpy.array([3,4,5,6,7])\n",
        "newarr = numpy.intersect1d(arr1,arr2)\n",
        "print(newarr)"
      ],
      "metadata": {
        "id": "OOl-2XAsQS7i"
      },
      "execution_count": null,
      "outputs": []
    },
    {
      "cell_type": "code",
      "source": [
        "import numpy\n",
        "arr1 = numpy.array([1,2,2,3,4,3,5,5,5,4])\n",
        "newarr = numpy.unique(arr1)\n",
        "print(newarr)"
      ],
      "metadata": {
        "id": "7J7-tbrmQUar"
      },
      "execution_count": null,
      "outputs": []
    },
    {
      "cell_type": "markdown",
      "source": [
        "# Exercicios"
      ],
      "metadata": {
        "id": "QMChKYhvT_M5"
      }
    },
    {
      "cell_type": "code",
      "source": [
        "# 1.Crie um array com os números de 0 a 9, utilize somente 1 dimensão.\n",
        "\n",
        "import numpy\n",
        "array = numpy.arange(10)\n",
        "print(array)"
      ],
      "metadata": {
        "id": "PyxLXQd6UBnX"
      },
      "execution_count": null,
      "outputs": []
    },
    {
      "cell_type": "code",
      "source": [
        "# 2.Crie um array com os números de 0 a 9 como o exercício anterior, \n",
        "# mas utilize List Compreensions.\n",
        "import numpy\n",
        "array = numpy.array([i for i in range(0,10)])\n",
        "print(array)"
      ],
      "metadata": {
        "id": "QN7DOgNtUFnh"
      },
      "execution_count": null,
      "outputs": []
    },
    {
      "cell_type": "code",
      "source": [
        "# 3.Crie um array com os números de 0 a 8, utilize 2 dimensões, ou seja, \n",
        "# com 3 linhas (3x3)\n",
        "import numpy\n",
        "array = numpy.arange(9).reshape((3,3))\n",
        "print(array)\n"
      ],
      "metadata": {
        "id": "YbEwuvArUIOj"
      },
      "execution_count": null,
      "outputs": []
    },
    {
      "cell_type": "code",
      "source": [
        "# 4.Crie um array do tipo float, com 10 número de sua escolha, \n",
        "# mas utilize 32 bits/4 bytes.\n",
        "import numpy\n",
        "array = numpy.arange(0,9, dtype='f4')\n",
        "print(array)"
      ],
      "metadata": {
        "id": "k2lwrZngULDH"
      },
      "execution_count": null,
      "outputs": []
    },
    {
      "cell_type": "code",
      "source": [
        "# 5.Crie um array com os números de 1 a 20, escolhendo o tipo de dado que \n",
        "# ocupara o menor espaço da memoria. Em seguida imprima o quanto \n",
        "# ele ocupou em bytes.\n",
        "import numpy\n",
        "array = numpy.arange(1,21, dtype=numpy.int8)\n",
        "print(array)\n",
        "print(array.nbytes)"
      ],
      "metadata": {
        "id": "TEI-Ts4HUU9Y"
      },
      "execution_count": null,
      "outputs": []
    },
    {
      "cell_type": "code",
      "source": [
        "# 6.Crie uma matriz 2x2 e imprima o primeiro elemento da primeira linha, \n",
        "# e o último elemento da última linha.\n",
        "import numpy\n",
        "array = numpy.random.randint(1,5,(2,2))\n",
        "print(array)\n",
        "print(array[0,0])\n",
        "print(array[1,1])"
      ],
      "metadata": {
        "id": "Sta1IyOMUYjC"
      },
      "execution_count": null,
      "outputs": []
    },
    {
      "cell_type": "code",
      "source": [
        "# 7.Gere uma array 3x3 com números inteiros aleatórios entre 5 e 20. \n",
        "# Então imprima a primeira coluna e última linha\n",
        "import numpy\n",
        "array = numpy.random.randint(5,20,(3,3))\n",
        "print(array)\n",
        "print(array[:,0])\n",
        "print(array[2,:])"
      ],
      "metadata": {
        "id": "GDzaHGaCUapS"
      },
      "execution_count": null,
      "outputs": []
    },
    {
      "cell_type": "code",
      "source": [
        "# 8. Crie uma matriz 3x3 aleatória. Percorra linha por linha com um laço e \n",
        "# imprima a soma de cada linha.\n",
        "\n",
        "import numpy\n",
        "array = numpy.random.randint(1,50,(3,3))\n",
        "print(array)\n",
        "for linha in array:\n",
        "  print(numpy.sum(linha))"
      ],
      "metadata": {
        "id": "OOZA27SGUdhF"
      },
      "execution_count": null,
      "outputs": []
    },
    {
      "cell_type": "code",
      "source": [
        "# 9.Gere um array com os valores pares de 0 a 100 com list comprehension.\n",
        "import numpy\n",
        "array = numpy.array([i for i in range(0,101) if i % 2 ==0 ])\n",
        "print(array)"
      ],
      "metadata": {
        "id": "Ryobb0K4UlFi"
      },
      "execution_count": null,
      "outputs": []
    },
    {
      "cell_type": "code",
      "source": [
        "# 10.Crie uma array 4x9 com valores quaisquer, redimensione para as \n",
        "# dimensões 36, e 6x6\n",
        "import numpy\n",
        "array = numpy.random.randint(0,10,(4,9))\n",
        "print(array.reshape((36)))\n",
        "print(array.reshape((6,6)))"
      ],
      "metadata": {
        "id": "deFZmpWkUnP7"
      },
      "execution_count": null,
      "outputs": []
    },
    {
      "cell_type": "code",
      "source": [
        "# 11. Crie uma função que receba três arrays de mesmo formato, então retorne \n",
        "# elas concatenadas em uma só. Se as matrizes recebidas não forem do \n",
        "# mesmo formato gere uma exceção.\n",
        "\n",
        "import numpy\n",
        "\n",
        "def combina(arr1,arr2,arr3):\n",
        "  if arr1.shape != arr2.shape or arr1.shape != arr3.shape:\n",
        "    raise Exception(\"Formatos são diferentes\")\n",
        "  \n",
        "  return numpy.concatenate((arr1,arr2,arr3))\n",
        "\n",
        "array1 = numpy.array([1,2,3])\n",
        "array2 = numpy.array([4,5,6])\n",
        "array3 = numpy.array([7,8,9])\n",
        "\n",
        "print(combina(array1,array2,array3))"
      ],
      "metadata": {
        "id": "8SW-pd4GUqVF"
      },
      "execution_count": null,
      "outputs": []
    },
    {
      "cell_type": "code",
      "source": [
        "# 12.Crie uma função que divida um array em N pedaços, mas mantenha so os \n",
        "# valores absolutos dos valores deste array.\n",
        "\n",
        "import numpy\n",
        "def divide_abs(arr,n):\n",
        "  arr = numpy.array_split(arr,n)\n",
        "  arr = numpy.abs(arr)\n",
        "  return arr\n",
        "\n",
        "array1 = numpy.array([1,2,3,-4,5,-7])\n",
        "print(divide_abs(array1,2))"
      ],
      "metadata": {
        "id": "uMkNvuMVU0oV"
      },
      "execution_count": null,
      "outputs": []
    },
    {
      "cell_type": "code",
      "source": [
        "# 13.Crie uma função que receba um array e retorne quantos números positivos ela \n",
        "# contêm.\n",
        "import numpy\n",
        "\n",
        "def conta_positivos(arr):\n",
        "  return len(numpy.where(arr>0)[0])\n",
        "\n",
        "array = numpy.array([1,2,3,4,5,-7])\n",
        "print(conta_positivos(array))"
      ],
      "metadata": {
        "id": "05DK8igkU2KU"
      },
      "execution_count": null,
      "outputs": []
    },
    {
      "cell_type": "code",
      "source": [
        "#14.Crie uma função que receba uma matriz e retorne os índices dos números que \n",
        "# são divisíveis por 3.\n",
        "\n",
        "import numpy\n",
        "\n",
        "def divisiveis_por_3(arr):\n",
        "  return numpy.where(arr % 3 == 0)[0]\n",
        "\n",
        "array = numpy.array([4,5,6,7,8,9])\n",
        "print(divisiveis_por_3(array))"
      ],
      "metadata": {
        "id": "thW4xwaPU5ON"
      },
      "execution_count": null,
      "outputs": []
    },
    {
      "cell_type": "code",
      "source": [
        "# 15.Crie uma função que diga se um array possui números negativos\n",
        "\n",
        "import numpy\n",
        "\n",
        "def tem_negativo(arr):\n",
        "  return numpy.any(arr <0)\n",
        "\n",
        "array = numpy.array([4,-5,6,7,8])\n",
        "print(tem_negativo(array))"
      ],
      "metadata": {
        "id": "_wW76pEQU7o7"
      },
      "execution_count": null,
      "outputs": []
    },
    {
      "cell_type": "code",
      "source": [
        "# 16.Crie uma função que remova os números negativos de uma array.\n",
        "import numpy\n",
        "def tira_negativo(arr):\n",
        "  filter = arr >=0\n",
        "  return arr[filter]\n",
        "\n",
        "array = numpy.array([1,-5,5,4,3,-2,-1])\n",
        "print(tira_negativo(array))"
      ],
      "metadata": {
        "id": "vKiIIYjiU-H2"
      },
      "execution_count": null,
      "outputs": []
    },
    {
      "cell_type": "code",
      "source": [
        "# 17.Crie uma função que receba um número inicial e final, e uma array. \n",
        "# A função deve retornar uma nova array somente com os números \n",
        "# dentro deste intervalo.\n",
        "import numpy\n",
        "\n",
        "def remove_valores(arr, inicial, final):\n",
        "  filter = (arr >= inicial) & (arr <= final)\n",
        "  return arr[filter]\n",
        "\n",
        "array = numpy.array([i for i in range(-10,11)])\n",
        "print(array)\n",
        "print(remove_valores(array,0,7))\n"
      ],
      "metadata": {
        "id": "CEWX00VxU_5D"
      },
      "execution_count": null,
      "outputs": []
    },
    {
      "cell_type": "code",
      "source": [
        "# 18.Crie uma função que ordene uma matriz e remova todos os números impares.\n",
        "\n",
        "import numpy\n",
        "\n",
        "def ordena_pares(arr):\n",
        "  arr = numpy.sort(arr)\n",
        "  filter = arr % 2 == 1\n",
        "  return arr[filter]\n",
        "\n",
        "array = numpy.random.randint(0,10,(100))  \n",
        "print(ordena_pares(array))"
      ],
      "metadata": {
        "id": "dCzdc4B1VCVb"
      },
      "execution_count": null,
      "outputs": []
    },
    {
      "cell_type": "code",
      "source": [
        "# 19.Realize o mesmo exercício anterior, mas remova valores duplicados.\n",
        "import numpy\n",
        "\n",
        "def ordena_pares_unicos(arr):\n",
        "  arr = numpy.sort(arr)\n",
        "  filter = arr % 2 == 1\n",
        "  return numpy.unique( arr[filter])\n",
        "\n",
        "array = numpy.random.randint(0,10,(100))  \n",
        "print(ordena_pares_unicos(array))"
      ],
      "metadata": {
        "id": "FYLmcDojVF0U"
      },
      "execution_count": null,
      "outputs": []
    }
  ]
}