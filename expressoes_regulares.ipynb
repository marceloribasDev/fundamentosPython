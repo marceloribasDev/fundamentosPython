{
  "nbformat": 4,
  "nbformat_minor": 0,
  "metadata": {
    "colab": {
      "provenance": [],
      "authorship_tag": "ABX9TyNMkRPA+PWDpUp2Ay1WFwAf",
      "include_colab_link": true
    },
    "kernelspec": {
      "name": "python3",
      "display_name": "Python 3"
    },
    "language_info": {
      "name": "python"
    }
  },
  "cells": [
    {
      "cell_type": "markdown",
      "metadata": {
        "id": "view-in-github",
        "colab_type": "text"
      },
      "source": [
        "<a href=\"https://colab.research.google.com/github/marceloribasDev/fundamentosPython/blob/main/expressoes_regulares.ipynb\" target=\"_parent\"><img src=\"https://colab.research.google.com/assets/colab-badge.svg\" alt=\"Open In Colab\"/></a>"
      ]
    },
    {
      "cell_type": "markdown",
      "source": [
        "# Expressoes Regulares"
      ],
      "metadata": {
        "id": "BAOw8N491hUj"
      }
    },
    {
      "cell_type": "code",
      "execution_count": null,
      "metadata": {
        "id": "Ta9Uts8j06Y6"
      },
      "outputs": [],
      "source": [
        "import re\n",
        "\n",
        "# search --> busca a ocorrencia em texo\n",
        "texto = \"00123451\"\n",
        "\n",
        "info = re.search(\"1\",texto)\n",
        "\n",
        "if info != None:\n",
        "    print(\"Encontrado ocorrencia em: \", info.span()) # --> Retorna a posicao iniciaal e final em termos de indices\n",
        "    print(\"O que foi encontrado: \", info.group()) # --> O que foi encontrado\n",
        "else:\n",
        "    print(\"Nada foi encontrado\")"
      ]
    },
    {
      "cell_type": "code",
      "source": [
        "import re\n",
        "\n",
        "# findall --> Retorna uma lista com todas as ocorrencias\n",
        "texto = \"00123451\"\n",
        "\n",
        "info = re.findall(\"1\",texto)\n",
        "print(info)"
      ],
      "metadata": {
        "id": "sjZ8qUJz2omY"
      },
      "execution_count": null,
      "outputs": []
    },
    {
      "cell_type": "code",
      "source": [
        "import re\n",
        "\n",
        "# split --> Divide a string antes e depois do padrao encontrado\n",
        "\n",
        "texto = \"0012345100\"\n",
        "\n",
        "info = re.split(\"1\", texto)\n",
        "print(info)"
      ],
      "metadata": {
        "id": "1Um5P9Wf26f7"
      },
      "execution_count": null,
      "outputs": []
    },
    {
      "cell_type": "code",
      "source": [
        "# Sub --> Subtistui o que foi encontrado pelo padrao infomado\n",
        "\n",
        "import re\n",
        "\n",
        "texto = \"0012345100\"\n",
        "\n",
        "info = re.sub(\"1\",\"#\",texto)\n",
        "\n",
        "print(info)"
      ],
      "metadata": {
        "id": "hTkiamiJ3Ral"
      },
      "execution_count": null,
      "outputs": []
    },
    {
      "cell_type": "code",
      "source": [
        "import re\n",
        "\n",
        "# search --> busca a ocorrencia em texo\n",
        "texto = \"Existem 64 predios com 700 metros\"\n",
        "\n",
        "info = re.search(\"predios\",texto)\n",
        "\n",
        "if info != None:\n",
        "    print(\"Encontrado ocorrencia em: \", info.span()) # --> Retorna a posicao iniciaal e final em termos de indices\n",
        "    print(\"O que foi encontrado: \", info.group()) # --> O que foi encontrado\n",
        "else:\n",
        "    print(\"Nada foi encontrado\")\n"
      ],
      "metadata": {
        "id": "bY6WjmpwlNnM",
        "outputId": "fe714b70-7164-4f2e-f02d-96dd72d65a6c",
        "colab": {
          "base_uri": "https://localhost:8080/"
        }
      },
      "execution_count": 1,
      "outputs": [
        {
          "output_type": "stream",
          "name": "stdout",
          "text": [
            "Encontrado ocorrencia em:  (11, 18)\n",
            "O que foi encontrado:  predios\n"
          ]
        }
      ]
    }
  ]
}