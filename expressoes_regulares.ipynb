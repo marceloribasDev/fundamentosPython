{
  "nbformat": 4,
  "nbformat_minor": 0,
  "metadata": {
    "colab": {
      "provenance": [],
      "authorship_tag": "ABX9TyNc/Fb7wkh0JCGb0XiA654Q",
      "include_colab_link": true
    },
    "kernelspec": {
      "name": "python3",
      "display_name": "Python 3"
    },
    "language_info": {
      "name": "python"
    }
  },
  "cells": [
    {
      "cell_type": "markdown",
      "metadata": {
        "id": "view-in-github",
        "colab_type": "text"
      },
      "source": [
        "<a href=\"https://colab.research.google.com/github/marceloribasDev/fundamentosPython/blob/main/expressoes_regulares.ipynb\" target=\"_parent\"><img src=\"https://colab.research.google.com/assets/colab-badge.svg\" alt=\"Open In Colab\"/></a>"
      ]
    },
    {
      "cell_type": "markdown",
      "source": [
        "# Expressoes Regulares"
      ],
      "metadata": {
        "id": "BAOw8N491hUj"
      }
    },
    {
      "cell_type": "code",
      "execution_count": 2,
      "metadata": {
        "colab": {
          "base_uri": "https://localhost:8080/"
        },
        "id": "Ta9Uts8j06Y6",
        "outputId": "70dc3adb-383b-4fc8-9c54-2718afe6ea52"
      },
      "outputs": [
        {
          "output_type": "stream",
          "name": "stdout",
          "text": [
            "Encontrado ocorrencia em:  (2, 3)\n",
            "O que foi encontrado:  1\n"
          ]
        }
      ],
      "source": [
        "import re\n",
        "\n",
        "# search --> busca a ocorrencia em texo\n",
        "texto = \"00123451\"\n",
        "\n",
        "info = re.search(\"1\",texto)\n",
        "\n",
        "if info != None:\n",
        "    print(\"Encontrado ocorrencia em: \", info.span()) # --> Retorna a posicao iniciaal e final em termos de indices\n",
        "    print(\"O que foi encontrado: \", info.group()) # --> O que foi encontrado\n",
        "else:\n",
        "    print(\"Nada foi encontrado\")"
      ]
    },
    {
      "cell_type": "code",
      "source": [
        "import re\n",
        "\n",
        "# findall --> Retorna uma lista com todas as ocorrencias\n",
        "texto = \"00123451\"\n",
        "\n",
        "info = re.findall(\"1\",texto)\n",
        "print(info)"
      ],
      "metadata": {
        "colab": {
          "base_uri": "https://localhost:8080/"
        },
        "id": "sjZ8qUJz2omY",
        "outputId": "b6a4ad78-9bb4-4724-9dbe-9c3930ac9d16"
      },
      "execution_count": 3,
      "outputs": [
        {
          "output_type": "stream",
          "name": "stdout",
          "text": [
            "['1', '1']\n"
          ]
        }
      ]
    },
    {
      "cell_type": "code",
      "source": [
        "import re\n",
        "\n",
        "# split --> Divide a string antes e depois do padrao encontrado\n",
        "\n",
        "texto = \"0012345100\"\n",
        "\n",
        "info = re.split(\"1\", texto)\n",
        "print(info)"
      ],
      "metadata": {
        "colab": {
          "base_uri": "https://localhost:8080/"
        },
        "id": "1Um5P9Wf26f7",
        "outputId": "4e279cb3-691f-468c-9e4d-7e21cc38fb55"
      },
      "execution_count": 6,
      "outputs": [
        {
          "output_type": "stream",
          "name": "stdout",
          "text": [
            "['00', '2345', '00']\n"
          ]
        }
      ]
    },
    {
      "cell_type": "code",
      "source": [
        "# Sub --> Subtistui o que foi encontrado pelo padrao infomado\n",
        "\n",
        "import re\n",
        "\n",
        "# split --> Divide a string antes e depois do padrao encontrado\n",
        "\n",
        "texto = \"0012345100\"\n",
        "\n",
        "info = re.sub(\"1\",\"#\",texto)\n",
        "\n",
        "print(info)"
      ],
      "metadata": {
        "colab": {
          "base_uri": "https://localhost:8080/"
        },
        "id": "hTkiamiJ3Ral",
        "outputId": "b56b481f-f4b4-48eb-f4df-f571dc5c69a1"
      },
      "execution_count": 7,
      "outputs": [
        {
          "output_type": "stream",
          "name": "stdout",
          "text": [
            "00#2345#00\n"
          ]
        }
      ]
    }
  ]
}