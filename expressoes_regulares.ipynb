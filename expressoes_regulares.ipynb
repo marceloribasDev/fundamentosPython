{
  "nbformat": 4,
  "nbformat_minor": 0,
  "metadata": {
    "colab": {
      "provenance": [],
      "authorship_tag": "ABX9TyOOuoopWYXRrBaAO2hPjbw1",
      "include_colab_link": true
    },
    "kernelspec": {
      "name": "python3",
      "display_name": "Python 3"
    },
    "language_info": {
      "name": "python"
    }
  },
  "cells": [
    {
      "cell_type": "markdown",
      "metadata": {
        "id": "view-in-github",
        "colab_type": "text"
      },
      "source": [
        "<a href=\"https://colab.research.google.com/github/marceloribasDev/fundamentosPython/blob/main/expressoes_regulares.ipynb\" target=\"_parent\"><img src=\"https://colab.research.google.com/assets/colab-badge.svg\" alt=\"Open In Colab\"/></a>"
      ]
    },
    {
      "cell_type": "markdown",
      "source": [
        "# Expressoes Regulares"
      ],
      "metadata": {
        "id": "BAOw8N491hUj"
      }
    },
    {
      "cell_type": "code",
      "execution_count": null,
      "metadata": {
        "id": "Ta9Uts8j06Y6"
      },
      "outputs": [],
      "source": [
        "import re\n",
        "\n",
        "# search --> busca a ocorrencia em texo\n",
        "texto = \"00123451\"\n",
        "\n",
        "info = re.search(\"1\",texto)\n",
        "\n",
        "if info != None:\n",
        "    print(\"Encontrado ocorrencia em: \", info.span()) # --> Retorna a posicao iniciaal e final em termos de indices\n",
        "    print(\"O que foi encontrado: \", info.group()) # --> O que foi encontrado\n",
        "else:\n",
        "    print(\"Nada foi encontrado\")"
      ]
    },
    {
      "cell_type": "code",
      "source": [
        "import re\n",
        "\n",
        "# findall --> Retorna uma lista com todas as ocorrencias\n",
        "texto = \"00123451\"\n",
        "\n",
        "info = re.findall(\"1\",texto)\n",
        "print(info)"
      ],
      "metadata": {
        "id": "sjZ8qUJz2omY"
      },
      "execution_count": null,
      "outputs": []
    },
    {
      "cell_type": "code",
      "source": [
        "import re\n",
        "\n",
        "# split --> Divide a string antes e depois do padrao encontrado\n",
        "\n",
        "texto = \"0012345100\"\n",
        "\n",
        "info = re.split(\"1\", texto)\n",
        "print(info)"
      ],
      "metadata": {
        "id": "1Um5P9Wf26f7"
      },
      "execution_count": null,
      "outputs": []
    },
    {
      "cell_type": "code",
      "source": [
        "# Sub --> Subtistui o que foi encontrado pelo padrao infomado\n",
        "\n",
        "import re\n",
        "\n",
        "texto = \"0012345100\"\n",
        "\n",
        "info = re.sub(\"1\",\"#\",texto)\n",
        "\n",
        "print(info)"
      ],
      "metadata": {
        "id": "hTkiamiJ3Ral"
      },
      "execution_count": null,
      "outputs": []
    },
    {
      "cell_type": "code",
      "source": [
        "import re\n",
        "\n",
        "# search --> busca a ocorrencia em texo\n",
        "texto = \"Existem 64 predios com 700 metros\"\n",
        "\n",
        "info = re.search(\"predios\",texto)\n",
        "\n",
        "if info != None:\n",
        "    print(\"Encontrado ocorrencia em: \", info.span()) # --> Retorna a posicao iniciaal e final em termos de indices\n",
        "    print(\"O que foi encontrado: \", info.group()) # --> O que foi encontrado\n",
        "else:\n",
        "    print(\"Nada foi encontrado\")\n"
      ],
      "metadata": {
        "id": "bY6WjmpwlNnM"
      },
      "execution_count": null,
      "outputs": []
    },
    {
      "cell_type": "code",
      "source": [
        "# Buscando Padroes\n",
        "\n",
        "import re\n",
        "\n",
        "texto = \"ABCDefgHI123\"\n",
        "\n",
        "info1 = re.findall(\"[Ae3]\",texto)\n",
        "info2 = re.findall(\"[A-Z]\",texto)\n",
        "info3 = re.findall(\"[a-z]\",texto)\n",
        "info4 = re.findall(\"[0-9]\",texto)\n",
        "info5 = re.findall(\"[A-Za-z]\",texto)\n",
        "\n",
        "\n",
        "print(info1)\n",
        "print(info2)\n",
        "print(info3)\n",
        "print(info4)\n",
        "print(info5)"
      ],
      "metadata": {
        "id": "IMr9XaauyQt4"
      },
      "execution_count": null,
      "outputs": []
    },
    {
      "cell_type": "code",
      "source": [
        "import re\n",
        "texto = \"Existem 64 predios com 700 metros\"\n",
        "\n",
        "# | => or\n",
        "\n",
        "info = re.findall(\"predios|metros\", texto)\n",
        "\n",
        "print(info)"
      ],
      "metadata": {
        "id": "AKR3ocGF2BQD"
      },
      "execution_count": null,
      "outputs": []
    },
    {
      "cell_type": "code",
      "source": [
        "import re\n",
        "\n",
        "texto = \"ABCDefgHI123\"\n",
        "\n",
        "info = re.findall(\"[A-Z]|[0-9]\", texto)\n",
        "\n",
        "print(info)"
      ],
      "metadata": {
        "id": "uqwsH1Pz2Znl"
      },
      "execution_count": null,
      "outputs": []
    },
    {
      "cell_type": "code",
      "source": [
        "import re\n",
        "\n",
        "texto = \"Existem 64 predios com 700 metros\"\n",
        "\n",
        "info = re.search(\"^Existem\", texto)\n",
        "\n",
        "if info != None:\n",
        "    print(\"Encontrado ocorrencia em: \", info.span())\n",
        "    print(\"O que foi encontrado: \", info.group())\n",
        "  \n",
        "    "
      ],
      "metadata": {
        "id": "ZFQcgXid2t0_"
      },
      "execution_count": null,
      "outputs": []
    },
    {
      "cell_type": "code",
      "source": [
        "import re\n",
        "\n",
        "texto = \"Existem 64 predios com 700 metros\"\n",
        "\n",
        "info = re.search(\"metros$\", texto)\n",
        "\n",
        "if info != None:\n",
        "    print(\"Encontrado ocorrencia em: \", info.span())\n",
        "    print(\"O que foi encontrado: \", info.group())"
      ],
      "metadata": {
        "id": "xjr1Vdp33Mdt"
      },
      "execution_count": null,
      "outputs": []
    },
    {
      "cell_type": "code",
      "source": [
        "# Mais padroes\n",
        "\n",
        "import re\n",
        "\n",
        "texto = \"abbabb\"\n",
        "\n",
        "info = re.search(\"(abb)+\",texto) # Retorna todas as ocorrencias\n",
        "\n",
        "if info != None:\n",
        "    print(\"Encontrado ocorrencia em: \", info.span()) # --> Retorna a posicao iniciaal e final em termos de indices\n",
        "    print(\"O que foi encontrado: \", info.group()) # --> O que foi encontrado\n",
        "else:\n",
        "    print(\"Nada foi encontrado\")"
      ],
      "metadata": {
        "id": "U6RUZykQ6AaE",
        "outputId": "93089d66-69ac-429d-f86c-97dc66c0ae19",
        "colab": {
          "base_uri": "https://localhost:8080/"
        }
      },
      "execution_count": 11,
      "outputs": [
        {
          "output_type": "stream",
          "name": "stdout",
          "text": [
            "Encontrado ocorrencia em:  (0, 6)\n",
            "O que foi encontrado:  abbabb\n"
          ]
        }
      ]
    },
    {
      "cell_type": "code",
      "source": [
        "import re\n",
        "\n",
        "texto = \"aabbaabbbbbbaaccaa\"\n",
        "\n",
        "info = re.search(\"(aa|bb)+\",texto) # Retorna todas as ocorrencias\n",
        "\n",
        "if info != None:\n",
        "    print(\"Encontrado ocorrencia em: \", info.span()) # --> Retorna a posicao iniciaal e final em termos de indices\n",
        "    print(\"O que foi encontrado: \", info.group()) # --> O que foi encontrado\n",
        "else:\n",
        "    print(\"Nada foi encontrado\")"
      ],
      "metadata": {
        "id": "j_XzFW_G6enS",
        "outputId": "3ba30c02-6b89-41db-e3cf-e6abeded76ea",
        "colab": {
          "base_uri": "https://localhost:8080/"
        }
      },
      "execution_count": 12,
      "outputs": [
        {
          "output_type": "stream",
          "name": "stdout",
          "text": [
            "Encontrado ocorrencia em:  (0, 14)\n",
            "O que foi encontrado:  aabbaabbbbbbaa\n"
          ]
        }
      ]
    }
  ]
}