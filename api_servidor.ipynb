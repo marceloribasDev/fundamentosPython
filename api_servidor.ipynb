{
  "nbformat": 4,
  "nbformat_minor": 0,
  "metadata": {
    "colab": {
      "provenance": [],
      "authorship_tag": "ABX9TyNye1ts49rY68rSRLF2WIUi",
      "include_colab_link": true
    },
    "kernelspec": {
      "name": "python3",
      "display_name": "Python 3"
    },
    "language_info": {
      "name": "python"
    }
  },
  "cells": [
    {
      "cell_type": "markdown",
      "metadata": {
        "id": "view-in-github",
        "colab_type": "text"
      },
      "source": [
        "<a href=\"https://colab.research.google.com/github/marceloribasDev/fundamentosPython/blob/main/api_servidor.ipynb\" target=\"_parent\"><img src=\"https://colab.research.google.com/assets/colab-badge.svg\" alt=\"Open In Colab\"/></a>"
      ]
    },
    {
      "cell_type": "code",
      "execution_count": null,
      "metadata": {
        "id": "GTDEEUkLBsrh"
      },
      "outputs": [],
      "source": [
        "# Instalando pacotes necessarios\n",
        "!pip install flask_ngrok"
      ]
    },
    {
      "cell_type": "code",
      "source": [
        "!pip install pyngrok"
      ],
      "metadata": {
        "id": "axPHULxKCHvb"
      },
      "execution_count": null,
      "outputs": []
    },
    {
      "cell_type": "code",
      "source": [
        "# Configura a authentication ngrok\n",
        "!ngrok authtoken \"2Jbidv79iPPCcoNUnMSZn8X9SvR_65mJfP1RZbroNF7i7S2pZ\""
      ],
      "metadata": {
        "id": "a9lTNH08CWW2"
      },
      "execution_count": null,
      "outputs": []
    },
    {
      "cell_type": "code",
      "source": [
        "# Importa pacotes e cria uma aplicacao Flask (Toda vez que reinicar esse bloco tem que alterar a rota no arquivo api_python)\n",
        "from flask import jsonify, Flask, request\n",
        "from flask_ngrok import run_with_ngrok\n",
        "\n",
        "app = Flask(__name__)\n",
        "run_with_ngrok(app)\n",
        "\n",
        "@app.route(\"/\")\n",
        "def padrao():\n",
        "    return \"Escolha um dos metodos\"\n",
        "\n",
        "@app.route(\"/cotacao/\")\n",
        "def cotacao():\n",
        "    return \"5.34\"\n",
        "\n",
        "@app.route(\"/conversao/<float:val>\")\n",
        "def conversao(val):\n",
        "    return str(val * 5.34) # Por exemplo foi fixado 5.34\n",
        "\n",
        "@app.route(\"/cotacaocompleta\", methods=[\"GET\"])\n",
        "def cotacaocompleta():\n",
        "    argumentos = request.args\n",
        "    valor = float(argumentos.get(\"valor\"))\n",
        "    mes = argumentos.get(\"mes\")\n",
        "\n",
        "    total = 0.0\n",
        "\n",
        "    if mes == \"Janeiro\":\n",
        "        total = valor * 5.34\n",
        "    elif mes == \"Fevereiro\":\n",
        "        total = valor * 5.22\n",
        "    elif mes == \"Marco\":\n",
        "        total = valor * 5.19\n",
        "\n",
        "    return str(total)\n",
        "\n",
        "@app.route(\"/tabela/\")\n",
        "def tabela():\n",
        "    return jsonify(Janeiro=5.34, Fevereiro=5.22, Marco=5.19)\n",
        "\n",
        "app.run()"
      ],
      "metadata": {
        "id": "Xmf6iY8VCjan"
      },
      "execution_count": null,
      "outputs": []
    }
  ]
}